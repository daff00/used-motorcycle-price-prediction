{
 "cells": [
  {
   "cell_type": "markdown",
   "metadata": {},
   "source": [
    "# Deep Learning Neural Network Model for Used Motorcycle Price Prediction\n",
    "## IS794 AL - Deep Learning (Lab)\n",
    "Kelompok B: <br>\n",
    "- Daffa Kaisha Pratama Chandra (00000055770)\n",
    "- Justine Donovan (00000063202)\n",
    "- Marsella Patricia (00000063226)\n",
    "- Reina Ratu Balqis (00000065099)\n",
    "---\n",
    "### Import Libraries"
   ]
  },
  {
   "cell_type": "code",
   "execution_count": 58,
   "metadata": {},
   "outputs": [],
   "source": [
    "# Basic library\n",
    "import pandas as pd\n",
    "import numpy as np\n",
    "\n",
    "# Pre-processing\n",
    "from sklearn.model_selection import train_test_split\n",
    "from sklearn.preprocessing import LabelEncoder, StandardScaler\n",
    "from sklearn.metrics import r2_score, mean_squared_error, mean_absolute_error\n",
    "\n",
    "# Visualization\n",
    "import matplotlib.pyplot as plt\n",
    "import seaborn as sns\n",
    "%matplotlib inline\n",
    "\n",
    "import plotly.express as px\n",
    "from plotly.subplots import make_subplots\n",
    "\n",
    "# Feature selection dengan random forest regressor\n",
    "from sklearn.ensemble import RandomForestRegressor\n",
    "\n",
    "# Deep learning\n",
    "import tensorflow as tf\n",
    "from keras.models import Sequential\n",
    "from keras.layers import Dense, Dropout, BatchNormalization\n",
    "from keras.callbacks import EarlyStopping\n",
    "from tensorflow.keras import regularizers\n",
    "\n",
    "# Ignore warning\n",
    "import warnings\n",
    "warnings.simplefilter(\"ignore\")"
   ]
  },
  {
   "cell_type": "markdown",
   "metadata": {},
   "source": [
    "---\n",
    "Baca Dataset"
   ]
  },
  {
   "cell_type": "code",
   "execution_count": 59,
   "metadata": {},
   "outputs": [],
   "source": [
    "yamaha = pd.read_csv(\"../Dataset/motor_yamaha_bekas.csv\", engine='pyarrow')\n",
    "honda = pd.read_csv(\"../Dataset/motor_honda_bekas.csv\", engine='pyarrow')\n",
    "kawasaki = pd.read_csv(\"../Dataset/motor_kawasaki_bekas.csv\", engine='pyarrow')\n",
    "suzuki = pd.read_csv(\"../Dataset/motor_suzuki_bekas.csv\", engine='pyarrow')"
   ]
  },
  {
   "cell_type": "markdown",
   "metadata": {},
   "source": [
    "Penjelasan singkat mengenai dataset yang digunakan: <br>\n",
    "Dataset ini merupakan hasil web scraping dari website https://momotor.id/"
   ]
  },
  {
   "cell_type": "code",
   "execution_count": 60,
   "metadata": {},
   "outputs": [
    {
     "name": "stdout",
     "output_type": "stream",
     "text": [
      "Shape dari tiap dataset:\n",
      "Dataset Yamaha memiliki 10 kolom dan 493 baris.\n",
      "Dataset Honda memiliki 10 kolom dan 966 baris.\n",
      "Dataset Kawasaki memiliki 10 kolom dan 96 baris.\n",
      "Dataset Suzuki memiliki 10 kolom dan 23 baris.\n"
     ]
    }
   ],
   "source": [
    "print(\"Shape dari tiap dataset:\")\n",
    "print(f\"Dataset Yamaha memiliki {yamaha.shape[1]} kolom dan {yamaha.shape[0]} baris.\")\n",
    "print(f\"Dataset Honda memiliki {honda.shape[1]} kolom dan {honda.shape[0]} baris.\")\n",
    "print(f\"Dataset Kawasaki memiliki {kawasaki.shape[1]} kolom dan {kawasaki.shape[0]} baris.\")\n",
    "print(f\"Dataset Suzuki memiliki {suzuki.shape[1]} kolom dan {suzuki.shape[0]} baris.\")"
   ]
  },
  {
   "cell_type": "code",
   "execution_count": 61,
   "metadata": {},
   "outputs": [
    {
     "name": "stdout",
     "output_type": "stream",
     "text": [
      "Informasi singkat dari tiap dataset:\n",
      "\n",
      "Yamaha:\n",
      "<class 'pandas.core.frame.DataFrame'>\n",
      "RangeIndex: 493 entries, 0 to 492\n",
      "Data columns (total 10 columns):\n",
      " #   Column           Non-Null Count  Dtype  \n",
      "---  ------           --------------  -----  \n",
      " 0   nama_motor       352 non-null    object \n",
      " 1   lokasi           352 non-null    object \n",
      " 2   harga            352 non-null    object \n",
      " 3   deskripsi        352 non-null    object \n",
      " 4   kapasitas_mesin  352 non-null    object \n",
      " 5   tahun            352 non-null    float64\n",
      " 6   transmisi        352 non-null    object \n",
      " 7   kilometer        352 non-null    object \n",
      " 8   url              493 non-null    object \n",
      " 9   merk             493 non-null    object \n",
      "dtypes: float64(1), object(9)\n",
      "memory usage: 38.6+ KB\n",
      "None\n",
      "\n",
      "Honda:\n",
      "<class 'pandas.core.frame.DataFrame'>\n",
      "RangeIndex: 966 entries, 0 to 965\n",
      "Data columns (total 10 columns):\n",
      " #   Column           Non-Null Count  Dtype  \n",
      "---  ------           --------------  -----  \n",
      " 0   nama_motor       629 non-null    object \n",
      " 1   lokasi           629 non-null    object \n",
      " 2   harga            629 non-null    object \n",
      " 3   deskripsi        629 non-null    object \n",
      " 4   kapasitas_mesin  629 non-null    object \n",
      " 5   tahun            629 non-null    float64\n",
      " 6   transmisi        629 non-null    object \n",
      " 7   kilometer        629 non-null    object \n",
      " 8   url              966 non-null    object \n",
      " 9   merk             966 non-null    object \n",
      "dtypes: float64(1), object(9)\n",
      "memory usage: 75.6+ KB\n",
      "None\n",
      "\n",
      "Kawasaki:\n",
      "<class 'pandas.core.frame.DataFrame'>\n",
      "RangeIndex: 96 entries, 0 to 95\n",
      "Data columns (total 10 columns):\n",
      " #   Column           Non-Null Count  Dtype  \n",
      "---  ------           --------------  -----  \n",
      " 0   nama_motor       48 non-null     object \n",
      " 1   lokasi           48 non-null     object \n",
      " 2   harga            48 non-null     object \n",
      " 3   deskripsi        48 non-null     object \n",
      " 4   kapasitas_mesin  48 non-null     object \n",
      " 5   tahun            48 non-null     float64\n",
      " 6   transmisi        48 non-null     object \n",
      " 7   kilometer        48 non-null     object \n",
      " 8   url              96 non-null     object \n",
      " 9   merk             96 non-null     object \n",
      "dtypes: float64(1), object(9)\n",
      "memory usage: 7.6+ KB\n",
      "None\n",
      "\n",
      "Suzuki:\n",
      "<class 'pandas.core.frame.DataFrame'>\n",
      "RangeIndex: 23 entries, 0 to 22\n",
      "Data columns (total 10 columns):\n",
      " #   Column           Non-Null Count  Dtype  \n",
      "---  ------           --------------  -----  \n",
      " 0   nama_motor       14 non-null     object \n",
      " 1   lokasi           14 non-null     object \n",
      " 2   harga            14 non-null     object \n",
      " 3   deskripsi        14 non-null     object \n",
      " 4   kapasitas_mesin  14 non-null     object \n",
      " 5   tahun            14 non-null     float64\n",
      " 6   transmisi        14 non-null     object \n",
      " 7   kilometer        14 non-null     object \n",
      " 8   url              23 non-null     object \n",
      " 9   merk             23 non-null     object \n",
      "dtypes: float64(1), object(9)\n",
      "memory usage: 1.9+ KB\n",
      "None\n"
     ]
    }
   ],
   "source": [
    "print(\"Informasi singkat dari tiap dataset:\\n\")\n",
    "print(\"Yamaha:\")\n",
    "print(yamaha.info())\n",
    "print(\"\\nHonda:\")\n",
    "print(honda.info())\n",
    "print(\"\\nKawasaki:\")\n",
    "print(kawasaki.info())\n",
    "print(\"\\nSuzuki:\")\n",
    "print(suzuki.info())"
   ]
  },
  {
   "cell_type": "markdown",
   "metadata": {},
   "source": [
    "Pre-processing: Data mentah -> Data siap pakai\n",
    "Akan dilakukan cek <i> missing values. </i> Jika terdapat <i> missing values, </i> data yang hilang akan diimputasi menggunakan nilai modus. "
   ]
  },
  {
   "cell_type": "code",
   "execution_count": 62,
   "metadata": {},
   "outputs": [
    {
     "name": "stdout",
     "output_type": "stream",
     "text": [
      "yamaha missing values: \n",
      "nama_motor         35.0\n",
      "lokasi             35.0\n",
      "harga              35.0\n",
      "deskripsi          35.0\n",
      "kapasitas_mesin    35.0\n",
      "tahun              35.0\n",
      "transmisi          35.0\n",
      "kilometer          35.0\n",
      "url                 0.0\n",
      "merk                0.0\n",
      "dtype: float64\n",
      "\n",
      "honda missing values: \n",
      "nama_motor         35.0\n",
      "lokasi             35.0\n",
      "harga              35.0\n",
      "deskripsi          35.0\n",
      "kapasitas_mesin    35.0\n",
      "tahun              35.0\n",
      "transmisi          35.0\n",
      "kilometer          35.0\n",
      "url                 0.0\n",
      "merk                0.0\n",
      "dtype: float64\n",
      "\n",
      "kawasaki missing values: \n",
      "nama_motor         35.0\n",
      "lokasi             35.0\n",
      "harga              35.0\n",
      "deskripsi          35.0\n",
      "kapasitas_mesin    35.0\n",
      "tahun              35.0\n",
      "transmisi          35.0\n",
      "kilometer          35.0\n",
      "url                 0.0\n",
      "merk                0.0\n",
      "dtype: float64\n",
      "\n",
      "suzuki missing values: \n",
      "nama_motor         35.0\n",
      "lokasi             35.0\n",
      "harga              35.0\n",
      "deskripsi          35.0\n",
      "kapasitas_mesin    35.0\n",
      "tahun              35.0\n",
      "transmisi          35.0\n",
      "kilometer          35.0\n",
      "url                 0.0\n",
      "merk                0.0\n",
      "dtype: float64\n",
      "\n"
     ]
    }
   ],
   "source": [
    "# Cek rata-rata missing values pada tiap dataset\n",
    "brand = ['yamaha', 'honda', 'kawasaki', 'suzuki']\n",
    "data = [yamaha, honda, kawasaki, suzuki]\n",
    "\n",
    "for i, j in zip(brand, data):\n",
    "    print(f\"{i} missing values: \\n{np.round(honda.isnull().mean(), 2)*100}\")\n",
    "    print()"
   ]
  },
  {
   "cell_type": "code",
   "execution_count": 63,
   "metadata": {},
   "outputs": [],
   "source": [
    "# cari modus dari tiap kolom yang terdapat missing values\n",
    "kolom_null = ['nama_motor', 'lokasi', 'harga', 'deskripsi', \n",
    "              'kapasitas_mesin', 'tahun', 'transmisi', 'kilometer']"
   ]
  },
  {
   "cell_type": "code",
   "execution_count": 64,
   "metadata": {},
   "outputs": [],
   "source": [
    "# Cari modus dan replace NaN dengan modus\n",
    "for col in kolom_null:\n",
    "    # Yamaha\n",
    "    modus_yamaha = yamaha[col].value_counts().nlargest(3)\n",
    "    # Honda\n",
    "    modus_honda = yamaha[col].value_counts().nlargest(3)\n",
    "    # Kawasaki\n",
    "    modus_kawasaki = yamaha[col].value_counts().nlargest(3)\n",
    "    # Suzuki\n",
    "    modus_suzuki = yamaha[col].value_counts().nlargest(3)\n",
    "    \n",
    "    # Check if the mode values exist\n",
    "    if len(modus_yamaha) >= 2:\n",
    "        # Extract the mode strings\n",
    "        modus_ymh1 = modus_yamaha.index[0]\n",
    "        modus_ymh2 = modus_yamaha.index[1]\n",
    "\n",
    "        # Define a list of possible string values between the modes\n",
    "        possible_values_ymh = [modus_ymh1, modus_ymh2]\n",
    "\n",
    "        # Replace NaN dengan nilai random antara modus pertama/kedua/ketiga\n",
    "        yamaha[col] = yamaha[col].apply(lambda x: np.random.choice(possible_values_ymh) if pd.isna(x) else x)\n",
    "\n",
    "    if len(modus_honda) >= 2:\n",
    "        # Extract the mode strings\n",
    "        modus_hnd1 = modus_honda.index[0]\n",
    "        modus_hnd2 = modus_honda.index[1]\n",
    "\n",
    "        # Define a list of possible string values between the modes\n",
    "        possible_values_hnd = [modus_hnd1, modus_hnd2]\n",
    "\n",
    "        # Replace NaN dengan nilai random antara modus pertama/kedua/ketiga\n",
    "        honda[col] = honda[col].apply(lambda x: np.random.choice(possible_values_hnd) if pd.isna(x) else x)\n",
    "\n",
    "    if len(modus_kawasaki) >= 2:\n",
    "        # Extract the mode strings\n",
    "        modus_kws1 = modus_kawasaki.index[0]\n",
    "        modus_kws2 = modus_kawasaki.index[1]\n",
    "\n",
    "        # Define a list of possible string values between the modes\n",
    "        possible_values_kws = [modus_kws1, modus_kws2]\n",
    "\n",
    "        # Replace NaN dengan nilai random antara modus pertama/kedua/ketiga\n",
    "        kawasaki[col] = kawasaki[col].apply(lambda x: np.random.choice(possible_values_kws) if pd.isna(x) else x)\n",
    "\n",
    "    if len(modus_suzuki) >= 2:\n",
    "        # Extract the mode strings\n",
    "        modus_szk1 = modus_suzuki.index[0]\n",
    "        modus_szk2 = modus_suzuki.index[1]\n",
    "\n",
    "        # Define a list of possible string values between the modes\n",
    "        possible_values_szk = [modus_szk1, modus_szk2]\n",
    "\n",
    "        # Replace NaN dengan nilai random antara modus pertama/kedua/ketiga\n",
    "        suzuki[col] = suzuki[col].apply(lambda x: np.random.choice(possible_values_szk) if pd.isna(x) else x)"
   ]
  },
  {
   "cell_type": "code",
   "execution_count": 65,
   "metadata": {},
   "outputs": [
    {
     "name": "stdout",
     "output_type": "stream",
     "text": [
      "yamaha missing values: \n",
      "nama_motor         0.0\n",
      "lokasi             0.0\n",
      "harga              0.0\n",
      "deskripsi          0.0\n",
      "kapasitas_mesin    0.0\n",
      "tahun              0.0\n",
      "transmisi          0.0\n",
      "kilometer          0.0\n",
      "url                0.0\n",
      "merk               0.0\n",
      "dtype: float64\n",
      "\n",
      "honda missing values: \n",
      "nama_motor         0.0\n",
      "lokasi             0.0\n",
      "harga              0.0\n",
      "deskripsi          0.0\n",
      "kapasitas_mesin    0.0\n",
      "tahun              0.0\n",
      "transmisi          0.0\n",
      "kilometer          0.0\n",
      "url                0.0\n",
      "merk               0.0\n",
      "dtype: float64\n",
      "\n",
      "kawasaki missing values: \n",
      "nama_motor         0.0\n",
      "lokasi             0.0\n",
      "harga              0.0\n",
      "deskripsi          0.0\n",
      "kapasitas_mesin    0.0\n",
      "tahun              0.0\n",
      "transmisi          0.0\n",
      "kilometer          0.0\n",
      "url                0.0\n",
      "merk               0.0\n",
      "dtype: float64\n",
      "\n",
      "suzuki missing values: \n",
      "nama_motor         0.0\n",
      "lokasi             0.0\n",
      "harga              0.0\n",
      "deskripsi          0.0\n",
      "kapasitas_mesin    0.0\n",
      "tahun              0.0\n",
      "transmisi          0.0\n",
      "kilometer          0.0\n",
      "url                0.0\n",
      "merk               0.0\n",
      "dtype: float64\n",
      "\n"
     ]
    }
   ],
   "source": [
    "# Cek missing values lagi\n",
    "for i, j in zip(brand, data):\n",
    "    print(f\"{i} missing values: \\n{np.round(j.isnull().mean(), 2)*100}\")\n",
    "    print()"
   ]
  },
  {
   "cell_type": "code",
   "execution_count": 66,
   "metadata": {},
   "outputs": [
    {
     "name": "stdout",
     "output_type": "stream",
     "text": [
      "Shape dari dataset yang digabung:  (1578, 10)\n"
     ]
    },
    {
     "data": {
      "text/html": [
       "<div>\n",
       "<style scoped>\n",
       "    .dataframe tbody tr th:only-of-type {\n",
       "        vertical-align: middle;\n",
       "    }\n",
       "\n",
       "    .dataframe tbody tr th {\n",
       "        vertical-align: top;\n",
       "    }\n",
       "\n",
       "    .dataframe thead th {\n",
       "        text-align: right;\n",
       "    }\n",
       "</style>\n",
       "<table border=\"1\" class=\"dataframe\">\n",
       "  <thead>\n",
       "    <tr style=\"text-align: right;\">\n",
       "      <th></th>\n",
       "      <th>nama_motor</th>\n",
       "      <th>lokasi</th>\n",
       "      <th>harga</th>\n",
       "      <th>deskripsi</th>\n",
       "      <th>kapasitas_mesin</th>\n",
       "      <th>tahun</th>\n",
       "      <th>transmisi</th>\n",
       "      <th>kilometer</th>\n",
       "      <th>url</th>\n",
       "      <th>merk</th>\n",
       "    </tr>\n",
       "  </thead>\n",
       "  <tbody>\n",
       "    <tr>\n",
       "      <th>0</th>\n",
       "      <td>Yamaha Aerox 155 Vva</td>\n",
       "      <td>Kab. Tangerang</td>\n",
       "      <td>Rp24,500,000</td>\n",
       "      <td>Motor mulus dan bagus untuk surat-surat lengka...</td>\n",
       "      <td>125 CC</td>\n",
       "      <td>2019.0</td>\n",
       "      <td>Manual</td>\n",
       "      <td>10000 - 20000KM</td>\n",
       "      <td>https://www.momotor.id/motor-bekas/yamaha/yama...</td>\n",
       "      <td>Yamaha</td>\n",
       "    </tr>\n",
       "    <tr>\n",
       "      <th>1</th>\n",
       "      <td>Yamaha Aerox 155 Vva</td>\n",
       "      <td>Kota Jakarta Barat</td>\n",
       "      <td>Rp23,500,000</td>\n",
       "      <td>Motor mulus dan bagus untuk surat-surat lengka...</td>\n",
       "      <td>155 CC</td>\n",
       "      <td>2018.0</td>\n",
       "      <td>Otomatis</td>\n",
       "      <td>&gt;30000 KM</td>\n",
       "      <td>https://www.momotor.id/motor-bekas/yamaha/yama...</td>\n",
       "      <td>Yamaha</td>\n",
       "    </tr>\n",
       "    <tr>\n",
       "      <th>2</th>\n",
       "      <td>Yamaha Aerox 155 Vva</td>\n",
       "      <td>Kab. Tangerang</td>\n",
       "      <td>Rp23,500,000</td>\n",
       "      <td>Motor mulus dan bagus untuk surat-surat lengka...</td>\n",
       "      <td>125 CC</td>\n",
       "      <td>2018.0</td>\n",
       "      <td>Manual</td>\n",
       "      <td>10000 - 20000KM</td>\n",
       "      <td>https://www.momotor.id/motor-bekas/yamaha/yama...</td>\n",
       "      <td>Yamaha</td>\n",
       "    </tr>\n",
       "    <tr>\n",
       "      <th>3</th>\n",
       "      <td>Yamaha Aerox 155 Vva</td>\n",
       "      <td>Kota Jakarta Barat</td>\n",
       "      <td>Rp24,500,000</td>\n",
       "      <td>Motor mulus dan bagus untuk surat-surat lengka...</td>\n",
       "      <td>155 CC</td>\n",
       "      <td>2019.0</td>\n",
       "      <td>Otomatis</td>\n",
       "      <td>10000 - 20000KM</td>\n",
       "      <td>https://www.momotor.id/motor-bekas/yamaha/yama...</td>\n",
       "      <td>Yamaha</td>\n",
       "    </tr>\n",
       "    <tr>\n",
       "      <th>4</th>\n",
       "      <td>Yamaha Nmax Abs</td>\n",
       "      <td>Kota Jakarta Barat</td>\n",
       "      <td>Rp24,500,000</td>\n",
       "      <td>Motor mulus dan bagus untuk surat-surat lengka...</td>\n",
       "      <td>155 CC</td>\n",
       "      <td>2019.0</td>\n",
       "      <td>Otomatis</td>\n",
       "      <td>10000 - 20000KM</td>\n",
       "      <td>https://www.momotor.id/motor-bekas/yamaha/yama...</td>\n",
       "      <td>Yamaha</td>\n",
       "    </tr>\n",
       "  </tbody>\n",
       "</table>\n",
       "</div>"
      ],
      "text/plain": [
       "             nama_motor              lokasi         harga  \\\n",
       "0  Yamaha Aerox 155 Vva      Kab. Tangerang  Rp24,500,000   \n",
       "1  Yamaha Aerox 155 Vva  Kota Jakarta Barat  Rp23,500,000   \n",
       "2  Yamaha Aerox 155 Vva      Kab. Tangerang  Rp23,500,000   \n",
       "3  Yamaha Aerox 155 Vva  Kota Jakarta Barat  Rp24,500,000   \n",
       "4       Yamaha Nmax Abs  Kota Jakarta Barat  Rp24,500,000   \n",
       "\n",
       "                                           deskripsi kapasitas_mesin   tahun  \\\n",
       "0  Motor mulus dan bagus untuk surat-surat lengka...          125 CC  2019.0   \n",
       "1  Motor mulus dan bagus untuk surat-surat lengka...          155 CC  2018.0   \n",
       "2  Motor mulus dan bagus untuk surat-surat lengka...          125 CC  2018.0   \n",
       "3  Motor mulus dan bagus untuk surat-surat lengka...          155 CC  2019.0   \n",
       "4  Motor mulus dan bagus untuk surat-surat lengka...          155 CC  2019.0   \n",
       "\n",
       "  transmisi        kilometer  \\\n",
       "0    Manual  10000 - 20000KM   \n",
       "1  Otomatis        >30000 KM   \n",
       "2    Manual  10000 - 20000KM   \n",
       "3  Otomatis  10000 - 20000KM   \n",
       "4  Otomatis  10000 - 20000KM   \n",
       "\n",
       "                                                 url    merk  \n",
       "0  https://www.momotor.id/motor-bekas/yamaha/yama...  Yamaha  \n",
       "1  https://www.momotor.id/motor-bekas/yamaha/yama...  Yamaha  \n",
       "2  https://www.momotor.id/motor-bekas/yamaha/yama...  Yamaha  \n",
       "3  https://www.momotor.id/motor-bekas/yamaha/yama...  Yamaha  \n",
       "4  https://www.momotor.id/motor-bekas/yamaha/yama...  Yamaha  "
      ]
     },
     "execution_count": 66,
     "metadata": {},
     "output_type": "execute_result"
    }
   ],
   "source": [
    "# Merge dataset\n",
    "used_motor = pd.concat([yamaha, honda, kawasaki, suzuki])\n",
    "print(\"Shape dari dataset yang digabung: \", used_motor.shape)\n",
    "used_motor.head()"
   ]
  },
  {
   "cell_type": "markdown",
   "metadata": {},
   "source": [
    "---\n",
    "#### Data Pre-processing\n",
    "Pada tahap ini, akan dilakukan:\n",
    "- <i>Remove missing values</i>\n",
    "- Membersihkan kolom harga\n",
    "- Membersihkan kolom kapasitas mesin"
   ]
  },
  {
   "cell_type": "markdown",
   "metadata": {},
   "source": [
    "##### Drop variabel yang tidak dibutuhkan"
   ]
  },
  {
   "cell_type": "code",
   "execution_count": 67,
   "metadata": {},
   "outputs": [
    {
     "data": {
      "text/html": [
       "<div>\n",
       "<style scoped>\n",
       "    .dataframe tbody tr th:only-of-type {\n",
       "        vertical-align: middle;\n",
       "    }\n",
       "\n",
       "    .dataframe tbody tr th {\n",
       "        vertical-align: top;\n",
       "    }\n",
       "\n",
       "    .dataframe thead th {\n",
       "        text-align: right;\n",
       "    }\n",
       "</style>\n",
       "<table border=\"1\" class=\"dataframe\">\n",
       "  <thead>\n",
       "    <tr style=\"text-align: right;\">\n",
       "      <th></th>\n",
       "      <th>nama_motor</th>\n",
       "      <th>lokasi</th>\n",
       "      <th>harga</th>\n",
       "      <th>kapasitas_mesin</th>\n",
       "      <th>tahun</th>\n",
       "      <th>transmisi</th>\n",
       "      <th>kilometer</th>\n",
       "      <th>merk</th>\n",
       "    </tr>\n",
       "  </thead>\n",
       "  <tbody>\n",
       "    <tr>\n",
       "      <th>0</th>\n",
       "      <td>Yamaha Aerox 155 Vva</td>\n",
       "      <td>Kab. Tangerang</td>\n",
       "      <td>Rp24,500,000</td>\n",
       "      <td>125 CC</td>\n",
       "      <td>2019.0</td>\n",
       "      <td>Manual</td>\n",
       "      <td>10000 - 20000KM</td>\n",
       "      <td>Yamaha</td>\n",
       "    </tr>\n",
       "    <tr>\n",
       "      <th>1</th>\n",
       "      <td>Yamaha Aerox 155 Vva</td>\n",
       "      <td>Kota Jakarta Barat</td>\n",
       "      <td>Rp23,500,000</td>\n",
       "      <td>155 CC</td>\n",
       "      <td>2018.0</td>\n",
       "      <td>Otomatis</td>\n",
       "      <td>&gt;30000 KM</td>\n",
       "      <td>Yamaha</td>\n",
       "    </tr>\n",
       "    <tr>\n",
       "      <th>2</th>\n",
       "      <td>Yamaha Aerox 155 Vva</td>\n",
       "      <td>Kab. Tangerang</td>\n",
       "      <td>Rp23,500,000</td>\n",
       "      <td>125 CC</td>\n",
       "      <td>2018.0</td>\n",
       "      <td>Manual</td>\n",
       "      <td>10000 - 20000KM</td>\n",
       "      <td>Yamaha</td>\n",
       "    </tr>\n",
       "    <tr>\n",
       "      <th>3</th>\n",
       "      <td>Yamaha Aerox 155 Vva</td>\n",
       "      <td>Kota Jakarta Barat</td>\n",
       "      <td>Rp24,500,000</td>\n",
       "      <td>155 CC</td>\n",
       "      <td>2019.0</td>\n",
       "      <td>Otomatis</td>\n",
       "      <td>10000 - 20000KM</td>\n",
       "      <td>Yamaha</td>\n",
       "    </tr>\n",
       "    <tr>\n",
       "      <th>4</th>\n",
       "      <td>Yamaha Nmax Abs</td>\n",
       "      <td>Kota Jakarta Barat</td>\n",
       "      <td>Rp24,500,000</td>\n",
       "      <td>155 CC</td>\n",
       "      <td>2019.0</td>\n",
       "      <td>Otomatis</td>\n",
       "      <td>10000 - 20000KM</td>\n",
       "      <td>Yamaha</td>\n",
       "    </tr>\n",
       "  </tbody>\n",
       "</table>\n",
       "</div>"
      ],
      "text/plain": [
       "             nama_motor              lokasi         harga kapasitas_mesin  \\\n",
       "0  Yamaha Aerox 155 Vva      Kab. Tangerang  Rp24,500,000          125 CC   \n",
       "1  Yamaha Aerox 155 Vva  Kota Jakarta Barat  Rp23,500,000          155 CC   \n",
       "2  Yamaha Aerox 155 Vva      Kab. Tangerang  Rp23,500,000          125 CC   \n",
       "3  Yamaha Aerox 155 Vva  Kota Jakarta Barat  Rp24,500,000          155 CC   \n",
       "4       Yamaha Nmax Abs  Kota Jakarta Barat  Rp24,500,000          155 CC   \n",
       "\n",
       "    tahun transmisi        kilometer    merk  \n",
       "0  2019.0    Manual  10000 - 20000KM  Yamaha  \n",
       "1  2018.0  Otomatis        >30000 KM  Yamaha  \n",
       "2  2018.0    Manual  10000 - 20000KM  Yamaha  \n",
       "3  2019.0  Otomatis  10000 - 20000KM  Yamaha  \n",
       "4  2019.0  Otomatis  10000 - 20000KM  Yamaha  "
      ]
     },
     "execution_count": 67,
     "metadata": {},
     "output_type": "execute_result"
    }
   ],
   "source": [
    "used_motor = used_motor.drop(columns=['deskripsi', 'url'])\n",
    "used_motor.head()"
   ]
  },
  {
   "cell_type": "code",
   "execution_count": 68,
   "metadata": {},
   "outputs": [
    {
     "name": "stdout",
     "output_type": "stream",
     "text": [
      "Nilai unik dari kolom nama_motor:\n",
      "['Yamaha Aerox 155 Vva' 'Yamaha Nmax Abs' 'Yamaha Lexi S'\n",
      " 'Yamaha Jupiter Mx Cw' 'Yamaha All New Nmax 155' 'Yamaha Fino Sporty'\n",
      " 'Yamaha Gear 125' 'Yamaha Gear 125 S-version' 'Yamaha All New Xsr 155'\n",
      " 'Yamaha R15 Gp Tech 3' 'Yamaha Scorpio G' 'Yamaha Vixion Extreme'\n",
      " 'Yamaha R15 Gp Movistar' 'Yamaha R15' 'Yamaha All New R15 155 Vva'\n",
      " 'Yamaha Mio Z 125' 'Yamaha WR 155 R' 'Yamaha Mio Cw'\n",
      " 'Yamaha All New Nmax 155 Abs' 'Yamaha Freego' 'Yamaha Aerox 155 Vva-s'\n",
      " 'Yamaha Lexi' 'Yamaha New Mio M3 Cw' 'Yamaha N Max' 'Yamaha Mio'\n",
      " 'Yamaha New Vixion' 'Yamaha XMAX' 'Yamaha All New X-ride 125'\n",
      " 'Yamaha Nmax Special Custom' 'Yamaha Fazzio Neo'\n",
      " 'Yamaha All New Nmax 155 Con' 'Yamaha X Ride Se' 'Yamaha Xmax Abs'\n",
      " 'Yamaha Xmax' 'Yamaha X-ride' 'Yamaha Fino Sport 125 Blu Cr'\n",
      " 'Yamaha Aerox 155 Vva R' 'Yamaha All New Vixion R'\n",
      " 'Yamaha New V Ixion Adv Gp' 'Yamaha Mio M3 125' 'Yamaha New Aerox 155 C'\n",
      " 'Yamaha Fino Grade 125' 'Yamaha R25' 'Yamaha Fino Premium Fi Se'\n",
      " 'Yamaha Soul Gt' 'Yamaha Fino Premium 125 Blue Core'\n",
      " 'Yamaha Fino Classic Fi' 'Yamaha Vixion' 'Yamaha Mio S' 'Yamaha Wr 155 R'\n",
      " 'Yamaha New Aerox 155 C Abs' 'Yamaha Aerox 155 Gp' 'Yamaha Freego S'\n",
      " 'Yamaha New R15 155 Vva Gp M' 'Yamaha Mio Fino'\n",
      " 'Yamaha V Ixion New Non Ks Ctm' 'Yamaha Mio Soul Gt Street'\n",
      " 'Yamaha Freego S Abs' 'Yamaha Mio Soul' 'Honda Vario 125 Esp Cbs Iss'\n",
      " 'Honda Beat Esp Cbs Iss Dlx' 'Honda New Beat Street Esp' 'Honda Cb150r'\n",
      " 'Honda Supra X 125 Injeksi' 'Honda Vario 150 Esp Sporty'\n",
      " 'Honda New Pcx 150 Abs' 'Honda New Scoopy Stylish' 'Honda Cbr 150 R'\n",
      " 'Honda Cbr 150 Rc' 'Honda New Vario 125 Esp Cbs' 'Honda New Revo Fi Fit'\n",
      " 'Honda Cb150r Streetfire' 'Honda Vario 125 Cbs Iss'\n",
      " 'Honda Vario 150 Esp Exclusive' 'Honda Beat Fi Sporty Cw' 'Honda Scoopy'\n",
      " 'Honda Beat Fi Cw + Sporty' 'Honda Beat Fi Sporty Cbs Iss Plus'\n",
      " 'Honda Pcx' 'Honda New Scoopy Sporty' 'Honda Beat Fi Cbs Iss'\n",
      " 'Honda Beat Cbs Fi' 'Honda Beat' 'Honda Adv 150 Abs' 'Honda Cbr 250 Abs'\n",
      " 'Honda Beat Fi Sporty Cbs Iss' 'Honda New Pcx 150 Cbs'\n",
      " 'Honda New Scoopy Fashion' 'Honda Genio Cbs' 'Honda Genio Iss'\n",
      " 'Honda Vario 125 Esp Cbs' 'Honda Cbr 150 Rcr' 'Honda Vario Techno 110'\n",
      " 'Honda Pcx Hybrid' 'Honda Vario 110 Cbs Advance'\n",
      " 'Honda Beat Fi Sporty Cbs' 'Honda Beat Fi Cbs Iss Plus' 'Honda Crf 150l'\n",
      " 'Honda GENIO CBS' 'Honda Beat Cw Fi' 'Honda Adv 150 Cbs'\n",
      " 'Honda Supra X 125 Pgmfi Cw' 'Honda Beat Cw' 'Honda Scoopy Esp'\n",
      " 'Honda Forza 250' 'Honda New Beat Fi Cw-cbs Plus' 'Honda Supra X 125 Cw'\n",
      " 'Honda Cbr 150 Repsol' 'Honda New Cbr R Standar' 'Honda New Revo Fi Cw'\n",
      " 'Honda Beat Fisporty Cw Esp' 'Honda New Scoopy Prestige'\n",
      " 'Honda Supra Gtr 150 Exl' 'Honda New Vario Techno Cbs'\n",
      " 'Honda Beat Fi Pop Cbs Esp' 'Honda Cbr 250 Rr'\n",
      " 'Honda Beat Fi Pop Cbs Iss' 'Honda Nscoopy Fi Sport Mtro'\n",
      " 'Honda Beat Fi Cbs Esp Plus' 'Honda New Supra X 125 Cw'\n",
      " 'Honda Beat Fisporty Cbsplus' 'Honda New Beat Popespcwcomic'\n",
      " 'Honda Supra X 125 R' 'Honda Beat Fi Pop Cw' 'Honda Beat Custic'\n",
      " 'Honda New Cbr 150r Tricolor' 'Honda Revo Cw' 'Kawasaki Klx 150'\n",
      " 'Kawasaki Ninja 250' 'Kawasaki Ninja 250 Abs Se' 'Kawasaki Ninja R'\n",
      " 'Kawasaki Z 800' 'Kawasaki Ninja Rr' 'Kawasaki Ninja 250 Fi'\n",
      " 'Kawasaki W 175 Cafe' 'Kawasaki Ninja Zx 25 R' 'Kawasaki Ninja Zx6r'\n",
      " 'Kawasaki New Z250 Sl' 'Kawasaki Klx 150 G' 'Kawasaki Klx 150 Bf Se'\n",
      " 'Kawasaki Ninja' 'Kawasaki D Tracker 150' 'Kawasaki D-tracker 150'\n",
      " 'Kawasaki Ninja 250 Abs Fi' 'Kawasaki W175 Se'\n",
      " 'Kawasaki D-tracker 150 Se' 'Kawasaki Hino Sg 175 Cafe Racer'\n",
      " 'Kawasaki D Tracker X' 'Suzuki Gsx R150' 'Suzuki Satria Fu 150'\n",
      " 'Suzuki Gsx 150 Bandit' 'Suzuki Satria F 150'\n",
      " 'Suzuki Satria F150 Fighter' 'Suzuki Satria Fu 150 Mfx']\n",
      "\n",
      "Nilai unik dari kolom lokasi:\n",
      "['Kab. Tangerang' 'Kota Jakarta Barat' 'Kota Medan' 'Kota Jakarta Selatan'\n",
      " 'Kota Bandung' 'Kab. Bandung' 'Kota Jakarta Timur' 'Kab. Bogor'\n",
      " 'Kota Jakarta Utara' 'Kota Depok' 'Kota Tangerang Selatan' 'Kota  Batam'\n",
      " 'Kota Surabaya' 'Kota Tangerang' 'Kota Bekasi' 'Kab. Deli Serdang']\n",
      "\n",
      "Nilai unik dari kolom harga:\n",
      "['Rp24,500,000' 'Rp23,500,000' 'Rp17,800,000' 'Rp12,500,000'\n",
      " 'Rp27,300,000' 'Rp14,800,000' 'Rp17,500,000' 'Rp31,900,000'\n",
      " 'Rp13,900,000' 'Rp13,800,000' 'Rp14,850,000' 'Rp14,855,000'\n",
      " 'Rp20,500,000' 'Rp25,500,000' 'Rp9,300,000' 'Rp26,000,000' 'Rp19,500,000'\n",
      " 'Rp32,500,000' 'Rp21,500,000' 'Rp22,500,000' 'Rp20,600,000'\n",
      " 'Rp12,700,000' 'Rp27,000,000' 'Rp33,000,000' 'Rp17,300,000'\n",
      " 'Rp25,850,000' 'Rp21,850,000' 'Rp28,500,000' 'Rp15,000,000'\n",
      " 'Rp18,300,000' 'Rp9,850,000' 'Rp24,400,000' 'Rp9,500,000' 'Rp23,400,000'\n",
      " 'Rp26,700,000' 'Rp19,700,000' 'Rp22,800,000' 'Rp22,900,000'\n",
      " 'Rp15,800,000' 'Rp17,900,000' 'Rp27,500,000' 'Rp24,300,000'\n",
      " 'Rp25,000,000' 'Rp47,500,000' 'Rp20,000,000' 'Rp23,000,000'\n",
      " 'Rp12,960,000' 'Rp16,500,000' 'Rp18,900,000' 'Rp29,500,000'\n",
      " 'Rp32,000,000' 'Rp18,700,000' 'Rp18,800,000' 'Rp28,800,000'\n",
      " 'Rp29,700,000' 'Rp27,200,000' 'Rp22,300,000' 'Rp22,680,000'\n",
      " 'Rp10,000,000' 'Rp21,000,000' 'Rp44,800,000' 'Rp57,500,000'\n",
      " 'Rp27,360,000' 'Rp20,850,000' 'Rp27,100,000' 'Rp25,900,000'\n",
      " 'Rp51,500,000' 'Rp44,500,000' 'Rp22,000,000' 'Rp16,000,000' 'Rp9,800,000'\n",
      " 'Rp28,000,000' 'Rp12,300,000' 'Rp22,400,000' 'Rp25,600,000'\n",
      " 'Rp20,800,000' 'Rp29,800,000' 'Rp21,700,000' 'Rp26,800,000'\n",
      " 'Rp19,300,000' 'Rp30,800,000' 'Rp16,700,000' 'Rp14,500,000'\n",
      " 'Rp23,700,000' 'Rp18,500,000' 'Rp19,200,000' 'Rp23,600,000'\n",
      " 'Rp13,850,000' 'Rp14,000,000' 'Rp8,550,000' 'Rp9,350,000' 'Rp24,850,000'\n",
      " 'Rp24,000,000' 'Rp11,000,000' 'Rp9,000,000' 'Rp20,790,000' 'Rp15,500,000'\n",
      " 'Rp34,000,000' 'Rp23,850,000' 'Rp23,800,000' 'Rp18,000,000'\n",
      " 'Rp23,999,000' 'Rp16,100,000' 'Rp15,200,000' 'Rp23,900,000'\n",
      " 'Rp24,200,000' 'Rp19,900,000' 'Rp21,100,000' 'Rp21,980,000'\n",
      " 'Rp10,500,000' 'Rp17,000,000' 'Rp49,000,000' 'Rp28,400,000'\n",
      " 'Rp25,300,000' 'Rp23,300,000' 'Rp14,200,000' 'Rp22,200,000'\n",
      " 'Rp31,000,000' 'Rp19,000,000' 'Rp12,900,000' 'Rp12,200,000'\n",
      " 'Rp25,200,000' 'Rp49,800,000' 'Rp24,100,000' 'Rp12,100,000'\n",
      " 'Rp30,500,000' 'Rp36,500,000' 'Rp29,000,000' 'Rp33,500,000'\n",
      " 'Rp24,250,000' 'Rp31,500,000' 'Rp16,900,000' 'Rp10,850,000'\n",
      " 'Rp11,850,000' 'Rp36,800,000' 'Rp11,300,000' 'Rp11,250,000'\n",
      " 'Rp25,250,000' 'Rp8,850,000' 'Rp19,850,000' 'Rp28,900,000' 'Rp10,800,000'\n",
      " 'Rp18,600,000' 'Rp17,600,000' 'Rp24,999,000' 'Rp17,350,000'\n",
      " 'Rp29,250,000' 'Rp15,700,000' 'Rp10,950,000' 'Rp15,300,000'\n",
      " 'Rp14,300,000' 'Rp13,500,000' 'Rp57,000,000' 'Rp28,300,000'\n",
      " 'Rp33,700,000' 'Rp30,300,000' 'Rp29,350,000' 'Rp21,200,000'\n",
      " 'Rp18,200,000' 'Rp13,700,000' 'Rp17,780,000' 'Rp15,980,000'\n",
      " 'Rp14,250,000' 'Rp17,700,000' 'Rp15,850,000' 'Rp16,850,000'\n",
      " 'Rp12,000,000' 'Rp30,400,000' 'Rp16,200,000' 'Rp17,400,000'\n",
      " 'Rp17,950,000' 'Rp12,870,000' 'Rp12,750,000' 'Rp13,000,000'\n",
      " 'Rp17,250,000' 'Rp32,700,000' 'Rp16,600,000' 'Rp18,850,000'\n",
      " 'Rp15,750,000' 'Rp34,500,000' 'Rp27,900,000' 'Rp13,990,000'\n",
      " 'Rp20,700,000' 'Rp12,950,000' 'Rp25,700,000' 'Rp67,500,000'\n",
      " 'Rp45,600,000' 'Rp16,300,000' 'Rp22,700,000' 'Rp21,900,000'\n",
      " 'Rp13,750,000' 'Rp16,800,000' 'Rp15,600,000' 'Rp32,100,000'\n",
      " 'Rp29,300,000' 'Rp29,600,000' 'Rp17,200,000' 'Rp23,200,000'\n",
      " 'Rp11,200,000' 'Rp26,900,000' 'Rp14,700,000' 'Rp18,990,000'\n",
      " 'Rp13,680,000' 'Rp16,970,000' 'Rp29,900,000' 'Rp13,950,000'\n",
      " 'Rp12,850,000' 'Rp17,850,000' 'Rp19,800,000' 'Rp17,100,000'\n",
      " 'Rp50,500,000' 'Rp45,800,000' 'Rp30,200,000' 'Rp18,860,000'\n",
      " 'Rp17,550,000' 'Rp18,680,000' 'Rp13,400,000' 'Rp21,250,000'\n",
      " 'Rp10,750,000' 'Rp20,100,000' 'Rp28,600,000' 'Rp13,250,000'\n",
      " 'Rp16,400,000' 'Rp15,100,000' 'Rp18,400,000' 'Rp18,750,000'\n",
      " 'Rp11,500,000' 'Rp14,750,000' 'Rp10,400,000' 'Rp17,750,000'\n",
      " 'Rp95,000,000' 'Rp30,700,000' 'Rp10,250,000' 'Rp35,000,000'\n",
      " 'Rp28,950,000' 'Rp46,000,000' 'Rp12,800,000' 'Rp13,200,000'\n",
      " 'Rp24,800,000' 'Rp13,550,000' 'Rp12,250,000' 'Rp14,900,000'\n",
      " 'Rp15,900,000' 'Rp11,800,000' 'Rp37,000,000' 'Rp52,400,000'\n",
      " 'Rp246,000,000' 'Rp38,000,000' 'Rp120,500,000' 'Rp365,000,000'\n",
      " 'Rp37,500,000' 'Rp41,000,000' 'Rp44,000,000' 'Rp115,000,000'\n",
      " 'Rp55,500,000' 'Rp36,100,000' 'Rp50,000,000' 'Rp42,500,000'\n",
      " 'Rp38,500,000' 'Rp24,900,000' 'Rp31,100,000']\n",
      "\n",
      "Nilai unik dari kolom kapasitas_mesin:\n",
      "['125 CC' '155 CC' '220 CC' '150 CC' '155cc CC' '125cc CC' '250 CC'\n",
      " '156 CC' '110 CC' '250  CC' '-' '156cc CC' '150cc CC' '110cc CC'\n",
      " '250cc CC' '1550 CC' '125CC CC' '125 cc CC' '249 CC' '115cc CC' '160 CC'\n",
      " '11pcc CC' '115 CC' ' CC' '113cc CC' '900 CC' '175 CC' '600 CC'\n",
      " '175cc CC' '250Cc CC' 'DSE4202201 CC']\n",
      "\n",
      "Nilai unik dari kolom tahun:\n",
      "[2019. 2018. 2017. 2022. 2016. 2015. 2020. 2021.]\n",
      "\n",
      "Nilai unik dari kolom transmisi:\n",
      "['Manual' 'Otomatis']\n",
      "\n",
      "Nilai unik dari kolom kilometer:\n",
      "['10000 - 20000KM' '>30000 KM' '5000 - 10000KM' '1000 - 5000 KM'\n",
      " '0 - 1000 KM']\n",
      "\n",
      "Nilai unik dari kolom merk:\n",
      "['Yamaha' 'Honda' 'Kawasaki' 'Suzuki']\n",
      "\n"
     ]
    }
   ],
   "source": [
    "# Lihat nilai unik dari setiap kolom\n",
    "kolom = used_motor.columns\n",
    "\n",
    "for i in kolom:\n",
    "    print(f\"Nilai unik dari kolom {i}:\")\n",
    "    print(used_motor[i].unique())\n",
    "    print()"
   ]
  },
  {
   "cell_type": "markdown",
   "metadata": {},
   "source": [
    "Kolom kapasitas mesin dan harga belum dalam format yang benar"
   ]
  },
  {
   "cell_type": "markdown",
   "metadata": {},
   "source": [
    "##### Membersihkan kolom harga"
   ]
  },
  {
   "cell_type": "code",
   "execution_count": 69,
   "metadata": {},
   "outputs": [],
   "source": [
    "def clean_harga(harga):\n",
    "    harga_clean = harga.replace(\"Rp\", \"\").replace(\".\", \"\").replace(\",\", \"\")\n",
    "    return harga_clean\n",
    "\n",
    "used_motor['harga'] = used_motor['harga'].apply(clean_harga)\n",
    "# used_motor['harga'] = pd.to_numeric(used_motor['harga'], errors='coerce', downcast='integer')\n",
    "# used_motor['harga'] = pd.to_numeric(used_motor['harga'], errors='coerce')\n",
    "used_motor['harga'] = used_motor['harga'].astype(\"float\")"
   ]
  },
  {
   "cell_type": "markdown",
   "metadata": {},
   "source": [
    "##### Membersihkan kolom kapasitas mesin"
   ]
  },
  {
   "cell_type": "code",
   "execution_count": 70,
   "metadata": {},
   "outputs": [
    {
     "name": "stdout",
     "output_type": "stream",
     "text": [
      "[125 155 220 150 250 156 110 249 115 160 113 900 175 600]\n"
     ]
    }
   ],
   "source": [
    "def clean_cc(kapasitas_mesin):\n",
    "    cc_clean = kapasitas_mesin.replace(\"cc\", \"\")\n",
    "    cc_clean2 = cc_clean.replace(\" CC\", \"\")\n",
    "    cc_clean3 = cc_clean2.replace(\"Cc\", \"\")\n",
    "    cc_clean4 = cc_clean3.replace(\"CC\", \"\")\n",
    "    cc_clean5 = cc_clean4.replace(\"p\", \"\")\n",
    "    return cc_clean5\n",
    "\n",
    "used_motor['kapasitas_mesin'] = used_motor['kapasitas_mesin'].apply(clean_cc)\n",
    "used_motor['kapasitas_mesin'] = used_motor['kapasitas_mesin'].replace(['-', ''], 150)\n",
    "used_motor['kapasitas_mesin'] = used_motor['kapasitas_mesin'].replace('1550', 150)\n",
    "used_motor = used_motor[used_motor['kapasitas_mesin'] != 'DSE4202201']\n",
    "used_motor['kapasitas_mesin'] = used_motor['kapasitas_mesin'].astype('int')\n",
    "used_motor['kapasitas_mesin'] = used_motor['kapasitas_mesin'].replace(11, 110)\n",
    "print(used_motor['kapasitas_mesin'].unique())"
   ]
  },
  {
   "cell_type": "markdown",
   "metadata": {},
   "source": [
    "Cek outliers"
   ]
  },
  {
   "cell_type": "code",
   "execution_count": 71,
   "metadata": {},
   "outputs": [
    {
     "data": {
      "image/png": "[encoded data removed]",
      "text/plain": [
       "<Figure size 640x480 with 1 Axes>"
      ]
     },
     "metadata": {},
     "output_type": "display_data"
    }
   ],
   "source": [
    "sns.boxplot(y=used_motor['harga'])\n",
    "plt.grid()\n",
    "plt.show()"
   ]
  },
  {
   "cell_type": "code",
   "execution_count": 72,
   "metadata": {},
   "outputs": [],
   "source": [
    "# Calculate the IQR\n",
    "# Q1 = used_motor['harga'].quantile(0.25)\n",
    "# Q3 = used_motor['harga'].quantile(0.75)\n",
    "# IQR = Q3 - Q1\n",
    "\n",
    "# Remove outliers based on IQR\n",
    "# filtered_motor = used_motor[(used_motor['harga'] > Q1 - 1.5 * IQR) & (used_motor['harga'] < Q3 + 1.5 * IQR)]\n",
    "filtered_motor = used_motor.copy()"
   ]
  },
  {
   "cell_type": "code",
   "execution_count": 73,
   "metadata": {},
   "outputs": [
    {
     "data": {
      "text/plain": [
       "<Axes: ylabel='harga'>"
      ]
     },
     "execution_count": 73,
     "metadata": {},
     "output_type": "execute_result"
    },
    {
     "data": {
      "image/png": "[encoded data removed]",
      "text/plain": [
       "<Figure size 640x480 with 1 Axes>"
      ]
     },
     "metadata": {},
     "output_type": "display_data"
    }
   ],
   "source": [
    "sns.boxplot(y=filtered_motor['harga'])"
   ]
  },
  {
   "cell_type": "code",
   "execution_count": 74,
   "metadata": {},
   "outputs": [
    {
     "name": "stdout",
     "output_type": "stream",
     "text": [
      "Shape dari dataset setelah mengatasi outliers:\n",
      "1577 baris dan 8 kolom\n"
     ]
    }
   ],
   "source": [
    "print(f\"Shape dari dataset setelah mengatasi outliers:\\n{filtered_motor.shape[0]} baris dan {filtered_motor.shape[1]} kolom\")"
   ]
  },
  {
   "cell_type": "markdown",
   "metadata": {},
   "source": [
    "---\n",
    "#### Exploratory Data Analysis <br>\n",
    "Pada tahap EDA, akan dilakukan beberapa tahapan untuk menemukan pola pada data dengan menggunakan statistik dan visualisasi data. Beberapa tahapan yang akan dilakukan sebagai berikut:\n",
    "- Melihat informasi data\n",
    "- Melihat nilai unik tiap kolom\n",
    "- Melihat statistika dasar\n",
    "- Visualisasi data"
   ]
  },
  {
   "cell_type": "code",
   "execution_count": 75,
   "metadata": {},
   "outputs": [
    {
     "name": "stdout",
     "output_type": "stream",
     "text": [
      "<class 'pandas.core.frame.DataFrame'>\n",
      "Index: 1577 entries, 0 to 22\n",
      "Data columns (total 8 columns):\n",
      " #   Column           Non-Null Count  Dtype  \n",
      "---  ------           --------------  -----  \n",
      " 0   nama_motor       1577 non-null   object \n",
      " 1   lokasi           1577 non-null   object \n",
      " 2   harga            1577 non-null   float64\n",
      " 3   kapasitas_mesin  1577 non-null   int32  \n",
      " 4   tahun            1577 non-null   float64\n",
      " 5   transmisi        1577 non-null   object \n",
      " 6   kilometer        1577 non-null   object \n",
      " 7   merk             1577 non-null   object \n",
      "dtypes: float64(2), int32(1), object(5)\n",
      "memory usage: 104.7+ KB\n"
     ]
    }
   ],
   "source": [
    "# Melihat informasi dataset\n",
    "filtered_motor.info()"
   ]
  },
  {
   "cell_type": "code",
   "execution_count": 76,
   "metadata": {},
   "outputs": [
    {
     "name": "stdout",
     "output_type": "stream",
     "text": [
      "nama_motor : 153\n",
      "lokasi : 16\n",
      "harga : 260\n",
      "kapasitas_mesin : 14\n",
      "tahun : 8\n",
      "transmisi : 2\n",
      "kilometer : 5\n",
      "merk : 4\n"
     ]
    }
   ],
   "source": [
    "# Loop melalui tiap kolom dan mencetak nilai unik\n",
    "unique_value_count ={}\n",
    "for column in filtered_motor.columns : \n",
    "    unique_values = filtered_motor[column].unique()\n",
    "    unique_count = len(unique_values)\n",
    "    unique_value_count[column] = unique_count\n",
    "\n",
    "for column, count in unique_value_count.items():\n",
    "    print(f\"{column} : {count}\")"
   ]
  },
  {
   "cell_type": "code",
   "execution_count": 77,
   "metadata": {},
   "outputs": [
    {
     "data": {
      "text/html": [
       "<div>\n",
       "<style scoped>\n",
       "    .dataframe tbody tr th:only-of-type {\n",
       "        vertical-align: middle;\n",
       "    }\n",
       "\n",
       "    .dataframe tbody tr th {\n",
       "        vertical-align: top;\n",
       "    }\n",
       "\n",
       "    .dataframe thead th {\n",
       "        text-align: right;\n",
       "    }\n",
       "</style>\n",
       "<table border=\"1\" class=\"dataframe\">\n",
       "  <thead>\n",
       "    <tr style=\"text-align: right;\">\n",
       "      <th></th>\n",
       "      <th>harga</th>\n",
       "      <th>kapasitas_mesin</th>\n",
       "      <th>tahun</th>\n",
       "    </tr>\n",
       "  </thead>\n",
       "  <tbody>\n",
       "    <tr>\n",
       "      <th>count</th>\n",
       "      <td>1.577000e+03</td>\n",
       "      <td>1577.000000</td>\n",
       "      <td>1577.000000</td>\n",
       "    </tr>\n",
       "    <tr>\n",
       "      <th>mean</th>\n",
       "      <td>2.249550e+07</td>\n",
       "      <td>139.780596</td>\n",
       "      <td>2018.649968</td>\n",
       "    </tr>\n",
       "    <tr>\n",
       "      <th>std</th>\n",
       "      <td>1.418483e+07</td>\n",
       "      <td>39.049998</td>\n",
       "      <td>1.498896</td>\n",
       "    </tr>\n",
       "    <tr>\n",
       "      <th>min</th>\n",
       "      <td>8.550000e+06</td>\n",
       "      <td>110.000000</td>\n",
       "      <td>2015.000000</td>\n",
       "    </tr>\n",
       "    <tr>\n",
       "      <th>25%</th>\n",
       "      <td>1.700000e+07</td>\n",
       "      <td>125.000000</td>\n",
       "      <td>2018.000000</td>\n",
       "    </tr>\n",
       "    <tr>\n",
       "      <th>50%</th>\n",
       "      <td>2.350000e+07</td>\n",
       "      <td>150.000000</td>\n",
       "      <td>2019.000000</td>\n",
       "    </tr>\n",
       "    <tr>\n",
       "      <th>75%</th>\n",
       "      <td>2.450000e+07</td>\n",
       "      <td>155.000000</td>\n",
       "      <td>2019.000000</td>\n",
       "    </tr>\n",
       "    <tr>\n",
       "      <th>max</th>\n",
       "      <td>3.650000e+08</td>\n",
       "      <td>900.000000</td>\n",
       "      <td>2022.000000</td>\n",
       "    </tr>\n",
       "  </tbody>\n",
       "</table>\n",
       "</div>"
      ],
      "text/plain": [
       "              harga  kapasitas_mesin        tahun\n",
       "count  1.577000e+03      1577.000000  1577.000000\n",
       "mean   2.249550e+07       139.780596  2018.649968\n",
       "std    1.418483e+07        39.049998     1.498896\n",
       "min    8.550000e+06       110.000000  2015.000000\n",
       "25%    1.700000e+07       125.000000  2018.000000\n",
       "50%    2.350000e+07       150.000000  2019.000000\n",
       "75%    2.450000e+07       155.000000  2019.000000\n",
       "max    3.650000e+08       900.000000  2022.000000"
      ]
     },
     "execution_count": 77,
     "metadata": {},
     "output_type": "execute_result"
    }
   ],
   "source": [
    "# Melihat Statistika data numerik\n",
    "filtered_motor.describe()"
   ]
  },
  {
   "cell_type": "code",
   "execution_count": 78,
   "metadata": {},
   "outputs": [
    {
     "data": {
      "text/html": [
       "<div>\n",
       "<style scoped>\n",
       "    .dataframe tbody tr th:only-of-type {\n",
       "        vertical-align: middle;\n",
       "    }\n",
       "\n",
       "    .dataframe tbody tr th {\n",
       "        vertical-align: top;\n",
       "    }\n",
       "\n",
       "    .dataframe thead th {\n",
       "        text-align: right;\n",
       "    }\n",
       "</style>\n",
       "<table border=\"1\" class=\"dataframe\">\n",
       "  <thead>\n",
       "    <tr style=\"text-align: right;\">\n",
       "      <th></th>\n",
       "      <th>nama_motor</th>\n",
       "      <th>lokasi</th>\n",
       "      <th>transmisi</th>\n",
       "      <th>kilometer</th>\n",
       "      <th>merk</th>\n",
       "    </tr>\n",
       "  </thead>\n",
       "  <tbody>\n",
       "    <tr>\n",
       "      <th>count</th>\n",
       "      <td>1577</td>\n",
       "      <td>1577</td>\n",
       "      <td>1577</td>\n",
       "      <td>1577</td>\n",
       "      <td>1577</td>\n",
       "    </tr>\n",
       "    <tr>\n",
       "      <th>unique</th>\n",
       "      <td>153</td>\n",
       "      <td>16</td>\n",
       "      <td>2</td>\n",
       "      <td>5</td>\n",
       "      <td>4</td>\n",
       "    </tr>\n",
       "    <tr>\n",
       "      <th>top</th>\n",
       "      <td>Yamaha Nmax Abs</td>\n",
       "      <td>Kota Jakarta Barat</td>\n",
       "      <td>Otomatis</td>\n",
       "      <td>10000 - 20000KM</td>\n",
       "      <td>Honda</td>\n",
       "    </tr>\n",
       "    <tr>\n",
       "      <th>freq</th>\n",
       "      <td>334</td>\n",
       "      <td>467</td>\n",
       "      <td>1156</td>\n",
       "      <td>658</td>\n",
       "      <td>966</td>\n",
       "    </tr>\n",
       "  </tbody>\n",
       "</table>\n",
       "</div>"
      ],
      "text/plain": [
       "             nama_motor              lokasi transmisi        kilometer   merk\n",
       "count              1577                1577      1577             1577   1577\n",
       "unique              153                  16         2                5      4\n",
       "top     Yamaha Nmax Abs  Kota Jakarta Barat  Otomatis  10000 - 20000KM  Honda\n",
       "freq                334                 467      1156              658    966"
      ]
     },
     "execution_count": 78,
     "metadata": {},
     "output_type": "execute_result"
    }
   ],
   "source": [
    "# Melihat Statistika data kategorikal\n",
    "filtered_motor.describe(exclude=np.number)"
   ]
  },
  {
   "cell_type": "code",
   "execution_count": 79,
   "metadata": {},
   "outputs": [
    {
     "data": {
      "text/plain": [
       "<Axes: xlabel='harga', ylabel='Count'>"
      ]
     },
     "execution_count": 79,
     "metadata": {},
     "output_type": "execute_result"
    },
    {
     "data": {
      "image/png": "[encoded data removed]",
      "text/plain": [
       "<Figure size 640x480 with 1 Axes>"
      ]
     },
     "metadata": {},
     "output_type": "display_data"
    }
   ],
   "source": [
    "# Visualisasi distribusi harga motor semua merk\n",
    "sns.histplot(filtered_motor['harga'], kde=True)"
   ]
  },
  {
   "cell_type": "code",
   "execution_count": 80,
   "metadata": {},
   "outputs": [
    {
     "data": {
      "application/vnd.plotly.v1+json": {
       "config": {
        "plotlyServerURL": "https://plot.ly"
       },
       "data": [
        {
         "alignmentgroup": "True",
         "bingroup": "x",
         "histnorm": "probability",
         "hovertemplate": "harga=%{x}<br>count=%{y}<extra></extra>",
         "legendgroup": "",
         "marker": {
          "color": "#ca91eb",
          "pattern": {
           "shape": ""
          }
         },
         "name": "",
         "nbinsx": 30,
         "offsetgroup": "",
         "orientation": "v",
         "showlegend": false,
         "type": "histogram",
         "x": [
          20800000,
          18600000,
          17500000,
          17600000,
          18500000,
          23500000,
          23500000,
          23500000,
          24999000,
          16000000,
          21500000,
          24999000,
          22000000,
          22000000,
          16000000,
          17350000,
          24500000,
          24500000,
          29250000,
          21500000,
          18600000,
          15800000,
          21500000,
          31500000,
          20600000,
          26800000,
          24500000,
          15700000,
          10950000,
          25000000,
          23500000,
          19900000,
          24500000,
          23500000,
          22000000,
          18800000,
          18000000,
          17000000,
          14500000,
          24500000,
          23500000,
          23500000,
          20800000,
          15300000,
          20800000,
          14200000,
          14300000,
          13500000,
          13800000,
          19500000,
          26000000,
          23500000,
          23500000,
          21850000,
          19850000,
          17500000,
          17500000,
          13500000,
          18000000,
          14000000,
          31500000,
          57000000,
          22000000,
          14500000,
          28300000,
          33700000,
          30300000,
          15500000,
          23500000,
          29350000,
          24500000,
          23500000,
          23500000,
          23500000,
          23500000,
          30500000,
          24500000,
          21200000,
          18200000,
          19000000,
          18600000,
          16100000,
          15700000,
          13700000,
          15300000,
          23500000,
          15000000,
          13700000,
          24500000,
          17780000,
          16000000,
          23500000,
          24500000,
          24500000,
          24500000,
          23500000,
          23500000,
          15980000,
          24500000,
          14250000,
          29250000,
          17700000,
          14850000,
          21500000,
          15850000,
          11850000,
          16850000,
          14000000,
          16500000,
          17000000,
          12000000,
          23500000,
          23500000,
          23500000,
          22500000,
          30400000,
          16200000,
          18200000,
          17400000,
          28500000,
          15500000,
          12300000,
          14200000,
          17950000,
          12870000,
          12750000,
          17000000,
          18000000,
          13000000,
          24500000,
          24500000,
          24500000,
          23500000,
          23500000,
          29500000,
          17500000,
          16500000,
          16500000,
          16500000,
          15850000,
          17250000,
          23500000,
          24500000,
          23500000,
          20000000,
          32700000,
          28000000,
          16600000,
          15800000,
          24500000,
          18850000,
          24500000,
          28500000,
          28500000,
          23500000,
          24500000,
          24500000,
          24500000,
          20850000,
          16850000,
          15750000,
          14500000,
          13500000,
          15700000,
          23500000,
          24500000,
          23500000,
          23500000,
          24500000,
          23500000,
          19850000,
          19500000,
          24500000,
          23500000,
          19000000,
          24500000,
          23500000,
          24500000,
          17500000,
          22500000,
          34500000,
          22000000,
          21000000,
          16500000,
          16500000,
          27900000,
          31000000,
          13990000,
          30500000,
          30500000,
          23500000,
          23500000,
          24500000,
          24500000,
          23500000,
          23500000,
          24500000,
          23500000,
          23500000,
          24500000,
          17500000,
          20700000,
          22500000,
          24500000,
          13990000,
          24500000,
          23500000,
          24500000,
          23500000,
          23500000,
          24500000,
          24500000,
          23500000,
          12950000,
          27000000,
          24500000,
          10800000,
          23500000,
          24500000,
          12700000,
          14800000,
          12700000,
          25700000,
          24500000,
          13500000,
          13800000,
          18500000,
          67500000,
          16500000,
          16500000,
          21500000,
          24500000,
          24500000,
          24500000,
          31000000,
          11250000,
          13850000,
          16500000,
          18850000,
          19850000,
          13850000,
          17780000,
          24500000,
          23500000,
          24500000,
          24500000,
          24500000,
          24500000,
          24500000,
          24500000,
          11850000,
          11850000,
          14850000,
          20500000,
          17500000,
          21500000,
          16500000,
          17500000,
          14500000,
          15500000,
          17500000,
          24500000,
          45600000,
          13700000,
          16700000,
          28500000,
          16900000,
          18800000,
          27000000,
          17000000,
          16000000,
          16900000,
          16000000,
          17700000,
          17700000,
          16000000,
          17400000,
          16300000,
          14800000,
          19000000,
          17800000,
          22700000,
          23500000,
          21900000,
          23500000,
          17000000,
          16500000,
          17000000,
          17000000,
          13500000,
          31000000,
          18000000,
          24500000,
          13500000,
          13990000,
          17500000,
          18850000,
          13750000,
          24500000,
          27900000,
          31000000,
          12300000,
          19000000,
          16800000,
          23500000,
          24500000,
          24500000,
          16500000,
          17500000,
          21500000,
          15600000,
          23700000,
          16800000,
          17600000,
          17000000,
          16900000,
          16800000,
          16900000,
          16300000,
          14800000,
          17800000,
          32100000,
          22700000,
          21900000,
          13700000,
          24000000,
          17400000,
          29300000,
          29600000,
          13500000,
          23500000,
          17200000,
          16700000,
          26800000,
          23200000,
          24500000,
          15800000,
          11200000,
          17800000,
          15500000,
          15300000,
          18800000,
          16500000,
          31500000,
          26900000,
          25500000,
          16500000,
          17800000,
          14700000,
          18850000,
          19850000,
          29500000,
          17000000,
          28000000,
          25900000,
          25700000,
          13800000,
          31500000,
          17000000,
          23500000,
          23500000,
          24500000,
          24500000,
          17000000,
          18990000,
          21000000,
          16500000,
          16500000,
          21000000,
          22000000,
          23800000,
          24500000,
          23500000,
          24500000,
          23500000,
          24500000,
          23500000,
          17500000,
          17500000,
          21500000,
          22500000,
          24500000,
          24500000,
          24500000,
          24500000,
          24500000,
          23500000,
          24500000,
          23500000,
          23500000,
          24500000,
          18700000,
          17800000,
          24500000,
          18500000,
          24500000,
          24500000,
          23500000,
          24500000,
          23500000,
          24500000,
          24500000,
          24500000,
          13680000,
          23500000,
          16970000,
          23500000,
          24500000,
          24500000,
          24500000,
          23500000,
          24500000,
          19000000,
          18000000,
          13900000,
          12700000,
          24500000,
          13500000,
          28500000,
          33500000,
          30500000,
          29900000,
          16500000,
          21500000,
          29000000,
          23800000,
          13950000,
          18800000,
          23500000,
          18500000,
          22000000,
          17500000,
          31000000,
          27900000,
          44800000,
          67500000,
          26000000,
          12500000,
          16500000,
          12850000,
          14500000,
          19850000,
          13500000,
          17850000,
          24500000,
          24500000,
          17850000,
          14500000,
          11200000,
          24500000,
          21850000,
          11250000,
          13850000,
          16500000,
          16500000,
          25000000,
          19800000,
          14700000,
          23500000,
          23500000,
          24500000,
          23500000,
          24500000,
          23500000,
          24500000,
          24500000,
          23500000,
          23500000,
          23500000,
          24500000,
          23500000,
          24500000,
          23500000,
          23500000,
          23500000,
          24500000,
          24500000,
          24500000,
          24500000,
          20500000,
          15000000,
          17500000,
          22500000,
          16500000,
          21500000,
          17500000,
          23500000,
          23500000,
          24500000,
          23500000,
          14000000,
          13800000,
          12500000,
          21500000,
          21500000,
          18500000,
          21500000,
          18500000,
          24500000,
          14500000,
          14500000,
          23500000,
          23500000,
          23500000,
          24500000,
          24500000,
          23500000,
          23500000,
          24500000,
          24500000,
          24500000,
          23500000,
          23500000,
          24500000,
          24500000,
          17100000,
          67500000,
          12700000,
          15500000,
          15500000,
          23500000,
          24500000,
          23500000,
          23500000,
          24500000,
          23500000,
          24500000,
          23500000,
          24500000,
          23500000,
          24500000,
          23500000,
          23500000,
          24500000,
          24500000,
          23500000,
          23500000,
          18500000,
          14500000,
          15500000,
          17800000,
          50500000,
          17600000,
          16800000,
          45800000,
          24500000,
          15000000,
          15000000,
          15500000,
          16000000,
          24500000,
          24500000,
          16500000,
          15000000,
          15000000,
          24500000,
          24500000,
          23500000,
          24500000,
          23500000,
          24500000,
          24500000,
          23500000,
          24500000,
          24500000,
          24500000,
          24500000,
          24500000,
          23500000,
          24500000,
          21500000,
          30200000,
          30200000,
          14300000,
          23500000,
          23500000,
          16200000,
          24500000,
          23500000,
          24500000,
          23500000,
          24500000,
          24500000,
          23500000,
          24500000,
          24500000,
          23500000,
          23500000,
          23500000,
          23800000,
          23500000,
          24500000,
          23500000,
          24500000,
          23500000,
          21500000,
          23500000,
          24500000,
          23500000,
          18500000,
          24500000,
          23500000,
          14500000,
          24500000,
          23500000,
          17850000,
          24500000,
          17850000,
          24500000,
          23500000,
          23500000,
          24500000,
          23500000,
          23500000,
          23500000,
          24500000,
          23500000,
          23500000,
          23500000,
          24500000,
          23500000,
          24500000,
          23500000,
          23500000,
          24500000,
          24500000,
          23500000,
          24500000,
          24500000,
          23500000,
          23500000,
          24500000,
          18860000,
          23500000,
          23500000,
          24500000,
          24500000,
          24500000,
          18800000,
          23500000,
          24500000,
          23500000,
          13500000,
          28000000,
          28000000,
          12700000,
          18500000,
          20500000,
          23500000,
          24500000,
          16500000,
          24500000,
          18500000,
          14500000,
          16500000,
          12500000,
          12850000,
          24500000,
          23500000,
          23500000,
          23500000,
          19850000,
          17500000,
          19500000,
          14700000,
          17550000,
          32700000,
          23500000,
          16700000,
          31000000,
          18500000,
          18500000,
          19500000,
          14200000,
          18860000,
          19500000,
          19500000,
          19500000,
          21500000,
          19700000,
          17000000,
          13500000,
          14850000,
          23500000,
          23500000,
          18680000,
          16600000,
          28000000,
          14500000,
          16600000,
          23800000,
          21000000,
          21000000,
          14500000,
          13400000,
          13800000,
          14500000,
          12700000,
          24500000,
          24500000,
          23500000,
          16500000,
          24100000,
          21250000,
          21500000,
          13900000,
          10750000,
          16600000,
          24500000,
          23500000,
          12500000,
          29300000,
          16000000,
          16200000,
          16700000,
          24500000,
          24500000,
          14800000,
          16000000,
          17400000,
          13000000,
          16300000,
          16200000,
          17000000,
          20100000,
          27200000,
          16100000,
          24500000,
          28600000,
          24500000,
          17500000,
          16700000,
          17300000,
          14700000,
          18500000,
          29900000,
          17700000,
          17700000,
          15500000,
          13250000,
          14500000,
          17800000,
          19500000,
          18800000,
          23500000,
          15800000,
          16200000,
          13900000,
          16400000,
          13000000,
          24100000,
          17800000,
          15800000,
          15100000,
          24100000,
          23500000,
          14500000,
          24500000,
          18400000,
          24500000,
          23500000,
          18750000,
          13900000,
          24500000,
          16700000,
          16000000,
          23500000,
          21500000,
          23500000,
          23500000,
          20800000,
          20500000,
          18850000,
          11500000,
          18850000,
          13250000,
          14750000,
          23500000,
          14500000,
          24500000,
          19800000,
          10400000,
          19000000,
          23500000,
          13500000,
          18000000,
          18000000,
          20500000,
          13850000,
          15500000,
          13500000,
          24500000,
          23500000,
          23500000,
          23500000,
          27900000,
          24500000,
          10000000,
          32000000,
          15850000,
          14500000,
          14500000,
          17700000,
          34000000,
          17000000,
          16500000,
          16500000,
          17000000,
          16500000,
          17500000,
          19500000,
          20500000,
          15500000,
          24500000,
          16700000,
          29500000,
          16500000,
          23500000,
          24500000,
          24500000,
          24500000,
          24500000,
          24500000,
          23500000,
          24500000,
          17000000,
          17000000,
          17000000,
          16500000,
          24500000,
          24500000,
          20000000,
          24500000,
          18850000,
          24500000,
          17750000,
          9850000,
          10850000,
          15500000,
          19500000,
          23500000,
          21500000,
          16300000,
          29000000,
          11250000,
          14850000,
          15500000,
          24500000,
          18500000,
          17800000,
          19500000,
          24500000,
          18000000,
          95000000,
          24500000,
          30700000,
          13900000,
          18750000,
          12500000,
          10250000,
          19500000,
          35000000,
          19850000,
          16850000,
          15850000,
          13500000,
          28950000,
          23500000,
          27500000,
          31500000,
          31500000,
          12500000,
          16000000,
          16000000,
          14500000,
          19500000,
          19500000,
          10850000,
          24500000,
          20000000,
          17850000,
          12300000,
          14500000,
          28950000,
          12300000,
          14500000,
          46000000,
          15500000,
          24500000,
          19800000,
          14800000,
          26000000,
          14800000,
          12800000,
          16200000,
          9850000,
          10850000,
          19850000,
          16500000,
          11500000,
          16800000,
          19800000,
          14000000,
          23500000,
          23500000,
          12500000,
          11000000,
          16800000,
          27500000,
          19500000,
          11000000,
          20500000,
          19500000,
          13200000,
          13200000,
          13250000,
          18500000,
          24500000,
          23500000,
          24800000,
          10500000,
          24500000,
          8850000,
          16500000,
          20500000,
          23500000,
          14250000,
          10850000,
          23500000,
          18500000,
          13900000,
          12800000,
          19850000,
          15500000,
          23500000,
          13850000,
          15700000,
          31000000,
          16500000,
          13500000,
          31000000,
          13500000,
          13550000,
          12250000,
          14900000,
          15900000,
          15900000,
          11800000,
          14700000,
          12100000,
          13400000,
          15700000,
          21900000,
          23500000,
          14000000,
          19500000,
          13850000,
          18500000,
          16500000,
          18500000,
          13000000,
          16500000,
          15500000,
          13000000,
          13000000,
          18500000
         ],
         "xaxis": "x",
         "yaxis": "y"
        },
        {
         "alignmentgroup": "True",
         "bingroup": "x",
         "histnorm": "probability",
         "hovertemplate": "harga=%{x}<br>count=%{y}<extra></extra>",
         "legendgroup": "",
         "marker": {
          "color": "#eb6426",
          "pattern": {
           "shape": ""
          }
         },
         "name": "",
         "nbinsx": 30,
         "offsetgroup": "",
         "orientation": "v",
         "showlegend": false,
         "type": "histogram",
         "x": [
          24500000,
          23500000,
          23500000,
          24500000,
          24500000,
          17800000,
          12500000,
          27300000,
          27300000,
          14800000,
          17500000,
          17500000,
          24500000,
          24500000,
          31900000,
          24500000,
          13900000,
          13800000,
          13800000,
          14850000,
          14855000,
          20500000,
          25500000,
          9300000,
          26000000,
          19500000,
          32500000,
          21500000,
          22500000,
          20600000,
          12700000,
          27000000,
          33000000,
          17300000,
          23500000,
          23500000,
          24500000,
          23500000,
          25850000,
          21850000,
          25850000,
          28500000,
          15000000,
          24500000,
          18300000,
          24500000,
          21500000,
          9850000,
          22500000,
          17300000,
          24400000,
          9500000,
          23400000,
          26700000,
          19700000,
          22800000,
          22900000,
          15800000,
          17900000,
          24500000,
          20500000,
          27500000,
          24300000,
          24500000,
          23500000,
          25000000,
          24500000,
          47500000,
          23500000,
          24500000,
          20000000,
          23000000,
          22800000,
          12960000,
          24500000,
          24500000,
          24500000,
          24500000,
          25500000,
          23000000,
          16500000,
          23500000,
          24500000,
          23500000,
          25500000,
          28500000,
          23500000,
          19500000,
          18900000,
          27000000,
          23000000,
          29500000,
          23500000,
          24500000,
          29500000,
          32000000,
          22900000,
          18700000,
          18800000,
          28800000,
          29700000,
          23500000,
          24500000,
          23500000,
          24500000,
          27200000,
          18900000,
          22300000,
          23500000,
          22680000,
          24500000,
          24500000,
          23500000,
          10000000,
          21000000,
          23500000,
          17500000,
          19500000,
          23500000,
          44800000,
          28500000,
          25500000,
          57500000,
          27360000,
          29500000,
          23500000,
          23500000,
          23500000,
          25000000,
          24500000,
          23500000,
          24500000,
          32000000,
          29500000,
          20850000,
          21500000,
          23500000,
          23500000,
          23500000,
          24500000,
          24500000,
          27000000,
          17500000,
          27100000,
          25900000,
          51500000,
          44500000,
          22000000,
          22000000,
          28800000,
          16000000,
          9800000,
          24500000,
          25500000,
          28000000,
          12300000,
          22400000,
          24500000,
          24500000,
          23500000,
          24500000,
          32000000,
          23500000,
          29500000,
          24500000,
          23500000,
          16000000,
          27500000,
          9800000,
          25900000,
          27100000,
          25600000,
          20800000,
          28500000,
          10000000,
          29800000,
          21700000,
          26800000,
          22500000,
          19500000,
          24500000,
          19300000,
          30800000,
          20800000,
          12500000,
          16700000,
          21000000,
          23500000,
          23500000,
          57500000,
          14500000,
          16500000,
          9800000,
          24500000,
          24500000,
          23500000,
          24500000,
          28500000,
          23500000,
          23500000,
          23500000,
          24500000,
          24500000,
          24500000,
          23700000,
          18500000,
          19700000,
          19200000,
          25000000,
          23600000,
          24500000,
          13850000,
          24500000,
          24500000,
          20850000,
          21500000,
          23500000,
          29500000,
          14500000,
          17500000,
          14500000,
          14000000,
          8550000,
          9350000,
          22400000,
          23500000,
          51500000,
          24500000,
          32000000,
          29500000,
          24500000,
          23500000,
          17500000,
          28500000,
          25500000,
          24500000,
          25500000,
          24850000,
          20850000,
          21500000,
          24000000,
          23500000,
          24500000,
          23500000,
          24500000,
          23500000,
          16000000,
          23500000,
          24500000,
          11000000,
          10000000,
          10000000,
          10000000,
          10000000,
          9000000,
          23500000,
          23500000,
          23500000,
          23500000,
          23500000,
          24500000,
          23500000,
          12960000,
          20000000,
          23500000,
          23500000,
          24500000,
          24500000,
          23500000,
          23500000,
          44800000,
          20790000,
          19500000,
          23500000,
          21000000,
          15500000,
          14000000,
          34000000,
          25500000,
          24500000,
          24500000,
          24500000,
          23500000,
          24500000,
          24500000,
          24500000,
          23850000,
          18500000,
          23500000,
          24500000,
          23800000,
          23500000,
          24500000,
          29500000,
          24500000,
          25500000,
          17500000,
          24500000,
          24300000,
          18000000,
          24500000,
          24500000,
          18500000,
          24000000,
          24500000,
          24500000,
          17500000,
          14000000,
          24500000,
          24500000,
          23500000,
          23500000,
          23500000,
          23500000,
          23999000,
          24500000,
          23850000,
          23500000,
          24500000,
          23500000,
          20850000,
          16100000,
          29800000,
          23500000,
          24500000,
          24500000,
          15200000,
          18500000,
          23900000,
          26000000,
          25000000,
          24200000,
          24200000,
          28000000,
          23850000,
          24500000,
          19900000,
          21100000,
          19500000,
          21000000,
          23800000,
          21980000,
          24500000,
          24500000,
          10500000,
          17000000,
          19500000,
          49000000,
          28400000,
          25300000,
          23300000,
          14200000,
          22200000,
          26000000,
          23500000,
          23500000,
          24000000,
          31000000,
          18000000,
          24500000,
          24500000,
          19000000,
          12900000,
          15200000,
          23850000,
          24500000,
          21500000,
          12200000,
          21100000,
          25200000,
          25200000,
          49800000,
          24100000,
          17500000,
          15000000,
          20600000,
          23500000,
          23500000,
          14500000,
          12100000,
          30500000,
          17000000,
          30500000,
          10500000,
          24500000,
          24500000,
          36500000,
          29000000,
          21500000,
          33500000,
          29500000,
          23500000,
          23500000,
          24500000,
          28500000,
          20850000,
          28800000,
          14500000,
          19500000,
          24000000,
          24500000,
          16500000,
          24500000,
          24500000,
          24500000,
          24500000,
          23500000,
          18500000,
          34000000,
          28500000,
          23500000,
          20000000,
          19000000,
          23500000,
          24250000,
          31500000,
          24500000,
          24500000,
          23500000,
          24500000,
          25000000,
          25000000,
          25000000,
          25000000,
          17500000,
          29000000,
          23800000,
          23800000,
          20500000,
          18000000,
          12500000,
          9000000,
          9000000,
          23500000,
          16900000,
          10850000,
          24850000,
          12100000,
          12900000,
          30500000,
          17000000,
          30500000,
          24000000,
          18000000,
          31000000,
          18000000,
          24500000,
          24500000,
          24300000,
          28000000,
          31000000,
          11850000,
          18000000,
          25500000,
          24500000,
          20500000,
          11000000,
          25000000,
          24500000,
          23500000,
          24500000,
          24500000,
          36800000,
          24500000,
          23800000,
          23500000,
          11300000,
          24500000,
          23500000,
          18500000,
          24500000,
          24500000,
          25500000,
          11250000,
          24850000,
          12200000,
          25250000,
          23000000,
          8850000,
          20850000,
          19850000,
          28900000,
          15500000,
          25000000,
          10800000,
          16500000,
          19700000,
          23500000,
          10000000,
          11250000,
          24500000,
          11000000,
          21500000
         ],
         "xaxis": "x2",
         "yaxis": "y2"
        },
        {
         "alignmentgroup": "True",
         "bingroup": "x",
         "histnorm": "probability",
         "hovertemplate": "harga=%{x}<br>count=%{y}<extra></extra>",
         "legendgroup": "",
         "marker": {
          "color": "#91caeb",
          "pattern": {
           "shape": ""
          }
         },
         "name": "",
         "nbinsx": 30,
         "offsetgroup": "",
         "orientation": "v",
         "showlegend": false,
         "type": "histogram",
         "x": [
          23500000,
          23500000,
          24500000,
          37000000,
          24500000,
          52400000,
          24500000,
          22900000,
          246000000,
          34500000,
          24500000,
          23500000,
          38000000,
          23600000,
          21500000,
          24500000,
          23500000,
          23500000,
          24500000,
          23500000,
          24500000,
          23500000,
          24500000,
          23500000,
          23500000,
          23500000,
          23500000,
          23500000,
          120500000,
          24500000,
          23500000,
          23500000,
          24500000,
          24500000,
          23500000,
          23500000,
          24500000,
          24500000,
          24500000,
          24500000,
          24500000,
          365000000,
          37500000,
          24500000,
          41000000,
          23800000,
          23500000,
          28800000,
          27500000,
          24500000,
          24500000,
          44000000,
          27500000,
          23500000,
          23500000,
          24500000,
          19500000,
          23500000,
          37500000,
          115000000,
          115000000,
          24500000,
          23500000,
          37500000,
          23500000,
          23500000,
          24500000,
          24000000,
          23500000,
          19500000,
          23500000,
          24500000,
          44000000,
          24500000,
          30700000,
          55500000,
          23800000,
          36100000,
          50500000,
          55500000,
          24500000,
          23600000,
          246000000,
          24500000,
          23500000,
          27500000,
          50000000,
          27500000,
          27500000,
          42500000,
          22500000,
          38500000,
          23900000,
          31100000,
          24500000
         ],
         "xaxis": "x3",
         "yaxis": "y3"
        },
        {
         "alignmentgroup": "True",
         "bingroup": "x",
         "histnorm": "probability",
         "hovertemplate": "harga=%{x}<br>count=%{y}<extra></extra>",
         "legendgroup": "",
         "marker": {
          "color": "#265aeb",
          "pattern": {
           "shape": ""
          }
         },
         "name": "",
         "nbinsx": 30,
         "offsetgroup": "",
         "orientation": "v",
         "showlegend": false,
         "type": "histogram",
         "x": [
          16900000,
          10500000,
          23500000,
          24500000,
          23500000,
          24500000,
          24500000,
          16500000,
          23500000,
          18500000,
          12500000,
          17500000,
          24500000,
          23500000,
          18500000,
          15500000,
          9850000,
          23500000,
          23500000,
          23500000,
          15500000,
          23500000,
          11850000
         ],
         "xaxis": "x4",
         "yaxis": "y4"
        }
       ],
       "layout": {
        "annotations": [
         {
          "font": {
           "size": 16
          },
          "showarrow": false,
          "text": "Honda",
          "x": 0.225,
          "xanchor": "center",
          "xref": "paper",
          "y": 1,
          "yanchor": "bottom",
          "yref": "paper"
         },
         {
          "font": {
           "size": 16
          },
          "showarrow": false,
          "text": "Yamaha",
          "x": 0.775,
          "xanchor": "center",
          "xref": "paper",
          "y": 1,
          "yanchor": "bottom",
          "yref": "paper"
         },
         {
          "font": {
           "size": 16
          },
          "showarrow": false,
          "text": "Kawasaki",
          "x": 0.225,
          "xanchor": "center",
          "xref": "paper",
          "y": 0.375,
          "yanchor": "bottom",
          "yref": "paper"
         },
         {
          "font": {
           "size": 16
          },
          "showarrow": false,
          "text": "Suzuki",
          "x": 0.775,
          "xanchor": "center",
          "xref": "paper",
          "y": 0.375,
          "yanchor": "bottom",
          "yref": "paper"
         }
        ],
        "showlegend": false,
        "template": {
         "data": {
          "bar": [
           {
            "error_x": {
             "color": "#2a3f5f"
            },
            "error_y": {
             "color": "#2a3f5f"
            },
            "marker": {
             "line": {
              "color": "#E5ECF6",
              "width": 0.5
             },
             "pattern": {
              "fillmode": "overlay",
              "size": 10,
              "solidity": 0.2
             }
            },
            "type": "bar"
           }
          ],
          "barpolar": [
           {
            "marker": {
             "line": {
              "color": "#E5ECF6",
              "width": 0.5
             },
             "pattern": {
              "fillmode": "overlay",
              "size": 10,
              "solidity": 0.2
             }
            },
            "type": "barpolar"
           }
          ],
          "carpet": [
           {
            "aaxis": {
             "endlinecolor": "#2a3f5f",
             "gridcolor": "white",
             "linecolor": "white",
             "minorgridcolor": "white",
             "startlinecolor": "#2a3f5f"
            },
            "baxis": {
             "endlinecolor": "#2a3f5f",
             "gridcolor": "white",
             "linecolor": "white",
             "minorgridcolor": "white",
             "startlinecolor": "#2a3f5f"
            },
            "type": "carpet"
           }
          ],
          "choropleth": [
           {
            "colorbar": {
             "outlinewidth": 0,
             "ticks": ""
            },
            "type": "choropleth"
           }
          ],
          "contour": [
           {
            "colorbar": {
             "outlinewidth": 0,
             "ticks": ""
            },
            "colorscale": [
             [
              0,
              "#0d0887"
             ],
             [
              0.1111111111111111,
              "#46039f"
             ],
             [
              0.2222222222222222,
              "#7201a8"
             ],
             [
              0.3333333333333333,
              "#9c179e"
             ],
             [
              0.4444444444444444,
              "#bd3786"
             ],
             [
              0.5555555555555556,
              "#d8576b"
             ],
             [
              0.6666666666666666,
              "#ed7953"
             ],
             [
              0.7777777777777778,
              "#fb9f3a"
             ],
             [
              0.8888888888888888,
              "#fdca26"
             ],
             [
              1,
              "#f0f921"
             ]
            ],
            "type": "contour"
           }
          ],
          "contourcarpet": [
           {
            "colorbar": {
             "outlinewidth": 0,
             "ticks": ""
            },
            "type": "contourcarpet"
           }
          ],
          "heatmap": [
           {
            "colorbar": {
             "outlinewidth": 0,
             "ticks": ""
            },
            "colorscale": [
             [
              0,
              "#0d0887"
             ],
             [
              0.1111111111111111,
              "#46039f"
             ],
             [
              0.2222222222222222,
              "#7201a8"
             ],
             [
              0.3333333333333333,
              "#9c179e"
             ],
             [
              0.4444444444444444,
              "#bd3786"
             ],
             [
              0.5555555555555556,
              "#d8576b"
             ],
             [
              0.6666666666666666,
              "#ed7953"
             ],
             [
              0.7777777777777778,
              "#fb9f3a"
             ],
             [
              0.8888888888888888,
              "#fdca26"
             ],
             [
              1,
              "#f0f921"
             ]
            ],
            "type": "heatmap"
           }
          ],
          "heatmapgl": [
           {
            "colorbar": {
             "outlinewidth": 0,
             "ticks": ""
            },
            "colorscale": [
             [
              0,
              "#0d0887"
             ],
             [
              0.1111111111111111,
              "#46039f"
             ],
             [
              0.2222222222222222,
              "#7201a8"
             ],
             [
              0.3333333333333333,
              "#9c179e"
             ],
             [
              0.4444444444444444,
              "#bd3786"
             ],
             [
              0.5555555555555556,
              "#d8576b"
             ],
             [
              0.6666666666666666,
              "#ed7953"
             ],
             [
              0.7777777777777778,
              "#fb9f3a"
             ],
             [
              0.8888888888888888,
              "#fdca26"
             ],
             [
              1,
              "#f0f921"
             ]
            ],
            "type": "heatmapgl"
           }
          ],
          "histogram": [
           {
            "marker": {
             "pattern": {
              "fillmode": "overlay",
              "size": 10,
              "solidity": 0.2
             }
            },
            "type": "histogram"
           }
          ],
          "histogram2d": [
           {
            "colorbar": {
             "outlinewidth": 0,
             "ticks": ""
            },
            "colorscale": [
             [
              0,
              "#0d0887"
             ],
             [
              0.1111111111111111,
              "#46039f"
             ],
             [
              0.2222222222222222,
              "#7201a8"
             ],
             [
              0.3333333333333333,
              "#9c179e"
             ],
             [
              0.4444444444444444,
              "#bd3786"
             ],
             [
              0.5555555555555556,
              "#d8576b"
             ],
             [
              0.6666666666666666,
              "#ed7953"
             ],
             [
              0.7777777777777778,
              "#fb9f3a"
             ],
             [
              0.8888888888888888,
              "#fdca26"
             ],
             [
              1,
              "#f0f921"
             ]
            ],
            "type": "histogram2d"
           }
          ],
          "histogram2dcontour": [
           {
            "colorbar": {
             "outlinewidth": 0,
             "ticks": ""
            },
            "colorscale": [
             [
              0,
              "#0d0887"
             ],
             [
              0.1111111111111111,
              "#46039f"
             ],
             [
              0.2222222222222222,
              "#7201a8"
             ],
             [
              0.3333333333333333,
              "#9c179e"
             ],
             [
              0.4444444444444444,
              "#bd3786"
             ],
             [
              0.5555555555555556,
              "#d8576b"
             ],
             [
              0.6666666666666666,
              "#ed7953"
             ],
             [
              0.7777777777777778,
              "#fb9f3a"
             ],
             [
              0.8888888888888888,
              "#fdca26"
             ],
             [
              1,
              "#f0f921"
             ]
            ],
            "type": "histogram2dcontour"
           }
          ],
          "mesh3d": [
           {
            "colorbar": {
             "outlinewidth": 0,
             "ticks": ""
            },
            "type": "mesh3d"
           }
          ],
          "parcoords": [
           {
            "line": {
             "colorbar": {
              "outlinewidth": 0,
              "ticks": ""
             }
            },
            "type": "parcoords"
           }
          ],
          "pie": [
           {
            "automargin": true,
            "type": "pie"
           }
          ],
          "scatter": [
           {
            "fillpattern": {
             "fillmode": "overlay",
             "size": 10,
             "solidity": 0.2
            },
            "type": "scatter"
           }
          ],
          "scatter3d": [
           {
            "line": {
             "colorbar": {
              "outlinewidth": 0,
              "ticks": ""
             }
            },
            "marker": {
             "colorbar": {
              "outlinewidth": 0,
              "ticks": ""
             }
            },
            "type": "scatter3d"
           }
          ],
          "scattercarpet": [
           {
            "marker": {
             "colorbar": {
              "outlinewidth": 0,
              "ticks": ""
             }
            },
            "type": "scattercarpet"
           }
          ],
          "scattergeo": [
           {
            "marker": {
             "colorbar": {
              "outlinewidth": 0,
              "ticks": ""
             }
            },
            "type": "scattergeo"
           }
          ],
          "scattergl": [
           {
            "marker": {
             "colorbar": {
              "outlinewidth": 0,
              "ticks": ""
             }
            },
            "type": "scattergl"
           }
          ],
          "scattermapbox": [
           {
            "marker": {
             "colorbar": {
              "outlinewidth": 0,
              "ticks": ""
             }
            },
            "type": "scattermapbox"
           }
          ],
          "scatterpolar": [
           {
            "marker": {
             "colorbar": {
              "outlinewidth": 0,
              "ticks": ""
             }
            },
            "type": "scatterpolar"
           }
          ],
          "scatterpolargl": [
           {
            "marker": {
             "colorbar": {
              "outlinewidth": 0,
              "ticks": ""
             }
            },
            "type": "scatterpolargl"
           }
          ],
          "scatterternary": [
           {
            "marker": {
             "colorbar": {
              "outlinewidth": 0,
              "ticks": ""
             }
            },
            "type": "scatterternary"
           }
          ],
          "surface": [
           {
            "colorbar": {
             "outlinewidth": 0,
             "ticks": ""
            },
            "colorscale": [
             [
              0,
              "#0d0887"
             ],
             [
              0.1111111111111111,
              "#46039f"
             ],
             [
              0.2222222222222222,
              "#7201a8"
             ],
             [
              0.3333333333333333,
              "#9c179e"
             ],
             [
              0.4444444444444444,
              "#bd3786"
             ],
             [
              0.5555555555555556,
              "#d8576b"
             ],
             [
              0.6666666666666666,
              "#ed7953"
             ],
             [
              0.7777777777777778,
              "#fb9f3a"
             ],
             [
              0.8888888888888888,
              "#fdca26"
             ],
             [
              1,
              "#f0f921"
             ]
            ],
            "type": "surface"
           }
          ],
          "table": [
           {
            "cells": {
             "fill": {
              "color": "#EBF0F8"
             },
             "line": {
              "color": "white"
             }
            },
            "header": {
             "fill": {
              "color": "#C8D4E3"
             },
             "line": {
              "color": "white"
             }
            },
            "type": "table"
           }
          ]
         },
         "layout": {
          "annotationdefaults": {
           "arrowcolor": "#2a3f5f",
           "arrowhead": 0,
           "arrowwidth": 1
          },
          "autotypenumbers": "strict",
          "coloraxis": {
           "colorbar": {
            "outlinewidth": 0,
            "ticks": ""
           }
          },
          "colorscale": {
           "diverging": [
            [
             0,
             "#8e0152"
            ],
            [
             0.1,
             "#c51b7d"
            ],
            [
             0.2,
             "#de77ae"
            ],
            [
             0.3,
             "#f1b6da"
            ],
            [
             0.4,
             "#fde0ef"
            ],
            [
             0.5,
             "#f7f7f7"
            ],
            [
             0.6,
             "#e6f5d0"
            ],
            [
             0.7,
             "#b8e186"
            ],
            [
             0.8,
             "#7fbc41"
            ],
            [
             0.9,
             "#4d9221"
            ],
            [
             1,
             "#276419"
            ]
           ],
           "sequential": [
            [
             0,
             "#0d0887"
            ],
            [
             0.1111111111111111,
             "#46039f"
            ],
            [
             0.2222222222222222,
             "#7201a8"
            ],
            [
             0.3333333333333333,
             "#9c179e"
            ],
            [
             0.4444444444444444,
             "#bd3786"
            ],
            [
             0.5555555555555556,
             "#d8576b"
            ],
            [
             0.6666666666666666,
             "#ed7953"
            ],
            [
             0.7777777777777778,
             "#fb9f3a"
            ],
            [
             0.8888888888888888,
             "#fdca26"
            ],
            [
             1,
             "#f0f921"
            ]
           ],
           "sequentialminus": [
            [
             0,
             "#0d0887"
            ],
            [
             0.1111111111111111,
             "#46039f"
            ],
            [
             0.2222222222222222,
             "#7201a8"
            ],
            [
             0.3333333333333333,
             "#9c179e"
            ],
            [
             0.4444444444444444,
             "#bd3786"
            ],
            [
             0.5555555555555556,
             "#d8576b"
            ],
            [
             0.6666666666666666,
             "#ed7953"
            ],
            [
             0.7777777777777778,
             "#fb9f3a"
            ],
            [
             0.8888888888888888,
             "#fdca26"
            ],
            [
             1,
             "#f0f921"
            ]
           ]
          },
          "colorway": [
           "#636efa",
           "#EF553B",
           "#00cc96",
           "#ab63fa",
           "#FFA15A",
           "#19d3f3",
           "#FF6692",
           "#B6E880",
           "#FF97FF",
           "#FECB52"
          ],
          "font": {
           "color": "#2a3f5f"
          },
          "geo": {
           "bgcolor": "white",
           "lakecolor": "white",
           "landcolor": "#E5ECF6",
           "showlakes": true,
           "showland": true,
           "subunitcolor": "white"
          },
          "hoverlabel": {
           "align": "left"
          },
          "hovermode": "closest",
          "mapbox": {
           "style": "light"
          },
          "paper_bgcolor": "white",
          "plot_bgcolor": "#E5ECF6",
          "polar": {
           "angularaxis": {
            "gridcolor": "white",
            "linecolor": "white",
            "ticks": ""
           },
           "bgcolor": "#E5ECF6",
           "radialaxis": {
            "gridcolor": "white",
            "linecolor": "white",
            "ticks": ""
           }
          },
          "scene": {
           "xaxis": {
            "backgroundcolor": "#E5ECF6",
            "gridcolor": "white",
            "gridwidth": 2,
            "linecolor": "white",
            "showbackground": true,
            "ticks": "",
            "zerolinecolor": "white"
           },
           "yaxis": {
            "backgroundcolor": "#E5ECF6",
            "gridcolor": "white",
            "gridwidth": 2,
            "linecolor": "white",
            "showbackground": true,
            "ticks": "",
            "zerolinecolor": "white"
           },
           "zaxis": {
            "backgroundcolor": "#E5ECF6",
            "gridcolor": "white",
            "gridwidth": 2,
            "linecolor": "white",
            "showbackground": true,
            "ticks": "",
            "zerolinecolor": "white"
           }
          },
          "shapedefaults": {
           "line": {
            "color": "#2a3f5f"
           }
          },
          "ternary": {
           "aaxis": {
            "gridcolor": "white",
            "linecolor": "white",
            "ticks": ""
           },
           "baxis": {
            "gridcolor": "white",
            "linecolor": "white",
            "ticks": ""
           },
           "bgcolor": "#E5ECF6",
           "caxis": {
            "gridcolor": "white",
            "linecolor": "white",
            "ticks": ""
           }
          },
          "title": {
           "x": 0.05
          },
          "xaxis": {
           "automargin": true,
           "gridcolor": "white",
           "linecolor": "white",
           "ticks": "",
           "title": {
            "standoff": 15
           },
           "zerolinecolor": "white",
           "zerolinewidth": 2
          },
          "yaxis": {
           "automargin": true,
           "gridcolor": "white",
           "linecolor": "white",
           "ticks": "",
           "title": {
            "standoff": 15
           },
           "zerolinecolor": "white",
           "zerolinewidth": 2
          }
         }
        },
        "title": {
         "text": "Distribusi Harga Tiap Merk Motor"
        },
        "xaxis": {
         "anchor": "y",
         "domain": [
          0,
          0.45
         ]
        },
        "xaxis2": {
         "anchor": "y2",
         "domain": [
          0.55,
          1
         ]
        },
        "xaxis3": {
         "anchor": "y3",
         "domain": [
          0,
          0.45
         ]
        },
        "xaxis4": {
         "anchor": "y4",
         "domain": [
          0.55,
          1
         ]
        },
        "yaxis": {
         "anchor": "x",
         "domain": [
          0.625,
          1
         ]
        },
        "yaxis2": {
         "anchor": "x2",
         "domain": [
          0.625,
          1
         ]
        },
        "yaxis3": {
         "anchor": "x3",
         "domain": [
          0,
          0.375
         ]
        },
        "yaxis4": {
         "anchor": "x4",
         "domain": [
          0,
          0.375
         ]
        }
       }
      }
     },
     "metadata": {},
     "output_type": "display_data"
    }
   ],
   "source": [
    "# Visualisasi distribusi harga tiap merk motor\n",
    "# Subplot\n",
    "fig = make_subplots(rows=2, cols=2, subplot_titles=['Honda', 'Yamaha', 'Kawasaki', 'Suzuki'])\n",
    "\n",
    "# Plot for Honda Turbo aspiration\n",
    "fig.add_trace(px.histogram(filtered_motor[filtered_motor['merk'] == 'Honda'], x='harga', nbins=30, color_discrete_sequence=['#ca91eb']).update_traces(histnorm='probability').data[0], row=1, col=1)\n",
    "\n",
    "# Plot for Yamaha Std aspiration\n",
    "fig.add_trace(px.histogram(filtered_motor[filtered_motor['merk'] == 'Yamaha'], x='harga', nbins=30, color_discrete_sequence=['#eb6426']).update_traces(histnorm='probability').data[0], row=1, col=2)\n",
    "\n",
    "# Plot for Kawasaki Std aspiration\n",
    "fig.add_trace(px.histogram(filtered_motor[filtered_motor['merk'] == 'Kawasaki'], x='harga', nbins=30, color_discrete_sequence=['#91caeb']).update_traces(histnorm='probability').data[0], row=2, col=1)\n",
    "\n",
    "# Plot for Suzuki Std aspiration\n",
    "fig.add_trace(px.histogram(filtered_motor[filtered_motor['merk'] == 'Suzuki'], x='harga', nbins=30, color_discrete_sequence=['#265aeb']).update_traces(histnorm='probability').data[0], row=2, col=2)\n",
    "\n",
    "# Update layout\n",
    "fig.update_layout(showlegend=False, title_text=\"Distribusi Harga Tiap Merk Motor\")\n",
    "\n",
    "# Show the plot\n",
    "fig.show()\n"
   ]
  },
  {
   "cell_type": "code",
   "execution_count": 81,
   "metadata": {},
   "outputs": [
    {
     "data": {
      "image/png": "[encoded data removed]",
      "text/plain": [
       "<Figure size 1200x600 with 1 Axes>"
      ]
     },
     "metadata": {},
     "output_type": "display_data"
    }
   ],
   "source": [
    "# Visualisasi Rata-Rata Harga Motor\n",
    "\n",
    "hargapermerk = filtered_motor.groupby(\"merk\")[\"harga\"].mean().reset_index()\n",
    "\n",
    "plt.figure(figsize=(12, 6))\n",
    "sns.barplot(x=\"merk\", y=\"harga\", data=hargapermerk, order=hargapermerk.sort_values('harga', ascending=False)['merk'])\n",
    "plt.title(\"Rata-rata Harga Motor Berdasarkan Merk\")\n",
    "plt.xlabel(\"Merk Motor\")\n",
    "plt.ylabel(\"Harga Motor\")\n",
    "plt.show()\n"
   ]
  },
  {
   "cell_type": "markdown",
   "metadata": {},
   "source": [
    "Dari visualisasi, terlihat rata-rata harga paling mahal adalah merk motor Kawasaki"
   ]
  },
  {
   "cell_type": "markdown",
   "metadata": {},
   "source": [
    "### Data Preparation"
   ]
  },
  {
   "cell_type": "code",
   "execution_count": 82,
   "metadata": {},
   "outputs": [
    {
     "data": {
      "text/html": [
       "<div>\n",
       "<style scoped>\n",
       "    .dataframe tbody tr th:only-of-type {\n",
       "        vertical-align: middle;\n",
       "    }\n",
       "\n",
       "    .dataframe tbody tr th {\n",
       "        vertical-align: top;\n",
       "    }\n",
       "\n",
       "    .dataframe thead th {\n",
       "        text-align: right;\n",
       "    }\n",
       "</style>\n",
       "<table border=\"1\" class=\"dataframe\">\n",
       "  <thead>\n",
       "    <tr style=\"text-align: right;\">\n",
       "      <th></th>\n",
       "      <th>nama_motor</th>\n",
       "      <th>lokasi</th>\n",
       "      <th>harga</th>\n",
       "      <th>kapasitas_mesin</th>\n",
       "      <th>tahun</th>\n",
       "      <th>transmisi</th>\n",
       "      <th>kilometer</th>\n",
       "      <th>merk</th>\n",
       "    </tr>\n",
       "  </thead>\n",
       "  <tbody>\n",
       "    <tr>\n",
       "      <th>0</th>\n",
       "      <td>Yamaha Aerox 155 Vva</td>\n",
       "      <td>Kab. Tangerang</td>\n",
       "      <td>24500000.0</td>\n",
       "      <td>125</td>\n",
       "      <td>2019.0</td>\n",
       "      <td>Manual</td>\n",
       "      <td>10000 - 20000KM</td>\n",
       "      <td>Yamaha</td>\n",
       "    </tr>\n",
       "    <tr>\n",
       "      <th>1</th>\n",
       "      <td>Yamaha Aerox 155 Vva</td>\n",
       "      <td>Kota Jakarta Barat</td>\n",
       "      <td>23500000.0</td>\n",
       "      <td>155</td>\n",
       "      <td>2018.0</td>\n",
       "      <td>Otomatis</td>\n",
       "      <td>&gt;30000 KM</td>\n",
       "      <td>Yamaha</td>\n",
       "    </tr>\n",
       "    <tr>\n",
       "      <th>2</th>\n",
       "      <td>Yamaha Aerox 155 Vva</td>\n",
       "      <td>Kab. Tangerang</td>\n",
       "      <td>23500000.0</td>\n",
       "      <td>125</td>\n",
       "      <td>2018.0</td>\n",
       "      <td>Manual</td>\n",
       "      <td>10000 - 20000KM</td>\n",
       "      <td>Yamaha</td>\n",
       "    </tr>\n",
       "    <tr>\n",
       "      <th>3</th>\n",
       "      <td>Yamaha Aerox 155 Vva</td>\n",
       "      <td>Kota Jakarta Barat</td>\n",
       "      <td>24500000.0</td>\n",
       "      <td>155</td>\n",
       "      <td>2019.0</td>\n",
       "      <td>Otomatis</td>\n",
       "      <td>10000 - 20000KM</td>\n",
       "      <td>Yamaha</td>\n",
       "    </tr>\n",
       "    <tr>\n",
       "      <th>4</th>\n",
       "      <td>Yamaha Nmax Abs</td>\n",
       "      <td>Kota Jakarta Barat</td>\n",
       "      <td>24500000.0</td>\n",
       "      <td>155</td>\n",
       "      <td>2019.0</td>\n",
       "      <td>Otomatis</td>\n",
       "      <td>10000 - 20000KM</td>\n",
       "      <td>Yamaha</td>\n",
       "    </tr>\n",
       "  </tbody>\n",
       "</table>\n",
       "</div>"
      ],
      "text/plain": [
       "             nama_motor              lokasi       harga  kapasitas_mesin  \\\n",
       "0  Yamaha Aerox 155 Vva      Kab. Tangerang  24500000.0              125   \n",
       "1  Yamaha Aerox 155 Vva  Kota Jakarta Barat  23500000.0              155   \n",
       "2  Yamaha Aerox 155 Vva      Kab. Tangerang  23500000.0              125   \n",
       "3  Yamaha Aerox 155 Vva  Kota Jakarta Barat  24500000.0              155   \n",
       "4       Yamaha Nmax Abs  Kota Jakarta Barat  24500000.0              155   \n",
       "\n",
       "    tahun transmisi        kilometer    merk  \n",
       "0  2019.0    Manual  10000 - 20000KM  Yamaha  \n",
       "1  2018.0  Otomatis        >30000 KM  Yamaha  \n",
       "2  2018.0    Manual  10000 - 20000KM  Yamaha  \n",
       "3  2019.0  Otomatis  10000 - 20000KM  Yamaha  \n",
       "4  2019.0  Otomatis  10000 - 20000KM  Yamaha  "
      ]
     },
     "execution_count": 82,
     "metadata": {},
     "output_type": "execute_result"
    }
   ],
   "source": [
    "filtered_motor.head()"
   ]
  },
  {
   "cell_type": "code",
   "execution_count": 83,
   "metadata": {},
   "outputs": [
    {
     "data": {
      "text/html": [
       "<div>\n",
       "<style scoped>\n",
       "    .dataframe tbody tr th:only-of-type {\n",
       "        vertical-align: middle;\n",
       "    }\n",
       "\n",
       "    .dataframe tbody tr th {\n",
       "        vertical-align: top;\n",
       "    }\n",
       "\n",
       "    .dataframe thead th {\n",
       "        text-align: right;\n",
       "    }\n",
       "</style>\n",
       "<table border=\"1\" class=\"dataframe\">\n",
       "  <thead>\n",
       "    <tr style=\"text-align: right;\">\n",
       "      <th></th>\n",
       "      <th>nama_motor</th>\n",
       "      <th>lokasi</th>\n",
       "      <th>harga</th>\n",
       "      <th>kapasitas_mesin</th>\n",
       "      <th>tahun</th>\n",
       "      <th>transmisi</th>\n",
       "      <th>kilometer</th>\n",
       "      <th>merk</th>\n",
       "    </tr>\n",
       "  </thead>\n",
       "  <tbody>\n",
       "    <tr>\n",
       "      <th>18</th>\n",
       "      <td>Yamaha Aerox 155 Vva</td>\n",
       "      <td>Kota Jakarta Barat</td>\n",
       "      <td>23500000.0</td>\n",
       "      <td>155</td>\n",
       "      <td>2018.0</td>\n",
       "      <td>Manual</td>\n",
       "      <td>&gt;30000 KM</td>\n",
       "      <td>Suzuki</td>\n",
       "    </tr>\n",
       "    <tr>\n",
       "      <th>19</th>\n",
       "      <td>Yamaha Aerox 155 Vva</td>\n",
       "      <td>Kab. Tangerang</td>\n",
       "      <td>23500000.0</td>\n",
       "      <td>125</td>\n",
       "      <td>2018.0</td>\n",
       "      <td>Otomatis</td>\n",
       "      <td>10000 - 20000KM</td>\n",
       "      <td>Suzuki</td>\n",
       "    </tr>\n",
       "    <tr>\n",
       "      <th>20</th>\n",
       "      <td>Suzuki Gsx R150</td>\n",
       "      <td>Kab. Bogor</td>\n",
       "      <td>15500000.0</td>\n",
       "      <td>150</td>\n",
       "      <td>2017.0</td>\n",
       "      <td>Manual</td>\n",
       "      <td>5000 - 10000KM</td>\n",
       "      <td>Suzuki</td>\n",
       "    </tr>\n",
       "    <tr>\n",
       "      <th>21</th>\n",
       "      <td>Yamaha Aerox 155 Vva</td>\n",
       "      <td>Kab. Tangerang</td>\n",
       "      <td>23500000.0</td>\n",
       "      <td>125</td>\n",
       "      <td>2019.0</td>\n",
       "      <td>Manual</td>\n",
       "      <td>10000 - 20000KM</td>\n",
       "      <td>Suzuki</td>\n",
       "    </tr>\n",
       "    <tr>\n",
       "      <th>22</th>\n",
       "      <td>Suzuki Satria Fu 150 Mfx</td>\n",
       "      <td>Kota Jakarta Selatan</td>\n",
       "      <td>11850000.0</td>\n",
       "      <td>150</td>\n",
       "      <td>2017.0</td>\n",
       "      <td>Otomatis</td>\n",
       "      <td>&gt;30000 KM</td>\n",
       "      <td>Suzuki</td>\n",
       "    </tr>\n",
       "  </tbody>\n",
       "</table>\n",
       "</div>"
      ],
      "text/plain": [
       "                  nama_motor                lokasi       harga  \\\n",
       "18      Yamaha Aerox 155 Vva    Kota Jakarta Barat  23500000.0   \n",
       "19      Yamaha Aerox 155 Vva        Kab. Tangerang  23500000.0   \n",
       "20           Suzuki Gsx R150            Kab. Bogor  15500000.0   \n",
       "21      Yamaha Aerox 155 Vva        Kab. Tangerang  23500000.0   \n",
       "22  Suzuki Satria Fu 150 Mfx  Kota Jakarta Selatan  11850000.0   \n",
       "\n",
       "    kapasitas_mesin   tahun transmisi        kilometer    merk  \n",
       "18              155  2018.0    Manual        >30000 KM  Suzuki  \n",
       "19              125  2018.0  Otomatis  10000 - 20000KM  Suzuki  \n",
       "20              150  2017.0    Manual   5000 - 10000KM  Suzuki  \n",
       "21              125  2019.0    Manual  10000 - 20000KM  Suzuki  \n",
       "22              150  2017.0  Otomatis        >30000 KM  Suzuki  "
      ]
     },
     "execution_count": 83,
     "metadata": {},
     "output_type": "execute_result"
    }
   ],
   "source": [
    "filtered_motor.tail()"
   ]
  },
  {
   "cell_type": "code",
   "execution_count": 84,
   "metadata": {},
   "outputs": [
    {
     "name": "stdout",
     "output_type": "stream",
     "text": [
      "<class 'pandas.core.frame.DataFrame'>\n",
      "Index: 1577 entries, 0 to 22\n",
      "Data columns (total 8 columns):\n",
      " #   Column           Non-Null Count  Dtype  \n",
      "---  ------           --------------  -----  \n",
      " 0   nama_motor       1577 non-null   object \n",
      " 1   lokasi           1577 non-null   object \n",
      " 2   harga            1577 non-null   float64\n",
      " 3   kapasitas_mesin  1577 non-null   int32  \n",
      " 4   tahun            1577 non-null   float64\n",
      " 5   transmisi        1577 non-null   object \n",
      " 6   kilometer        1577 non-null   object \n",
      " 7   merk             1577 non-null   object \n",
      "dtypes: float64(2), int32(1), object(5)\n",
      "memory usage: 104.7+ KB\n"
     ]
    }
   ],
   "source": [
    "filtered_motor.info()"
   ]
  },
  {
   "cell_type": "markdown",
   "metadata": {},
   "source": [
    "##### Encoding"
   ]
  },
  {
   "cell_type": "code",
   "execution_count": 85,
   "metadata": {},
   "outputs": [
    {
     "data": {
      "text/html": [
       "<div>\n",
       "<style scoped>\n",
       "    .dataframe tbody tr th:only-of-type {\n",
       "        vertical-align: middle;\n",
       "    }\n",
       "\n",
       "    .dataframe tbody tr th {\n",
       "        vertical-align: top;\n",
       "    }\n",
       "\n",
       "    .dataframe thead th {\n",
       "        text-align: right;\n",
       "    }\n",
       "</style>\n",
       "<table border=\"1\" class=\"dataframe\">\n",
       "  <thead>\n",
       "    <tr style=\"text-align: right;\">\n",
       "      <th></th>\n",
       "      <th>nama_motor</th>\n",
       "      <th>lokasi</th>\n",
       "      <th>harga</th>\n",
       "      <th>kapasitas_mesin</th>\n",
       "      <th>tahun</th>\n",
       "      <th>transmisi</th>\n",
       "      <th>kilometer</th>\n",
       "      <th>merk</th>\n",
       "    </tr>\n",
       "  </thead>\n",
       "  <tbody>\n",
       "    <tr>\n",
       "      <th>0</th>\n",
       "      <td>Yamaha Aerox 155 Vva</td>\n",
       "      <td>4</td>\n",
       "      <td>24500000.0</td>\n",
       "      <td>125</td>\n",
       "      <td>2019.0</td>\n",
       "      <td>1</td>\n",
       "      <td>3</td>\n",
       "      <td>4</td>\n",
       "    </tr>\n",
       "    <tr>\n",
       "      <th>1</th>\n",
       "      <td>Yamaha Aerox 155 Vva</td>\n",
       "      <td>9</td>\n",
       "      <td>23500000.0</td>\n",
       "      <td>155</td>\n",
       "      <td>2018.0</td>\n",
       "      <td>2</td>\n",
       "      <td>5</td>\n",
       "      <td>4</td>\n",
       "    </tr>\n",
       "    <tr>\n",
       "      <th>2</th>\n",
       "      <td>Yamaha Aerox 155 Vva</td>\n",
       "      <td>4</td>\n",
       "      <td>23500000.0</td>\n",
       "      <td>125</td>\n",
       "      <td>2018.0</td>\n",
       "      <td>1</td>\n",
       "      <td>3</td>\n",
       "      <td>4</td>\n",
       "    </tr>\n",
       "    <tr>\n",
       "      <th>3</th>\n",
       "      <td>Yamaha Aerox 155 Vva</td>\n",
       "      <td>9</td>\n",
       "      <td>24500000.0</td>\n",
       "      <td>155</td>\n",
       "      <td>2019.0</td>\n",
       "      <td>2</td>\n",
       "      <td>3</td>\n",
       "      <td>4</td>\n",
       "    </tr>\n",
       "    <tr>\n",
       "      <th>4</th>\n",
       "      <td>Yamaha Nmax Abs</td>\n",
       "      <td>9</td>\n",
       "      <td>24500000.0</td>\n",
       "      <td>155</td>\n",
       "      <td>2019.0</td>\n",
       "      <td>2</td>\n",
       "      <td>3</td>\n",
       "      <td>4</td>\n",
       "    </tr>\n",
       "  </tbody>\n",
       "</table>\n",
       "</div>"
      ],
      "text/plain": [
       "             nama_motor  lokasi       harga  kapasitas_mesin   tahun  \\\n",
       "0  Yamaha Aerox 155 Vva       4  24500000.0              125  2019.0   \n",
       "1  Yamaha Aerox 155 Vva       9  23500000.0              155  2018.0   \n",
       "2  Yamaha Aerox 155 Vva       4  23500000.0              125  2018.0   \n",
       "3  Yamaha Aerox 155 Vva       9  24500000.0              155  2019.0   \n",
       "4       Yamaha Nmax Abs       9  24500000.0              155  2019.0   \n",
       "\n",
       "   transmisi  kilometer  merk  \n",
       "0          1          3     4  \n",
       "1          2          5     4  \n",
       "2          1          3     4  \n",
       "3          2          3     4  \n",
       "4          2          3     4  "
      ]
     },
     "execution_count": 85,
     "metadata": {},
     "output_type": "execute_result"
    }
   ],
   "source": [
    "# Initialize LabelEncoder\n",
    "le = LabelEncoder()\n",
    "\n",
    "# Select column wiht categorical values\n",
    "cols = ['lokasi', 'transmisi', 'kilometer', 'merk']\n",
    "for i in cols:\n",
    "    filtered_motor[i] = le.fit_transform(filtered_motor[i]) + 1\n",
    "\n",
    "# Check the data\n",
    "filtered_motor.head()"
   ]
  },
  {
   "cell_type": "markdown",
   "metadata": {},
   "source": [
    "##### MinMax Scaler"
   ]
  },
  {
   "cell_type": "markdown",
   "metadata": {},
   "source": [
    "##### Feature Selection"
   ]
  },
  {
   "cell_type": "code",
   "execution_count": 86,
   "metadata": {},
   "outputs": [],
   "source": [
    "# Choosing X and y\n",
    "X = filtered_motor.drop(columns=['harga', 'nama_motor'])\n",
    "y = filtered_motor['harga']"
   ]
  },
  {
   "cell_type": "code",
   "execution_count": 87,
   "metadata": {},
   "outputs": [],
   "source": [
    "# Train test split untuk feature importance\n",
    "X_train, X_test, y_train, y_test = train_test_split(X, y, test_size=0.1, random_state=42)"
   ]
  },
  {
   "cell_type": "code",
   "execution_count": 88,
   "metadata": {},
   "outputs": [],
   "source": [
    "# Initialize MinMaxScaler\n",
    "# ss = StandardScaler()\n",
    "# X_train_scaled = ss.fit_transform(X_train)\n",
    "# X_test_scaled = ss.fit_transform(X_test)"
   ]
  },
  {
   "cell_type": "code",
   "execution_count": 89,
   "metadata": {},
   "outputs": [
    {
     "data": {
      "text/html": [
       "<style>#sk-container-id-2 {color: black;}#sk-container-id-2 pre{padding: 0;}#sk-container-id-2 div.sk-toggleable {background-color: white;}#sk-container-id-2 label.sk-toggleable__label {cursor: pointer;display: block;width: 100%;margin-bottom: 0;padding: 0.3em;box-sizing: border-box;text-align: center;}#sk-container-id-2 label.sk-toggleable__label-arrow:before {content: \"▸\";float: left;margin-right: 0.25em;color: #696969;}#sk-container-id-2 label.sk-toggleable__label-arrow:hover:before {color: black;}#sk-container-id-2 div.sk-estimator:hover label.sk-toggleable__label-arrow:before {color: black;}#sk-container-id-2 div.sk-toggleable__content {max-height: 0;max-width: 0;overflow: hidden;text-align: left;background-color: #f0f8ff;}#sk-container-id-2 div.sk-toggleable__content pre {margin: 0.2em;color: black;border-radius: 0.25em;background-color: #f0f8ff;}#sk-container-id-2 input.sk-toggleable__control:checked~div.sk-toggleable__content {max-height: 200px;max-width: 100%;overflow: auto;}#sk-container-id-2 input.sk-toggleable__control:checked~label.sk-toggleable__label-arrow:before {content: \"▾\";}#sk-container-id-2 div.sk-estimator input.sk-toggleable__control:checked~label.sk-toggleable__label {background-color: #d4ebff;}#sk-container-id-2 div.sk-label input.sk-toggleable__control:checked~label.sk-toggleable__label {background-color: #d4ebff;}#sk-container-id-2 input.sk-hidden--visually {border: 0;clip: rect(1px 1px 1px 1px);clip: rect(1px, 1px, 1px, 1px);height: 1px;margin: -1px;overflow: hidden;padding: 0;position: absolute;width: 1px;}#sk-container-id-2 div.sk-estimator {font-family: monospace;background-color: #f0f8ff;border: 1px dotted black;border-radius: 0.25em;box-sizing: border-box;margin-bottom: 0.5em;}#sk-container-id-2 div.sk-estimator:hover {background-color: #d4ebff;}#sk-container-id-2 div.sk-parallel-item::after {content: \"\";width: 100%;border-bottom: 1px solid gray;flex-grow: 1;}#sk-container-id-2 div.sk-label:hover label.sk-toggleable__label {background-color: #d4ebff;}#sk-container-id-2 div.sk-serial::before {content: \"\";position: absolute;border-left: 1px solid gray;box-sizing: border-box;top: 0;bottom: 0;left: 50%;z-index: 0;}#sk-container-id-2 div.sk-serial {display: flex;flex-direction: column;align-items: center;background-color: white;padding-right: 0.2em;padding-left: 0.2em;position: relative;}#sk-container-id-2 div.sk-item {position: relative;z-index: 1;}#sk-container-id-2 div.sk-parallel {display: flex;align-items: stretch;justify-content: center;background-color: white;position: relative;}#sk-container-id-2 div.sk-item::before, #sk-container-id-2 div.sk-parallel-item::before {content: \"\";position: absolute;border-left: 1px solid gray;box-sizing: border-box;top: 0;bottom: 0;left: 50%;z-index: -1;}#sk-container-id-2 div.sk-parallel-item {display: flex;flex-direction: column;z-index: 1;position: relative;background-color: white;}#sk-container-id-2 div.sk-parallel-item:first-child::after {align-self: flex-end;width: 50%;}#sk-container-id-2 div.sk-parallel-item:last-child::after {align-self: flex-start;width: 50%;}#sk-container-id-2 div.sk-parallel-item:only-child::after {width: 0;}#sk-container-id-2 div.sk-dashed-wrapped {border: 1px dashed gray;margin: 0 0.4em 0.5em 0.4em;box-sizing: border-box;padding-bottom: 0.4em;background-color: white;}#sk-container-id-2 div.sk-label label {font-family: monospace;font-weight: bold;display: inline-block;line-height: 1.2em;}#sk-container-id-2 div.sk-label-container {text-align: center;}#sk-container-id-2 div.sk-container {/* jupyter's `normalize.less` sets `[hidden] { display: none; }` but bootstrap.min.css set `[hidden] { display: none !important; }` so we also need the `!important` here to be able to override the default hidden behavior on the sphinx rendered scikit-learn.org. See: https://github.com/scikit-learn/scikit-learn/issues/21755 */display: inline-block !important;position: relative;}#sk-container-id-2 div.sk-text-repr-fallback {display: none;}</style><div id=\"sk-container-id-2\" class=\"sk-top-container\"><div class=\"sk-text-repr-fallback\"><pre>RandomForestRegressor()</pre><b>In a Jupyter environment, please rerun this cell to show the HTML representation or trust the notebook. <br />On GitHub, the HTML representation is unable to render, please try loading this page with nbviewer.org.</b></div><div class=\"sk-container\" hidden><div class=\"sk-item\"><div class=\"sk-estimator sk-toggleable\"><input class=\"sk-toggleable__control sk-hidden--visually\" id=\"sk-estimator-id-2\" type=\"checkbox\" checked><label for=\"sk-estimator-id-2\" class=\"sk-toggleable__label sk-toggleable__label-arrow\">RandomForestRegressor</label><div class=\"sk-toggleable__content\"><pre>RandomForestRegressor()</pre></div></div></div></div></div>"
      ],
      "text/plain": [
       "RandomForestRegressor()"
      ]
     },
     "execution_count": 89,
     "metadata": {},
     "output_type": "execute_result"
    }
   ],
   "source": [
    "# Random forest regressor untuk memilih feature importance\n",
    "rf = RandomForestRegressor()\n",
    "rf.fit(X_train, y_train)"
   ]
  },
  {
   "cell_type": "code",
   "execution_count": 90,
   "metadata": {},
   "outputs": [
    {
     "name": "stderr",
     "output_type": "stream",
     "text": [
      "No artists with labels found to put in legend.  Note that artists whose label start with an underscore are ignored when legend() is called with no argument.\n"
     ]
    },
    {
     "data": {
      "image/png": "[encoded data removed]",
      "text/plain": [
       "<Figure size 1000x600 with 1 Axes>"
      ]
     },
     "metadata": {},
     "output_type": "display_data"
    }
   ],
   "source": [
    "rf_fi = rf.feature_importances_\n",
    "\n",
    "# Define Nama columns\n",
    "feature_names = X.columns.tolist()\n",
    "\n",
    "plt.figure(figsize=(10, 6))\n",
    "\n",
    "# Plotting feature importances\n",
    "plt.barh(feature_names, rf_fi)\n",
    "plt.xlabel('Feature Names')\n",
    "plt.ylabel('Importance')\n",
    "plt.title('Visualisasi Feature Importance')\n",
    "plt.legend()\n",
    "plt.tight_layout()\n",
    "plt.show()"
   ]
  },
  {
   "cell_type": "markdown",
   "metadata": {},
   "source": [
    "---\n",
    "#### Modeling\n",
    "Pada tahap modeling, akan dilakukan:\n",
    "- Seleksi fitur\n",
    "- Membangun model RNN\n",
    "- Tuning hyperparameter\n",
    "\n",
    "Seleksi fitur"
   ]
  },
  {
   "cell_type": "code",
   "execution_count": 91,
   "metadata": {},
   "outputs": [],
   "source": [
    "# Choosing X and y\n",
    "X = filtered_motor.drop(columns=['harga', 'nama_motor', 'transmisi'])\n",
    "y = filtered_motor['harga'].values.reshape(-1,1)\n",
    "\n",
    "# Standarize\n",
    "X_scaler = StandardScaler().fit(X)\n",
    "y_scaler = StandardScaler().fit(y)\n",
    "X_scaled = X_scaler.fit_transform(X)\n",
    "y_scaled = y_scaler.fit_transform(y)"
   ]
  },
  {
   "cell_type": "code",
   "execution_count": 92,
   "metadata": {},
   "outputs": [],
   "source": [
    "# Train test split untuk feature importance\n",
    "X_train, X_test, y_train, y_test = train_test_split(X_scaled, y_scaled, test_size=0.1, random_state=42)\n",
    "# X_train_scaled = StandardScaler().fit_transform(X_train)\n",
    "# X_test_scaled = StandardScaler().fit_transform(X_test)"
   ]
  },
  {
   "cell_type": "markdown",
   "metadata": {},
   "source": [
    "Modeling\n",
    "- Tanpa tuning hyperparameter"
   ]
  },
  {
   "cell_type": "code",
   "execution_count": 93,
   "metadata": {},
   "outputs": [],
   "source": [
    "# Build the DNN model\n",
    "model = Sequential()\n",
    "model.add(Dense(128, input_shape=(X_train.shape[1],), activation='relu'))\n",
    "model.add(Dense(64, activation='relu', kernel_regularizer=regularizers.l2(0.01)))\n",
    "model.add(Dense(64, activation='relu', kernel_regularizer=regularizers.l2(0.01)))\n",
    "model.add(Dropout(0.5))\n",
    "model.add(Dense(1, activation='linear'))\n",
    "model.compile(optimizer='rmsprop', loss='mean_squared_error', metrics=['mean_absolute_error'])"
   ]
  },
  {
   "cell_type": "code",
   "execution_count": 94,
   "metadata": {},
   "outputs": [
    {
     "name": "stdout",
     "output_type": "stream",
     "text": [
      "Model: \"sequential_2\"\n",
      "_________________________________________________________________\n",
      " Layer (type)                Output Shape              Param #   \n",
      "=================================================================\n",
      " dense_8 (Dense)             (None, 128)               768       \n",
      "                                                                 \n",
      " dense_9 (Dense)             (None, 64)                8256      \n",
      "                                                                 \n",
      " dense_10 (Dense)            (None, 64)                4160      \n",
      "                                                                 \n",
      " dropout_2 (Dropout)         (None, 64)                0         \n",
      "                                                                 \n",
      " dense_11 (Dense)            (None, 1)                 65        \n",
      "                                                                 \n",
      "=================================================================\n",
      "Total params: 13249 (51.75 KB)\n",
      "Trainable params: 13249 (51.75 KB)\n",
      "Non-trainable params: 0 (0.00 Byte)\n",
      "_________________________________________________________________\n"
     ]
    }
   ],
   "source": [
    "model.summary()"
   ]
  },
  {
   "cell_type": "code",
   "execution_count": 95,
   "metadata": {},
   "outputs": [
    {
     "name": "stdout",
     "output_type": "stream",
     "text": [
      "Epoch 1/100\n"
     ]
    },
    {
     "name": "stdout",
     "output_type": "stream",
     "text": [
      "5/5 [==============================] - 1s 50ms/step - loss: 1.9765 - mean_absolute_error: 0.3325 - val_loss: 1.4537 - val_mean_absolute_error: 0.2236\n",
      "Epoch 2/100\n",
      "5/5 [==============================] - 0s 15ms/step - loss: 1.7482 - mean_absolute_error: 0.2934 - val_loss: 1.3437 - val_mean_absolute_error: 0.2078\n",
      "Epoch 3/100\n",
      "5/5 [==============================] - 0s 13ms/step - loss: 1.5183 - mean_absolute_error: 0.2664 - val_loss: 1.2575 - val_mean_absolute_error: 0.2005\n",
      "Epoch 4/100\n",
      "5/5 [==============================] - 0s 12ms/step - loss: 1.4588 - mean_absolute_error: 0.2533 - val_loss: 1.1845 - val_mean_absolute_error: 0.1981\n",
      "Epoch 5/100\n",
      "5/5 [==============================] - 0s 14ms/step - loss: 1.3542 - mean_absolute_error: 0.2545 - val_loss: 1.1168 - val_mean_absolute_error: 0.1903\n",
      "Epoch 6/100\n",
      "5/5 [==============================] - 0s 13ms/step - loss: 1.3020 - mean_absolute_error: 0.2533 - val_loss: 1.0534 - val_mean_absolute_error: 0.1872\n",
      "Epoch 7/100\n",
      "5/5 [==============================] - 0s 14ms/step - loss: 1.1621 - mean_absolute_error: 0.2396 - val_loss: 0.9967 - val_mean_absolute_error: 0.1936\n",
      "Epoch 8/100\n",
      "5/5 [==============================] - 0s 16ms/step - loss: 1.0646 - mean_absolute_error: 0.2284 - val_loss: 0.9395 - val_mean_absolute_error: 0.1872\n",
      "Epoch 9/100\n",
      "5/5 [==============================] - 0s 14ms/step - loss: 1.0379 - mean_absolute_error: 0.2386 - val_loss: 0.8865 - val_mean_absolute_error: 0.1835\n",
      "Epoch 10/100\n",
      "5/5 [==============================] - 0s 15ms/step - loss: 0.9679 - mean_absolute_error: 0.2336 - val_loss: 0.8373 - val_mean_absolute_error: 0.1844\n",
      "Epoch 11/100\n",
      "5/5 [==============================] - 0s 12ms/step - loss: 0.8812 - mean_absolute_error: 0.2246 - val_loss: 0.7852 - val_mean_absolute_error: 0.1847\n",
      "Epoch 12/100\n",
      "5/5 [==============================] - 0s 12ms/step - loss: 0.8363 - mean_absolute_error: 0.2224 - val_loss: 0.7357 - val_mean_absolute_error: 0.1828\n",
      "Epoch 13/100\n",
      "5/5 [==============================] - 0s 12ms/step - loss: 0.8067 - mean_absolute_error: 0.2264 - val_loss: 0.6915 - val_mean_absolute_error: 0.1856\n",
      "Epoch 14/100\n",
      "5/5 [==============================] - 0s 13ms/step - loss: 0.7500 - mean_absolute_error: 0.2184 - val_loss: 0.6476 - val_mean_absolute_error: 0.1829\n",
      "Epoch 15/100\n",
      "5/5 [==============================] - 0s 12ms/step - loss: 0.7241 - mean_absolute_error: 0.2190 - val_loss: 0.6070 - val_mean_absolute_error: 0.1850\n",
      "Epoch 16/100\n",
      "5/5 [==============================] - 0s 13ms/step - loss: 0.6554 - mean_absolute_error: 0.2180 - val_loss: 0.5698 - val_mean_absolute_error: 0.1828\n",
      "Epoch 17/100\n",
      "5/5 [==============================] - 0s 13ms/step - loss: 0.6149 - mean_absolute_error: 0.2176 - val_loss: 0.5313 - val_mean_absolute_error: 0.1827\n",
      "Epoch 18/100\n",
      "5/5 [==============================] - 0s 14ms/step - loss: 0.5907 - mean_absolute_error: 0.2182 - val_loss: 0.4979 - val_mean_absolute_error: 0.1843\n",
      "Epoch 19/100\n",
      "5/5 [==============================] - 0s 15ms/step - loss: 0.5672 - mean_absolute_error: 0.2180 - val_loss: 0.4730 - val_mean_absolute_error: 0.1914\n",
      "Epoch 20/100\n",
      "5/5 [==============================] - 0s 13ms/step - loss: 0.5273 - mean_absolute_error: 0.2183 - val_loss: 0.4470 - val_mean_absolute_error: 0.1905\n",
      "Epoch 21/100\n",
      "5/5 [==============================] - 0s 12ms/step - loss: 0.5380 - mean_absolute_error: 0.2265 - val_loss: 0.4140 - val_mean_absolute_error: 0.1865\n",
      "Epoch 22/100\n",
      "5/5 [==============================] - 0s 12ms/step - loss: 0.5478 - mean_absolute_error: 0.2191 - val_loss: 0.3932 - val_mean_absolute_error: 0.1844\n",
      "Epoch 23/100\n",
      "5/5 [==============================] - 0s 13ms/step - loss: 0.4611 - mean_absolute_error: 0.2141 - val_loss: 0.3728 - val_mean_absolute_error: 0.1864\n",
      "Epoch 24/100\n",
      "5/5 [==============================] - 0s 12ms/step - loss: 0.4034 - mean_absolute_error: 0.2028 - val_loss: 0.3509 - val_mean_absolute_error: 0.1832\n",
      "Epoch 25/100\n",
      "5/5 [==============================] - 0s 13ms/step - loss: 0.3822 - mean_absolute_error: 0.2038 - val_loss: 0.3311 - val_mean_absolute_error: 0.1828\n",
      "Epoch 26/100\n",
      "5/5 [==============================] - 0s 14ms/step - loss: 0.4457 - mean_absolute_error: 0.2225 - val_loss: 0.3077 - val_mean_absolute_error: 0.1793\n",
      "Epoch 27/100\n",
      "5/5 [==============================] - 0s 12ms/step - loss: 0.3477 - mean_absolute_error: 0.2015 - val_loss: 0.2926 - val_mean_absolute_error: 0.1795\n",
      "Epoch 28/100\n",
      "5/5 [==============================] - 0s 14ms/step - loss: 0.3612 - mean_absolute_error: 0.2060 - val_loss: 0.2801 - val_mean_absolute_error: 0.1810\n",
      "Epoch 29/100\n",
      "5/5 [==============================] - 0s 15ms/step - loss: 0.3332 - mean_absolute_error: 0.2073 - val_loss: 0.2643 - val_mean_absolute_error: 0.1796\n",
      "Epoch 30/100\n",
      "5/5 [==============================] - 0s 16ms/step - loss: 0.3267 - mean_absolute_error: 0.2070 - val_loss: 0.2590 - val_mean_absolute_error: 0.1890\n",
      "Epoch 31/100\n",
      "5/5 [==============================] - 0s 13ms/step - loss: 0.2896 - mean_absolute_error: 0.2095 - val_loss: 0.2408 - val_mean_absolute_error: 0.1774\n",
      "Epoch 32/100\n",
      "5/5 [==============================] - 0s 13ms/step - loss: 0.3059 - mean_absolute_error: 0.2033 - val_loss: 0.2379 - val_mean_absolute_error: 0.1827\n",
      "Epoch 33/100\n",
      "5/5 [==============================] - 0s 13ms/step - loss: 0.3490 - mean_absolute_error: 0.2125 - val_loss: 0.2214 - val_mean_absolute_error: 0.1740\n",
      "Epoch 34/100\n",
      "5/5 [==============================] - 0s 13ms/step - loss: 0.2754 - mean_absolute_error: 0.2019 - val_loss: 0.2173 - val_mean_absolute_error: 0.1805\n",
      "Epoch 35/100\n",
      "5/5 [==============================] - 0s 13ms/step - loss: 0.3271 - mean_absolute_error: 0.2144 - val_loss: 0.2087 - val_mean_absolute_error: 0.1776\n",
      "Epoch 36/100\n",
      "5/5 [==============================] - 0s 13ms/step - loss: 0.2547 - mean_absolute_error: 0.2008 - val_loss: 0.2003 - val_mean_absolute_error: 0.1772\n",
      "Epoch 37/100\n",
      "5/5 [==============================] - 0s 12ms/step - loss: 0.2639 - mean_absolute_error: 0.2044 - val_loss: 0.1902 - val_mean_absolute_error: 0.1753\n",
      "Epoch 38/100\n",
      "5/5 [==============================] - 0s 13ms/step - loss: 0.2662 - mean_absolute_error: 0.2066 - val_loss: 0.1874 - val_mean_absolute_error: 0.1765\n",
      "Epoch 39/100\n",
      "5/5 [==============================] - 0s 13ms/step - loss: 0.2445 - mean_absolute_error: 0.2015 - val_loss: 0.1791 - val_mean_absolute_error: 0.1717\n",
      "Epoch 40/100\n",
      "5/5 [==============================] - 0s 12ms/step - loss: 0.3282 - mean_absolute_error: 0.2067 - val_loss: 0.1772 - val_mean_absolute_error: 0.1737\n",
      "Epoch 41/100\n",
      "5/5 [==============================] - 0s 12ms/step - loss: 0.2143 - mean_absolute_error: 0.1951 - val_loss: 0.1693 - val_mean_absolute_error: 0.1711\n",
      "Epoch 42/100\n",
      "5/5 [==============================] - 0s 12ms/step - loss: 0.2682 - mean_absolute_error: 0.2105 - val_loss: 0.1709 - val_mean_absolute_error: 0.1750\n",
      "Epoch 43/100\n",
      "5/5 [==============================] - 0s 12ms/step - loss: 0.2410 - mean_absolute_error: 0.2054 - val_loss: 0.1666 - val_mean_absolute_error: 0.1744\n",
      "Epoch 44/100\n",
      "5/5 [==============================] - 0s 12ms/step - loss: 0.2535 - mean_absolute_error: 0.2045 - val_loss: 0.1581 - val_mean_absolute_error: 0.1705\n",
      "Epoch 45/100\n",
      "5/5 [==============================] - 0s 12ms/step - loss: 0.2156 - mean_absolute_error: 0.1997 - val_loss: 0.1578 - val_mean_absolute_error: 0.1712\n",
      "Epoch 46/100\n",
      "5/5 [==============================] - 0s 13ms/step - loss: 0.2079 - mean_absolute_error: 0.1972 - val_loss: 0.1562 - val_mean_absolute_error: 0.1739\n",
      "Epoch 47/100\n",
      "5/5 [==============================] - 0s 13ms/step - loss: 0.2068 - mean_absolute_error: 0.1986 - val_loss: 0.1533 - val_mean_absolute_error: 0.1719\n",
      "Epoch 48/100\n",
      "5/5 [==============================] - 0s 13ms/step - loss: 0.2312 - mean_absolute_error: 0.2032 - val_loss: 0.1481 - val_mean_absolute_error: 0.1717\n",
      "Epoch 49/100\n",
      "5/5 [==============================] - 0s 12ms/step - loss: 0.2045 - mean_absolute_error: 0.2011 - val_loss: 0.1448 - val_mean_absolute_error: 0.1718\n",
      "Epoch 50/100\n",
      "5/5 [==============================] - 0s 12ms/step - loss: 0.2166 - mean_absolute_error: 0.1967 - val_loss: 0.1483 - val_mean_absolute_error: 0.1767\n",
      "Epoch 51/100\n",
      "5/5 [==============================] - 0s 12ms/step - loss: 0.2056 - mean_absolute_error: 0.2003 - val_loss: 0.1402 - val_mean_absolute_error: 0.1701\n",
      "Epoch 52/100\n",
      "5/5 [==============================] - 0s 12ms/step - loss: 0.1947 - mean_absolute_error: 0.1961 - val_loss: 0.1482 - val_mean_absolute_error: 0.1840\n",
      "Epoch 53/100\n",
      "5/5 [==============================] - 0s 15ms/step - loss: 0.1997 - mean_absolute_error: 0.2010 - val_loss: 0.1394 - val_mean_absolute_error: 0.1738\n",
      "Epoch 54/100\n",
      "5/5 [==============================] - 0s 12ms/step - loss: 0.2054 - mean_absolute_error: 0.1991 - val_loss: 0.1352 - val_mean_absolute_error: 0.1726\n",
      "Epoch 55/100\n",
      "5/5 [==============================] - 0s 12ms/step - loss: 0.2044 - mean_absolute_error: 0.2005 - val_loss: 0.1351 - val_mean_absolute_error: 0.1704\n",
      "Epoch 56/100\n",
      "5/5 [==============================] - 0s 15ms/step - loss: 0.1917 - mean_absolute_error: 0.1944 - val_loss: 0.1412 - val_mean_absolute_error: 0.1795\n",
      "Epoch 57/100\n",
      "5/5 [==============================] - 0s 14ms/step - loss: 0.1788 - mean_absolute_error: 0.1994 - val_loss: 0.1470 - val_mean_absolute_error: 0.1884\n",
      "Epoch 58/100\n",
      "5/5 [==============================] - 0s 12ms/step - loss: 0.1965 - mean_absolute_error: 0.1975 - val_loss: 0.1294 - val_mean_absolute_error: 0.1722\n",
      "Epoch 59/100\n",
      "5/5 [==============================] - 0s 12ms/step - loss: 0.2103 - mean_absolute_error: 0.1968 - val_loss: 0.1299 - val_mean_absolute_error: 0.1691\n",
      "Epoch 60/100\n",
      "5/5 [==============================] - 0s 12ms/step - loss: 0.2152 - mean_absolute_error: 0.2021 - val_loss: 0.1382 - val_mean_absolute_error: 0.1871\n",
      "Epoch 61/100\n",
      "5/5 [==============================] - 0s 13ms/step - loss: 0.1969 - mean_absolute_error: 0.2116 - val_loss: 0.1278 - val_mean_absolute_error: 0.1716\n",
      "Epoch 62/100\n",
      "5/5 [==============================] - 0s 12ms/step - loss: 0.1865 - mean_absolute_error: 0.1975 - val_loss: 0.1278 - val_mean_absolute_error: 0.1720\n",
      "Epoch 63/100\n",
      "5/5 [==============================] - 0s 14ms/step - loss: 0.1895 - mean_absolute_error: 0.1979 - val_loss: 0.1272 - val_mean_absolute_error: 0.1743\n",
      "Epoch 64/100\n",
      "5/5 [==============================] - 0s 14ms/step - loss: 0.1733 - mean_absolute_error: 0.1920 - val_loss: 0.1230 - val_mean_absolute_error: 0.1762\n",
      "Epoch 65/100\n",
      "5/5 [==============================] - 0s 14ms/step - loss: 0.1729 - mean_absolute_error: 0.2002 - val_loss: 0.1217 - val_mean_absolute_error: 0.1706\n",
      "Epoch 66/100\n",
      "5/5 [==============================] - 0s 13ms/step - loss: 0.1499 - mean_absolute_error: 0.1903 - val_loss: 0.1232 - val_mean_absolute_error: 0.1719\n",
      "Epoch 67/100\n",
      "5/5 [==============================] - 0s 13ms/step - loss: 0.1515 - mean_absolute_error: 0.1914 - val_loss: 0.1249 - val_mean_absolute_error: 0.1731\n",
      "Epoch 68/100\n",
      "5/5 [==============================] - 0s 13ms/step - loss: 0.1978 - mean_absolute_error: 0.1991 - val_loss: 0.1171 - val_mean_absolute_error: 0.1726\n",
      "Epoch 69/100\n",
      "5/5 [==============================] - 0s 12ms/step - loss: 0.2130 - mean_absolute_error: 0.1986 - val_loss: 0.1365 - val_mean_absolute_error: 0.1932\n",
      "Epoch 70/100\n",
      "5/5 [==============================] - 0s 17ms/step - loss: 0.1517 - mean_absolute_error: 0.1976 - val_loss: 0.1220 - val_mean_absolute_error: 0.1748\n",
      "Epoch 71/100\n",
      "5/5 [==============================] - 0s 14ms/step - loss: 0.1488 - mean_absolute_error: 0.1942 - val_loss: 0.1168 - val_mean_absolute_error: 0.1717\n",
      "Epoch 72/100\n",
      "5/5 [==============================] - 0s 12ms/step - loss: 0.1669 - mean_absolute_error: 0.1947 - val_loss: 0.1177 - val_mean_absolute_error: 0.1747\n",
      "Epoch 73/100\n",
      "5/5 [==============================] - 0s 11ms/step - loss: 0.1482 - mean_absolute_error: 0.1919 - val_loss: 0.1140 - val_mean_absolute_error: 0.1712\n",
      "Epoch 74/100\n",
      "5/5 [==============================] - 0s 11ms/step - loss: 0.1476 - mean_absolute_error: 0.1932 - val_loss: 0.1159 - val_mean_absolute_error: 0.1745\n",
      "Epoch 75/100\n",
      "5/5 [==============================] - 0s 12ms/step - loss: 0.1678 - mean_absolute_error: 0.1965 - val_loss: 0.1210 - val_mean_absolute_error: 0.1767\n",
      "Epoch 76/100\n",
      "5/5 [==============================] - 0s 12ms/step - loss: 0.1914 - mean_absolute_error: 0.1967 - val_loss: 0.1082 - val_mean_absolute_error: 0.1710\n",
      "Epoch 77/100\n",
      "5/5 [==============================] - 0s 12ms/step - loss: 0.1753 - mean_absolute_error: 0.1989 - val_loss: 0.1126 - val_mean_absolute_error: 0.1727\n",
      "Epoch 78/100\n",
      "5/5 [==============================] - 0s 16ms/step - loss: 0.1528 - mean_absolute_error: 0.1907 - val_loss: 0.1137 - val_mean_absolute_error: 0.1766\n",
      "Epoch 79/100\n",
      "5/5 [==============================] - 0s 13ms/step - loss: 0.1657 - mean_absolute_error: 0.1953 - val_loss: 0.1097 - val_mean_absolute_error: 0.1681\n",
      "Epoch 80/100\n",
      "5/5 [==============================] - 0s 12ms/step - loss: 0.1431 - mean_absolute_error: 0.1871 - val_loss: 0.1088 - val_mean_absolute_error: 0.1685\n",
      "Epoch 81/100\n",
      "5/5 [==============================] - 0s 12ms/step - loss: 0.1686 - mean_absolute_error: 0.1873 - val_loss: 0.1124 - val_mean_absolute_error: 0.1696\n",
      "Epoch 82/100\n",
      "5/5 [==============================] - 0s 13ms/step - loss: 0.1603 - mean_absolute_error: 0.1934 - val_loss: 0.1060 - val_mean_absolute_error: 0.1680\n",
      "Epoch 83/100\n",
      "5/5 [==============================] - 0s 12ms/step - loss: 0.1452 - mean_absolute_error: 0.1913 - val_loss: 0.1042 - val_mean_absolute_error: 0.1692\n",
      "Epoch 84/100\n",
      "5/5 [==============================] - 0s 12ms/step - loss: 0.1478 - mean_absolute_error: 0.1914 - val_loss: 0.1051 - val_mean_absolute_error: 0.1687\n",
      "Epoch 85/100\n",
      "5/5 [==============================] - 0s 13ms/step - loss: 0.1523 - mean_absolute_error: 0.1928 - val_loss: 0.1066 - val_mean_absolute_error: 0.1708\n",
      "Epoch 86/100\n",
      "5/5 [==============================] - 0s 12ms/step - loss: 0.1560 - mean_absolute_error: 0.1908 - val_loss: 0.1132 - val_mean_absolute_error: 0.1735\n",
      "Epoch 87/100\n",
      "5/5 [==============================] - 0s 12ms/step - loss: 0.1880 - mean_absolute_error: 0.1986 - val_loss: 0.1049 - val_mean_absolute_error: 0.1720\n",
      "Epoch 88/100\n",
      "5/5 [==============================] - 0s 12ms/step - loss: 0.1496 - mean_absolute_error: 0.1939 - val_loss: 0.1053 - val_mean_absolute_error: 0.1729\n",
      "Epoch 89/100\n",
      "5/5 [==============================] - 0s 12ms/step - loss: 0.1402 - mean_absolute_error: 0.1900 - val_loss: 0.1054 - val_mean_absolute_error: 0.1742\n",
      "Epoch 90/100\n",
      "5/5 [==============================] - 0s 12ms/step - loss: 0.1414 - mean_absolute_error: 0.1935 - val_loss: 0.1045 - val_mean_absolute_error: 0.1715\n",
      "Epoch 91/100\n",
      "5/5 [==============================] - 0s 12ms/step - loss: 0.1527 - mean_absolute_error: 0.1877 - val_loss: 0.1007 - val_mean_absolute_error: 0.1667\n",
      "Epoch 92/100\n",
      "5/5 [==============================] - 0s 15ms/step - loss: 0.1382 - mean_absolute_error: 0.1916 - val_loss: 0.1127 - val_mean_absolute_error: 0.1783\n",
      "Epoch 93/100\n",
      "5/5 [==============================] - 0s 12ms/step - loss: 0.1703 - mean_absolute_error: 0.1947 - val_loss: 0.1014 - val_mean_absolute_error: 0.1682\n",
      "Epoch 94/100\n",
      "5/5 [==============================] - 0s 11ms/step - loss: 0.1612 - mean_absolute_error: 0.1937 - val_loss: 0.0978 - val_mean_absolute_error: 0.1684\n",
      "Epoch 95/100\n",
      "5/5 [==============================] - 0s 11ms/step - loss: 0.1611 - mean_absolute_error: 0.1967 - val_loss: 0.1179 - val_mean_absolute_error: 0.1925\n",
      "Epoch 96/100\n",
      "5/5 [==============================] - 0s 11ms/step - loss: 0.1424 - mean_absolute_error: 0.1902 - val_loss: 0.1050 - val_mean_absolute_error: 0.1721\n",
      "Epoch 97/100\n",
      "5/5 [==============================] - 0s 11ms/step - loss: 0.1323 - mean_absolute_error: 0.1856 - val_loss: 0.1061 - val_mean_absolute_error: 0.1716\n",
      "Epoch 98/100\n",
      "5/5 [==============================] - 0s 11ms/step - loss: 0.1522 - mean_absolute_error: 0.1908 - val_loss: 0.1009 - val_mean_absolute_error: 0.1693\n",
      "Epoch 99/100\n",
      "5/5 [==============================] - 0s 11ms/step - loss: 0.1375 - mean_absolute_error: 0.1859 - val_loss: 0.1014 - val_mean_absolute_error: 0.1717\n",
      "Epoch 100/100\n",
      "5/5 [==============================] - 0s 11ms/step - loss: 0.1798 - mean_absolute_error: 0.1949 - val_loss: 0.0939 - val_mean_absolute_error: 0.1667\n"
     ]
    }
   ],
   "source": [
    "history1 = model.fit(X_train, y_train, epochs=100, batch_size=256, validation_split=0.15)"
   ]
  },
  {
   "cell_type": "code",
   "execution_count": 96,
   "metadata": {},
   "outputs": [
    {
     "name": "stdout",
     "output_type": "stream",
     "text": [
      "5/5 [==============================] - 0s 3ms/step - loss: 1.7438 - mean_absolute_error: 0.3044\n",
      "[1.7438369989395142, 0.3043837249279022]\n"
     ]
    }
   ],
   "source": [
    "loss = model.evaluate(X_test, y_test)\n",
    "print(loss)"
   ]
  },
  {
   "cell_type": "code",
   "execution_count": 97,
   "metadata": {},
   "outputs": [
    {
     "name": "stdout",
     "output_type": "stream",
     "text": [
      "5/5 [==============================] - 0s 2ms/step\n",
      "R-squared: 69.0%\n",
      "MAE:  0.30438373892038384\n",
      "MSE:  1.7017346012479029\n"
     ]
    }
   ],
   "source": [
    "y_pred = model.predict(X_test)\n",
    "print(f\"R-squared: {np.round(r2_score(y_test, y_pred),2)*100}%\")\n",
    "print(\"MAE: \", mean_absolute_error(y_test, y_pred))\n",
    "print(\"MSE: \", mean_squared_error(y_test, y_pred))"
   ]
  },
  {
   "cell_type": "code",
   "execution_count": 98,
   "metadata": {},
   "outputs": [
    {
     "data": {
      "image/png": "[encoded data removed]",
      "text/plain": [
       "<Figure size 640x480 with 1 Axes>"
      ]
     },
     "metadata": {},
     "output_type": "display_data"
    }
   ],
   "source": [
    "# let's see the training and validation accuracy by epoch\n",
    "history_dict = history1.history\n",
    "loss_values = history_dict['loss'] # you can change this\n",
    "val_loss_values = history_dict['val_loss'] # you can also change this\n",
    "epochs = range(1, len(loss_values) + 1) # range of X (no. of epochs)\n",
    "plt.plot(epochs, loss_values, label='Training loss')\n",
    "plt.plot(epochs, val_loss_values, 'orange', label='Validation loss')\n",
    "plt.title('Training and validation loss')\n",
    "plt.xlabel('Epochs')\n",
    "plt.ylabel('Loss')\n",
    "plt.legend()\n",
    "plt.show()"
   ]
  },
  {
   "cell_type": "markdown",
   "metadata": {},
   "source": [
    "Tuning Hyperparameter <br>\n",
    "import library keras tuner"
   ]
  },
  {
   "cell_type": "code",
   "execution_count": 99,
   "metadata": {},
   "outputs": [],
   "source": [
    "import keras_tuner as kt"
   ]
  },
  {
   "cell_type": "code",
   "execution_count": 100,
   "metadata": {},
   "outputs": [],
   "source": [
    "# Fungsi untuk membangun model\n",
    "def build_model(hp):\n",
    "    model = Sequential()\n",
    "    model.add(Dense(units=hp.Int('units_1', min_value=32, max_value=256, step=32), \n",
    "                    input_shape=(X_train.shape[1],), activation='relu'))\n",
    "    \n",
    "    model.add(Dense(units=hp.Int('units_2', min_value=32, max_value=256, step=32), activation='relu', kernel_regularizer=regularizers.l2(0.01)))\n",
    "    \n",
    "    model.add(Dense(units=hp.Int('units_3', min_value=32, max_value=256, step=32), activation='relu', kernel_regularizer=regularizers.l2(0.01)))\n",
    "    model.add(Dropout(rate=hp.Float('dropout_3', min_value=0.2, max_value=0.8, step=0.1)))\n",
    "    \n",
    "    model.add(Dense(1, activation='linear'))\n",
    "    model.compile(optimizer='adam', loss='mean_squared_error', metrics=['mean_absolute_error'])\n",
    "    return model"
   ]
  },
  {
   "cell_type": "code",
   "execution_count": 101,
   "metadata": {},
   "outputs": [
    {
     "name": "stdout",
     "output_type": "stream",
     "text": [
      "Reloading Tuner from ./tuning3\\untitled_project\\tuner0.json\n"
     ]
    }
   ],
   "source": [
    "tuner = kt.RandomSearch(build_model,\n",
    "                     objective='mean_absolute_error',\n",
    "                     max_trials=5,\n",
    "                     executions_per_trial=5,\n",
    "                     directory='./tuning3')"
   ]
  },
  {
   "cell_type": "code",
   "execution_count": 102,
   "metadata": {},
   "outputs": [],
   "source": [
    "stop_early = EarlyStopping(monitor='val_loss', patience=10)"
   ]
  },
  {
   "cell_type": "code",
   "execution_count": 103,
   "metadata": {},
   "outputs": [],
   "source": [
    "tuner.search(X_train, y_train, \n",
    "             epochs=100, batch_size=256, \n",
    "             validation_split=0.15,\n",
    "             callbacks=[stop_early])"
   ]
  },
  {
   "cell_type": "code",
   "execution_count": 104,
   "metadata": {},
   "outputs": [
    {
     "name": "stdout",
     "output_type": "stream",
     "text": [
      "WARNING:tensorflow:Detecting that an object or model or tf.train.Checkpoint is being deleted with unrestored values. See the following logs for the specific values in question. To silence these warnings, use `status.expect_partial()`. See https://www.tensorflow.org/api_docs/python/tf/train/Checkpoint#restorefor details about the status object returned by the restore function.\n",
      "WARNING:tensorflow:Value in checkpoint could not be found in the restored object: (root).optimizer._variables.1\n",
      "WARNING:tensorflow:Value in checkpoint could not be found in the restored object: (root).optimizer._variables.2\n",
      "WARNING:tensorflow:Value in checkpoint could not be found in the restored object: (root).optimizer._variables.3\n",
      "WARNING:tensorflow:Value in checkpoint could not be found in the restored object: (root).optimizer._variables.4\n",
      "WARNING:tensorflow:Value in checkpoint could not be found in the restored object: (root).optimizer._variables.5\n",
      "WARNING:tensorflow:Value in checkpoint could not be found in the restored object: (root).optimizer._variables.6\n",
      "WARNING:tensorflow:Value in checkpoint could not be found in the restored object: (root).optimizer._variables.7\n",
      "WARNING:tensorflow:Value in checkpoint could not be found in the restored object: (root).optimizer._variables.8\n",
      "WARNING:tensorflow:Value in checkpoint could not be found in the restored object: (root).optimizer._variables.9\n",
      "WARNING:tensorflow:Value in checkpoint could not be found in the restored object: (root).optimizer._variables.10\n",
      "WARNING:tensorflow:Value in checkpoint could not be found in the restored object: (root).optimizer._variables.11\n",
      "WARNING:tensorflow:Value in checkpoint could not be found in the restored object: (root).optimizer._variables.12\n",
      "WARNING:tensorflow:Value in checkpoint could not be found in the restored object: (root).optimizer._variables.13\n",
      "WARNING:tensorflow:Value in checkpoint could not be found in the restored object: (root).optimizer._variables.14\n",
      "WARNING:tensorflow:Value in checkpoint could not be found in the restored object: (root).optimizer._variables.15\n",
      "WARNING:tensorflow:Value in checkpoint could not be found in the restored object: (root).optimizer._variables.16\n"
     ]
    }
   ],
   "source": [
    "best_model = tuner.get_best_models(num_models=1)[0]"
   ]
  },
  {
   "cell_type": "code",
   "execution_count": 105,
   "metadata": {},
   "outputs": [
    {
     "name": "stdout",
     "output_type": "stream",
     "text": [
      "Results summary\n",
      "Results in ./tuning3\\untitled_project\n",
      "Showing 10 best trials\n",
      "Objective(name=\"mean_absolute_error\", direction=\"min\")\n",
      "\n",
      "Trial 1 summary\n",
      "Hyperparameters:\n",
      "units_1: 256\n",
      "units_2: 160\n",
      "units_3: 256\n",
      "dropout_3: 0.2\n",
      "Score: 0.1720273017883301\n",
      "\n",
      "Trial 3 summary\n",
      "Hyperparameters:\n",
      "units_1: 32\n",
      "units_2: 256\n",
      "units_3: 256\n",
      "dropout_3: 0.2\n",
      "Score: 0.17635841071605682\n",
      "\n",
      "Trial 4 summary\n",
      "Hyperparameters:\n",
      "units_1: 128\n",
      "units_2: 64\n",
      "units_3: 96\n",
      "dropout_3: 0.4\n",
      "Score: 0.18011115491390228\n",
      "\n",
      "Trial 0 summary\n",
      "Hyperparameters:\n",
      "units_1: 32\n",
      "units_2: 160\n",
      "units_3: 128\n",
      "dropout_3: 0.30000000000000004\n",
      "Score: 0.18224939405918122\n",
      "\n",
      "Trial 2 summary\n",
      "Hyperparameters:\n",
      "units_1: 128\n",
      "units_2: 224\n",
      "units_3: 160\n",
      "dropout_3: 0.7\n",
      "Score: 0.18634768426418305\n"
     ]
    }
   ],
   "source": [
    "tuner.results_summary()"
   ]
  },
  {
   "cell_type": "markdown",
   "metadata": {},
   "source": [
    "Finalisasi Model"
   ]
  },
  {
   "cell_type": "code",
   "execution_count": 106,
   "metadata": {},
   "outputs": [],
   "source": [
    "model3 = Sequential()\n",
    "model3.add(Dense(256, input_shape=(X_train.shape[1],), activation='relu'))\n",
    "model3.add(Dense(160, activation='relu', kernel_regularizer=regularizers.l2(0.01)))\n",
    "model3.add(Dense(256, activation='relu', kernel_regularizer=regularizers.l2(0.01)))\n",
    "model3.add(Dropout(0.2))\n",
    "model3.add(Dense(1, activation='linear'))\n",
    "model3.compile(optimizer='adam', loss='mean_squared_error', metrics=['mean_absolute_error'])"
   ]
  },
  {
   "cell_type": "code",
   "execution_count": 107,
   "metadata": {},
   "outputs": [
    {
     "name": "stdout",
     "output_type": "stream",
     "text": [
      "Model: \"sequential_1\"\n",
      "_________________________________________________________________\n",
      " Layer (type)                Output Shape              Param #   \n",
      "=================================================================\n",
      " dense_4 (Dense)             (None, 256)               1536      \n",
      "                                                                 \n",
      " dense_5 (Dense)             (None, 160)               41120     \n",
      "                                                                 \n",
      " dense_6 (Dense)             (None, 256)               41216     \n",
      "                                                                 \n",
      " dropout_1 (Dropout)         (None, 256)               0         \n",
      "                                                                 \n",
      " dense_7 (Dense)             (None, 1)                 257       \n",
      "                                                                 \n",
      "=================================================================\n",
      "Total params: 84129 (328.63 KB)\n",
      "Trainable params: 84129 (328.63 KB)\n",
      "Non-trainable params: 0 (0.00 Byte)\n",
      "_________________________________________________________________\n"
     ]
    }
   ],
   "source": [
    "model3.summary()"
   ]
  },
  {
   "cell_type": "code",
   "execution_count": 108,
   "metadata": {},
   "outputs": [
    {
     "name": "stdout",
     "output_type": "stream",
     "text": [
      "Epoch 1/100\n"
     ]
    },
    {
     "name": "stdout",
     "output_type": "stream",
     "text": [
      "5/5 [==============================] - 1s 48ms/step - loss: 4.2113 - mean_absolute_error: 0.3148 - val_loss: 3.6346 - val_mean_absolute_error: 0.2181\n",
      "Epoch 2/100\n",
      "5/5 [==============================] - 0s 15ms/step - loss: 3.7204 - mean_absolute_error: 0.2541 - val_loss: 3.2767 - val_mean_absolute_error: 0.2068\n",
      "Epoch 3/100\n",
      "5/5 [==============================] - 0s 14ms/step - loss: 3.2372 - mean_absolute_error: 0.2232 - val_loss: 2.9447 - val_mean_absolute_error: 0.2122\n",
      "Epoch 4/100\n",
      "5/5 [==============================] - 0s 15ms/step - loss: 2.9129 - mean_absolute_error: 0.2424 - val_loss: 2.6528 - val_mean_absolute_error: 0.2144\n",
      "Epoch 5/100\n",
      "5/5 [==============================] - 0s 15ms/step - loss: 2.6006 - mean_absolute_error: 0.2265 - val_loss: 2.3723 - val_mean_absolute_error: 0.1965\n",
      "Epoch 6/100\n",
      "5/5 [==============================] - 0s 15ms/step - loss: 2.3205 - mean_absolute_error: 0.2124 - val_loss: 2.1199 - val_mean_absolute_error: 0.1907\n",
      "Epoch 7/100\n",
      "5/5 [==============================] - 0s 14ms/step - loss: 2.0777 - mean_absolute_error: 0.2071 - val_loss: 1.9007 - val_mean_absolute_error: 0.1977\n",
      "Epoch 8/100\n",
      "5/5 [==============================] - 0s 14ms/step - loss: 1.8678 - mean_absolute_error: 0.2074 - val_loss: 1.6985 - val_mean_absolute_error: 0.1937\n",
      "Epoch 9/100\n",
      "5/5 [==============================] - 0s 13ms/step - loss: 1.6685 - mean_absolute_error: 0.2086 - val_loss: 1.5237 - val_mean_absolute_error: 0.1966\n",
      "Epoch 10/100\n",
      "5/5 [==============================] - 0s 15ms/step - loss: 1.4862 - mean_absolute_error: 0.1999 - val_loss: 1.3651 - val_mean_absolute_error: 0.1929\n",
      "Epoch 11/100\n",
      "5/5 [==============================] - 0s 15ms/step - loss: 1.3347 - mean_absolute_error: 0.1996 - val_loss: 1.2224 - val_mean_absolute_error: 0.1915\n",
      "Epoch 12/100\n",
      "5/5 [==============================] - 0s 16ms/step - loss: 1.2014 - mean_absolute_error: 0.2018 - val_loss: 1.0898 - val_mean_absolute_error: 0.1906\n",
      "Epoch 13/100\n",
      "5/5 [==============================] - 0s 14ms/step - loss: 1.0745 - mean_absolute_error: 0.2008 - val_loss: 0.9790 - val_mean_absolute_error: 0.1931\n",
      "Epoch 14/100\n",
      "5/5 [==============================] - 0s 14ms/step - loss: 0.9700 - mean_absolute_error: 0.1980 - val_loss: 0.8789 - val_mean_absolute_error: 0.1898\n",
      "Epoch 15/100\n",
      "5/5 [==============================] - 0s 13ms/step - loss: 0.8691 - mean_absolute_error: 0.1951 - val_loss: 0.7894 - val_mean_absolute_error: 0.1894\n",
      "Epoch 16/100\n",
      "5/5 [==============================] - 0s 14ms/step - loss: 0.7889 - mean_absolute_error: 0.1972 - val_loss: 0.7105 - val_mean_absolute_error: 0.1878\n",
      "Epoch 17/100\n",
      "5/5 [==============================] - 0s 15ms/step - loss: 0.7073 - mean_absolute_error: 0.1928 - val_loss: 0.6442 - val_mean_absolute_error: 0.1889\n",
      "Epoch 18/100\n",
      "5/5 [==============================] - 0s 15ms/step - loss: 0.6499 - mean_absolute_error: 0.1955 - val_loss: 0.5824 - val_mean_absolute_error: 0.1878\n",
      "Epoch 19/100\n",
      "5/5 [==============================] - 0s 14ms/step - loss: 0.5868 - mean_absolute_error: 0.1946 - val_loss: 0.5327 - val_mean_absolute_error: 0.1898\n",
      "Epoch 20/100\n",
      "5/5 [==============================] - 0s 14ms/step - loss: 0.5374 - mean_absolute_error: 0.1975 - val_loss: 0.4809 - val_mean_absolute_error: 0.1844\n",
      "Epoch 21/100\n",
      "5/5 [==============================] - 0s 14ms/step - loss: 0.4860 - mean_absolute_error: 0.1922 - val_loss: 0.4412 - val_mean_absolute_error: 0.1865\n",
      "Epoch 22/100\n",
      "5/5 [==============================] - 0s 14ms/step - loss: 0.4562 - mean_absolute_error: 0.1946 - val_loss: 0.4024 - val_mean_absolute_error: 0.1839\n",
      "Epoch 23/100\n",
      "5/5 [==============================] - 0s 15ms/step - loss: 0.4153 - mean_absolute_error: 0.1942 - val_loss: 0.3679 - val_mean_absolute_error: 0.1859\n",
      "Epoch 24/100\n",
      "5/5 [==============================] - 0s 16ms/step - loss: 0.3808 - mean_absolute_error: 0.1919 - val_loss: 0.3443 - val_mean_absolute_error: 0.1868\n",
      "Epoch 25/100\n",
      "5/5 [==============================] - 0s 15ms/step - loss: 0.3604 - mean_absolute_error: 0.1943 - val_loss: 0.3174 - val_mean_absolute_error: 0.1852\n",
      "Epoch 26/100\n",
      "5/5 [==============================] - 0s 14ms/step - loss: 0.3342 - mean_absolute_error: 0.1917 - val_loss: 0.2950 - val_mean_absolute_error: 0.1822\n",
      "Epoch 27/100\n",
      "5/5 [==============================] - 0s 14ms/step - loss: 0.3156 - mean_absolute_error: 0.1918 - val_loss: 0.2860 - val_mean_absolute_error: 0.1921\n",
      "Epoch 28/100\n",
      "5/5 [==============================] - 0s 14ms/step - loss: 0.2904 - mean_absolute_error: 0.1912 - val_loss: 0.2638 - val_mean_absolute_error: 0.1845\n",
      "Epoch 29/100\n",
      "5/5 [==============================] - 0s 15ms/step - loss: 0.2784 - mean_absolute_error: 0.1977 - val_loss: 0.2421 - val_mean_absolute_error: 0.1858\n",
      "Epoch 30/100\n",
      "5/5 [==============================] - 0s 14ms/step - loss: 0.2672 - mean_absolute_error: 0.1933 - val_loss: 0.2354 - val_mean_absolute_error: 0.1879\n",
      "Epoch 31/100\n",
      "5/5 [==============================] - 0s 14ms/step - loss: 0.2493 - mean_absolute_error: 0.1905 - val_loss: 0.2213 - val_mean_absolute_error: 0.1852\n",
      "Epoch 32/100\n",
      "5/5 [==============================] - 0s 14ms/step - loss: 0.2475 - mean_absolute_error: 0.1927 - val_loss: 0.2058 - val_mean_absolute_error: 0.1818\n",
      "Epoch 33/100\n",
      "5/5 [==============================] - 0s 14ms/step - loss: 0.2307 - mean_absolute_error: 0.1931 - val_loss: 0.2145 - val_mean_absolute_error: 0.1944\n",
      "Epoch 34/100\n",
      "5/5 [==============================] - 0s 14ms/step - loss: 0.2326 - mean_absolute_error: 0.1976 - val_loss: 0.1874 - val_mean_absolute_error: 0.1822\n",
      "Epoch 35/100\n",
      "5/5 [==============================] - 0s 15ms/step - loss: 0.2186 - mean_absolute_error: 0.1986 - val_loss: 0.1834 - val_mean_absolute_error: 0.1883\n",
      "Epoch 36/100\n",
      "5/5 [==============================] - 0s 15ms/step - loss: 0.2067 - mean_absolute_error: 0.1915 - val_loss: 0.1885 - val_mean_absolute_error: 0.1922\n",
      "Epoch 37/100\n",
      "5/5 [==============================] - 0s 21ms/step - loss: 0.2019 - mean_absolute_error: 0.1891 - val_loss: 0.1679 - val_mean_absolute_error: 0.1774\n",
      "Epoch 38/100\n",
      "5/5 [==============================] - 0s 14ms/step - loss: 0.1839 - mean_absolute_error: 0.1881 - val_loss: 0.1610 - val_mean_absolute_error: 0.1796\n",
      "Epoch 39/100\n",
      "5/5 [==============================] - 0s 15ms/step - loss: 0.1803 - mean_absolute_error: 0.1884 - val_loss: 0.1627 - val_mean_absolute_error: 0.1841\n",
      "Epoch 40/100\n",
      "5/5 [==============================] - 0s 14ms/step - loss: 0.1753 - mean_absolute_error: 0.1824 - val_loss: 0.1551 - val_mean_absolute_error: 0.1782\n",
      "Epoch 41/100\n",
      "5/5 [==============================] - 0s 14ms/step - loss: 0.1647 - mean_absolute_error: 0.1801 - val_loss: 0.1510 - val_mean_absolute_error: 0.1775\n",
      "Epoch 42/100\n",
      "5/5 [==============================] - 0s 14ms/step - loss: 0.1622 - mean_absolute_error: 0.1846 - val_loss: 0.1516 - val_mean_absolute_error: 0.1876\n",
      "Epoch 43/100\n",
      "5/5 [==============================] - 0s 14ms/step - loss: 0.1614 - mean_absolute_error: 0.1858 - val_loss: 0.1491 - val_mean_absolute_error: 0.1833\n",
      "Epoch 44/100\n",
      "5/5 [==============================] - 0s 14ms/step - loss: 0.1615 - mean_absolute_error: 0.1857 - val_loss: 0.1365 - val_mean_absolute_error: 0.1791\n",
      "Epoch 45/100\n",
      "5/5 [==============================] - 0s 15ms/step - loss: 0.1555 - mean_absolute_error: 0.1840 - val_loss: 0.1355 - val_mean_absolute_error: 0.1794\n",
      "Epoch 46/100\n",
      "5/5 [==============================] - 0s 13ms/step - loss: 0.1498 - mean_absolute_error: 0.1824 - val_loss: 0.1356 - val_mean_absolute_error: 0.1799\n",
      "Epoch 47/100\n",
      "5/5 [==============================] - 0s 13ms/step - loss: 0.1453 - mean_absolute_error: 0.1821 - val_loss: 0.1309 - val_mean_absolute_error: 0.1771\n",
      "Epoch 48/100\n",
      "5/5 [==============================] - 0s 13ms/step - loss: 0.1438 - mean_absolute_error: 0.1845 - val_loss: 0.1269 - val_mean_absolute_error: 0.1752\n",
      "Epoch 49/100\n",
      "5/5 [==============================] - 0s 14ms/step - loss: 0.1405 - mean_absolute_error: 0.1806 - val_loss: 0.1265 - val_mean_absolute_error: 0.1774\n",
      "Epoch 50/100\n",
      "5/5 [==============================] - 0s 12ms/step - loss: 0.1415 - mean_absolute_error: 0.1823 - val_loss: 0.1267 - val_mean_absolute_error: 0.1836\n",
      "Epoch 51/100\n",
      "5/5 [==============================] - 0s 14ms/step - loss: 0.1386 - mean_absolute_error: 0.1815 - val_loss: 0.1284 - val_mean_absolute_error: 0.1812\n",
      "Epoch 52/100\n",
      "5/5 [==============================] - 0s 14ms/step - loss: 0.1366 - mean_absolute_error: 0.1861 - val_loss: 0.1238 - val_mean_absolute_error: 0.1788\n",
      "Epoch 53/100\n",
      "5/5 [==============================] - 0s 14ms/step - loss: 0.1244 - mean_absolute_error: 0.1773 - val_loss: 0.1224 - val_mean_absolute_error: 0.1777\n",
      "Epoch 54/100\n",
      "5/5 [==============================] - 0s 14ms/step - loss: 0.1283 - mean_absolute_error: 0.1781 - val_loss: 0.1217 - val_mean_absolute_error: 0.1783\n",
      "Epoch 55/100\n",
      "5/5 [==============================] - 0s 16ms/step - loss: 0.1284 - mean_absolute_error: 0.1791 - val_loss: 0.1174 - val_mean_absolute_error: 0.1770\n",
      "Epoch 56/100\n",
      "5/5 [==============================] - 0s 14ms/step - loss: 0.1230 - mean_absolute_error: 0.1784 - val_loss: 0.1156 - val_mean_absolute_error: 0.1739\n",
      "Epoch 57/100\n",
      "5/5 [==============================] - 0s 15ms/step - loss: 0.1207 - mean_absolute_error: 0.1786 - val_loss: 0.1145 - val_mean_absolute_error: 0.1765\n",
      "Epoch 58/100\n",
      "5/5 [==============================] - 0s 48ms/step - loss: 0.1320 - mean_absolute_error: 0.1802 - val_loss: 0.1127 - val_mean_absolute_error: 0.1775\n",
      "Epoch 59/100\n",
      "5/5 [==============================] - 1s 144ms/step - loss: 0.1380 - mean_absolute_error: 0.1902 - val_loss: 0.1094 - val_mean_absolute_error: 0.1864\n",
      "Epoch 60/100\n",
      "5/5 [==============================] - 1s 133ms/step - loss: 0.1285 - mean_absolute_error: 0.1831 - val_loss: 0.1304 - val_mean_absolute_error: 0.2025\n",
      "Epoch 61/100\n",
      "5/5 [==============================] - 0s 35ms/step - loss: 0.1270 - mean_absolute_error: 0.1890 - val_loss: 0.1202 - val_mean_absolute_error: 0.1815\n",
      "Epoch 62/100\n",
      "5/5 [==============================] - 0s 29ms/step - loss: 0.1258 - mean_absolute_error: 0.1907 - val_loss: 0.1115 - val_mean_absolute_error: 0.1822\n",
      "Epoch 63/100\n",
      "5/5 [==============================] - 0s 26ms/step - loss: 0.1268 - mean_absolute_error: 0.1974 - val_loss: 0.1095 - val_mean_absolute_error: 0.1869\n",
      "Epoch 64/100\n",
      "5/5 [==============================] - 0s 27ms/step - loss: 0.1256 - mean_absolute_error: 0.1873 - val_loss: 0.1190 - val_mean_absolute_error: 0.1871\n",
      "Epoch 65/100\n",
      "5/5 [==============================] - 0s 25ms/step - loss: 0.1144 - mean_absolute_error: 0.1782 - val_loss: 0.1114 - val_mean_absolute_error: 0.1774\n",
      "Epoch 66/100\n",
      "5/5 [==============================] - 0s 25ms/step - loss: 0.1135 - mean_absolute_error: 0.1816 - val_loss: 0.1082 - val_mean_absolute_error: 0.1799\n",
      "Epoch 67/100\n",
      "5/5 [==============================] - 0s 26ms/step - loss: 0.1173 - mean_absolute_error: 0.1874 - val_loss: 0.1066 - val_mean_absolute_error: 0.1762\n",
      "Epoch 68/100\n",
      "5/5 [==============================] - 0s 28ms/step - loss: 0.1135 - mean_absolute_error: 0.1762 - val_loss: 0.1115 - val_mean_absolute_error: 0.1779\n",
      "Epoch 69/100\n",
      "5/5 [==============================] - 0s 31ms/step - loss: 0.1075 - mean_absolute_error: 0.1734 - val_loss: 0.1043 - val_mean_absolute_error: 0.1761\n",
      "Epoch 70/100\n",
      "5/5 [==============================] - 0s 25ms/step - loss: 0.1071 - mean_absolute_error: 0.1752 - val_loss: 0.0973 - val_mean_absolute_error: 0.1729\n",
      "Epoch 71/100\n",
      "5/5 [==============================] - 0s 25ms/step - loss: 0.1069 - mean_absolute_error: 0.1754 - val_loss: 0.1043 - val_mean_absolute_error: 0.1783\n",
      "Epoch 72/100\n",
      "5/5 [==============================] - 0s 25ms/step - loss: 0.1059 - mean_absolute_error: 0.1744 - val_loss: 0.1016 - val_mean_absolute_error: 0.1755\n",
      "Epoch 73/100\n",
      "5/5 [==============================] - 0s 29ms/step - loss: 0.1067 - mean_absolute_error: 0.1758 - val_loss: 0.0982 - val_mean_absolute_error: 0.1743\n",
      "Epoch 74/100\n",
      "5/5 [==============================] - 0s 32ms/step - loss: 0.1084 - mean_absolute_error: 0.1776 - val_loss: 0.1020 - val_mean_absolute_error: 0.1754\n",
      "Epoch 75/100\n",
      "5/5 [==============================] - 0s 32ms/step - loss: 0.1062 - mean_absolute_error: 0.1751 - val_loss: 0.1040 - val_mean_absolute_error: 0.1751\n",
      "Epoch 76/100\n",
      "5/5 [==============================] - 0s 36ms/step - loss: 0.1113 - mean_absolute_error: 0.1776 - val_loss: 0.0974 - val_mean_absolute_error: 0.1726\n",
      "Epoch 77/100\n",
      "5/5 [==============================] - 0s 28ms/step - loss: 0.1055 - mean_absolute_error: 0.1816 - val_loss: 0.0975 - val_mean_absolute_error: 0.1779\n",
      "Epoch 78/100\n",
      "5/5 [==============================] - 0s 24ms/step - loss: 0.1081 - mean_absolute_error: 0.1781 - val_loss: 0.1025 - val_mean_absolute_error: 0.1758\n",
      "Epoch 79/100\n",
      "5/5 [==============================] - 0s 22ms/step - loss: 0.1014 - mean_absolute_error: 0.1752 - val_loss: 0.1053 - val_mean_absolute_error: 0.1762\n",
      "Epoch 80/100\n",
      "5/5 [==============================] - 0s 22ms/step - loss: 0.1126 - mean_absolute_error: 0.1788 - val_loss: 0.0956 - val_mean_absolute_error: 0.1744\n",
      "Epoch 81/100\n",
      "5/5 [==============================] - 0s 23ms/step - loss: 0.1140 - mean_absolute_error: 0.1926 - val_loss: 0.0888 - val_mean_absolute_error: 0.1776\n",
      "Epoch 82/100\n",
      "5/5 [==============================] - 0s 23ms/step - loss: 0.1404 - mean_absolute_error: 0.1955 - val_loss: 0.1176 - val_mean_absolute_error: 0.2069\n",
      "Epoch 83/100\n",
      "5/5 [==============================] - 0s 29ms/step - loss: 0.1124 - mean_absolute_error: 0.1898 - val_loss: 0.1063 - val_mean_absolute_error: 0.1817\n",
      "Epoch 84/100\n",
      "5/5 [==============================] - 0s 24ms/step - loss: 0.1108 - mean_absolute_error: 0.1892 - val_loss: 0.0913 - val_mean_absolute_error: 0.1800\n",
      "Epoch 85/100\n",
      "5/5 [==============================] - 0s 24ms/step - loss: 0.1048 - mean_absolute_error: 0.1891 - val_loss: 0.1023 - val_mean_absolute_error: 0.1853\n",
      "Epoch 86/100\n",
      "5/5 [==============================] - 0s 24ms/step - loss: 0.1070 - mean_absolute_error: 0.1791 - val_loss: 0.1107 - val_mean_absolute_error: 0.1849\n",
      "Epoch 87/100\n",
      "5/5 [==============================] - 0s 23ms/step - loss: 0.1023 - mean_absolute_error: 0.1765 - val_loss: 0.0970 - val_mean_absolute_error: 0.1731\n",
      "Epoch 88/100\n",
      "5/5 [==============================] - 0s 21ms/step - loss: 0.1013 - mean_absolute_error: 0.1771 - val_loss: 0.0975 - val_mean_absolute_error: 0.1783\n",
      "Epoch 89/100\n",
      "5/5 [==============================] - 0s 24ms/step - loss: 0.1022 - mean_absolute_error: 0.1786 - val_loss: 0.0977 - val_mean_absolute_error: 0.1734\n",
      "Epoch 90/100\n",
      "5/5 [==============================] - 0s 22ms/step - loss: 0.1020 - mean_absolute_error: 0.1753 - val_loss: 0.0921 - val_mean_absolute_error: 0.1749\n",
      "Epoch 91/100\n",
      "5/5 [==============================] - 0s 22ms/step - loss: 0.0994 - mean_absolute_error: 0.1761 - val_loss: 0.1022 - val_mean_absolute_error: 0.1803\n"
     ]
    }
   ],
   "source": [
    "history2 = model3.fit(X_train, y_train, \n",
    "             epochs=100, batch_size=256, \n",
    "             validation_split=0.15, \n",
    "             callbacks=[stop_early])"
   ]
  },
  {
   "cell_type": "markdown",
   "metadata": {},
   "source": [
    "---\n",
    "#### Evaluasi"
   ]
  },
  {
   "cell_type": "code",
   "execution_count": 109,
   "metadata": {},
   "outputs": [
    {
     "name": "stdout",
     "output_type": "stream",
     "text": [
      "5/5 [==============================] - 0s 5ms/step - loss: 1.2121 - mean_absolute_error: 0.2691\n",
      "[1.2120580673217773, 0.26911354064941406]\n"
     ]
    }
   ],
   "source": [
    "loss3 = model3.evaluate(X_test, y_test)\n",
    "print(loss3)"
   ]
  },
  {
   "cell_type": "code",
   "execution_count": 110,
   "metadata": {},
   "outputs": [
    {
     "name": "stdout",
     "output_type": "stream",
     "text": [
      "5/5 [==============================] - 0s 4ms/step\n",
      "R-squared: 78.0%\n",
      "MAE:  0.2691135451805523\n",
      "MSE:  1.1814722113991356\n"
     ]
    }
   ],
   "source": [
    "y_pred3 = model3.predict(X_test)\n",
    "print(f\"R-squared: {np.round(r2_score(y_test, y_pred3),2)*100}%\")\n",
    "print(\"MAE: \", mean_absolute_error(y_test, y_pred3))\n",
    "print(\"MSE: \", mean_squared_error(y_test, y_pred3))"
   ]
  },
  {
   "cell_type": "code",
   "execution_count": 111,
   "metadata": {},
   "outputs": [
    {
     "data": {
      "image/png": "[encoded data removed]",
      "text/plain": [
       "<Figure size 640x480 with 1 Axes>"
      ]
     },
     "metadata": {},
     "output_type": "display_data"
    }
   ],
   "source": [
    "# let's see the training and validation accuracy by epoch\n",
    "history_dict = history2.history\n",
    "loss_values = history_dict['loss'] # you can change this\n",
    "val_loss_values = history_dict['val_loss'] # you can also change this\n",
    "epochs = range(1, len(loss_values) + 1) # range of X (no. of epochs)\n",
    "plt.plot(epochs, loss_values, label='Training loss')\n",
    "plt.plot(epochs, val_loss_values, 'orange', label='Validation loss')\n",
    "plt.title('Training and validation loss')\n",
    "plt.xlabel('Epochs')\n",
    "plt.ylabel('Loss')\n",
    "plt.legend()\n",
    "plt.show()"
   ]
  },
  {
   "cell_type": "markdown",
   "metadata": {},
   "source": [
    "Terlihat model memberikan akurasi yang baik."
   ]
  },
  {
   "cell_type": "code",
   "execution_count": 112,
   "metadata": {},
   "outputs": [
    {
     "data": {
      "image/png": "[encoded data removed]",
      "text/plain": [
       "<Figure size 640x480 with 1 Axes>"
      ]
     },
     "metadata": {},
     "output_type": "display_data"
    }
   ],
   "source": [
    "# Visualisasi\n",
    "y_test_reverse = y_scaler.inverse_transform(y_test)\n",
    "y_pred_reverse = y_scaler.inverse_transform(y_pred3)\n",
    "\n",
    "ax = sns.regplot(x=y_test_reverse, y=y_pred_reverse, line_kws={\"color\": \"red\"})\n",
    "plt.title(\"Predicted vs True Motorcycle Price\\n\", weight='bold')\n",
    "plt.xlabel(\"True Price (in Rp million)\")\n",
    "plt.ylabel(\"Predicted Price (in Rp million)\")\n",
    "plt.tight_layout()\n",
    "plt.show()"
   ]
  },
  {
   "cell_type": "markdown",
   "metadata": {},
   "source": [
    "---\n",
    "#### Save model\n",
    "Model yang dengan akurasi tertinggi akan disimpan untuk di <i> deploy </i>"
   ]
  },
  {
   "cell_type": "code",
   "execution_count": 113,
   "metadata": {},
   "outputs": [],
   "source": [
    "import pickle\n",
    "\n",
    "pickle.dump(model3, open('../nn_model_250more.pkl','wb'))\n",
    "pickle.dump(X_scaler, open('../X_scaler250more.pkl', 'wb'))\n",
    "pickle.dump(y_scaler, open('../y_scaler250more.pkl', 'wb'))\n",
    "# model = pickle.load(open('../nn_model.pkl','rb'))\n",
    "# pred = model.predict([[0.5, 0.8, 0.3, 0.2, 0.4, 0.9]]) #lokasi, kapasitas_mesin, tahun, transmisi, kilometer, merk\n",
    "# pred = y_scaler.inverse_transform(pred)\n",
    "# print(pred)"
   ]
  },
  {
   "cell_type": "code",
   "execution_count": 114,
   "metadata": {},
   "outputs": [],
   "source": [
    "# filtered_motor.to_csv('../Dataset/Dataset_Training.csv')"
   ]
  }
 ],
 "metadata": {
  "kernelspec": {
   "display_name": "q323",
   "language": "python",
   "name": "python3"
  },
  "language_info": {
   "codemirror_mode": {
    "name": "ipython",
    "version": 3
   },
   "file_extension": ".py",
   "mimetype": "text/x-python",
   "name": "python",
   "nbconvert_exporter": "python",
   "pygments_lexer": "ipython3",
   "version": "3.11.4"
  }
 },
 "nbformat": 4,
 "nbformat_minor": 2
}
