{
 "cells": [
  {
   "cell_type": "markdown",
   "metadata": {},
   "source": [
    "# Deep Learning RNN Model for Used Motorcycle Price Prediction\n",
    "## IS794 AL - Deep Learning (Lab)\n",
    "Kelompok B: <br>\n",
    "- Daffa Kaisha Pratama Chandra (00000055770)\n",
    "- Justine Donovan (00000063202)\n",
    "- Marsella Patricia (00000063226)\n",
    "- Reina Ratu Balqis (00000065099)\n",
    "---\n",
    "### Import Libraries"
   ]
  },
  {
   "cell_type": "code",
   "execution_count": 1,
   "metadata": {},
   "outputs": [],
   "source": [
    "# Basic library\n",
    "import pandas as pd\n",
    "import numpy as np\n",
    "from scipy import stats\n",
    "\n",
    "# Pre-processing\n",
    "from sklearn.model_selection import train_test_split\n",
    "from sklearn.preprocessing import LabelEncoder, MinMaxScaler\n",
    "from sklearn.metrics import r2_score, mean_squared_error, mean_absolute_error\n",
    "\n",
    "# Visualization\n",
    "import matplotlib.pyplot as plt\n",
    "import seaborn as sns\n",
    "%matplotlib inline\n",
    "\n",
    "# Deep learning\n",
    "import tensorflow as tf\n",
    "from tensorflow import keras\n",
    "\n",
    "# Ignore warning\n",
    "import warnings\n",
    "warnings.simplefilter(\"ignore\")"
   ]
  },
  {
   "cell_type": "markdown",
   "metadata": {},
   "source": [
    "---\n",
    "Baca Dataset"
   ]
  },
  {
   "cell_type": "code",
   "execution_count": 2,
   "metadata": {},
   "outputs": [],
   "source": [
    "yamaha = pd.read_csv(\"motor_yamaha_bekas.csv\", index_col=False)\n",
    "honda = pd.read_csv(\"motor_honda_bekas.csv\", index_col=False)\n",
    "kawasaki = pd.read_csv(\"motor_kawasaki_bekas.csv\", index_col=False)\n",
    "suzuki = pd.read_csv(\"motor_suzuki_bekas.csv\", index_col=False)"
   ]
  },
  {
   "cell_type": "markdown",
   "metadata": {},
   "source": [
    "Penjelasan singkat mengenai dataset yang digunakan: <br>\n",
    "Dataset ini merupakan hasil web scraping dari website https://momotor.id/"
   ]
  },
  {
   "cell_type": "code",
   "execution_count": 3,
   "metadata": {},
   "outputs": [
    {
     "name": "stdout",
     "output_type": "stream",
     "text": [
      "Shape dari tiap dataset:\n",
      "Dataset Yamaha memiliki 10 kolom dan 588 baris.\n",
      "Dataset Honda memiliki 10 kolom dan 1008 baris.\n",
      "Dataset Kawasaki memiliki 10 kolom dan 348 baris.\n",
      "Dataset Suzuki memiliki 10 kolom dan 348 baris.\n"
     ]
    }
   ],
   "source": [
    "print(\"Shape dari tiap dataset:\")\n",
    "print(f\"Dataset Yamaha memiliki {yamaha.shape[1]} kolom dan {yamaha.shape[0]} baris.\")\n",
    "print(f\"Dataset Honda memiliki {honda.shape[1]} kolom dan {honda.shape[0]} baris.\")\n",
    "print(f\"Dataset Kawasaki memiliki {kawasaki.shape[1]} kolom dan {kawasaki.shape[0]} baris.\")\n",
    "print(f\"Dataset Suzuki memiliki {suzuki.shape[1]} kolom dan {suzuki.shape[0]} baris.\")"
   ]
  },
  {
   "cell_type": "code",
   "execution_count": 4,
   "metadata": {},
   "outputs": [
    {
     "name": "stdout",
     "output_type": "stream",
     "text": [
      "Informasi singkat dari tiap dataset:\n",
      "\n",
      "Yamaha:\n",
      "<class 'pandas.core.frame.DataFrame'>\n",
      "RangeIndex: 588 entries, 0 to 587\n",
      "Data columns (total 10 columns):\n",
      " #   Column           Non-Null Count  Dtype  \n",
      "---  ------           --------------  -----  \n",
      " 0   nama_motor       343 non-null    object \n",
      " 1   lokasi           343 non-null    object \n",
      " 2   harga            343 non-null    object \n",
      " 3   deskripsi        343 non-null    object \n",
      " 4   kapasitas_mesin  343 non-null    object \n",
      " 5   tahun            343 non-null    float64\n",
      " 6   transmisi        343 non-null    object \n",
      " 7   kilometer        343 non-null    object \n",
      " 8   url              588 non-null    object \n",
      " 9   merk             588 non-null    object \n",
      "dtypes: float64(1), object(9)\n",
      "memory usage: 46.1+ KB\n",
      "None\n",
      "\n",
      "Honda:\n",
      "<class 'pandas.core.frame.DataFrame'>\n",
      "RangeIndex: 1008 entries, 0 to 1007\n",
      "Data columns (total 10 columns):\n",
      " #   Column           Non-Null Count  Dtype  \n",
      "---  ------           --------------  -----  \n",
      " 0   nama_motor       756 non-null    object \n",
      " 1   lokasi           756 non-null    object \n",
      " 2   harga            756 non-null    object \n",
      " 3   deskripsi        756 non-null    object \n",
      " 4   kapasitas_mesin  756 non-null    object \n",
      " 5   tahun            756 non-null    float64\n",
      " 6   transmisi        756 non-null    object \n",
      " 7   kilometer        756 non-null    object \n",
      " 8   url              1008 non-null   object \n",
      " 9   merk             1008 non-null   object \n",
      "dtypes: float64(1), object(9)\n",
      "memory usage: 78.9+ KB\n",
      "None\n",
      "\n",
      "Kawasaki:\n",
      "<class 'pandas.core.frame.DataFrame'>\n",
      "RangeIndex: 348 entries, 0 to 347\n",
      "Data columns (total 10 columns):\n",
      " #   Column           Non-Null Count  Dtype  \n",
      "---  ------           --------------  -----  \n",
      " 0   nama_motor       174 non-null    object \n",
      " 1   lokasi           174 non-null    object \n",
      " 2   harga            174 non-null    object \n",
      " 3   deskripsi        174 non-null    object \n",
      " 4   kapasitas_mesin  174 non-null    object \n",
      " 5   tahun            174 non-null    float64\n",
      " 6   transmisi        174 non-null    object \n",
      " 7   kilometer        174 non-null    object \n",
      " 8   url              348 non-null    object \n",
      " 9   merk             348 non-null    object \n",
      "dtypes: float64(1), object(9)\n",
      "memory usage: 27.3+ KB\n",
      "None\n",
      "\n",
      "Suzuki:\n",
      "<class 'pandas.core.frame.DataFrame'>\n",
      "RangeIndex: 348 entries, 0 to 347\n",
      "Data columns (total 10 columns):\n",
      " #   Column           Non-Null Count  Dtype  \n",
      "---  ------           --------------  -----  \n",
      " 0   nama_motor       232 non-null    object \n",
      " 1   lokasi           232 non-null    object \n",
      " 2   harga            232 non-null    object \n",
      " 3   deskripsi        232 non-null    object \n",
      " 4   kapasitas_mesin  232 non-null    object \n",
      " 5   tahun            232 non-null    float64\n",
      " 6   transmisi        232 non-null    object \n",
      " 7   kilometer        232 non-null    object \n",
      " 8   url              348 non-null    object \n",
      " 9   merk             348 non-null    object \n",
      "dtypes: float64(1), object(9)\n",
      "memory usage: 27.3+ KB\n",
      "None\n"
     ]
    }
   ],
   "source": [
    "print(\"Informasi singkat dari tiap dataset:\\n\")\n",
    "print(\"Yamaha:\")\n",
    "print(yamaha.info())\n",
    "print(\"\\nHonda:\")\n",
    "print(honda.info())\n",
    "print(\"\\nKawasaki:\")\n",
    "print(kawasaki.info())\n",
    "print(\"\\nSuzuki:\")\n",
    "print(suzuki.info())"
   ]
  },
  {
   "cell_type": "markdown",
   "metadata": {},
   "source": [
    "Pre-process I: Data mentah -> Data siap pakai\n",
    "Akan dilakukan cek <i> missing values. </i> Jika terdapat <i> missing values, </i> data yang hilang akan diimputasi menggunakan nilai modus. "
   ]
  },
  {
   "cell_type": "code",
   "execution_count": 5,
   "metadata": {},
   "outputs": [
    {
     "name": "stdout",
     "output_type": "stream",
     "text": [
      "yamaha missing values: \n",
      "nama_motor         25.0\n",
      "lokasi             25.0\n",
      "harga              25.0\n",
      "deskripsi          25.0\n",
      "kapasitas_mesin    25.0\n",
      "tahun              25.0\n",
      "transmisi          25.0\n",
      "kilometer          25.0\n",
      "url                 0.0\n",
      "merk                0.0\n",
      "dtype: float64\n",
      "\n",
      "honda missing values: \n",
      "nama_motor         25.0\n",
      "lokasi             25.0\n",
      "harga              25.0\n",
      "deskripsi          25.0\n",
      "kapasitas_mesin    25.0\n",
      "tahun              25.0\n",
      "transmisi          25.0\n",
      "kilometer          25.0\n",
      "url                 0.0\n",
      "merk                0.0\n",
      "dtype: float64\n",
      "\n",
      "kawasaki missing values: \n",
      "nama_motor         25.0\n",
      "lokasi             25.0\n",
      "harga              25.0\n",
      "deskripsi          25.0\n",
      "kapasitas_mesin    25.0\n",
      "tahun              25.0\n",
      "transmisi          25.0\n",
      "kilometer          25.0\n",
      "url                 0.0\n",
      "merk                0.0\n",
      "dtype: float64\n",
      "\n",
      "suzuki missing values: \n",
      "nama_motor         25.0\n",
      "lokasi             25.0\n",
      "harga              25.0\n",
      "deskripsi          25.0\n",
      "kapasitas_mesin    25.0\n",
      "tahun              25.0\n",
      "transmisi          25.0\n",
      "kilometer          25.0\n",
      "url                 0.0\n",
      "merk                0.0\n",
      "dtype: float64\n",
      "\n"
     ]
    }
   ],
   "source": [
    "# Cek rata-rata missing values pada tiap dataset\n",
    "brand = ['yamaha', 'honda', 'kawasaki', 'suzuki']\n",
    "data = [yamaha, honda, kawasaki, suzuki]\n",
    "\n",
    "for i, j in zip(brand, data):\n",
    "    print(f\"{i} missing values: \\n{np.round(honda.isnull().mean(), 2)*100}\")\n",
    "    print()"
   ]
  },
  {
   "cell_type": "code",
   "execution_count": 6,
   "metadata": {},
   "outputs": [],
   "source": [
    "# cari modus dari tiap kolom yang terdapat missing values\n",
    "kolom_null = ['nama_motor', 'lokasi', 'harga', 'deskripsi', \n",
    "              'kapasitas_mesin', 'tahun', 'transmisi', 'kilometer']"
   ]
  },
  {
   "cell_type": "code",
   "execution_count": 7,
   "metadata": {},
   "outputs": [],
   "source": [
    "# Cari modus dan replace NaN dengan modus\n",
    "for col in kolom_null:\n",
    "    # Yamaha\n",
    "    modus_yamaha = yamaha[col].mode()[0]\n",
    "    yamaha[col] = yamaha[col].fillna(modus_yamaha)\n",
    "    \n",
    "    #Honda\n",
    "    modus_honda = honda[col].mode()[0]\n",
    "    honda[col] = honda[col].fillna(modus_honda)\n",
    "    \n",
    "    #Kawasaki\n",
    "    modus_kawasaki = kawasaki[col].mode()[0]\n",
    "    kawasaki[col] = kawasaki[col].fillna(modus_kawasaki)\n",
    "    \n",
    "    #Honda\n",
    "    modus_suzuki = suzuki[col].mode()[0]\n",
    "    suzuki[col] = suzuki[col].fillna(modus_suzuki)"
   ]
  },
  {
   "cell_type": "code",
   "execution_count": 8,
   "metadata": {},
   "outputs": [
    {
     "name": "stdout",
     "output_type": "stream",
     "text": [
      "yamaha missing values: \n",
      "nama_motor         0.0\n",
      "lokasi             0.0\n",
      "harga              0.0\n",
      "deskripsi          0.0\n",
      "kapasitas_mesin    0.0\n",
      "tahun              0.0\n",
      "transmisi          0.0\n",
      "kilometer          0.0\n",
      "url                0.0\n",
      "merk               0.0\n",
      "dtype: float64\n",
      "\n",
      "honda missing values: \n",
      "nama_motor         0.0\n",
      "lokasi             0.0\n",
      "harga              0.0\n",
      "deskripsi          0.0\n",
      "kapasitas_mesin    0.0\n",
      "tahun              0.0\n",
      "transmisi          0.0\n",
      "kilometer          0.0\n",
      "url                0.0\n",
      "merk               0.0\n",
      "dtype: float64\n",
      "\n",
      "kawasaki missing values: \n",
      "nama_motor         0.0\n",
      "lokasi             0.0\n",
      "harga              0.0\n",
      "deskripsi          0.0\n",
      "kapasitas_mesin    0.0\n",
      "tahun              0.0\n",
      "transmisi          0.0\n",
      "kilometer          0.0\n",
      "url                0.0\n",
      "merk               0.0\n",
      "dtype: float64\n",
      "\n",
      "suzuki missing values: \n",
      "nama_motor         0.0\n",
      "lokasi             0.0\n",
      "harga              0.0\n",
      "deskripsi          0.0\n",
      "kapasitas_mesin    0.0\n",
      "tahun              0.0\n",
      "transmisi          0.0\n",
      "kilometer          0.0\n",
      "url                0.0\n",
      "merk               0.0\n",
      "dtype: float64\n",
      "\n"
     ]
    }
   ],
   "source": [
    "# Cek missing values lagi\n",
    "for i, j in zip(brand, data):\n",
    "    print(f\"{i} missing values: \\n{np.round(honda.isnull().mean(), 2)*100}\")\n",
    "    print()"
   ]
  },
  {
   "cell_type": "code",
   "execution_count": 9,
   "metadata": {},
   "outputs": [
    {
     "name": "stdout",
     "output_type": "stream",
     "text": [
      "Shape dari dataset yang digabung:  (2292, 10)\n"
     ]
    },
    {
     "data": {
      "text/html": [
       "<div>\n",
       "<style scoped>\n",
       "    .dataframe tbody tr th:only-of-type {\n",
       "        vertical-align: middle;\n",
       "    }\n",
       "\n",
       "    .dataframe tbody tr th {\n",
       "        vertical-align: top;\n",
       "    }\n",
       "\n",
       "    .dataframe thead th {\n",
       "        text-align: right;\n",
       "    }\n",
       "</style>\n",
       "<table border=\"1\" class=\"dataframe\">\n",
       "  <thead>\n",
       "    <tr style=\"text-align: right;\">\n",
       "      <th></th>\n",
       "      <th>nama_motor</th>\n",
       "      <th>lokasi</th>\n",
       "      <th>harga</th>\n",
       "      <th>deskripsi</th>\n",
       "      <th>kapasitas_mesin</th>\n",
       "      <th>tahun</th>\n",
       "      <th>transmisi</th>\n",
       "      <th>kilometer</th>\n",
       "      <th>url</th>\n",
       "      <th>merk</th>\n",
       "    </tr>\n",
       "  </thead>\n",
       "  <tbody>\n",
       "    <tr>\n",
       "      <th>0</th>\n",
       "      <td>Yamaha All New Nmax 155</td>\n",
       "      <td>Kota Medan</td>\n",
       "      <td>Rp17,500,000</td>\n",
       "      <td>Ss lengkap , plat pajak hidup , nego di tempat</td>\n",
       "      <td>125 CC</td>\n",
       "      <td>2019.0</td>\n",
       "      <td>Otomatis</td>\n",
       "      <td>&gt;30000 KM</td>\n",
       "      <td>https://www.momotor.id/motor-bekas/yamaha/yama...</td>\n",
       "      <td>Yamaha</td>\n",
       "    </tr>\n",
       "    <tr>\n",
       "      <th>1</th>\n",
       "      <td>Yamaha All New Nmax 155</td>\n",
       "      <td>Kota Medan</td>\n",
       "      <td>Rp17,500,000</td>\n",
       "      <td>Ss lengkap , plat pajak hidup , nego di tempat</td>\n",
       "      <td>125 CC</td>\n",
       "      <td>2019.0</td>\n",
       "      <td>Otomatis</td>\n",
       "      <td>&gt;30000 KM</td>\n",
       "      <td>https://www.momotor.id/motor-bekas/yamaha/yama...</td>\n",
       "      <td>Yamaha</td>\n",
       "    </tr>\n",
       "    <tr>\n",
       "      <th>2</th>\n",
       "      <td>Yamaha All New Nmax 155</td>\n",
       "      <td>Kota Medan</td>\n",
       "      <td>Rp17,500,000</td>\n",
       "      <td>Ss lengkap , plat pajak hidup , nego di tempat</td>\n",
       "      <td>125 CC</td>\n",
       "      <td>2019.0</td>\n",
       "      <td>Otomatis</td>\n",
       "      <td>&gt;30000 KM</td>\n",
       "      <td>https://www.momotor.id/motor-bekas/yamaha/yama...</td>\n",
       "      <td>Yamaha</td>\n",
       "    </tr>\n",
       "    <tr>\n",
       "      <th>3</th>\n",
       "      <td>Yamaha All New Nmax 155</td>\n",
       "      <td>Kota Medan</td>\n",
       "      <td>Rp17,500,000</td>\n",
       "      <td>Ss lengkap , plat pajak hidup , nego di tempat</td>\n",
       "      <td>125 CC</td>\n",
       "      <td>2019.0</td>\n",
       "      <td>Otomatis</td>\n",
       "      <td>&gt;30000 KM</td>\n",
       "      <td>https://www.momotor.id/motor-bekas/yamaha/yama...</td>\n",
       "      <td>Yamaha</td>\n",
       "    </tr>\n",
       "    <tr>\n",
       "      <th>4</th>\n",
       "      <td>Yamaha All New Nmax 155</td>\n",
       "      <td>Kota Medan</td>\n",
       "      <td>Rp17,500,000</td>\n",
       "      <td>Ss lengkap , plat pajak hidup , nego di tempat</td>\n",
       "      <td>125 CC</td>\n",
       "      <td>2019.0</td>\n",
       "      <td>Otomatis</td>\n",
       "      <td>&gt;30000 KM</td>\n",
       "      <td>https://www.momotor.id/motor-bekas/yamaha/yama...</td>\n",
       "      <td>Yamaha</td>\n",
       "    </tr>\n",
       "  </tbody>\n",
       "</table>\n",
       "</div>"
      ],
      "text/plain": [
       "                nama_motor      lokasi         harga  \\\n",
       "0  Yamaha All New Nmax 155  Kota Medan  Rp17,500,000   \n",
       "1  Yamaha All New Nmax 155  Kota Medan  Rp17,500,000   \n",
       "2  Yamaha All New Nmax 155  Kota Medan  Rp17,500,000   \n",
       "3  Yamaha All New Nmax 155  Kota Medan  Rp17,500,000   \n",
       "4  Yamaha All New Nmax 155  Kota Medan  Rp17,500,000   \n",
       "\n",
       "                                        deskripsi kapasitas_mesin   tahun  \\\n",
       "0  Ss lengkap , plat pajak hidup , nego di tempat          125 CC  2019.0   \n",
       "1  Ss lengkap , plat pajak hidup , nego di tempat          125 CC  2019.0   \n",
       "2  Ss lengkap , plat pajak hidup , nego di tempat          125 CC  2019.0   \n",
       "3  Ss lengkap , plat pajak hidup , nego di tempat          125 CC  2019.0   \n",
       "4  Ss lengkap , plat pajak hidup , nego di tempat          125 CC  2019.0   \n",
       "\n",
       "  transmisi  kilometer                                                url  \\\n",
       "0  Otomatis  >30000 KM  https://www.momotor.id/motor-bekas/yamaha/yama...   \n",
       "1  Otomatis  >30000 KM  https://www.momotor.id/motor-bekas/yamaha/yama...   \n",
       "2  Otomatis  >30000 KM  https://www.momotor.id/motor-bekas/yamaha/yama...   \n",
       "3  Otomatis  >30000 KM  https://www.momotor.id/motor-bekas/yamaha/yama...   \n",
       "4  Otomatis  >30000 KM  https://www.momotor.id/motor-bekas/yamaha/yama...   \n",
       "\n",
       "     merk  \n",
       "0  Yamaha  \n",
       "1  Yamaha  \n",
       "2  Yamaha  \n",
       "3  Yamaha  \n",
       "4  Yamaha  "
      ]
     },
     "execution_count": 9,
     "metadata": {},
     "output_type": "execute_result"
    }
   ],
   "source": [
    "# Merge dataset\n",
    "used_motor = pd.concat([yamaha, honda, kawasaki, suzuki])\n",
    "print(\"Shape dari dataset yang digabung: \", used_motor.shape)\n",
    "used_motor.head()"
   ]
  },
  {
   "cell_type": "markdown",
   "metadata": {},
   "source": [
    "---\n",
    "#### Exploratory Data Analysis <br>\n",
    "Pada tahap EDA, akan dilakukan ...."
   ]
  },
  {
   "cell_type": "code",
   "execution_count": null,
   "metadata": {},
   "outputs": [],
   "source": []
  },
  {
   "cell_type": "code",
   "execution_count": null,
   "metadata": {},
   "outputs": [],
   "source": []
  },
  {
   "cell_type": "markdown",
   "metadata": {},
   "source": [
    "---\n",
    "#### Data Pre-processing\n",
    "Pada tahap ini, akan dilakukan:\n",
    "- <i>remove missing values</i>\n",
    "- "
   ]
  },
  {
   "cell_type": "code",
   "execution_count": null,
   "metadata": {},
   "outputs": [],
   "source": []
  },
  {
   "cell_type": "code",
   "execution_count": null,
   "metadata": {},
   "outputs": [],
   "source": []
  },
  {
   "cell_type": "markdown",
   "metadata": {},
   "source": [
    "---\n",
    "#### Modeling\n",
    "Pada tahap ...."
   ]
  },
  {
   "cell_type": "code",
   "execution_count": null,
   "metadata": {},
   "outputs": [],
   "source": []
  },
  {
   "cell_type": "markdown",
   "metadata": {},
   "source": [
    "Tuning Hyperparameter <br>\n",
    "...."
   ]
  },
  {
   "cell_type": "code",
   "execution_count": null,
   "metadata": {},
   "outputs": [],
   "source": []
  },
  {
   "cell_type": "markdown",
   "metadata": {},
   "source": [
    "Finalisasi Model\n",
    "...."
   ]
  },
  {
   "cell_type": "code",
   "execution_count": null,
   "metadata": {},
   "outputs": [],
   "source": []
  },
  {
   "cell_type": "code",
   "execution_count": null,
   "metadata": {},
   "outputs": [],
   "source": []
  },
  {
   "cell_type": "markdown",
   "metadata": {},
   "source": [
    "---\n",
    "#### Evaluasi"
   ]
  },
  {
   "cell_type": "code",
   "execution_count": null,
   "metadata": {},
   "outputs": [],
   "source": []
  },
  {
   "cell_type": "code",
   "execution_count": null,
   "metadata": {},
   "outputs": [],
   "source": []
  },
  {
   "cell_type": "markdown",
   "metadata": {},
   "source": [
    "Terlihat model ....."
   ]
  },
  {
   "cell_type": "markdown",
   "metadata": {},
   "source": [
    "---\n",
    "#### Save model\n",
    "Model yang dengan akurasi tertinggi akan disimpan untuk di <i> deploy </i>"
   ]
  },
  {
   "cell_type": "code",
   "execution_count": null,
   "metadata": {},
   "outputs": [],
   "source": []
  }
 ],
 "metadata": {
  "kernelspec": {
   "display_name": "q323",
   "language": "python",
   "name": "python3"
  },
  "language_info": {
   "codemirror_mode": {
    "name": "ipython",
    "version": 3
   },
   "file_extension": ".py",
   "mimetype": "text/x-python",
   "name": "python",
   "nbconvert_exporter": "python",
   "pygments_lexer": "ipython3",
   "version": "3.11.5"
  }
 },
 "nbformat": 4,
 "nbformat_minor": 2
}
