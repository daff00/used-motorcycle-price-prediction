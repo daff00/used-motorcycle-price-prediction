{
 "cells": [
  {
   "cell_type": "markdown",
   "metadata": {},
   "source": [
    "# Deep Learning RNN Model for Used Motorcycle Price Prediction\n",
    "## IS794 AL - Deep Learning (Lab)\n",
    "Kelompok B: <br>\n",
    "- Daffa Kaisha Pratama Chandra (00000055770)\n",
    "- Justine Donovan (00000063202)\n",
    "- Marsella Patricia (00000063226)\n",
    "- Reina Ratu Balqis (00000065099)\n",
    "---\n",
    "### Import Libraries"
   ]
  },
  {
   "cell_type": "code",
   "execution_count": 22,
   "metadata": {},
   "outputs": [],
   "source": [
    "# Basic library\n",
    "import pandas as pd\n",
    "import numpy as np\n",
    "from scipy import stats\n",
    "\n",
    "# Pre-processing\n",
    "from sklearn.model_selection import train_test_split\n",
    "from sklearn.preprocessing import LabelEncoder, MinMaxScaler\n",
    "from sklearn.metrics import r2_score, mean_squared_error, mean_absolute_error\n",
    "\n",
    "# Visualization\n",
    "import matplotlib.pyplot as plt\n",
    "import seaborn as sns\n",
    "%matplotlib inline\n",
    "\n",
    "# Deep learning\n",
    "import tensorflow as tf\n",
    "from tensorflow import keras\n",
    "\n",
    "# Ignore warning\n",
    "import warnings\n",
    "warnings.simplefilter(\"ignore\")"
   ]
  },
  {
   "cell_type": "markdown",
   "metadata": {},
   "source": [
    "---\n",
    "Baca Dataset"
   ]
  },
  {
   "cell_type": "code",
   "execution_count": 23,
   "metadata": {},
   "outputs": [],
   "source": [
    "yamaha = pd.read_csv(\"motor_yamaha_bekas.csv\", index_col=False)\n",
    "honda = pd.read_csv(\"motor_honda_bekas.csv\", index_col=False)\n",
    "kawasaki = pd.read_csv(\"motor_kawasaki_bekas.csv\", index_col=False)\n",
    "suzuki = pd.read_csv(\"motor_suzuki_bekas.csv\", index_col=False)"
   ]
  },
  {
   "cell_type": "markdown",
   "metadata": {},
   "source": [
    "Penjelasan singkat mengenai dataset yang digunakan: <br>\n",
    "Dataset ini merupakan hasil web scraping dari website https://momotor.id/"
   ]
  },
  {
   "cell_type": "code",
   "execution_count": 24,
   "metadata": {},
   "outputs": [
    {
     "name": "stdout",
     "output_type": "stream",
     "text": [
      "Shape dari tiap dataset:\n",
      "Dataset Yamaha memiliki 10 kolom dan 588 baris.\n",
      "Dataset Honda memiliki 10 kolom dan 1008 baris.\n",
      "Dataset Kawasaki memiliki 10 kolom dan 348 baris.\n",
      "Dataset Suzuki memiliki 10 kolom dan 348 baris.\n"
     ]
    }
   ],
   "source": [
    "print(\"Shape dari tiap dataset:\")\n",
    "print(f\"Dataset Yamaha memiliki {yamaha.shape[1]} kolom dan {yamaha.shape[0]} baris.\")\n",
    "print(f\"Dataset Honda memiliki {honda.shape[1]} kolom dan {honda.shape[0]} baris.\")\n",
    "print(f\"Dataset Kawasaki memiliki {kawasaki.shape[1]} kolom dan {kawasaki.shape[0]} baris.\")\n",
    "print(f\"Dataset Suzuki memiliki {suzuki.shape[1]} kolom dan {suzuki.shape[0]} baris.\")"
   ]
  },
  {
   "cell_type": "code",
   "execution_count": 25,
   "metadata": {},
   "outputs": [
    {
     "name": "stdout",
     "output_type": "stream",
     "text": [
      "Informasi singkat dari tiap dataset:\n",
      "\n",
      "Yamaha:\n",
      "<class 'pandas.core.frame.DataFrame'>\n",
      "RangeIndex: 588 entries, 0 to 587\n",
      "Data columns (total 10 columns):\n",
      " #   Column           Non-Null Count  Dtype  \n",
      "---  ------           --------------  -----  \n",
      " 0   nama_motor       343 non-null    object \n",
      " 1   lokasi           343 non-null    object \n",
      " 2   harga            343 non-null    object \n",
      " 3   deskripsi        343 non-null    object \n",
      " 4   kapasitas_mesin  343 non-null    object \n",
      " 5   tahun            343 non-null    float64\n",
      " 6   transmisi        343 non-null    object \n",
      " 7   kilometer        343 non-null    object \n",
      " 8   url              588 non-null    object \n",
      " 9   merk             588 non-null    object \n",
      "dtypes: float64(1), object(9)\n",
      "memory usage: 46.1+ KB\n",
      "None\n",
      "\n",
      "Honda:\n",
      "<class 'pandas.core.frame.DataFrame'>\n",
      "RangeIndex: 1008 entries, 0 to 1007\n",
      "Data columns (total 10 columns):\n",
      " #   Column           Non-Null Count  Dtype  \n",
      "---  ------           --------------  -----  \n",
      " 0   nama_motor       756 non-null    object \n",
      " 1   lokasi           756 non-null    object \n",
      " 2   harga            756 non-null    object \n",
      " 3   deskripsi        756 non-null    object \n",
      " 4   kapasitas_mesin  756 non-null    object \n",
      " 5   tahun            756 non-null    float64\n",
      " 6   transmisi        756 non-null    object \n",
      " 7   kilometer        756 non-null    object \n",
      " 8   url              1008 non-null   object \n",
      " 9   merk             1008 non-null   object \n",
      "dtypes: float64(1), object(9)\n",
      "memory usage: 78.9+ KB\n",
      "None\n",
      "\n",
      "Kawasaki:\n",
      "<class 'pandas.core.frame.DataFrame'>\n",
      "RangeIndex: 348 entries, 0 to 347\n",
      "Data columns (total 10 columns):\n",
      " #   Column           Non-Null Count  Dtype  \n",
      "---  ------           --------------  -----  \n",
      " 0   nama_motor       174 non-null    object \n",
      " 1   lokasi           174 non-null    object \n",
      " 2   harga            174 non-null    object \n",
      " 3   deskripsi        174 non-null    object \n",
      " 4   kapasitas_mesin  174 non-null    object \n",
      " 5   tahun            174 non-null    float64\n",
      " 6   transmisi        174 non-null    object \n",
      " 7   kilometer        174 non-null    object \n",
      " 8   url              348 non-null    object \n",
      " 9   merk             348 non-null    object \n",
      "dtypes: float64(1), object(9)\n",
      "memory usage: 27.3+ KB\n",
      "None\n",
      "\n",
      "Suzuki:\n",
      "<class 'pandas.core.frame.DataFrame'>\n",
      "RangeIndex: 348 entries, 0 to 347\n",
      "Data columns (total 10 columns):\n",
      " #   Column           Non-Null Count  Dtype  \n",
      "---  ------           --------------  -----  \n",
      " 0   nama_motor       232 non-null    object \n",
      " 1   lokasi           232 non-null    object \n",
      " 2   harga            232 non-null    object \n",
      " 3   deskripsi        232 non-null    object \n",
      " 4   kapasitas_mesin  232 non-null    object \n",
      " 5   tahun            232 non-null    float64\n",
      " 6   transmisi        232 non-null    object \n",
      " 7   kilometer        232 non-null    object \n",
      " 8   url              348 non-null    object \n",
      " 9   merk             348 non-null    object \n",
      "dtypes: float64(1), object(9)\n",
      "memory usage: 27.3+ KB\n",
      "None\n"
     ]
    }
   ],
   "source": [
    "print(\"Informasi singkat dari tiap dataset:\\n\")\n",
    "print(\"Yamaha:\")\n",
    "print(yamaha.info())\n",
    "print(\"\\nHonda:\")\n",
    "print(honda.info())\n",
    "print(\"\\nKawasaki:\")\n",
    "print(kawasaki.info())\n",
    "print(\"\\nSuzuki:\")\n",
    "print(suzuki.info())"
   ]
  },
  {
   "cell_type": "markdown",
   "metadata": {},
   "source": [
    "Pre-process I: Data mentah -> Data siap pakai\n",
    "Akan dilakukan cek <i> missing values. </i> Jika terdapat <i> missing values, </i> data yang hilang akan diimputasi menggunakan nilai modus. "
   ]
  },
  {
   "cell_type": "code",
   "execution_count": 26,
   "metadata": {},
   "outputs": [
    {
     "name": "stdout",
     "output_type": "stream",
     "text": [
      "yamaha missing values: \n",
      "nama_motor         25.0\n",
      "lokasi             25.0\n",
      "harga              25.0\n",
      "deskripsi          25.0\n",
      "kapasitas_mesin    25.0\n",
      "tahun              25.0\n",
      "transmisi          25.0\n",
      "kilometer          25.0\n",
      "url                 0.0\n",
      "merk                0.0\n",
      "dtype: float64\n",
      "\n",
      "honda missing values: \n",
      "nama_motor         25.0\n",
      "lokasi             25.0\n",
      "harga              25.0\n",
      "deskripsi          25.0\n",
      "kapasitas_mesin    25.0\n",
      "tahun              25.0\n",
      "transmisi          25.0\n",
      "kilometer          25.0\n",
      "url                 0.0\n",
      "merk                0.0\n",
      "dtype: float64\n",
      "\n",
      "kawasaki missing values: \n",
      "nama_motor         25.0\n",
      "lokasi             25.0\n",
      "harga              25.0\n",
      "deskripsi          25.0\n",
      "kapasitas_mesin    25.0\n",
      "tahun              25.0\n",
      "transmisi          25.0\n",
      "kilometer          25.0\n",
      "url                 0.0\n",
      "merk                0.0\n",
      "dtype: float64\n",
      "\n",
      "suzuki missing values: \n",
      "nama_motor         25.0\n",
      "lokasi             25.0\n",
      "harga              25.0\n",
      "deskripsi          25.0\n",
      "kapasitas_mesin    25.0\n",
      "tahun              25.0\n",
      "transmisi          25.0\n",
      "kilometer          25.0\n",
      "url                 0.0\n",
      "merk                0.0\n",
      "dtype: float64\n",
      "\n"
     ]
    }
   ],
   "source": [
    "# Cek rata-rata missing values pada tiap dataset\n",
    "brand = ['yamaha', 'honda', 'kawasaki', 'suzuki']\n",
    "data = [yamaha, honda, kawasaki, suzuki]\n",
    "\n",
    "for i, j in zip(brand, data):\n",
    "    print(f\"{i} missing values: \\n{np.round(honda.isnull().mean(), 2)*100}\")\n",
    "    print()"
   ]
  },
  {
   "cell_type": "code",
   "execution_count": 27,
   "metadata": {},
   "outputs": [],
   "source": [
    "# cari modus dari tiap kolom yang terdapat missing values\n",
    "kolom_null = ['nama_motor', 'lokasi', 'harga', 'deskripsi', \n",
    "              'kapasitas_mesin', 'tahun', 'transmisi', 'kilometer']"
   ]
  },
  {
   "cell_type": "code",
   "execution_count": 28,
   "metadata": {},
   "outputs": [],
   "source": [
    "# Cari modus dan replace NaN dengan modus\n",
    "for col in kolom_null:\n",
    "    # Yamaha\n",
    "    modus_yamaha = yamaha[col].mode()[0]\n",
    "    yamaha[col] = yamaha[col].fillna(modus_yamaha)\n",
    "    \n",
    "    #Honda\n",
    "    modus_honda = honda[col].mode()[0]\n",
    "    honda[col] = honda[col].fillna(modus_honda)\n",
    "    \n",
    "    #Kawasaki\n",
    "    modus_kawasaki = kawasaki[col].mode()[0]\n",
    "    kawasaki[col] = kawasaki[col].fillna(modus_kawasaki)\n",
    "    \n",
    "    #Honda\n",
    "    modus_suzuki = suzuki[col].mode()[0]\n",
    "    suzuki[col] = suzuki[col].fillna(modus_suzuki)"
   ]
  },
  {
   "cell_type": "code",
   "execution_count": 29,
   "metadata": {},
   "outputs": [
    {
     "name": "stdout",
     "output_type": "stream",
     "text": [
      "yamaha missing values: \n",
      "nama_motor         0.0\n",
      "lokasi             0.0\n",
      "harga              0.0\n",
      "deskripsi          0.0\n",
      "kapasitas_mesin    0.0\n",
      "tahun              0.0\n",
      "transmisi          0.0\n",
      "kilometer          0.0\n",
      "url                0.0\n",
      "merk               0.0\n",
      "dtype: float64\n",
      "\n",
      "honda missing values: \n",
      "nama_motor         0.0\n",
      "lokasi             0.0\n",
      "harga              0.0\n",
      "deskripsi          0.0\n",
      "kapasitas_mesin    0.0\n",
      "tahun              0.0\n",
      "transmisi          0.0\n",
      "kilometer          0.0\n",
      "url                0.0\n",
      "merk               0.0\n",
      "dtype: float64\n",
      "\n",
      "kawasaki missing values: \n",
      "nama_motor         0.0\n",
      "lokasi             0.0\n",
      "harga              0.0\n",
      "deskripsi          0.0\n",
      "kapasitas_mesin    0.0\n",
      "tahun              0.0\n",
      "transmisi          0.0\n",
      "kilometer          0.0\n",
      "url                0.0\n",
      "merk               0.0\n",
      "dtype: float64\n",
      "\n",
      "suzuki missing values: \n",
      "nama_motor         0.0\n",
      "lokasi             0.0\n",
      "harga              0.0\n",
      "deskripsi          0.0\n",
      "kapasitas_mesin    0.0\n",
      "tahun              0.0\n",
      "transmisi          0.0\n",
      "kilometer          0.0\n",
      "url                0.0\n",
      "merk               0.0\n",
      "dtype: float64\n",
      "\n"
     ]
    }
   ],
   "source": [
    "# Cek missing values lagi\n",
    "for i, j in zip(brand, data):\n",
    "    print(f\"{i} missing values: \\n{np.round(honda.isnull().mean(), 2)*100}\")\n",
    "    print()"
   ]
  },
  {
   "cell_type": "code",
   "execution_count": 30,
   "metadata": {},
   "outputs": [
    {
     "name": "stdout",
     "output_type": "stream",
     "text": [
      "Shape dari dataset yang digabung:  (2292, 10)\n"
     ]
    },
    {
     "data": {
      "text/html": [
       "<div>\n",
       "<style scoped>\n",
       "    .dataframe tbody tr th:only-of-type {\n",
       "        vertical-align: middle;\n",
       "    }\n",
       "\n",
       "    .dataframe tbody tr th {\n",
       "        vertical-align: top;\n",
       "    }\n",
       "\n",
       "    .dataframe thead th {\n",
       "        text-align: right;\n",
       "    }\n",
       "</style>\n",
       "<table border=\"1\" class=\"dataframe\">\n",
       "  <thead>\n",
       "    <tr style=\"text-align: right;\">\n",
       "      <th></th>\n",
       "      <th>nama_motor</th>\n",
       "      <th>lokasi</th>\n",
       "      <th>harga</th>\n",
       "      <th>deskripsi</th>\n",
       "      <th>kapasitas_mesin</th>\n",
       "      <th>tahun</th>\n",
       "      <th>transmisi</th>\n",
       "      <th>kilometer</th>\n",
       "      <th>url</th>\n",
       "      <th>merk</th>\n",
       "    </tr>\n",
       "  </thead>\n",
       "  <tbody>\n",
       "    <tr>\n",
       "      <th>0</th>\n",
       "      <td>Yamaha All New Nmax 155</td>\n",
       "      <td>Kota Medan</td>\n",
       "      <td>Rp17,500,000</td>\n",
       "      <td>Ss lengkap , plat pajak hidup , nego di tempat</td>\n",
       "      <td>125 CC</td>\n",
       "      <td>2019.0</td>\n",
       "      <td>Otomatis</td>\n",
       "      <td>&gt;30000 KM</td>\n",
       "      <td>https://www.momotor.id/motor-bekas/yamaha/yama...</td>\n",
       "      <td>Yamaha</td>\n",
       "    </tr>\n",
       "    <tr>\n",
       "      <th>1</th>\n",
       "      <td>Yamaha All New Nmax 155</td>\n",
       "      <td>Kota Medan</td>\n",
       "      <td>Rp17,500,000</td>\n",
       "      <td>Ss lengkap , plat pajak hidup , nego di tempat</td>\n",
       "      <td>125 CC</td>\n",
       "      <td>2019.0</td>\n",
       "      <td>Otomatis</td>\n",
       "      <td>&gt;30000 KM</td>\n",
       "      <td>https://www.momotor.id/motor-bekas/yamaha/yama...</td>\n",
       "      <td>Yamaha</td>\n",
       "    </tr>\n",
       "    <tr>\n",
       "      <th>2</th>\n",
       "      <td>Yamaha All New Nmax 155</td>\n",
       "      <td>Kota Medan</td>\n",
       "      <td>Rp17,500,000</td>\n",
       "      <td>Ss lengkap , plat pajak hidup , nego di tempat</td>\n",
       "      <td>125 CC</td>\n",
       "      <td>2019.0</td>\n",
       "      <td>Otomatis</td>\n",
       "      <td>&gt;30000 KM</td>\n",
       "      <td>https://www.momotor.id/motor-bekas/yamaha/yama...</td>\n",
       "      <td>Yamaha</td>\n",
       "    </tr>\n",
       "    <tr>\n",
       "      <th>3</th>\n",
       "      <td>Yamaha All New Nmax 155</td>\n",
       "      <td>Kota Medan</td>\n",
       "      <td>Rp17,500,000</td>\n",
       "      <td>Ss lengkap , plat pajak hidup , nego di tempat</td>\n",
       "      <td>125 CC</td>\n",
       "      <td>2019.0</td>\n",
       "      <td>Otomatis</td>\n",
       "      <td>&gt;30000 KM</td>\n",
       "      <td>https://www.momotor.id/motor-bekas/yamaha/yama...</td>\n",
       "      <td>Yamaha</td>\n",
       "    </tr>\n",
       "    <tr>\n",
       "      <th>4</th>\n",
       "      <td>Yamaha All New Nmax 155</td>\n",
       "      <td>Kota Medan</td>\n",
       "      <td>Rp17,500,000</td>\n",
       "      <td>Ss lengkap , plat pajak hidup , nego di tempat</td>\n",
       "      <td>125 CC</td>\n",
       "      <td>2019.0</td>\n",
       "      <td>Otomatis</td>\n",
       "      <td>&gt;30000 KM</td>\n",
       "      <td>https://www.momotor.id/motor-bekas/yamaha/yama...</td>\n",
       "      <td>Yamaha</td>\n",
       "    </tr>\n",
       "  </tbody>\n",
       "</table>\n",
       "</div>"
      ],
      "text/plain": [
       "                nama_motor      lokasi         harga   \n",
       "0  Yamaha All New Nmax 155  Kota Medan  Rp17,500,000  \\\n",
       "1  Yamaha All New Nmax 155  Kota Medan  Rp17,500,000   \n",
       "2  Yamaha All New Nmax 155  Kota Medan  Rp17,500,000   \n",
       "3  Yamaha All New Nmax 155  Kota Medan  Rp17,500,000   \n",
       "4  Yamaha All New Nmax 155  Kota Medan  Rp17,500,000   \n",
       "\n",
       "                                        deskripsi kapasitas_mesin   tahun   \n",
       "0  Ss lengkap , plat pajak hidup , nego di tempat          125 CC  2019.0  \\\n",
       "1  Ss lengkap , plat pajak hidup , nego di tempat          125 CC  2019.0   \n",
       "2  Ss lengkap , plat pajak hidup , nego di tempat          125 CC  2019.0   \n",
       "3  Ss lengkap , plat pajak hidup , nego di tempat          125 CC  2019.0   \n",
       "4  Ss lengkap , plat pajak hidup , nego di tempat          125 CC  2019.0   \n",
       "\n",
       "  transmisi  kilometer                                                url   \n",
       "0  Otomatis  >30000 KM  https://www.momotor.id/motor-bekas/yamaha/yama...  \\\n",
       "1  Otomatis  >30000 KM  https://www.momotor.id/motor-bekas/yamaha/yama...   \n",
       "2  Otomatis  >30000 KM  https://www.momotor.id/motor-bekas/yamaha/yama...   \n",
       "3  Otomatis  >30000 KM  https://www.momotor.id/motor-bekas/yamaha/yama...   \n",
       "4  Otomatis  >30000 KM  https://www.momotor.id/motor-bekas/yamaha/yama...   \n",
       "\n",
       "     merk  \n",
       "0  Yamaha  \n",
       "1  Yamaha  \n",
       "2  Yamaha  \n",
       "3  Yamaha  \n",
       "4  Yamaha  "
      ]
     },
     "execution_count": 30,
     "metadata": {},
     "output_type": "execute_result"
    }
   ],
   "source": [
    "# Merge dataset\n",
    "used_motor = pd.concat([yamaha, honda, kawasaki, suzuki])\n",
    "print(\"Shape dari dataset yang digabung: \", used_motor.shape)\n",
    "used_motor.head()"
   ]
  },
  {
   "cell_type": "markdown",
   "metadata": {},
   "source": [
    "---\n",
    "#### Exploratory Data Analysis <br>\n",
    "Pada tahap EDA, akan dilakukan ...."
   ]
  },
  {
   "cell_type": "code",
   "execution_count": 31,
   "metadata": {},
   "outputs": [
    {
     "name": "stdout",
     "output_type": "stream",
     "text": [
      "<class 'pandas.core.frame.DataFrame'>\n",
      "Index: 2292 entries, 0 to 347\n",
      "Data columns (total 10 columns):\n",
      " #   Column           Non-Null Count  Dtype  \n",
      "---  ------           --------------  -----  \n",
      " 0   nama_motor       2292 non-null   object \n",
      " 1   lokasi           2292 non-null   object \n",
      " 2   harga            2292 non-null   object \n",
      " 3   deskripsi        2292 non-null   object \n",
      " 4   kapasitas_mesin  2292 non-null   object \n",
      " 5   tahun            2292 non-null   float64\n",
      " 6   transmisi        2292 non-null   object \n",
      " 7   kilometer        2292 non-null   object \n",
      " 8   url              2292 non-null   object \n",
      " 9   merk             2292 non-null   object \n",
      "dtypes: float64(1), object(9)\n",
      "memory usage: 197.0+ KB\n"
     ]
    }
   ],
   "source": [
    "used_motor.info()"
   ]
  },
  {
   "cell_type": "code",
   "execution_count": 32,
   "metadata": {},
   "outputs": [
    {
     "name": "stdout",
     "output_type": "stream",
     "text": [
      "nama_motor : 22\n",
      "lokasi : 9\n",
      "harga : 22\n",
      "deskripsi : 21\n",
      "kapasitas_mesin : 7\n",
      "tahun : 6\n",
      "transmisi : 2\n",
      "kilometer : 4\n",
      "url : 48\n",
      "merk : 4\n"
     ]
    }
   ],
   "source": [
    "# Loop melalui tiap kolom dan mencetak nilai unik\n",
    "unique_value_count ={}\n",
    "for column in used_motor.columns : \n",
    "    unique_values = used_motor[column].unique()\n",
    "    unique_count = len(unique_values)\n",
    "    unique_value_count[column] = unique_count\n",
    "\n",
    "for column, count in unique_value_count.items():\n",
    "    print(f\"{column} : {count}\")\n"
   ]
  },
  {
   "cell_type": "code",
   "execution_count": 33,
   "metadata": {},
   "outputs": [
    {
     "name": "stdout",
     "output_type": "stream",
     "text": [
      "Kolom nama_motor: ['Yamaha All New Nmax 155' 'Yamaha Lexi S' 'Yamaha Jupiter Mx Cw'\n",
      " 'Yamaha Nmax Abs' 'Yamaha Fino Sporty' 'Yamaha Gear 125'\n",
      " 'Yamaha Gear 125 S-version' 'Honda Vario 125 Esp Cbs Iss'\n",
      " 'Honda Beat Esp Cbs Iss Dlx' 'Honda New Beat Street Esp' 'Honda Cb150r'\n",
      " 'Honda Supra X 125 Injeksi' 'Kawasaki Klx 150' 'Kawasaki Ninja 250'\n",
      " 'Kawasaki Ninja 250 Abs Se' 'Kawasaki Ninja R' 'Kawasaki Z 800'\n",
      " 'Kawasaki Ninja Rr' 'Suzuki Gsx R150' 'Suzuki Satria Fu 150'\n",
      " 'Suzuki Gsx 150 Bandit' 'Suzuki Satria F 150']\n",
      "Kolom lokasi: ['Kota Medan' 'Kota Bekasi' 'Kota Jakarta Barat' 'Kab. Tangerang'\n",
      " 'Kota Jakarta Timur' 'Kab. Bandung' 'Kota Jakarta Selatan' 'Kota Bandung'\n",
      " 'Kota Jakarta Utara']\n",
      "Kolom harga: ['Rp17,500,000' 'Rp17,800,000' 'Rp12,500,000' 'Rp27,300,000'\n",
      " 'Rp14,800,000' 'Rp20,800,000' 'Rp18,600,000' 'Rp17,600,000'\n",
      " 'Rp18,500,000' 'Rp24,999,000' 'Rp16,000,000' 'Rp21,500,000'\n",
      " 'Rp22,900,000' 'Rp24,500,000' 'Rp37,000,000' 'Rp52,400,000'\n",
      " 'Rp246,000,000' 'Rp34,500,000' 'Rp16,900,000' 'Rp10,500,000'\n",
      " 'Rp23,500,000' 'Rp16,500,000']\n",
      "Kolom deskripsi: ['Ss lengkap , plat pajak hidup , nego di tempat'\n",
      " 'Ss lengkap , pajak plat hidup , nego di tempat'\n",
      " 'Ss lengkap , nego di tempat'\n",
      " 'Ss lengkap , plat pajak hidup  , nego di tempat'\n",
      " 'DEALER MUTIARA MOTORJl. Saluran irigasi gempol, Rt 002/Rw 010, Kavling, Medan Satria, Bekasi (sa'\n",
      " 'DEALER MUTIARA MOTORJl. Saluran irigasi gempol, Medan Satria\\xa0 Bekasi. (Tipe Motor)Ca'\n",
      " 'Ss lengkap  , plat pajak hidup , nego di tempat'\n",
      " 'Ss lengkap , plat pajak hidup'\n",
      " 'Kawasaki KLX 150 G\\r\\nTahun 2017\\r\\nSurat kendaraan lengkap\\r\\nPajak plat hidup panjang\\r\\nPajak 09-2023\\r\\nPlat'\n",
      " '❗️Ready Stock ❗️Dijual Kawasaki ninja 250 tahun 2015Cash : 37.000 ( nego )Si'\n",
      " 'SUKSES MOTOR-WA: 081286299300-WEB : www.suksesmotoronline.com-GARANSI MESIN-GRATIS K'\n",
      " 'Kondisi mulus mesin bagus surat lengkap pajak hidup di jamin siap pakai,di jual cash kredit tukar ta'\n",
      " 'Motor mulus dan bagus surat2 lengkap dan tidak ada kendala sama sekali,pajak hidup dan unit siap pak'\n",
      " 'MOKASBERKELAS LAMPEGAN MOTORSELALU WA KE 081394510605 UNTUK KETERSEDIAAN UNIT UN'\n",
      " 'Suzuki GSX-R 150 Keyless Tahun 2017 Pemakaian 2018\\r\\nSurat kendaraan lengkap\\r\\nPajak plat hidup panjang'\n",
      " 'Motor mulus dan bagus surat2 lengkap dan tidak ada kendala sama sekali.pajak hidup dan unit siap pak'\n",
      " 'Motor mulus dan bagus untuk surat-surat lengkap dan tidak ada kendala sama sekali dan siap pakai'\n",
      " '❗️Ready Stock ❗️Dijual Suzuki GSX R150 tahun 2021Cash : 23.500 ( nego )Simul'\n",
      " 'motor bekas berkualitas motor siap pakai ,cash atau kredit pembiayaan di adira finance .artomor'\n",
      " '❗️Ready Stock ❗️Dijual Suzuki gsx r 150 Tahun 2021Cash : 23.500 ( nego )Simu'\n",
      " 'Dijual Suzuki Satria F 150 Tahun 2017 Surat Surat Lengkap Pajak Panjang Plat BSpesifikasi Lihat selengkapnya.']\n",
      "Kolom kapasitas_mesin: ['125 CC' '155 CC' '110 CC' '150 CC' '250 CC' '150cc CC' '900 CC']\n",
      "Kolom tahun: [2019. 2017. 2018. 2022. 2021. 2015.]\n",
      "Kolom transmisi: ['Otomatis' 'Manual']\n",
      "Kolom kilometer: ['>30000 KM' '5000 - 10000KM' '10000 - 20000KM' '1000 - 5000 KM']\n",
      "Kolom url: ['https://www.momotor.id/motor-bekas/yamaha/yamaha-lexi?pid=270634'\n",
      " 'https://www.momotor.id/motor-bekas/yamaha/yamaha-gear-125?pid=270640'\n",
      " 'https://www.momotor.id/motor-bekas/yamaha/yamaha-all-new-nmax-155?pid=270642'\n",
      " 'https://www.momotor.id/motor-bekas/yamaha/yamaha-all-new-xsr-155?pid=270645'\n",
      " 'https://www.momotor.id/motor-bekas/yamaha/yamaha-aerox-155-vva?pid=270648'\n",
      " 'https://www.momotor.id/motor-bekas/yamaha/yamaha-lexi-s?pid=271013'\n",
      " 'https://www.momotor.id/motor-bekas/yamaha/yamaha-jupiter-mx-cw?pid=271016'\n",
      " 'https://www.momotor.id/motor-bekas/yamaha/yamaha-all-new-nmax-155?pid=271025'\n",
      " 'https://www.momotor.id/motor-bekas/yamaha/yamaha-nmax-abs?pid=271029'\n",
      " 'https://www.momotor.id/motor-bekas/yamaha/yamaha-fino-sporty?pid=271030'\n",
      " 'https://www.momotor.id/motor-bekas/yamaha/yamaha-gear-125?pid=271009'\n",
      " 'https://www.momotor.id/motor-bekas/yamaha/yamaha-gear-125-s-version?pid=271011'\n",
      " 'https://www.momotor.id/motor-bekas/honda/honda-vario-125-esp-cbs-iss?pid=250376'\n",
      " 'https://www.momotor.id/motor-bekas/honda/honda-vario-125-esp-cbs-iss?pid=250377'\n",
      " 'https://www.momotor.id/motor-bekas/honda/honda-beat-esp-cbs-iss-dlx?pid=250383'\n",
      " 'https://www.momotor.id/motor-bekas/honda/honda-new-beat-street-esp?pid=250374'\n",
      " 'https://www.momotor.id/motor-bekas/honda/honda-beat-esp-cbs-iss-dlx?pid=247172'\n",
      " 'https://www.momotor.id/motor-bekas/honda/honda-adv-150-cbs?pid=270635'\n",
      " 'https://www.momotor.id/motor-bekas/honda/honda-beat-esp-cbs-iss-dlx?pid=270639'\n",
      " 'https://www.momotor.id/motor-bekas/honda/honda-scoopy?pid=270649'\n",
      " 'https://www.momotor.id/motor-bekas/honda/honda-cb150r?pid=271032'\n",
      " 'https://www.momotor.id/motor-bekas/honda/honda-supra-x-125-injeksi?pid=271036'\n",
      " 'https://www.momotor.id/motor-bekas/honda/honda-vario-125-esp-cbs-iss?pid=271007'\n",
      " 'https://www.momotor.id/motor-bekas/honda/honda-cb150r?pid=271033'\n",
      " 'https://www.momotor.id/motor-bekas/kawasaki/kawasaki-klx-150?pid=270638'\n",
      " 'https://www.momotor.id/motor-bekas/kawasaki/kawasaki-ninja-250?pid=270646'\n",
      " 'https://www.momotor.id/motor-bekas/kawasaki/kawasaki-klx-150?pid=271104'\n",
      " 'https://www.momotor.id/motor-bekas/kawasaki/kawasaki-ninja-250?pid=251155'\n",
      " 'https://www.momotor.id/motor-bekas/kawasaki/kawasaki-ninja-250-fi?pid=251103'\n",
      " 'https://www.momotor.id/motor-bekas/kawasaki/kawasaki-ninja-250-abs-se?pid=250970'\n",
      " 'https://www.momotor.id/motor-bekas/kawasaki/kawasaki-ninja-250?pid=250861'\n",
      " 'https://www.momotor.id/motor-bekas/kawasaki/kawasaki-ninja-r?pid=250574'\n",
      " 'https://www.momotor.id/motor-bekas/kawasaki/kawasaki-z-800?pid=250482'\n",
      " 'https://www.momotor.id/motor-bekas/kawasaki/kawasaki-ninja-rr?pid=250370'\n",
      " 'https://www.momotor.id/motor-bekas/kawasaki/kawasaki-ninja-r?pid=250381'\n",
      " 'https://www.momotor.id/motor-bekas/kawasaki/kawasaki-klx-150?pid=250375'\n",
      " 'https://www.momotor.id/motor-bekas/suzuki/suzuki-gsx-r150?pid=269210'\n",
      " 'https://www.momotor.id/motor-bekas/suzuki/suzuki-satria-fu-150?pid=250310'\n",
      " 'https://www.momotor.id/motor-bekas/suzuki/suzuki-gsx-r150?pid=250200'\n",
      " 'https://www.momotor.id/motor-bekas/suzuki/suzuki-gsx-r150?pid=250199'\n",
      " 'https://www.momotor.id/motor-bekas/suzuki/suzuki-gsx-r150?pid=250073'\n",
      " 'https://www.momotor.id/motor-bekas/suzuki/suzuki-gsx-r150?pid=249806'\n",
      " 'https://www.momotor.id/motor-bekas/suzuki/suzuki-gsx-r150?pid=249805'\n",
      " 'https://www.momotor.id/motor-bekas/suzuki/suzuki-gsx-r150?pid=249242'\n",
      " 'https://www.momotor.id/motor-bekas/suzuki/suzuki-gsx-r150?pid=249020'\n",
      " 'https://www.momotor.id/motor-bekas/suzuki/suzuki-gsx-150-bandit?pid=249007'\n",
      " 'https://www.momotor.id/motor-bekas/suzuki/suzuki-satria-f-150?pid=248457'\n",
      " 'https://www.momotor.id/motor-bekas/suzuki/suzuki-gsx-r150?pid=248238']\n",
      "Kolom merk: ['Yamaha' 'Honda' 'Kawasaki' 'Suzuki']\n"
     ]
    }
   ],
   "source": [
    "# Melihat Unique Values pada tiap variabel\n",
    "for kolom in used_motor.columns:\n",
    "    unique_values = used_motor[kolom].unique()\n",
    "    print(f\"Kolom {kolom}: {unique_values}\")"
   ]
  },
  {
   "cell_type": "markdown",
   "metadata": {},
   "source": [
    "---\n",
    "#### Data Pre-processing\n",
    "Pada tahap ini, akan dilakukan:\n",
    "- <i>remove missing values</i>\n",
    "- "
   ]
  },
  {
   "cell_type": "markdown",
   "metadata": {},
   "source": [
    "##### Membersihkan kolom harga"
   ]
  },
  {
   "cell_type": "code",
   "execution_count": 34,
   "metadata": {},
   "outputs": [],
   "source": [
    "def clean_harga(harga):\n",
    "    harga_clean = harga.replace(\"Rp\", \"\").replace(\".\", \"\").replace(\",\", \"\")\n",
    "    return harga_clean\n",
    "\n",
    "used_motor['harga'] = used_motor['harga'].apply(clean_harga)\n",
    "# used_motor['harga'] = pd.to_numeric(used_motor['harga'], errors='coerce', downcast='integer')\n",
    "# used_motor['harga'] = pd.to_numeric(used_motor['harga'], errors='coerce')\n",
    "used_motor['harga'] = used_motor['harga'].apply(float)"
   ]
  },
  {
   "cell_type": "markdown",
   "metadata": {},
   "source": [
    "##### Membersihkan kolom kapasitas mesin"
   ]
  },
  {
   "cell_type": "code",
   "execution_count": 35,
   "metadata": {},
   "outputs": [],
   "source": [
    "def clean_cc(kapasitas_mesin):\n",
    "    cc_clean = kapasitas_mesin.replace(\"cc\", \"\")\n",
    "    return cc_clean\n",
    "\n",
    "used_motor['kapasitas_mesin'] = used_motor['kapasitas_mesin'].apply(clean_cc)"
   ]
  },
  {
   "cell_type": "markdown",
   "metadata": {},
   "source": [
    "##### Membuat kategori baru untuk kolom kilometer"
   ]
  },
  {
   "cell_type": "code",
   "execution_count": 36,
   "metadata": {},
   "outputs": [],
   "source": [
    "used_motor['kilometer_kategori'] = used_motor['kilometer'].replace({'>30000 KM': 'Tinggi', '5000 - 10000KM': 'Sedang', '10000 - 20000KM': 'Sedang', '1000 - 5000 KM': 'Rendah'})"
   ]
  },
  {
   "cell_type": "code",
   "execution_count": 37,
   "metadata": {},
   "outputs": [
    {
     "name": "stdout",
     "output_type": "stream",
     "text": [
      "<class 'pandas.core.frame.DataFrame'>\n",
      "Index: 2292 entries, 0 to 347\n",
      "Data columns (total 11 columns):\n",
      " #   Column              Non-Null Count  Dtype  \n",
      "---  ------              --------------  -----  \n",
      " 0   nama_motor          2292 non-null   object \n",
      " 1   lokasi              2292 non-null   object \n",
      " 2   harga               2292 non-null   float64\n",
      " 3   deskripsi           2292 non-null   object \n",
      " 4   kapasitas_mesin     2292 non-null   object \n",
      " 5   tahun               2292 non-null   float64\n",
      " 6   transmisi           2292 non-null   object \n",
      " 7   kilometer           2292 non-null   object \n",
      " 8   url                 2292 non-null   object \n",
      " 9   merk                2292 non-null   object \n",
      " 10  kilometer_kategori  2292 non-null   object \n",
      "dtypes: float64(2), object(9)\n",
      "memory usage: 214.9+ KB\n"
     ]
    }
   ],
   "source": [
    "used_motor.info()"
   ]
  },
  {
   "cell_type": "markdown",
   "metadata": {},
   "source": [
    "##### Encoding"
   ]
  },
  {
   "cell_type": "code",
   "execution_count": 40,
   "metadata": {},
   "outputs": [
    {
     "data": {
      "text/html": [
       "<div>\n",
       "<style scoped>\n",
       "    .dataframe tbody tr th:only-of-type {\n",
       "        vertical-align: middle;\n",
       "    }\n",
       "\n",
       "    .dataframe tbody tr th {\n",
       "        vertical-align: top;\n",
       "    }\n",
       "\n",
       "    .dataframe thead th {\n",
       "        text-align: right;\n",
       "    }\n",
       "</style>\n",
       "<table border=\"1\" class=\"dataframe\">\n",
       "  <thead>\n",
       "    <tr style=\"text-align: right;\">\n",
       "      <th></th>\n",
       "      <th>nama_motor</th>\n",
       "      <th>lokasi</th>\n",
       "      <th>harga</th>\n",
       "      <th>deskripsi</th>\n",
       "      <th>kapasitas_mesin</th>\n",
       "      <th>tahun</th>\n",
       "      <th>transmisi</th>\n",
       "      <th>kilometer</th>\n",
       "      <th>url</th>\n",
       "      <th>merk</th>\n",
       "      <th>kilometer_kategori</th>\n",
       "    </tr>\n",
       "  </thead>\n",
       "  <tbody>\n",
       "    <tr>\n",
       "      <th>0</th>\n",
       "      <td>16</td>\n",
       "      <td>9</td>\n",
       "      <td>17500000.0</td>\n",
       "      <td>Ss lengkap , plat pajak hidup , nego di tempat</td>\n",
       "      <td>2</td>\n",
       "      <td>4</td>\n",
       "      <td>2</td>\n",
       "      <td>&gt;30000 KM</td>\n",
       "      <td>https://www.momotor.id/motor-bekas/yamaha/yama...</td>\n",
       "      <td>4</td>\n",
       "      <td>3</td>\n",
       "    </tr>\n",
       "    <tr>\n",
       "      <th>1</th>\n",
       "      <td>16</td>\n",
       "      <td>9</td>\n",
       "      <td>17500000.0</td>\n",
       "      <td>Ss lengkap , plat pajak hidup , nego di tempat</td>\n",
       "      <td>2</td>\n",
       "      <td>4</td>\n",
       "      <td>2</td>\n",
       "      <td>&gt;30000 KM</td>\n",
       "      <td>https://www.momotor.id/motor-bekas/yamaha/yama...</td>\n",
       "      <td>4</td>\n",
       "      <td>3</td>\n",
       "    </tr>\n",
       "    <tr>\n",
       "      <th>2</th>\n",
       "      <td>16</td>\n",
       "      <td>9</td>\n",
       "      <td>17500000.0</td>\n",
       "      <td>Ss lengkap , plat pajak hidup , nego di tempat</td>\n",
       "      <td>2</td>\n",
       "      <td>4</td>\n",
       "      <td>2</td>\n",
       "      <td>&gt;30000 KM</td>\n",
       "      <td>https://www.momotor.id/motor-bekas/yamaha/yama...</td>\n",
       "      <td>4</td>\n",
       "      <td>3</td>\n",
       "    </tr>\n",
       "    <tr>\n",
       "      <th>3</th>\n",
       "      <td>16</td>\n",
       "      <td>9</td>\n",
       "      <td>17500000.0</td>\n",
       "      <td>Ss lengkap , plat pajak hidup , nego di tempat</td>\n",
       "      <td>2</td>\n",
       "      <td>4</td>\n",
       "      <td>2</td>\n",
       "      <td>&gt;30000 KM</td>\n",
       "      <td>https://www.momotor.id/motor-bekas/yamaha/yama...</td>\n",
       "      <td>4</td>\n",
       "      <td>3</td>\n",
       "    </tr>\n",
       "    <tr>\n",
       "      <th>4</th>\n",
       "      <td>16</td>\n",
       "      <td>9</td>\n",
       "      <td>17500000.0</td>\n",
       "      <td>Ss lengkap , plat pajak hidup , nego di tempat</td>\n",
       "      <td>2</td>\n",
       "      <td>4</td>\n",
       "      <td>2</td>\n",
       "      <td>&gt;30000 KM</td>\n",
       "      <td>https://www.momotor.id/motor-bekas/yamaha/yama...</td>\n",
       "      <td>4</td>\n",
       "      <td>3</td>\n",
       "    </tr>\n",
       "  </tbody>\n",
       "</table>\n",
       "</div>"
      ],
      "text/plain": [
       "   nama_motor  lokasi       harga   \n",
       "0          16       9  17500000.0  \\\n",
       "1          16       9  17500000.0   \n",
       "2          16       9  17500000.0   \n",
       "3          16       9  17500000.0   \n",
       "4          16       9  17500000.0   \n",
       "\n",
       "                                        deskripsi  kapasitas_mesin  tahun   \n",
       "0  Ss lengkap , plat pajak hidup , nego di tempat                2      4  \\\n",
       "1  Ss lengkap , plat pajak hidup , nego di tempat                2      4   \n",
       "2  Ss lengkap , plat pajak hidup , nego di tempat                2      4   \n",
       "3  Ss lengkap , plat pajak hidup , nego di tempat                2      4   \n",
       "4  Ss lengkap , plat pajak hidup , nego di tempat                2      4   \n",
       "\n",
       "   transmisi  kilometer                                                url   \n",
       "0          2  >30000 KM  https://www.momotor.id/motor-bekas/yamaha/yama...  \\\n",
       "1          2  >30000 KM  https://www.momotor.id/motor-bekas/yamaha/yama...   \n",
       "2          2  >30000 KM  https://www.momotor.id/motor-bekas/yamaha/yama...   \n",
       "3          2  >30000 KM  https://www.momotor.id/motor-bekas/yamaha/yama...   \n",
       "4          2  >30000 KM  https://www.momotor.id/motor-bekas/yamaha/yama...   \n",
       "\n",
       "   merk  kilometer_kategori  \n",
       "0     4                   3  \n",
       "1     4                   3  \n",
       "2     4                   3  \n",
       "3     4                   3  \n",
       "4     4                   3  "
      ]
     },
     "execution_count": 40,
     "metadata": {},
     "output_type": "execute_result"
    }
   ],
   "source": [
    "# Initialize LabelEncoder\n",
    "le = LabelEncoder()\n",
    "\n",
    "# Select column wiht categorical values\n",
    "cols = ['nama_motor', 'lokasi', 'kapasitas_mesin', 'tahun', 'transmisi', 'kilometer_kategori', 'merk']\n",
    "for i in cols:\n",
    "    used_motor[i] = le.fit_transform(used_motor[i]) + 1\n",
    "\n",
    "# Check the data\n",
    "used_motor.head()"
   ]
  },
  {
   "cell_type": "markdown",
   "metadata": {},
   "source": [
    "##### Drop variabel yang tidak dibutuhkan"
   ]
  },
  {
   "cell_type": "code",
   "execution_count": 43,
   "metadata": {},
   "outputs": [
    {
     "data": {
      "text/html": [
       "<div>\n",
       "<style scoped>\n",
       "    .dataframe tbody tr th:only-of-type {\n",
       "        vertical-align: middle;\n",
       "    }\n",
       "\n",
       "    .dataframe tbody tr th {\n",
       "        vertical-align: top;\n",
       "    }\n",
       "\n",
       "    .dataframe thead th {\n",
       "        text-align: right;\n",
       "    }\n",
       "</style>\n",
       "<table border=\"1\" class=\"dataframe\">\n",
       "  <thead>\n",
       "    <tr style=\"text-align: right;\">\n",
       "      <th></th>\n",
       "      <th>nama_motor</th>\n",
       "      <th>lokasi</th>\n",
       "      <th>harga</th>\n",
       "      <th>kapasitas_mesin</th>\n",
       "      <th>tahun</th>\n",
       "      <th>transmisi</th>\n",
       "      <th>merk</th>\n",
       "      <th>kilometer_kategori</th>\n",
       "    </tr>\n",
       "  </thead>\n",
       "  <tbody>\n",
       "    <tr>\n",
       "      <th>0</th>\n",
       "      <td>16</td>\n",
       "      <td>9</td>\n",
       "      <td>17500000.0</td>\n",
       "      <td>2</td>\n",
       "      <td>4</td>\n",
       "      <td>2</td>\n",
       "      <td>4</td>\n",
       "      <td>3</td>\n",
       "    </tr>\n",
       "    <tr>\n",
       "      <th>1</th>\n",
       "      <td>16</td>\n",
       "      <td>9</td>\n",
       "      <td>17500000.0</td>\n",
       "      <td>2</td>\n",
       "      <td>4</td>\n",
       "      <td>2</td>\n",
       "      <td>4</td>\n",
       "      <td>3</td>\n",
       "    </tr>\n",
       "    <tr>\n",
       "      <th>2</th>\n",
       "      <td>16</td>\n",
       "      <td>9</td>\n",
       "      <td>17500000.0</td>\n",
       "      <td>2</td>\n",
       "      <td>4</td>\n",
       "      <td>2</td>\n",
       "      <td>4</td>\n",
       "      <td>3</td>\n",
       "    </tr>\n",
       "    <tr>\n",
       "      <th>3</th>\n",
       "      <td>16</td>\n",
       "      <td>9</td>\n",
       "      <td>17500000.0</td>\n",
       "      <td>2</td>\n",
       "      <td>4</td>\n",
       "      <td>2</td>\n",
       "      <td>4</td>\n",
       "      <td>3</td>\n",
       "    </tr>\n",
       "    <tr>\n",
       "      <th>4</th>\n",
       "      <td>16</td>\n",
       "      <td>9</td>\n",
       "      <td>17500000.0</td>\n",
       "      <td>2</td>\n",
       "      <td>4</td>\n",
       "      <td>2</td>\n",
       "      <td>4</td>\n",
       "      <td>3</td>\n",
       "    </tr>\n",
       "  </tbody>\n",
       "</table>\n",
       "</div>"
      ],
      "text/plain": [
       "   nama_motor  lokasi       harga  kapasitas_mesin  tahun  transmisi  merk   \n",
       "0          16       9  17500000.0                2      4          2     4  \\\n",
       "1          16       9  17500000.0                2      4          2     4   \n",
       "2          16       9  17500000.0                2      4          2     4   \n",
       "3          16       9  17500000.0                2      4          2     4   \n",
       "4          16       9  17500000.0                2      4          2     4   \n",
       "\n",
       "   kilometer_kategori  \n",
       "0                   3  \n",
       "1                   3  \n",
       "2                   3  \n",
       "3                   3  \n",
       "4                   3  "
      ]
     },
     "execution_count": 43,
     "metadata": {},
     "output_type": "execute_result"
    }
   ],
   "source": [
    "used_motor = used_motor.drop(columns=['kilometer', 'deskripsi', 'url'])\n",
    "used_motor.head()"
   ]
  },
  {
   "cell_type": "markdown",
   "metadata": {},
   "source": [
    "##### MinMax Scaler"
   ]
  },
  {
   "cell_type": "code",
   "execution_count": 44,
   "metadata": {},
   "outputs": [
    {
     "data": {
      "text/html": [
       "<div>\n",
       "<style scoped>\n",
       "    .dataframe tbody tr th:only-of-type {\n",
       "        vertical-align: middle;\n",
       "    }\n",
       "\n",
       "    .dataframe tbody tr th {\n",
       "        vertical-align: top;\n",
       "    }\n",
       "\n",
       "    .dataframe thead th {\n",
       "        text-align: right;\n",
       "    }\n",
       "</style>\n",
       "<table border=\"1\" class=\"dataframe\">\n",
       "  <thead>\n",
       "    <tr style=\"text-align: right;\">\n",
       "      <th></th>\n",
       "      <th>nama_motor</th>\n",
       "      <th>lokasi</th>\n",
       "      <th>harga</th>\n",
       "      <th>kapasitas_mesin</th>\n",
       "      <th>tahun</th>\n",
       "      <th>transmisi</th>\n",
       "      <th>merk</th>\n",
       "      <th>kilometer_kategori</th>\n",
       "    </tr>\n",
       "  </thead>\n",
       "  <tbody>\n",
       "    <tr>\n",
       "      <th>0</th>\n",
       "      <td>0.714286</td>\n",
       "      <td>1.0</td>\n",
       "      <td>0.029724</td>\n",
       "      <td>0.2</td>\n",
       "      <td>0.6</td>\n",
       "      <td>1.0</td>\n",
       "      <td>1.0</td>\n",
       "      <td>1.0</td>\n",
       "    </tr>\n",
       "    <tr>\n",
       "      <th>1</th>\n",
       "      <td>0.714286</td>\n",
       "      <td>1.0</td>\n",
       "      <td>0.029724</td>\n",
       "      <td>0.2</td>\n",
       "      <td>0.6</td>\n",
       "      <td>1.0</td>\n",
       "      <td>1.0</td>\n",
       "      <td>1.0</td>\n",
       "    </tr>\n",
       "    <tr>\n",
       "      <th>2</th>\n",
       "      <td>0.714286</td>\n",
       "      <td>1.0</td>\n",
       "      <td>0.029724</td>\n",
       "      <td>0.2</td>\n",
       "      <td>0.6</td>\n",
       "      <td>1.0</td>\n",
       "      <td>1.0</td>\n",
       "      <td>1.0</td>\n",
       "    </tr>\n",
       "    <tr>\n",
       "      <th>3</th>\n",
       "      <td>0.714286</td>\n",
       "      <td>1.0</td>\n",
       "      <td>0.029724</td>\n",
       "      <td>0.2</td>\n",
       "      <td>0.6</td>\n",
       "      <td>1.0</td>\n",
       "      <td>1.0</td>\n",
       "      <td>1.0</td>\n",
       "    </tr>\n",
       "    <tr>\n",
       "      <th>4</th>\n",
       "      <td>0.714286</td>\n",
       "      <td>1.0</td>\n",
       "      <td>0.029724</td>\n",
       "      <td>0.2</td>\n",
       "      <td>0.6</td>\n",
       "      <td>1.0</td>\n",
       "      <td>1.0</td>\n",
       "      <td>1.0</td>\n",
       "    </tr>\n",
       "  </tbody>\n",
       "</table>\n",
       "</div>"
      ],
      "text/plain": [
       "   nama_motor  lokasi     harga  kapasitas_mesin  tahun  transmisi  merk   \n",
       "0    0.714286     1.0  0.029724              0.2    0.6        1.0   1.0  \\\n",
       "1    0.714286     1.0  0.029724              0.2    0.6        1.0   1.0   \n",
       "2    0.714286     1.0  0.029724              0.2    0.6        1.0   1.0   \n",
       "3    0.714286     1.0  0.029724              0.2    0.6        1.0   1.0   \n",
       "4    0.714286     1.0  0.029724              0.2    0.6        1.0   1.0   \n",
       "\n",
       "   kilometer_kategori  \n",
       "0                 1.0  \n",
       "1                 1.0  \n",
       "2                 1.0  \n",
       "3                 1.0  \n",
       "4                 1.0  "
      ]
     },
     "execution_count": 44,
     "metadata": {},
     "output_type": "execute_result"
    }
   ],
   "source": [
    "# Initialize MinMaxScaler\n",
    "mms = MinMaxScaler()\n",
    "\n",
    "# Normalisasi\n",
    "standard = mms.fit_transform(used_motor)\n",
    "\n",
    "# Save the Normalize result to dataframe\n",
    "used_motor = pd.DataFrame(standard, columns=used_motor.columns)\n",
    "\n",
    "# See the data\n",
    "used_motor.head()"
   ]
  },
  {
   "cell_type": "markdown",
   "metadata": {},
   "source": [
    "##### confussion Matrix"
   ]
  },
  {
   "cell_type": "code",
   "execution_count": 49,
   "metadata": {},
   "outputs": [
    {
     "data": {
      "image/png": "[encoded data removed]",
      "text/plain": [
       "<Figure size 432x432 with 2 Axes>"
      ]
     },
     "metadata": {
      "needs_background": "light"
     },
     "output_type": "display_data"
    }
   ],
   "source": [
    "correlation = used_motor.corr()\n",
    "\n",
    "plt.figure(figsize=(6,6))\n",
    "sns.heatmap(correlation)\n",
    "plt.tight_layout()\n",
    "plt.show()"
   ]
  },
  {
   "cell_type": "markdown",
   "metadata": {},
   "source": [
    "##### Feature Selection"
   ]
  },
  {
   "cell_type": "code",
   "execution_count": 45,
   "metadata": {},
   "outputs": [],
   "source": [
    "# Choosing X and y\n",
    "X = used_motor.drop(columns='harga')\n",
    "y = used_motor['harga']"
   ]
  },
  {
   "cell_type": "code",
   "execution_count": 46,
   "metadata": {},
   "outputs": [],
   "source": [
    "# Train test split untuk feature importance\n",
    "X_train, X_test, y_train, y_test = train_test_split(X, y, test_size=0.2, random_state=1)"
   ]
  },
  {
   "cell_type": "code",
   "execution_count": 47,
   "metadata": {},
   "outputs": [
    {
     "data": {
      "text/plain": [
       "RandomForestRegressor()"
      ]
     },
     "execution_count": 47,
     "metadata": {},
     "output_type": "execute_result"
    }
   ],
   "source": [
    "import pandas as pd\n",
    "import matplotlib.pyplot as plt\n",
    "from sklearn.ensemble import RandomForestRegressor\n",
    "\n",
    "# Random forest regressor untuk memilih feature importance\n",
    "rf = RandomForestRegressor()\n",
    "rf.fit(X_train, y_train)"
   ]
  },
  {
   "cell_type": "code",
   "execution_count": 48,
   "metadata": {},
   "outputs": [
    {
     "name": "stderr",
     "output_type": "stream",
     "text": [
      "No artists with labels found to put in legend.  Note that artists whose label start with an underscore are ignored when legend() is called with no argument.\n"
     ]
    },
    {
     "data": {
      "image/png": "[encoded data removed]",
      "text/plain": [
       "<Figure size 720x432 with 1 Axes>"
      ]
     },
     "metadata": {
      "needs_background": "light"
     },
     "output_type": "display_data"
    }
   ],
   "source": [
    "rf_fi = rf.feature_importances_\n",
    "\n",
    "# Define Nama columns\n",
    "feature_names = X_train.columns.tolist()\n",
    "\n",
    "plt.figure(figsize=(10, 6))\n",
    "\n",
    "# Plotting feature importances\n",
    "plt.bar(feature_names, rf_fi)\n",
    "plt.xticks(rotation='vertical')\n",
    "plt.xlabel('Feature Names')\n",
    "plt.ylabel('Importance')\n",
    "plt.title('Visualisasi Feature Importance')\n",
    "plt.legend()\n",
    "plt.tight_layout()\n",
    "plt.show()"
   ]
  },
  {
   "cell_type": "markdown",
   "metadata": {},
   "source": [
    "---\n",
    "#### Modeling\n",
    "Pada tahap ...."
   ]
  },
  {
   "cell_type": "code",
   "execution_count": null,
   "metadata": {},
   "outputs": [],
   "source": []
  },
  {
   "cell_type": "markdown",
   "metadata": {},
   "source": [
    "Tuning Hyperparameter <br>\n",
    "...."
   ]
  },
  {
   "cell_type": "code",
   "execution_count": null,
   "metadata": {},
   "outputs": [],
   "source": []
  },
  {
   "cell_type": "markdown",
   "metadata": {},
   "source": [
    "Finalisasi Model\n",
    "...."
   ]
  },
  {
   "cell_type": "code",
   "execution_count": null,
   "metadata": {},
   "outputs": [],
   "source": []
  },
  {
   "cell_type": "code",
   "execution_count": null,
   "metadata": {},
   "outputs": [],
   "source": []
  },
  {
   "cell_type": "markdown",
   "metadata": {},
   "source": [
    "---\n",
    "#### Evaluasi"
   ]
  },
  {
   "cell_type": "code",
   "execution_count": null,
   "metadata": {},
   "outputs": [],
   "source": []
  },
  {
   "cell_type": "code",
   "execution_count": null,
   "metadata": {},
   "outputs": [],
   "source": []
  },
  {
   "cell_type": "markdown",
   "metadata": {},
   "source": [
    "Terlihat model ....."
   ]
  },
  {
   "cell_type": "markdown",
   "metadata": {},
   "source": [
    "---\n",
    "#### Save model\n",
    "Model yang dengan akurasi tertinggi akan disimpan untuk di <i> deploy </i>"
   ]
  },
  {
   "cell_type": "code",
   "execution_count": null,
   "metadata": {},
   "outputs": [],
   "source": []
  }
 ],
 "metadata": {
  "kernelspec": {
   "display_name": "q323",
   "language": "python",
   "name": "python3"
  },
  "language_info": {
   "codemirror_mode": {
    "name": "ipython",
    "version": 3
   },
   "file_extension": ".py",
   "mimetype": "text/x-python",
   "name": "python",
   "nbconvert_exporter": "python",
   "pygments_lexer": "ipython3",
   "version": "3.9.12"
  }
 },
 "nbformat": 4,
 "nbformat_minor": 2
}
