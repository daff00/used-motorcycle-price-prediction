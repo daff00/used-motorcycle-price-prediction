{
 "cells": [
  {
   "cell_type": "markdown",
   "metadata": {},
   "source": [
    "# Deep Learning RNN Model for Used Motorcycle Price Prediction\n",
    "## IS794 AL - Deep Learning (Lab)\n",
    "Kelompok B: <br>\n",
    "- Daffa Kaisha Pratama Chandra (00000055770)\n",
    "- Justine Donovan (00000063202)\n",
    "- Marsella Patricia (00000063226)\n",
    "- Reina Ratu Balqis (00000065099)\n",
    "---\n",
    "### Import Libraries"
   ]
  },
  {
   "cell_type": "code",
   "execution_count": 1,
   "metadata": {},
   "outputs": [],
   "source": [
    "# Basic library\n",
    "import pandas as pd\n",
    "import numpy as np\n",
    "from scipy import stats\n",
    "\n",
    "# Pre-processing\n",
    "from sklearn.model_selection import train_test_split\n",
    "from sklearn.preprocessing import LabelEncoder, StandardScaler, MinMaxScaler\n",
    "from sklearn.metrics import r2_score, mean_squared_error, mean_absolute_error\n",
    "\n",
    "# Visualization\n",
    "import matplotlib.pyplot as plt\n",
    "import seaborn as sns\n",
    "%matplotlib inline\n",
    "\n",
    "import plotly.express as px\n",
    "from plotly.subplots import make_subplots\n",
    "\n",
    "# Feature selection dengan random forest regressor\n",
    "from sklearn.ensemble import RandomForestRegressor\n",
    "\n",
    "# Deep learning\n",
    "import tensorflow as tf\n",
    "from keras.models import Sequential\n",
    "from keras.layers import Dense, Dropout\n",
    "from keras.callbacks import EarlyStopping\n",
    "\n",
    "\n",
    "# Ignore warning\n",
    "import warnings\n",
    "warnings.simplefilter(\"ignore\")"
   ]
  },
  {
   "cell_type": "markdown",
   "metadata": {},
   "source": [
    "---\n",
    "Baca Dataset"
   ]
  },
  {
   "cell_type": "code",
   "execution_count": 2,
   "metadata": {},
   "outputs": [],
   "source": [
    "yamaha = pd.read_csv(\"motor_yamaha_bekas.csv\", engine='pyarrow')\n",
    "honda = pd.read_csv(\"motor_honda_bekas.csv\", engine='pyarrow')\n",
    "kawasaki = pd.read_csv(\"motor_kawasaki_bekas.csv\", engine='pyarrow')\n",
    "suzuki = pd.read_csv(\"motor_suzuki_bekas.csv\", engine='pyarrow')"
   ]
  },
  {
   "cell_type": "markdown",
   "metadata": {},
   "source": [
    "Penjelasan singkat mengenai dataset yang digunakan: <br>\n",
    "Dataset ini merupakan hasil web scraping dari website https://momotor.id/"
   ]
  },
  {
   "cell_type": "code",
   "execution_count": 3,
   "metadata": {},
   "outputs": [
    {
     "name": "stdout",
     "output_type": "stream",
     "text": [
      "Shape dari tiap dataset:\n",
      "Dataset Yamaha memiliki 10 kolom dan 493 baris.\n",
      "Dataset Honda memiliki 10 kolom dan 966 baris.\n",
      "Dataset Kawasaki memiliki 10 kolom dan 96 baris.\n",
      "Dataset Suzuki memiliki 10 kolom dan 23 baris.\n"
     ]
    }
   ],
   "source": [
    "print(\"Shape dari tiap dataset:\")\n",
    "print(f\"Dataset Yamaha memiliki {yamaha.shape[1]} kolom dan {yamaha.shape[0]} baris.\")\n",
    "print(f\"Dataset Honda memiliki {honda.shape[1]} kolom dan {honda.shape[0]} baris.\")\n",
    "print(f\"Dataset Kawasaki memiliki {kawasaki.shape[1]} kolom dan {kawasaki.shape[0]} baris.\")\n",
    "print(f\"Dataset Suzuki memiliki {suzuki.shape[1]} kolom dan {suzuki.shape[0]} baris.\")"
   ]
  },
  {
   "cell_type": "code",
   "execution_count": 4,
   "metadata": {},
   "outputs": [
    {
     "name": "stdout",
     "output_type": "stream",
     "text": [
      "Informasi singkat dari tiap dataset:\n",
      "\n",
      "Yamaha:\n",
      "<class 'pandas.core.frame.DataFrame'>\n",
      "RangeIndex: 493 entries, 0 to 492\n",
      "Data columns (total 10 columns):\n",
      " #   Column           Non-Null Count  Dtype  \n",
      "---  ------           --------------  -----  \n",
      " 0   nama_motor       352 non-null    object \n",
      " 1   lokasi           352 non-null    object \n",
      " 2   harga            352 non-null    object \n",
      " 3   deskripsi        352 non-null    object \n",
      " 4   kapasitas_mesin  352 non-null    object \n",
      " 5   tahun            352 non-null    float64\n",
      " 6   transmisi        352 non-null    object \n",
      " 7   kilometer        352 non-null    object \n",
      " 8   url              493 non-null    object \n",
      " 9   merk             493 non-null    object \n",
      "dtypes: float64(1), object(9)\n",
      "memory usage: 38.6+ KB\n",
      "None\n",
      "\n",
      "Honda:\n",
      "<class 'pandas.core.frame.DataFrame'>\n",
      "RangeIndex: 966 entries, 0 to 965\n",
      "Data columns (total 10 columns):\n",
      " #   Column           Non-Null Count  Dtype  \n",
      "---  ------           --------------  -----  \n",
      " 0   nama_motor       629 non-null    object \n",
      " 1   lokasi           629 non-null    object \n",
      " 2   harga            629 non-null    object \n",
      " 3   deskripsi        629 non-null    object \n",
      " 4   kapasitas_mesin  629 non-null    object \n",
      " 5   tahun            629 non-null    float64\n",
      " 6   transmisi        629 non-null    object \n",
      " 7   kilometer        629 non-null    object \n",
      " 8   url              966 non-null    object \n",
      " 9   merk             966 non-null    object \n",
      "dtypes: float64(1), object(9)\n",
      "memory usage: 75.6+ KB\n",
      "None\n",
      "\n",
      "Kawasaki:\n",
      "<class 'pandas.core.frame.DataFrame'>\n",
      "RangeIndex: 96 entries, 0 to 95\n",
      "Data columns (total 10 columns):\n",
      " #   Column           Non-Null Count  Dtype  \n",
      "---  ------           --------------  -----  \n",
      " 0   nama_motor       48 non-null     object \n",
      " 1   lokasi           48 non-null     object \n",
      " 2   harga            48 non-null     object \n",
      " 3   deskripsi        48 non-null     object \n",
      " 4   kapasitas_mesin  48 non-null     object \n",
      " 5   tahun            48 non-null     float64\n",
      " 6   transmisi        48 non-null     object \n",
      " 7   kilometer        48 non-null     object \n",
      " 8   url              96 non-null     object \n",
      " 9   merk             96 non-null     object \n",
      "dtypes: float64(1), object(9)\n",
      "memory usage: 7.6+ KB\n",
      "None\n",
      "\n",
      "Suzuki:\n",
      "<class 'pandas.core.frame.DataFrame'>\n",
      "RangeIndex: 23 entries, 0 to 22\n",
      "Data columns (total 10 columns):\n",
      " #   Column           Non-Null Count  Dtype  \n",
      "---  ------           --------------  -----  \n",
      " 0   nama_motor       14 non-null     object \n",
      " 1   lokasi           14 non-null     object \n",
      " 2   harga            14 non-null     object \n",
      " 3   deskripsi        14 non-null     object \n",
      " 4   kapasitas_mesin  14 non-null     object \n",
      " 5   tahun            14 non-null     float64\n",
      " 6   transmisi        14 non-null     object \n",
      " 7   kilometer        14 non-null     object \n",
      " 8   url              23 non-null     object \n",
      " 9   merk             23 non-null     object \n",
      "dtypes: float64(1), object(9)\n",
      "memory usage: 1.9+ KB\n",
      "None\n"
     ]
    }
   ],
   "source": [
    "print(\"Informasi singkat dari tiap dataset:\\n\")\n",
    "print(\"Yamaha:\")\n",
    "print(yamaha.info())\n",
    "print(\"\\nHonda:\")\n",
    "print(honda.info())\n",
    "print(\"\\nKawasaki:\")\n",
    "print(kawasaki.info())\n",
    "print(\"\\nSuzuki:\")\n",
    "print(suzuki.info())"
   ]
  },
  {
   "cell_type": "markdown",
   "metadata": {},
   "source": [
    "Pre-process I: Data mentah -> Data siap pakai\n",
    "Akan dilakukan cek <i> missing values. </i> Jika terdapat <i> missing values, </i> data yang hilang akan diimputasi menggunakan nilai modus. "
   ]
  },
  {
   "cell_type": "code",
   "execution_count": 5,
   "metadata": {},
   "outputs": [
    {
     "name": "stdout",
     "output_type": "stream",
     "text": [
      "yamaha missing values: \n",
      "nama_motor         35.0\n",
      "lokasi             35.0\n",
      "harga              35.0\n",
      "deskripsi          35.0\n",
      "kapasitas_mesin    35.0\n",
      "tahun              35.0\n",
      "transmisi          35.0\n",
      "kilometer          35.0\n",
      "url                 0.0\n",
      "merk                0.0\n",
      "dtype: float64\n",
      "\n",
      "honda missing values: \n",
      "nama_motor         35.0\n",
      "lokasi             35.0\n",
      "harga              35.0\n",
      "deskripsi          35.0\n",
      "kapasitas_mesin    35.0\n",
      "tahun              35.0\n",
      "transmisi          35.0\n",
      "kilometer          35.0\n",
      "url                 0.0\n",
      "merk                0.0\n",
      "dtype: float64\n",
      "\n",
      "kawasaki missing values: \n",
      "nama_motor         35.0\n",
      "lokasi             35.0\n",
      "harga              35.0\n",
      "deskripsi          35.0\n",
      "kapasitas_mesin    35.0\n",
      "tahun              35.0\n",
      "transmisi          35.0\n",
      "kilometer          35.0\n",
      "url                 0.0\n",
      "merk                0.0\n",
      "dtype: float64\n",
      "\n",
      "suzuki missing values: \n",
      "nama_motor         35.0\n",
      "lokasi             35.0\n",
      "harga              35.0\n",
      "deskripsi          35.0\n",
      "kapasitas_mesin    35.0\n",
      "tahun              35.0\n",
      "transmisi          35.0\n",
      "kilometer          35.0\n",
      "url                 0.0\n",
      "merk                0.0\n",
      "dtype: float64\n",
      "\n"
     ]
    }
   ],
   "source": [
    "# Cek rata-rata missing values pada tiap dataset\n",
    "brand = ['yamaha', 'honda', 'kawasaki', 'suzuki']\n",
    "data = [yamaha, honda, kawasaki, suzuki]\n",
    "\n",
    "for i, j in zip(brand, data):\n",
    "    print(f\"{i} missing values: \\n{np.round(honda.isnull().mean(), 2)*100}\")\n",
    "    print()"
   ]
  },
  {
   "cell_type": "code",
   "execution_count": 6,
   "metadata": {},
   "outputs": [],
   "source": [
    "# cari modus dari tiap kolom yang terdapat missing values\n",
    "kolom_null = ['nama_motor', 'lokasi', 'harga', 'deskripsi', \n",
    "              'kapasitas_mesin', 'tahun', 'transmisi', 'kilometer']"
   ]
  },
  {
   "cell_type": "code",
   "execution_count": 7,
   "metadata": {},
   "outputs": [],
   "source": [
    "# Cari modus dan replace NaN dengan modus\n",
    "for col in kolom_null:\n",
    "    # Yamaha\n",
    "    modus_yamaha = yamaha[col].value_counts().nlargest(3)\n",
    "    # Honda\n",
    "    modus_honda = yamaha[col].value_counts().nlargest(3)\n",
    "    # Kawasaki\n",
    "    modus_kawasaki = yamaha[col].value_counts().nlargest(3)\n",
    "    # Suzuki\n",
    "    modus_suzuki = yamaha[col].value_counts().nlargest(3)\n",
    "    \n",
    "    # Check if the mode values exist\n",
    "    if len(modus_yamaha) >= 2:\n",
    "        # Extract the mode strings\n",
    "        modus_ymh1 = modus_yamaha.index[0]\n",
    "        modus_ymh2 = modus_yamaha.index[1]\n",
    "\n",
    "        # Define a list of possible string values between the modes\n",
    "        possible_values_ymh = [modus_ymh1, modus_ymh2]\n",
    "\n",
    "        # Replace NaN dengan nilai random antara modus pertama/kedua/ketiga\n",
    "        yamaha[col] = yamaha[col].apply(lambda x: np.random.choice(possible_values_ymh) if pd.isna(x) else x)\n",
    "\n",
    "    if len(modus_honda) >= 2:\n",
    "        # Extract the mode strings\n",
    "        modus_hnd1 = modus_honda.index[0]\n",
    "        modus_hnd2 = modus_honda.index[1]\n",
    "\n",
    "        # Define a list of possible string values between the modes\n",
    "        possible_values_hnd = [modus_hnd1, modus_hnd2]\n",
    "\n",
    "        # Replace NaN dengan nilai random antara modus pertama/kedua/ketiga\n",
    "        honda[col] = honda[col].apply(lambda x: np.random.choice(possible_values_hnd) if pd.isna(x) else x)\n",
    "\n",
    "    if len(modus_kawasaki) >= 2:\n",
    "        # Extract the mode strings\n",
    "        modus_kws1 = modus_kawasaki.index[0]\n",
    "        modus_kws2 = modus_kawasaki.index[1]\n",
    "\n",
    "        # Define a list of possible string values between the modes\n",
    "        possible_values_kws = [modus_kws1, modus_kws2]\n",
    "\n",
    "        # Replace NaN dengan nilai random antara modus pertama/kedua/ketiga\n",
    "        kawasaki[col] = kawasaki[col].apply(lambda x: np.random.choice(possible_values_kws) if pd.isna(x) else x)\n",
    "\n",
    "    if len(modus_suzuki) >= 2:\n",
    "        # Extract the mode strings\n",
    "        modus_szk1 = modus_suzuki.index[0]\n",
    "        modus_szk2 = modus_suzuki.index[1]\n",
    "\n",
    "        # Define a list of possible string values between the modes\n",
    "        possible_values_szk = [modus_szk1, modus_szk2]\n",
    "\n",
    "        # Replace NaN dengan nilai random antara modus pertama/kedua/ketiga\n",
    "        suzuki[col] = suzuki[col].apply(lambda x: np.random.choice(possible_values_szk) if pd.isna(x) else x)"
   ]
  },
  {
   "cell_type": "code",
   "execution_count": 8,
   "metadata": {},
   "outputs": [
    {
     "name": "stdout",
     "output_type": "stream",
     "text": [
      "yamaha missing values: \n",
      "nama_motor         0.0\n",
      "lokasi             0.0\n",
      "harga              0.0\n",
      "deskripsi          0.0\n",
      "kapasitas_mesin    0.0\n",
      "tahun              0.0\n",
      "transmisi          0.0\n",
      "kilometer          0.0\n",
      "url                0.0\n",
      "merk               0.0\n",
      "dtype: float64\n",
      "\n",
      "honda missing values: \n",
      "nama_motor         0.0\n",
      "lokasi             0.0\n",
      "harga              0.0\n",
      "deskripsi          0.0\n",
      "kapasitas_mesin    0.0\n",
      "tahun              0.0\n",
      "transmisi          0.0\n",
      "kilometer          0.0\n",
      "url                0.0\n",
      "merk               0.0\n",
      "dtype: float64\n",
      "\n",
      "kawasaki missing values: \n",
      "nama_motor         0.0\n",
      "lokasi             0.0\n",
      "harga              0.0\n",
      "deskripsi          0.0\n",
      "kapasitas_mesin    0.0\n",
      "tahun              0.0\n",
      "transmisi          0.0\n",
      "kilometer          0.0\n",
      "url                0.0\n",
      "merk               0.0\n",
      "dtype: float64\n",
      "\n",
      "suzuki missing values: \n",
      "nama_motor         0.0\n",
      "lokasi             0.0\n",
      "harga              0.0\n",
      "deskripsi          0.0\n",
      "kapasitas_mesin    0.0\n",
      "tahun              0.0\n",
      "transmisi          0.0\n",
      "kilometer          0.0\n",
      "url                0.0\n",
      "merk               0.0\n",
      "dtype: float64\n",
      "\n"
     ]
    }
   ],
   "source": [
    "# Cek missing values lagi\n",
    "for i, j in zip(brand, data):\n",
    "    print(f\"{i} missing values: \\n{np.round(j.isnull().mean(), 2)*100}\")\n",
    "    print()"
   ]
  },
  {
   "cell_type": "code",
   "execution_count": 9,
   "metadata": {},
   "outputs": [
    {
     "name": "stdout",
     "output_type": "stream",
     "text": [
      "Shape dari dataset yang digabung:  (1578, 10)\n"
     ]
    },
    {
     "data": {
      "text/html": [
       "<div>\n",
       "<style scoped>\n",
       "    .dataframe tbody tr th:only-of-type {\n",
       "        vertical-align: middle;\n",
       "    }\n",
       "\n",
       "    .dataframe tbody tr th {\n",
       "        vertical-align: top;\n",
       "    }\n",
       "\n",
       "    .dataframe thead th {\n",
       "        text-align: right;\n",
       "    }\n",
       "</style>\n",
       "<table border=\"1\" class=\"dataframe\">\n",
       "  <thead>\n",
       "    <tr style=\"text-align: right;\">\n",
       "      <th></th>\n",
       "      <th>nama_motor</th>\n",
       "      <th>lokasi</th>\n",
       "      <th>harga</th>\n",
       "      <th>deskripsi</th>\n",
       "      <th>kapasitas_mesin</th>\n",
       "      <th>tahun</th>\n",
       "      <th>transmisi</th>\n",
       "      <th>kilometer</th>\n",
       "      <th>url</th>\n",
       "      <th>merk</th>\n",
       "    </tr>\n",
       "  </thead>\n",
       "  <tbody>\n",
       "    <tr>\n",
       "      <th>0</th>\n",
       "      <td>Yamaha Nmax Abs</td>\n",
       "      <td>Kota Jakarta Barat</td>\n",
       "      <td>Rp23,500,000</td>\n",
       "      <td>Motor mulus dan bagus untuk surat-surat lengka...</td>\n",
       "      <td>125 CC</td>\n",
       "      <td>2018.0</td>\n",
       "      <td>Manual</td>\n",
       "      <td>&gt;30000 KM</td>\n",
       "      <td>https://www.momotor.id/motor-bekas/yamaha/yama...</td>\n",
       "      <td>Yamaha</td>\n",
       "    </tr>\n",
       "    <tr>\n",
       "      <th>1</th>\n",
       "      <td>Yamaha Nmax Abs</td>\n",
       "      <td>Kab. Tangerang</td>\n",
       "      <td>Rp24,500,000</td>\n",
       "      <td>Motor mulus dan bagus untuk surat-surat lengka...</td>\n",
       "      <td>125 CC</td>\n",
       "      <td>2019.0</td>\n",
       "      <td>Manual</td>\n",
       "      <td>&gt;30000 KM</td>\n",
       "      <td>https://www.momotor.id/motor-bekas/yamaha/yama...</td>\n",
       "      <td>Yamaha</td>\n",
       "    </tr>\n",
       "    <tr>\n",
       "      <th>2</th>\n",
       "      <td>Yamaha Aerox 155 Vva</td>\n",
       "      <td>Kota Jakarta Barat</td>\n",
       "      <td>Rp24,500,000</td>\n",
       "      <td>Motor mulus dan bagus untuk surat-surat lengka...</td>\n",
       "      <td>125 CC</td>\n",
       "      <td>2019.0</td>\n",
       "      <td>Manual</td>\n",
       "      <td>&gt;30000 KM</td>\n",
       "      <td>https://www.momotor.id/motor-bekas/yamaha/yama...</td>\n",
       "      <td>Yamaha</td>\n",
       "    </tr>\n",
       "    <tr>\n",
       "      <th>3</th>\n",
       "      <td>Yamaha Aerox 155 Vva</td>\n",
       "      <td>Kab. Tangerang</td>\n",
       "      <td>Rp24,500,000</td>\n",
       "      <td>Motor mulus dan bagus untuk surat-surat lengka...</td>\n",
       "      <td>155 CC</td>\n",
       "      <td>2018.0</td>\n",
       "      <td>Otomatis</td>\n",
       "      <td>&gt;30000 KM</td>\n",
       "      <td>https://www.momotor.id/motor-bekas/yamaha/yama...</td>\n",
       "      <td>Yamaha</td>\n",
       "    </tr>\n",
       "    <tr>\n",
       "      <th>4</th>\n",
       "      <td>Yamaha Aerox 155 Vva</td>\n",
       "      <td>Kab. Tangerang</td>\n",
       "      <td>Rp23,500,000</td>\n",
       "      <td>Motor mulus dan bagus untuk surat-surat lengka...</td>\n",
       "      <td>125 CC</td>\n",
       "      <td>2019.0</td>\n",
       "      <td>Otomatis</td>\n",
       "      <td>&gt;30000 KM</td>\n",
       "      <td>https://www.momotor.id/motor-bekas/yamaha/yama...</td>\n",
       "      <td>Yamaha</td>\n",
       "    </tr>\n",
       "  </tbody>\n",
       "</table>\n",
       "</div>"
      ],
      "text/plain": [
       "             nama_motor              lokasi         harga  \\\n",
       "0       Yamaha Nmax Abs  Kota Jakarta Barat  Rp23,500,000   \n",
       "1       Yamaha Nmax Abs      Kab. Tangerang  Rp24,500,000   \n",
       "2  Yamaha Aerox 155 Vva  Kota Jakarta Barat  Rp24,500,000   \n",
       "3  Yamaha Aerox 155 Vva      Kab. Tangerang  Rp24,500,000   \n",
       "4  Yamaha Aerox 155 Vva      Kab. Tangerang  Rp23,500,000   \n",
       "\n",
       "                                           deskripsi kapasitas_mesin   tahun  \\\n",
       "0  Motor mulus dan bagus untuk surat-surat lengka...          125 CC  2018.0   \n",
       "1  Motor mulus dan bagus untuk surat-surat lengka...          125 CC  2019.0   \n",
       "2  Motor mulus dan bagus untuk surat-surat lengka...          125 CC  2019.0   \n",
       "3  Motor mulus dan bagus untuk surat-surat lengka...          155 CC  2018.0   \n",
       "4  Motor mulus dan bagus untuk surat-surat lengka...          125 CC  2019.0   \n",
       "\n",
       "  transmisi  kilometer                                                url  \\\n",
       "0    Manual  >30000 KM  https://www.momotor.id/motor-bekas/yamaha/yama...   \n",
       "1    Manual  >30000 KM  https://www.momotor.id/motor-bekas/yamaha/yama...   \n",
       "2    Manual  >30000 KM  https://www.momotor.id/motor-bekas/yamaha/yama...   \n",
       "3  Otomatis  >30000 KM  https://www.momotor.id/motor-bekas/yamaha/yama...   \n",
       "4  Otomatis  >30000 KM  https://www.momotor.id/motor-bekas/yamaha/yama...   \n",
       "\n",
       "     merk  \n",
       "0  Yamaha  \n",
       "1  Yamaha  \n",
       "2  Yamaha  \n",
       "3  Yamaha  \n",
       "4  Yamaha  "
      ]
     },
     "execution_count": 9,
     "metadata": {},
     "output_type": "execute_result"
    }
   ],
   "source": [
    "# Merge dataset\n",
    "used_motor = pd.concat([yamaha, honda, kawasaki, suzuki])\n",
    "print(\"Shape dari dataset yang digabung: \", used_motor.shape)\n",
    "used_motor.head()"
   ]
  },
  {
   "cell_type": "markdown",
   "metadata": {},
   "source": [
    "---\n",
    "#### Data Pre-processing\n",
    "Pada tahap ini, akan dilakukan:\n",
    "- <i>Remove missing values</i>\n",
    "- Membersihkan kolom harga\n",
    "- Membersihkan kolom kapasitas mesin"
   ]
  },
  {
   "cell_type": "markdown",
   "metadata": {},
   "source": [
    "##### Drop variabel yang tidak dibutuhkan"
   ]
  },
  {
   "cell_type": "code",
   "execution_count": 10,
   "metadata": {},
   "outputs": [
    {
     "data": {
      "text/html": [
       "<div>\n",
       "<style scoped>\n",
       "    .dataframe tbody tr th:only-of-type {\n",
       "        vertical-align: middle;\n",
       "    }\n",
       "\n",
       "    .dataframe tbody tr th {\n",
       "        vertical-align: top;\n",
       "    }\n",
       "\n",
       "    .dataframe thead th {\n",
       "        text-align: right;\n",
       "    }\n",
       "</style>\n",
       "<table border=\"1\" class=\"dataframe\">\n",
       "  <thead>\n",
       "    <tr style=\"text-align: right;\">\n",
       "      <th></th>\n",
       "      <th>nama_motor</th>\n",
       "      <th>lokasi</th>\n",
       "      <th>harga</th>\n",
       "      <th>kapasitas_mesin</th>\n",
       "      <th>tahun</th>\n",
       "      <th>transmisi</th>\n",
       "      <th>kilometer</th>\n",
       "      <th>merk</th>\n",
       "    </tr>\n",
       "  </thead>\n",
       "  <tbody>\n",
       "    <tr>\n",
       "      <th>0</th>\n",
       "      <td>Yamaha Nmax Abs</td>\n",
       "      <td>Kota Jakarta Barat</td>\n",
       "      <td>Rp23,500,000</td>\n",
       "      <td>125 CC</td>\n",
       "      <td>2018.0</td>\n",
       "      <td>Manual</td>\n",
       "      <td>&gt;30000 KM</td>\n",
       "      <td>Yamaha</td>\n",
       "    </tr>\n",
       "    <tr>\n",
       "      <th>1</th>\n",
       "      <td>Yamaha Nmax Abs</td>\n",
       "      <td>Kab. Tangerang</td>\n",
       "      <td>Rp24,500,000</td>\n",
       "      <td>125 CC</td>\n",
       "      <td>2019.0</td>\n",
       "      <td>Manual</td>\n",
       "      <td>&gt;30000 KM</td>\n",
       "      <td>Yamaha</td>\n",
       "    </tr>\n",
       "    <tr>\n",
       "      <th>2</th>\n",
       "      <td>Yamaha Aerox 155 Vva</td>\n",
       "      <td>Kota Jakarta Barat</td>\n",
       "      <td>Rp24,500,000</td>\n",
       "      <td>125 CC</td>\n",
       "      <td>2019.0</td>\n",
       "      <td>Manual</td>\n",
       "      <td>&gt;30000 KM</td>\n",
       "      <td>Yamaha</td>\n",
       "    </tr>\n",
       "    <tr>\n",
       "      <th>3</th>\n",
       "      <td>Yamaha Aerox 155 Vva</td>\n",
       "      <td>Kab. Tangerang</td>\n",
       "      <td>Rp24,500,000</td>\n",
       "      <td>155 CC</td>\n",
       "      <td>2018.0</td>\n",
       "      <td>Otomatis</td>\n",
       "      <td>&gt;30000 KM</td>\n",
       "      <td>Yamaha</td>\n",
       "    </tr>\n",
       "    <tr>\n",
       "      <th>4</th>\n",
       "      <td>Yamaha Aerox 155 Vva</td>\n",
       "      <td>Kab. Tangerang</td>\n",
       "      <td>Rp23,500,000</td>\n",
       "      <td>125 CC</td>\n",
       "      <td>2019.0</td>\n",
       "      <td>Otomatis</td>\n",
       "      <td>&gt;30000 KM</td>\n",
       "      <td>Yamaha</td>\n",
       "    </tr>\n",
       "  </tbody>\n",
       "</table>\n",
       "</div>"
      ],
      "text/plain": [
       "             nama_motor              lokasi         harga kapasitas_mesin  \\\n",
       "0       Yamaha Nmax Abs  Kota Jakarta Barat  Rp23,500,000          125 CC   \n",
       "1       Yamaha Nmax Abs      Kab. Tangerang  Rp24,500,000          125 CC   \n",
       "2  Yamaha Aerox 155 Vva  Kota Jakarta Barat  Rp24,500,000          125 CC   \n",
       "3  Yamaha Aerox 155 Vva      Kab. Tangerang  Rp24,500,000          155 CC   \n",
       "4  Yamaha Aerox 155 Vva      Kab. Tangerang  Rp23,500,000          125 CC   \n",
       "\n",
       "    tahun transmisi  kilometer    merk  \n",
       "0  2018.0    Manual  >30000 KM  Yamaha  \n",
       "1  2019.0    Manual  >30000 KM  Yamaha  \n",
       "2  2019.0    Manual  >30000 KM  Yamaha  \n",
       "3  2018.0  Otomatis  >30000 KM  Yamaha  \n",
       "4  2019.0  Otomatis  >30000 KM  Yamaha  "
      ]
     },
     "execution_count": 10,
     "metadata": {},
     "output_type": "execute_result"
    }
   ],
   "source": [
    "used_motor = used_motor.drop(columns=['deskripsi', 'url'])\n",
    "used_motor.head()"
   ]
  },
  {
   "cell_type": "code",
   "execution_count": 11,
   "metadata": {},
   "outputs": [
    {
     "name": "stdout",
     "output_type": "stream",
     "text": [
      "Nilai unik dari kolom nama_motor:\n",
      "['Yamaha Nmax Abs' 'Yamaha Aerox 155 Vva' 'Yamaha Lexi S'\n",
      " 'Yamaha Jupiter Mx Cw' 'Yamaha All New Nmax 155' 'Yamaha Fino Sporty'\n",
      " 'Yamaha Gear 125' 'Yamaha Gear 125 S-version' 'Yamaha All New Xsr 155'\n",
      " 'Yamaha R15 Gp Tech 3' 'Yamaha Scorpio G' 'Yamaha Vixion Extreme'\n",
      " 'Yamaha R15 Gp Movistar' 'Yamaha R15' 'Yamaha All New R15 155 Vva'\n",
      " 'Yamaha Mio Z 125' 'Yamaha WR 155 R' 'Yamaha Mio Cw'\n",
      " 'Yamaha All New Nmax 155 Abs' 'Yamaha Freego' 'Yamaha Aerox 155 Vva-s'\n",
      " 'Yamaha Lexi' 'Yamaha New Mio M3 Cw' 'Yamaha N Max' 'Yamaha Mio'\n",
      " 'Yamaha New Vixion' 'Yamaha XMAX' 'Yamaha All New X-ride 125'\n",
      " 'Yamaha Nmax Special Custom' 'Yamaha Fazzio Neo'\n",
      " 'Yamaha All New Nmax 155 Con' 'Yamaha X Ride Se' 'Yamaha Xmax Abs'\n",
      " 'Yamaha Xmax' 'Yamaha X-ride' 'Yamaha Fino Sport 125 Blu Cr'\n",
      " 'Yamaha Aerox 155 Vva R' 'Yamaha All New Vixion R'\n",
      " 'Yamaha New V Ixion Adv Gp' 'Yamaha Mio M3 125' 'Yamaha New Aerox 155 C'\n",
      " 'Yamaha Fino Grade 125' 'Yamaha R25' 'Yamaha Fino Premium Fi Se'\n",
      " 'Yamaha Soul Gt' 'Yamaha Fino Premium 125 Blue Core'\n",
      " 'Yamaha Fino Classic Fi' 'Yamaha Vixion' 'Yamaha Mio S' 'Yamaha Wr 155 R'\n",
      " 'Yamaha New Aerox 155 C Abs' 'Yamaha Aerox 155 Gp' 'Yamaha Freego S'\n",
      " 'Yamaha New R15 155 Vva Gp M' 'Yamaha Mio Fino'\n",
      " 'Yamaha V Ixion New Non Ks Ctm' 'Yamaha Mio Soul Gt Street'\n",
      " 'Yamaha Freego S Abs' 'Yamaha Mio Soul' 'Honda Vario 125 Esp Cbs Iss'\n",
      " 'Honda Beat Esp Cbs Iss Dlx' 'Honda New Beat Street Esp' 'Honda Cb150r'\n",
      " 'Honda Supra X 125 Injeksi' 'Honda Vario 150 Esp Sporty'\n",
      " 'Honda New Pcx 150 Abs' 'Honda New Scoopy Stylish' 'Honda Cbr 150 R'\n",
      " 'Honda Cbr 150 Rc' 'Honda New Vario 125 Esp Cbs' 'Honda New Revo Fi Fit'\n",
      " 'Honda Cb150r Streetfire' 'Honda Vario 125 Cbs Iss'\n",
      " 'Honda Vario 150 Esp Exclusive' 'Honda Beat Fi Sporty Cw' 'Honda Scoopy'\n",
      " 'Honda Beat Fi Cw + Sporty' 'Honda Beat Fi Sporty Cbs Iss Plus'\n",
      " 'Honda Pcx' 'Honda New Scoopy Sporty' 'Honda Beat Fi Cbs Iss'\n",
      " 'Honda Beat Cbs Fi' 'Honda Beat' 'Honda Adv 150 Abs' 'Honda Cbr 250 Abs'\n",
      " 'Honda Beat Fi Sporty Cbs Iss' 'Honda New Pcx 150 Cbs'\n",
      " 'Honda New Scoopy Fashion' 'Honda Genio Cbs' 'Honda Genio Iss'\n",
      " 'Honda Vario 125 Esp Cbs' 'Honda Cbr 150 Rcr' 'Honda Vario Techno 110'\n",
      " 'Honda Pcx Hybrid' 'Honda Vario 110 Cbs Advance'\n",
      " 'Honda Beat Fi Sporty Cbs' 'Honda Beat Fi Cbs Iss Plus' 'Honda Crf 150l'\n",
      " 'Honda GENIO CBS' 'Honda Beat Cw Fi' 'Honda Adv 150 Cbs'\n",
      " 'Honda Supra X 125 Pgmfi Cw' 'Honda Beat Cw' 'Honda Scoopy Esp'\n",
      " 'Honda Forza 250' 'Honda New Beat Fi Cw-cbs Plus' 'Honda Supra X 125 Cw'\n",
      " 'Honda Cbr 150 Repsol' 'Honda New Cbr R Standar' 'Honda New Revo Fi Cw'\n",
      " 'Honda Beat Fisporty Cw Esp' 'Honda New Scoopy Prestige'\n",
      " 'Honda Supra Gtr 150 Exl' 'Honda New Vario Techno Cbs'\n",
      " 'Honda Beat Fi Pop Cbs Esp' 'Honda Cbr 250 Rr'\n",
      " 'Honda Beat Fi Pop Cbs Iss' 'Honda Nscoopy Fi Sport Mtro'\n",
      " 'Honda Beat Fi Cbs Esp Plus' 'Honda New Supra X 125 Cw'\n",
      " 'Honda Beat Fisporty Cbsplus' 'Honda New Beat Popespcwcomic'\n",
      " 'Honda Supra X 125 R' 'Honda Beat Fi Pop Cw' 'Honda Beat Custic'\n",
      " 'Honda New Cbr 150r Tricolor' 'Honda Revo Cw' 'Kawasaki Klx 150'\n",
      " 'Kawasaki Ninja 250' 'Kawasaki Ninja 250 Abs Se' 'Kawasaki Ninja R'\n",
      " 'Kawasaki Z 800' 'Kawasaki Ninja Rr' 'Kawasaki Ninja 250 Fi'\n",
      " 'Kawasaki W 175 Cafe' 'Kawasaki Ninja Zx 25 R' 'Kawasaki Ninja Zx6r'\n",
      " 'Kawasaki New Z250 Sl' 'Kawasaki Klx 150 G' 'Kawasaki Klx 150 Bf Se'\n",
      " 'Kawasaki Ninja' 'Kawasaki D Tracker 150' 'Kawasaki D-tracker 150'\n",
      " 'Kawasaki Ninja 250 Abs Fi' 'Kawasaki W175 Se'\n",
      " 'Kawasaki D-tracker 150 Se' 'Kawasaki Hino Sg 175 Cafe Racer'\n",
      " 'Kawasaki D Tracker X' 'Suzuki Gsx R150' 'Suzuki Satria Fu 150'\n",
      " 'Suzuki Gsx 150 Bandit' 'Suzuki Satria F 150'\n",
      " 'Suzuki Satria F150 Fighter' 'Suzuki Satria Fu 150 Mfx']\n",
      "\n",
      "Nilai unik dari kolom lokasi:\n",
      "['Kota Jakarta Barat' 'Kab. Tangerang' 'Kota Medan' 'Kota Jakarta Selatan'\n",
      " 'Kota Bandung' 'Kab. Bandung' 'Kota Jakarta Timur' 'Kab. Bogor'\n",
      " 'Kota Jakarta Utara' 'Kota Depok' 'Kota Tangerang Selatan' 'Kota  Batam'\n",
      " 'Kota Surabaya' 'Kota Tangerang' 'Kota Bekasi' 'Kab. Deli Serdang']\n",
      "\n",
      "Nilai unik dari kolom harga:\n",
      "['Rp23,500,000' 'Rp24,500,000' 'Rp17,800,000' 'Rp12,500,000'\n",
      " 'Rp27,300,000' 'Rp14,800,000' 'Rp17,500,000' 'Rp31,900,000'\n",
      " 'Rp13,900,000' 'Rp13,800,000' 'Rp14,850,000' 'Rp14,855,000'\n",
      " 'Rp20,500,000' 'Rp25,500,000' 'Rp9,300,000' 'Rp26,000,000' 'Rp19,500,000'\n",
      " 'Rp32,500,000' 'Rp21,500,000' 'Rp22,500,000' 'Rp20,600,000'\n",
      " 'Rp12,700,000' 'Rp27,000,000' 'Rp33,000,000' 'Rp17,300,000'\n",
      " 'Rp25,850,000' 'Rp21,850,000' 'Rp28,500,000' 'Rp15,000,000'\n",
      " 'Rp18,300,000' 'Rp9,850,000' 'Rp24,400,000' 'Rp9,500,000' 'Rp23,400,000'\n",
      " 'Rp26,700,000' 'Rp19,700,000' 'Rp22,800,000' 'Rp22,900,000'\n",
      " 'Rp15,800,000' 'Rp17,900,000' 'Rp27,500,000' 'Rp24,300,000'\n",
      " 'Rp25,000,000' 'Rp47,500,000' 'Rp20,000,000' 'Rp23,000,000'\n",
      " 'Rp12,960,000' 'Rp16,500,000' 'Rp18,900,000' 'Rp29,500,000'\n",
      " 'Rp32,000,000' 'Rp18,700,000' 'Rp18,800,000' 'Rp28,800,000'\n",
      " 'Rp29,700,000' 'Rp27,200,000' 'Rp22,300,000' 'Rp22,680,000'\n",
      " 'Rp10,000,000' 'Rp21,000,000' 'Rp44,800,000' 'Rp57,500,000'\n",
      " 'Rp27,360,000' 'Rp20,850,000' 'Rp27,100,000' 'Rp25,900,000'\n",
      " 'Rp51,500,000' 'Rp44,500,000' 'Rp22,000,000' 'Rp16,000,000' 'Rp9,800,000'\n",
      " 'Rp28,000,000' 'Rp12,300,000' 'Rp22,400,000' 'Rp25,600,000'\n",
      " 'Rp20,800,000' 'Rp29,800,000' 'Rp21,700,000' 'Rp26,800,000'\n",
      " 'Rp19,300,000' 'Rp30,800,000' 'Rp16,700,000' 'Rp14,500,000'\n",
      " 'Rp23,700,000' 'Rp18,500,000' 'Rp19,200,000' 'Rp23,600,000'\n",
      " 'Rp13,850,000' 'Rp14,000,000' 'Rp8,550,000' 'Rp9,350,000' 'Rp24,850,000'\n",
      " 'Rp24,000,000' 'Rp11,000,000' 'Rp9,000,000' 'Rp20,790,000' 'Rp15,500,000'\n",
      " 'Rp34,000,000' 'Rp23,850,000' 'Rp23,800,000' 'Rp18,000,000'\n",
      " 'Rp23,999,000' 'Rp16,100,000' 'Rp15,200,000' 'Rp23,900,000'\n",
      " 'Rp24,200,000' 'Rp19,900,000' 'Rp21,100,000' 'Rp21,980,000'\n",
      " 'Rp10,500,000' 'Rp17,000,000' 'Rp49,000,000' 'Rp28,400,000'\n",
      " 'Rp25,300,000' 'Rp23,300,000' 'Rp14,200,000' 'Rp22,200,000'\n",
      " 'Rp31,000,000' 'Rp19,000,000' 'Rp12,900,000' 'Rp12,200,000'\n",
      " 'Rp25,200,000' 'Rp49,800,000' 'Rp24,100,000' 'Rp12,100,000'\n",
      " 'Rp30,500,000' 'Rp36,500,000' 'Rp29,000,000' 'Rp33,500,000'\n",
      " 'Rp24,250,000' 'Rp31,500,000' 'Rp16,900,000' 'Rp10,850,000'\n",
      " 'Rp11,850,000' 'Rp36,800,000' 'Rp11,300,000' 'Rp11,250,000'\n",
      " 'Rp25,250,000' 'Rp8,850,000' 'Rp19,850,000' 'Rp28,900,000' 'Rp10,800,000'\n",
      " 'Rp18,600,000' 'Rp17,600,000' 'Rp24,999,000' 'Rp17,350,000'\n",
      " 'Rp29,250,000' 'Rp15,700,000' 'Rp10,950,000' 'Rp15,300,000'\n",
      " 'Rp14,300,000' 'Rp13,500,000' 'Rp57,000,000' 'Rp28,300,000'\n",
      " 'Rp33,700,000' 'Rp30,300,000' 'Rp29,350,000' 'Rp21,200,000'\n",
      " 'Rp18,200,000' 'Rp13,700,000' 'Rp17,780,000' 'Rp15,980,000'\n",
      " 'Rp14,250,000' 'Rp17,700,000' 'Rp15,850,000' 'Rp16,850,000'\n",
      " 'Rp12,000,000' 'Rp30,400,000' 'Rp16,200,000' 'Rp17,400,000'\n",
      " 'Rp17,950,000' 'Rp12,870,000' 'Rp12,750,000' 'Rp13,000,000'\n",
      " 'Rp17,250,000' 'Rp32,700,000' 'Rp16,600,000' 'Rp18,850,000'\n",
      " 'Rp15,750,000' 'Rp34,500,000' 'Rp27,900,000' 'Rp13,990,000'\n",
      " 'Rp20,700,000' 'Rp12,950,000' 'Rp25,700,000' 'Rp67,500,000'\n",
      " 'Rp45,600,000' 'Rp16,300,000' 'Rp22,700,000' 'Rp21,900,000'\n",
      " 'Rp13,750,000' 'Rp16,800,000' 'Rp15,600,000' 'Rp32,100,000'\n",
      " 'Rp29,300,000' 'Rp29,600,000' 'Rp17,200,000' 'Rp23,200,000'\n",
      " 'Rp11,200,000' 'Rp26,900,000' 'Rp14,700,000' 'Rp18,990,000'\n",
      " 'Rp13,680,000' 'Rp16,970,000' 'Rp29,900,000' 'Rp13,950,000'\n",
      " 'Rp12,850,000' 'Rp17,850,000' 'Rp19,800,000' 'Rp17,100,000'\n",
      " 'Rp50,500,000' 'Rp45,800,000' 'Rp30,200,000' 'Rp18,860,000'\n",
      " 'Rp17,550,000' 'Rp18,680,000' 'Rp13,400,000' 'Rp21,250,000'\n",
      " 'Rp10,750,000' 'Rp20,100,000' 'Rp28,600,000' 'Rp13,250,000'\n",
      " 'Rp16,400,000' 'Rp15,100,000' 'Rp18,400,000' 'Rp18,750,000'\n",
      " 'Rp11,500,000' 'Rp14,750,000' 'Rp10,400,000' 'Rp17,750,000'\n",
      " 'Rp95,000,000' 'Rp30,700,000' 'Rp10,250,000' 'Rp35,000,000'\n",
      " 'Rp28,950,000' 'Rp46,000,000' 'Rp12,800,000' 'Rp13,200,000'\n",
      " 'Rp24,800,000' 'Rp13,550,000' 'Rp12,250,000' 'Rp14,900,000'\n",
      " 'Rp15,900,000' 'Rp11,800,000' 'Rp37,000,000' 'Rp52,400,000'\n",
      " 'Rp246,000,000' 'Rp38,000,000' 'Rp120,500,000' 'Rp365,000,000'\n",
      " 'Rp37,500,000' 'Rp41,000,000' 'Rp44,000,000' 'Rp115,000,000'\n",
      " 'Rp55,500,000' 'Rp36,100,000' 'Rp50,000,000' 'Rp42,500,000'\n",
      " 'Rp38,500,000' 'Rp24,900,000' 'Rp31,100,000']\n",
      "\n",
      "Nilai unik dari kolom kapasitas_mesin:\n",
      "['125 CC' '155 CC' '220 CC' '150 CC' '155cc CC' '125cc CC' '250 CC'\n",
      " '156 CC' '110 CC' '250  CC' '-' '156cc CC' '150cc CC' '110cc CC'\n",
      " '250cc CC' '1550 CC' '125CC CC' '125 cc CC' '249 CC' '115cc CC' '160 CC'\n",
      " '11pcc CC' '115 CC' ' CC' '113cc CC' '900 CC' '175 CC' '600 CC'\n",
      " '175cc CC' '250Cc CC' 'DSE4202201 CC']\n",
      "\n",
      "Nilai unik dari kolom tahun:\n",
      "[2018. 2019. 2017. 2022. 2016. 2015. 2020. 2021.]\n",
      "\n",
      "Nilai unik dari kolom transmisi:\n",
      "['Manual' 'Otomatis']\n",
      "\n",
      "Nilai unik dari kolom kilometer:\n",
      "['>30000 KM' '5000 - 10000KM' '1000 - 5000 KM' '10000 - 20000KM'\n",
      " '0 - 1000 KM']\n",
      "\n",
      "Nilai unik dari kolom merk:\n",
      "['Yamaha' 'Honda' 'Kawasaki' 'Suzuki']\n",
      "\n"
     ]
    }
   ],
   "source": [
    "# Lihat nilai unik dari setiap kolom\n",
    "kolom = used_motor.columns\n",
    "\n",
    "for i in kolom:\n",
    "    print(f\"Nilai unik dari kolom {i}:\")\n",
    "    print(used_motor[i].unique())\n",
    "    print()"
   ]
  },
  {
   "cell_type": "markdown",
   "metadata": {},
   "source": [
    "Kolom kapasitas mesin dan harga belum dalam format yang benar"
   ]
  },
  {
   "cell_type": "markdown",
   "metadata": {},
   "source": [
    "##### Membersihkan kolom harga"
   ]
  },
  {
   "cell_type": "code",
   "execution_count": 12,
   "metadata": {},
   "outputs": [],
   "source": [
    "def clean_harga(harga):\n",
    "    harga_clean = harga.replace(\"Rp\", \"\").replace(\".\", \"\").replace(\",\", \"\")\n",
    "    return harga_clean\n",
    "\n",
    "used_motor['harga'] = used_motor['harga'].apply(clean_harga)\n",
    "# used_motor['harga'] = pd.to_numeric(used_motor['harga'], errors='coerce', downcast='integer')\n",
    "# used_motor['harga'] = pd.to_numeric(used_motor['harga'], errors='coerce')\n",
    "used_motor['harga'] = used_motor['harga'].astype(\"float\")"
   ]
  },
  {
   "cell_type": "markdown",
   "metadata": {},
   "source": [
    "##### Membersihkan kolom kapasitas mesin"
   ]
  },
  {
   "cell_type": "code",
   "execution_count": 13,
   "metadata": {},
   "outputs": [
    {
     "name": "stdout",
     "output_type": "stream",
     "text": [
      "[125 155 220 150 250 156 110 249 115 160 113 900 175 600]\n"
     ]
    }
   ],
   "source": [
    "def clean_cc(kapasitas_mesin):\n",
    "    cc_clean = kapasitas_mesin.replace(\"cc\", \"\")\n",
    "    cc_clean2 = cc_clean.replace(\" CC\", \"\")\n",
    "    cc_clean3 = cc_clean2.replace(\"Cc\", \"\")\n",
    "    cc_clean4 = cc_clean3.replace(\"CC\", \"\")\n",
    "    cc_clean5 = cc_clean4.replace(\"p\", \"\")\n",
    "    return cc_clean5\n",
    "\n",
    "used_motor['kapasitas_mesin'] = used_motor['kapasitas_mesin'].apply(clean_cc)\n",
    "used_motor['kapasitas_mesin'] = used_motor['kapasitas_mesin'].replace(['-', ''], 150)\n",
    "used_motor['kapasitas_mesin'] = used_motor['kapasitas_mesin'].replace('1550', 150)\n",
    "used_motor = used_motor[used_motor['kapasitas_mesin'] != 'DSE4202201']\n",
    "used_motor['kapasitas_mesin'] = used_motor['kapasitas_mesin'].astype('int')\n",
    "used_motor['kapasitas_mesin'] = used_motor['kapasitas_mesin'].replace(11, 110)\n",
    "print(used_motor['kapasitas_mesin'].unique())"
   ]
  },
  {
   "cell_type": "markdown",
   "metadata": {},
   "source": [
    "Cek outliers"
   ]
  },
  {
   "cell_type": "code",
   "execution_count": 14,
   "metadata": {},
   "outputs": [
    {
     "data": {
      "image/png": "[encoded data removed]",
      "text/plain": [
       "<Figure size 640x480 with 1 Axes>"
      ]
     },
     "metadata": {},
     "output_type": "display_data"
    }
   ],
   "source": [
    "sns.boxplot(y=used_motor['harga'])\n",
    "plt.grid()\n",
    "plt.show()"
   ]
  },
  {
   "cell_type": "code",
   "execution_count": 15,
   "metadata": {},
   "outputs": [],
   "source": [
    "# Calculate the IQR\n",
    "Q1 = used_motor['harga'].quantile(0.25)\n",
    "Q3 = used_motor['harga'].quantile(0.75)\n",
    "IQR = Q3 - Q1\n",
    "\n",
    "# Remove outliers based on IQR\n",
    "filtered_motor = used_motor[(used_motor['harga'] > Q1 - 1.5 * IQR) & (used_motor['harga'] < Q3 + 1.5 * IQR)]"
   ]
  },
  {
   "cell_type": "code",
   "execution_count": 16,
   "metadata": {},
   "outputs": [
    {
     "data": {
      "text/plain": [
       "<Axes: ylabel='harga'>"
      ]
     },
     "execution_count": 16,
     "metadata": {},
     "output_type": "execute_result"
    },
    {
     "data": {
      "image/png": "[encoded data removed]",
      "text/plain": [
       "<Figure size 640x480 with 1 Axes>"
      ]
     },
     "metadata": {},
     "output_type": "display_data"
    }
   ],
   "source": [
    "sns.boxplot(y=filtered_motor['harga'])"
   ]
  },
  {
   "cell_type": "code",
   "execution_count": 17,
   "metadata": {},
   "outputs": [
    {
     "name": "stdout",
     "output_type": "stream",
     "text": [
      "Shape dari dataset setelah mengatasi outliers:\n",
      "1533 baris dan 8 kolom\n"
     ]
    }
   ],
   "source": [
    "print(f\"Shape dari dataset setelah mengatasi outliers:\\n{filtered_motor.shape[0]} baris dan {filtered_motor.shape[1]} kolom\")"
   ]
  },
  {
   "cell_type": "markdown",
   "metadata": {},
   "source": [
    "---\n",
    "#### Exploratory Data Analysis <br>\n",
    "Pada tahap EDA, akan dilakukan beberapa tahapan untuk menemukan pola pada data dengan menggunakan statistik dan visualisasi data. Beberapa tahapan yang akan dilakukan sebagai berikut:\n",
    "- Melihat informasi data\n",
    "- Melihat nilai unik tiap kolom\n",
    "- Melihat statistika dasar\n",
    "- Visualisasi data"
   ]
  },
  {
   "cell_type": "code",
   "execution_count": 18,
   "metadata": {},
   "outputs": [
    {
     "name": "stdout",
     "output_type": "stream",
     "text": [
      "<class 'pandas.core.frame.DataFrame'>\n",
      "Index: 1533 entries, 0 to 22\n",
      "Data columns (total 8 columns):\n",
      " #   Column           Non-Null Count  Dtype  \n",
      "---  ------           --------------  -----  \n",
      " 0   nama_motor       1533 non-null   object \n",
      " 1   lokasi           1533 non-null   object \n",
      " 2   harga            1533 non-null   float64\n",
      " 3   kapasitas_mesin  1533 non-null   int32  \n",
      " 4   tahun            1533 non-null   float64\n",
      " 5   transmisi        1533 non-null   object \n",
      " 6   kilometer        1533 non-null   object \n",
      " 7   merk             1533 non-null   object \n",
      "dtypes: float64(2), int32(1), object(5)\n",
      "memory usage: 101.8+ KB\n"
     ]
    }
   ],
   "source": [
    "# Melihat informasi dataset\n",
    "filtered_motor.info()"
   ]
  },
  {
   "cell_type": "code",
   "execution_count": 19,
   "metadata": {},
   "outputs": [
    {
     "name": "stdout",
     "output_type": "stream",
     "text": [
      "nama_motor : 139\n",
      "lokasi : 16\n",
      "harga : 229\n",
      "kapasitas_mesin : 11\n",
      "tahun : 8\n",
      "transmisi : 2\n",
      "kilometer : 5\n",
      "merk : 4\n"
     ]
    }
   ],
   "source": [
    "# Loop melalui tiap kolom dan mencetak nilai unik\n",
    "unique_value_count ={}\n",
    "for column in filtered_motor.columns : \n",
    "    unique_values = filtered_motor[column].unique()\n",
    "    unique_count = len(unique_values)\n",
    "    unique_value_count[column] = unique_count\n",
    "\n",
    "for column, count in unique_value_count.items():\n",
    "    print(f\"{column} : {count}\")"
   ]
  },
  {
   "cell_type": "code",
   "execution_count": 20,
   "metadata": {},
   "outputs": [
    {
     "data": {
      "text/html": [
       "<div>\n",
       "<style scoped>\n",
       "    .dataframe tbody tr th:only-of-type {\n",
       "        vertical-align: middle;\n",
       "    }\n",
       "\n",
       "    .dataframe tbody tr th {\n",
       "        vertical-align: top;\n",
       "    }\n",
       "\n",
       "    .dataframe thead th {\n",
       "        text-align: right;\n",
       "    }\n",
       "</style>\n",
       "<table border=\"1\" class=\"dataframe\">\n",
       "  <thead>\n",
       "    <tr style=\"text-align: right;\">\n",
       "      <th></th>\n",
       "      <th>harga</th>\n",
       "      <th>kapasitas_mesin</th>\n",
       "      <th>tahun</th>\n",
       "    </tr>\n",
       "  </thead>\n",
       "  <tbody>\n",
       "    <tr>\n",
       "      <th>count</th>\n",
       "      <td>1.533000e+03</td>\n",
       "      <td>1533.000000</td>\n",
       "      <td>1533.000000</td>\n",
       "    </tr>\n",
       "    <tr>\n",
       "      <th>mean</th>\n",
       "      <td>2.112688e+07</td>\n",
       "      <td>135.988258</td>\n",
       "      <td>2018.644488</td>\n",
       "    </tr>\n",
       "    <tr>\n",
       "      <th>std</th>\n",
       "      <td>5.036155e+06</td>\n",
       "      <td>18.757832</td>\n",
       "      <td>1.480783</td>\n",
       "    </tr>\n",
       "    <tr>\n",
       "      <th>min</th>\n",
       "      <td>8.550000e+06</td>\n",
       "      <td>110.000000</td>\n",
       "      <td>2015.000000</td>\n",
       "    </tr>\n",
       "    <tr>\n",
       "      <th>25%</th>\n",
       "      <td>1.700000e+07</td>\n",
       "      <td>125.000000</td>\n",
       "      <td>2018.000000</td>\n",
       "    </tr>\n",
       "    <tr>\n",
       "      <th>50%</th>\n",
       "      <td>2.350000e+07</td>\n",
       "      <td>125.000000</td>\n",
       "      <td>2019.000000</td>\n",
       "    </tr>\n",
       "    <tr>\n",
       "      <th>75%</th>\n",
       "      <td>2.450000e+07</td>\n",
       "      <td>155.000000</td>\n",
       "      <td>2019.000000</td>\n",
       "    </tr>\n",
       "    <tr>\n",
       "      <th>max</th>\n",
       "      <td>3.500000e+07</td>\n",
       "      <td>250.000000</td>\n",
       "      <td>2022.000000</td>\n",
       "    </tr>\n",
       "  </tbody>\n",
       "</table>\n",
       "</div>"
      ],
      "text/plain": [
       "              harga  kapasitas_mesin        tahun\n",
       "count  1.533000e+03      1533.000000  1533.000000\n",
       "mean   2.112688e+07       135.988258  2018.644488\n",
       "std    5.036155e+06        18.757832     1.480783\n",
       "min    8.550000e+06       110.000000  2015.000000\n",
       "25%    1.700000e+07       125.000000  2018.000000\n",
       "50%    2.350000e+07       125.000000  2019.000000\n",
       "75%    2.450000e+07       155.000000  2019.000000\n",
       "max    3.500000e+07       250.000000  2022.000000"
      ]
     },
     "execution_count": 20,
     "metadata": {},
     "output_type": "execute_result"
    }
   ],
   "source": [
    "# Melihat Statistika data numerik\n",
    "filtered_motor.describe()"
   ]
  },
  {
   "cell_type": "code",
   "execution_count": 21,
   "metadata": {},
   "outputs": [
    {
     "data": {
      "text/html": [
       "<div>\n",
       "<style scoped>\n",
       "    .dataframe tbody tr th:only-of-type {\n",
       "        vertical-align: middle;\n",
       "    }\n",
       "\n",
       "    .dataframe tbody tr th {\n",
       "        vertical-align: top;\n",
       "    }\n",
       "\n",
       "    .dataframe thead th {\n",
       "        text-align: right;\n",
       "    }\n",
       "</style>\n",
       "<table border=\"1\" class=\"dataframe\">\n",
       "  <thead>\n",
       "    <tr style=\"text-align: right;\">\n",
       "      <th></th>\n",
       "      <th>nama_motor</th>\n",
       "      <th>lokasi</th>\n",
       "      <th>transmisi</th>\n",
       "      <th>kilometer</th>\n",
       "      <th>merk</th>\n",
       "    </tr>\n",
       "  </thead>\n",
       "  <tbody>\n",
       "    <tr>\n",
       "      <th>count</th>\n",
       "      <td>1533</td>\n",
       "      <td>1533</td>\n",
       "      <td>1533</td>\n",
       "      <td>1533</td>\n",
       "      <td>1533</td>\n",
       "    </tr>\n",
       "    <tr>\n",
       "      <th>unique</th>\n",
       "      <td>139</td>\n",
       "      <td>16</td>\n",
       "      <td>2</td>\n",
       "      <td>5</td>\n",
       "      <td>4</td>\n",
       "    </tr>\n",
       "    <tr>\n",
       "      <th>top</th>\n",
       "      <td>Yamaha Nmax Abs</td>\n",
       "      <td>Kota Jakarta Barat</td>\n",
       "      <td>Otomatis</td>\n",
       "      <td>10000 - 20000KM</td>\n",
       "      <td>Honda</td>\n",
       "    </tr>\n",
       "    <tr>\n",
       "      <th>freq</th>\n",
       "      <td>345</td>\n",
       "      <td>443</td>\n",
       "      <td>1145</td>\n",
       "      <td>641</td>\n",
       "      <td>956</td>\n",
       "    </tr>\n",
       "  </tbody>\n",
       "</table>\n",
       "</div>"
      ],
      "text/plain": [
       "             nama_motor              lokasi transmisi        kilometer   merk\n",
       "count              1533                1533      1533             1533   1533\n",
       "unique              139                  16         2                5      4\n",
       "top     Yamaha Nmax Abs  Kota Jakarta Barat  Otomatis  10000 - 20000KM  Honda\n",
       "freq                345                 443      1145              641    956"
      ]
     },
     "execution_count": 21,
     "metadata": {},
     "output_type": "execute_result"
    }
   ],
   "source": [
    "# Melihat Statistika data kategorikal\n",
    "filtered_motor.describe(exclude=np.number)"
   ]
  },
  {
   "cell_type": "code",
   "execution_count": 22,
   "metadata": {},
   "outputs": [
    {
     "data": {
      "text/plain": [
       "<Axes: xlabel='harga', ylabel='Count'>"
      ]
     },
     "execution_count": 22,
     "metadata": {},
     "output_type": "execute_result"
    },
    {
     "data": {
      "image/png": "[encoded data removed]",
      "text/plain": [
       "<Figure size 640x480 with 1 Axes>"
      ]
     },
     "metadata": {},
     "output_type": "display_data"
    }
   ],
   "source": [
    "# Visualisasi distribusi harga motor semua merk\n",
    "sns.histplot(filtered_motor['harga'], kde=True)"
   ]
  },
  {
   "cell_type": "code",
   "execution_count": 23,
   "metadata": {},
   "outputs": [
    {
     "data": {
      "application/vnd.plotly.v1+json": {
       "config": {
        "plotlyServerURL": "https://plot.ly"
       },
       "data": [
        {
         "alignmentgroup": "True",
         "bingroup": "x",
         "histnorm": "probability",
         "hovertemplate": "harga=%{x}<br>count=%{y}<extra></extra>",
         "legendgroup": "",
         "marker": {
          "color": "#ca91eb",
          "pattern": {
           "shape": ""
          }
         },
         "name": "",
         "nbinsx": 30,
         "offsetgroup": "",
         "orientation": "v",
         "showlegend": false,
         "type": "histogram",
         "x": [
          20800000,
          18600000,
          17500000,
          17600000,
          18500000,
          24500000,
          23500000,
          24500000,
          24999000,
          16000000,
          21500000,
          24999000,
          22000000,
          22000000,
          16000000,
          17350000,
          24500000,
          24500000,
          29250000,
          21500000,
          18600000,
          15800000,
          21500000,
          31500000,
          20600000,
          26800000,
          24500000,
          15700000,
          10950000,
          25000000,
          23500000,
          19900000,
          23500000,
          24500000,
          22000000,
          18800000,
          18000000,
          17000000,
          14500000,
          24500000,
          23500000,
          23500000,
          20800000,
          15300000,
          20800000,
          14200000,
          14300000,
          13500000,
          13800000,
          19500000,
          26000000,
          24500000,
          23500000,
          21850000,
          19850000,
          17500000,
          17500000,
          13500000,
          18000000,
          14000000,
          31500000,
          22000000,
          14500000,
          28300000,
          33700000,
          30300000,
          15500000,
          24500000,
          29350000,
          23500000,
          23500000,
          24500000,
          24500000,
          23500000,
          30500000,
          24500000,
          21200000,
          18200000,
          19000000,
          18600000,
          16100000,
          15700000,
          13700000,
          15300000,
          23500000,
          15000000,
          13700000,
          23500000,
          17780000,
          16000000,
          24500000,
          24500000,
          23500000,
          23500000,
          24500000,
          24500000,
          15980000,
          24500000,
          14250000,
          29250000,
          17700000,
          14850000,
          21500000,
          15850000,
          11850000,
          16850000,
          14000000,
          16500000,
          17000000,
          12000000,
          24500000,
          24500000,
          23500000,
          22500000,
          30400000,
          16200000,
          18200000,
          17400000,
          28500000,
          15500000,
          12300000,
          14200000,
          17950000,
          12870000,
          12750000,
          17000000,
          18000000,
          13000000,
          23500000,
          23500000,
          23500000,
          23500000,
          24500000,
          29500000,
          17500000,
          16500000,
          16500000,
          16500000,
          15850000,
          17250000,
          24500000,
          24500000,
          23500000,
          20000000,
          32700000,
          28000000,
          16600000,
          15800000,
          24500000,
          18850000,
          24500000,
          28500000,
          28500000,
          23500000,
          23500000,
          23500000,
          24500000,
          20850000,
          16850000,
          15750000,
          14500000,
          13500000,
          15700000,
          24500000,
          23500000,
          23500000,
          24500000,
          23500000,
          23500000,
          19850000,
          19500000,
          23500000,
          24500000,
          19000000,
          23500000,
          23500000,
          24500000,
          17500000,
          22500000,
          34500000,
          22000000,
          21000000,
          16500000,
          16500000,
          27900000,
          31000000,
          13990000,
          30500000,
          30500000,
          24500000,
          24500000,
          23500000,
          23500000,
          23500000,
          23500000,
          24500000,
          23500000,
          24500000,
          23500000,
          17500000,
          20700000,
          22500000,
          24500000,
          13990000,
          23500000,
          24500000,
          24500000,
          23500000,
          23500000,
          23500000,
          23500000,
          24500000,
          12950000,
          27000000,
          23500000,
          10800000,
          23500000,
          23500000,
          12700000,
          14800000,
          12700000,
          25700000,
          23500000,
          13500000,
          13800000,
          18500000,
          16500000,
          16500000,
          21500000,
          23500000,
          24500000,
          24500000,
          31000000,
          11250000,
          13850000,
          16500000,
          18850000,
          19850000,
          13850000,
          17780000,
          23500000,
          23500000,
          23500000,
          24500000,
          24500000,
          23500000,
          23500000,
          24500000,
          11850000,
          11850000,
          14850000,
          20500000,
          17500000,
          21500000,
          16500000,
          17500000,
          14500000,
          15500000,
          17500000,
          24500000,
          13700000,
          16700000,
          28500000,
          16900000,
          18800000,
          27000000,
          17000000,
          16000000,
          16900000,
          16000000,
          17700000,
          17700000,
          16000000,
          17400000,
          16300000,
          14800000,
          19000000,
          17800000,
          22700000,
          24500000,
          21900000,
          24500000,
          17000000,
          16500000,
          17000000,
          17000000,
          13500000,
          31000000,
          18000000,
          24500000,
          13500000,
          13990000,
          17500000,
          18850000,
          13750000,
          24500000,
          27900000,
          31000000,
          12300000,
          19000000,
          16800000,
          24500000,
          24500000,
          24500000,
          16500000,
          17500000,
          21500000,
          15600000,
          23700000,
          16800000,
          17600000,
          17000000,
          16900000,
          16800000,
          16900000,
          16300000,
          14800000,
          17800000,
          32100000,
          22700000,
          21900000,
          13700000,
          24000000,
          17400000,
          29300000,
          29600000,
          13500000,
          23500000,
          17200000,
          16700000,
          26800000,
          23200000,
          23500000,
          15800000,
          11200000,
          17800000,
          15500000,
          15300000,
          18800000,
          16500000,
          31500000,
          26900000,
          25500000,
          16500000,
          17800000,
          14700000,
          18850000,
          19850000,
          29500000,
          17000000,
          28000000,
          25900000,
          25700000,
          13800000,
          31500000,
          17000000,
          24500000,
          23500000,
          23500000,
          24500000,
          17000000,
          18990000,
          21000000,
          16500000,
          16500000,
          21000000,
          22000000,
          23800000,
          23500000,
          23500000,
          23500000,
          23500000,
          24500000,
          23500000,
          17500000,
          17500000,
          21500000,
          22500000,
          23500000,
          23500000,
          23500000,
          24500000,
          24500000,
          24500000,
          24500000,
          24500000,
          23500000,
          24500000,
          18700000,
          17800000,
          24500000,
          18500000,
          23500000,
          24500000,
          23500000,
          23500000,
          24500000,
          23500000,
          23500000,
          24500000,
          13680000,
          23500000,
          16970000,
          23500000,
          24500000,
          23500000,
          23500000,
          23500000,
          24500000,
          19000000,
          18000000,
          13900000,
          12700000,
          24500000,
          13500000,
          28500000,
          33500000,
          30500000,
          29900000,
          16500000,
          21500000,
          29000000,
          23800000,
          13950000,
          18800000,
          24500000,
          18500000,
          22000000,
          17500000,
          31000000,
          27900000,
          26000000,
          12500000,
          16500000,
          12850000,
          14500000,
          19850000,
          13500000,
          17850000,
          23500000,
          23500000,
          17850000,
          14500000,
          11200000,
          23500000,
          21850000,
          11250000,
          13850000,
          16500000,
          16500000,
          25000000,
          19800000,
          14700000,
          23500000,
          23500000,
          23500000,
          23500000,
          23500000,
          23500000,
          23500000,
          24500000,
          23500000,
          23500000,
          24500000,
          24500000,
          24500000,
          24500000,
          23500000,
          23500000,
          24500000,
          23500000,
          23500000,
          24500000,
          24500000,
          20500000,
          15000000,
          17500000,
          22500000,
          16500000,
          21500000,
          17500000,
          23500000,
          23500000,
          23500000,
          24500000,
          14000000,
          13800000,
          12500000,
          21500000,
          21500000,
          18500000,
          21500000,
          18500000,
          24500000,
          14500000,
          14500000,
          24500000,
          23500000,
          23500000,
          24500000,
          24500000,
          23500000,
          23500000,
          24500000,
          24500000,
          23500000,
          24500000,
          24500000,
          24500000,
          24500000,
          17100000,
          12700000,
          15500000,
          15500000,
          23500000,
          23500000,
          23500000,
          24500000,
          23500000,
          24500000,
          23500000,
          23500000,
          23500000,
          23500000,
          24500000,
          23500000,
          23500000,
          24500000,
          23500000,
          23500000,
          23500000,
          18500000,
          14500000,
          15500000,
          17800000,
          17600000,
          16800000,
          24500000,
          15000000,
          15000000,
          15500000,
          16000000,
          24500000,
          23500000,
          16500000,
          15000000,
          15000000,
          24500000,
          24500000,
          24500000,
          24500000,
          23500000,
          24500000,
          24500000,
          24500000,
          23500000,
          23500000,
          23500000,
          24500000,
          24500000,
          24500000,
          23500000,
          21500000,
          30200000,
          30200000,
          14300000,
          23500000,
          24500000,
          16200000,
          23500000,
          23500000,
          24500000,
          24500000,
          23500000,
          24500000,
          24500000,
          23500000,
          23500000,
          23500000,
          23500000,
          24500000,
          23800000,
          23500000,
          23500000,
          24500000,
          23500000,
          23500000,
          21500000,
          24500000,
          23500000,
          23500000,
          18500000,
          23500000,
          24500000,
          14500000,
          24500000,
          24500000,
          17850000,
          23500000,
          17850000,
          23500000,
          23500000,
          24500000,
          24500000,
          23500000,
          24500000,
          23500000,
          24500000,
          24500000,
          23500000,
          24500000,
          24500000,
          24500000,
          23500000,
          24500000,
          23500000,
          23500000,
          24500000,
          24500000,
          24500000,
          23500000,
          24500000,
          24500000,
          23500000,
          18860000,
          24500000,
          23500000,
          23500000,
          24500000,
          24500000,
          18800000,
          23500000,
          24500000,
          24500000,
          13500000,
          28000000,
          28000000,
          12700000,
          18500000,
          20500000,
          23500000,
          24500000,
          16500000,
          24500000,
          18500000,
          14500000,
          16500000,
          12500000,
          12850000,
          24500000,
          24500000,
          23500000,
          23500000,
          19850000,
          17500000,
          19500000,
          14700000,
          17550000,
          32700000,
          24500000,
          16700000,
          31000000,
          18500000,
          18500000,
          19500000,
          14200000,
          18860000,
          19500000,
          19500000,
          19500000,
          21500000,
          19700000,
          17000000,
          13500000,
          14850000,
          24500000,
          23500000,
          18680000,
          16600000,
          28000000,
          14500000,
          16600000,
          23800000,
          21000000,
          21000000,
          14500000,
          13400000,
          13800000,
          14500000,
          12700000,
          23500000,
          24500000,
          24500000,
          16500000,
          24100000,
          21250000,
          21500000,
          13900000,
          10750000,
          16600000,
          23500000,
          24500000,
          12500000,
          29300000,
          16000000,
          16200000,
          16700000,
          23500000,
          24500000,
          14800000,
          16000000,
          17400000,
          13000000,
          16300000,
          16200000,
          17000000,
          20100000,
          27200000,
          16100000,
          24500000,
          28600000,
          24500000,
          17500000,
          16700000,
          17300000,
          14700000,
          18500000,
          29900000,
          17700000,
          17700000,
          15500000,
          13250000,
          14500000,
          17800000,
          19500000,
          18800000,
          23500000,
          15800000,
          16200000,
          13900000,
          16400000,
          13000000,
          24100000,
          17800000,
          15800000,
          15100000,
          24100000,
          23500000,
          14500000,
          24500000,
          18400000,
          23500000,
          24500000,
          18750000,
          13900000,
          23500000,
          16700000,
          16000000,
          23500000,
          21500000,
          23500000,
          23500000,
          20800000,
          20500000,
          18850000,
          11500000,
          18850000,
          13250000,
          14750000,
          23500000,
          14500000,
          23500000,
          19800000,
          10400000,
          19000000,
          24500000,
          13500000,
          18000000,
          18000000,
          20500000,
          13850000,
          15500000,
          13500000,
          24500000,
          23500000,
          24500000,
          23500000,
          27900000,
          23500000,
          10000000,
          32000000,
          15850000,
          14500000,
          14500000,
          17700000,
          34000000,
          17000000,
          16500000,
          16500000,
          17000000,
          16500000,
          17500000,
          19500000,
          20500000,
          15500000,
          23500000,
          16700000,
          29500000,
          16500000,
          23500000,
          24500000,
          23500000,
          23500000,
          23500000,
          23500000,
          24500000,
          23500000,
          17000000,
          17000000,
          17000000,
          16500000,
          23500000,
          24500000,
          20000000,
          24500000,
          18850000,
          23500000,
          17750000,
          9850000,
          10850000,
          15500000,
          19500000,
          23500000,
          21500000,
          16300000,
          29000000,
          11250000,
          14850000,
          15500000,
          24500000,
          18500000,
          17800000,
          19500000,
          23500000,
          18000000,
          24500000,
          30700000,
          13900000,
          18750000,
          12500000,
          10250000,
          19500000,
          35000000,
          19850000,
          16850000,
          15850000,
          13500000,
          28950000,
          23500000,
          27500000,
          31500000,
          31500000,
          12500000,
          16000000,
          16000000,
          14500000,
          19500000,
          19500000,
          10850000,
          23500000,
          20000000,
          17850000,
          12300000,
          14500000,
          28950000,
          12300000,
          14500000,
          15500000,
          24500000,
          19800000,
          14800000,
          26000000,
          14800000,
          12800000,
          16200000,
          9850000,
          10850000,
          19850000,
          16500000,
          11500000,
          16800000,
          19800000,
          14000000,
          24500000,
          23500000,
          12500000,
          11000000,
          16800000,
          27500000,
          19500000,
          11000000,
          20500000,
          19500000,
          13200000,
          13200000,
          13250000,
          18500000,
          23500000,
          24500000,
          24800000,
          10500000,
          23500000,
          8850000,
          16500000,
          20500000,
          24500000,
          14250000,
          10850000,
          24500000,
          18500000,
          13900000,
          12800000,
          19850000,
          15500000,
          23500000,
          13850000,
          15700000,
          31000000,
          16500000,
          13500000,
          31000000,
          13500000,
          13550000,
          12250000,
          14900000,
          15900000,
          15900000,
          11800000,
          14700000,
          12100000,
          13400000,
          15700000,
          21900000,
          24500000,
          14000000,
          19500000,
          13850000,
          18500000,
          16500000,
          18500000,
          13000000,
          16500000,
          15500000,
          13000000,
          13000000,
          18500000
         ],
         "xaxis": "x",
         "yaxis": "y"
        },
        {
         "alignmentgroup": "True",
         "bingroup": "x",
         "histnorm": "probability",
         "hovertemplate": "harga=%{x}<br>count=%{y}<extra></extra>",
         "legendgroup": "",
         "marker": {
          "color": "#eb6426",
          "pattern": {
           "shape": ""
          }
         },
         "name": "",
         "nbinsx": 30,
         "offsetgroup": "",
         "orientation": "v",
         "showlegend": false,
         "type": "histogram",
         "x": [
          23500000,
          24500000,
          24500000,
          24500000,
          23500000,
          17800000,
          12500000,
          27300000,
          27300000,
          14800000,
          17500000,
          17500000,
          23500000,
          24500000,
          31900000,
          24500000,
          13900000,
          13800000,
          13800000,
          14850000,
          14855000,
          20500000,
          25500000,
          9300000,
          26000000,
          19500000,
          32500000,
          21500000,
          22500000,
          20600000,
          12700000,
          27000000,
          33000000,
          17300000,
          23500000,
          23500000,
          23500000,
          23500000,
          25850000,
          21850000,
          25850000,
          28500000,
          15000000,
          23500000,
          18300000,
          24500000,
          21500000,
          9850000,
          22500000,
          17300000,
          24400000,
          9500000,
          23400000,
          26700000,
          19700000,
          22800000,
          22900000,
          15800000,
          17900000,
          24500000,
          20500000,
          27500000,
          24300000,
          24500000,
          24500000,
          25000000,
          23500000,
          24500000,
          24500000,
          20000000,
          23000000,
          22800000,
          12960000,
          24500000,
          24500000,
          23500000,
          23500000,
          25500000,
          23000000,
          16500000,
          24500000,
          23500000,
          24500000,
          25500000,
          28500000,
          23500000,
          19500000,
          18900000,
          27000000,
          23000000,
          29500000,
          23500000,
          24500000,
          29500000,
          32000000,
          22900000,
          18700000,
          18800000,
          28800000,
          29700000,
          23500000,
          24500000,
          23500000,
          23500000,
          27200000,
          18900000,
          22300000,
          23500000,
          22680000,
          24500000,
          23500000,
          24500000,
          10000000,
          21000000,
          23500000,
          17500000,
          19500000,
          23500000,
          28500000,
          25500000,
          27360000,
          29500000,
          24500000,
          23500000,
          24500000,
          25000000,
          23500000,
          23500000,
          24500000,
          32000000,
          29500000,
          20850000,
          21500000,
          23500000,
          24500000,
          24500000,
          23500000,
          24500000,
          27000000,
          17500000,
          27100000,
          25900000,
          22000000,
          22000000,
          28800000,
          16000000,
          9800000,
          23500000,
          25500000,
          28000000,
          12300000,
          22400000,
          24500000,
          24500000,
          23500000,
          24500000,
          32000000,
          24500000,
          29500000,
          24500000,
          23500000,
          16000000,
          27500000,
          9800000,
          25900000,
          27100000,
          25600000,
          20800000,
          28500000,
          10000000,
          29800000,
          21700000,
          26800000,
          22500000,
          19500000,
          23500000,
          19300000,
          30800000,
          20800000,
          12500000,
          16700000,
          21000000,
          23500000,
          24500000,
          14500000,
          16500000,
          9800000,
          23500000,
          24500000,
          24500000,
          23500000,
          28500000,
          24500000,
          24500000,
          23500000,
          24500000,
          24500000,
          24500000,
          23700000,
          18500000,
          19700000,
          19200000,
          25000000,
          23600000,
          24500000,
          13850000,
          23500000,
          23500000,
          20850000,
          21500000,
          23500000,
          29500000,
          14500000,
          17500000,
          14500000,
          14000000,
          8550000,
          9350000,
          22400000,
          23500000,
          24500000,
          32000000,
          29500000,
          24500000,
          23500000,
          17500000,
          28500000,
          25500000,
          24500000,
          25500000,
          24850000,
          20850000,
          21500000,
          24000000,
          24500000,
          24500000,
          23500000,
          23500000,
          24500000,
          16000000,
          23500000,
          23500000,
          11000000,
          10000000,
          10000000,
          10000000,
          10000000,
          9000000,
          23500000,
          24500000,
          24500000,
          24500000,
          23500000,
          24500000,
          23500000,
          12960000,
          20000000,
          24500000,
          24500000,
          23500000,
          24500000,
          24500000,
          23500000,
          20790000,
          19500000,
          23500000,
          21000000,
          15500000,
          14000000,
          34000000,
          25500000,
          24500000,
          24500000,
          23500000,
          23500000,
          24500000,
          24500000,
          23500000,
          23850000,
          18500000,
          24500000,
          23500000,
          23800000,
          24500000,
          24500000,
          29500000,
          24500000,
          25500000,
          17500000,
          23500000,
          24300000,
          18000000,
          24500000,
          24500000,
          18500000,
          24000000,
          24500000,
          24500000,
          17500000,
          14000000,
          23500000,
          23500000,
          23500000,
          23500000,
          23500000,
          23500000,
          23999000,
          24500000,
          23850000,
          23500000,
          24500000,
          24500000,
          20850000,
          16100000,
          29800000,
          24500000,
          24500000,
          24500000,
          15200000,
          18500000,
          23900000,
          26000000,
          25000000,
          24200000,
          24200000,
          28000000,
          23850000,
          24500000,
          19900000,
          21100000,
          19500000,
          21000000,
          23800000,
          21980000,
          24500000,
          23500000,
          10500000,
          17000000,
          19500000,
          28400000,
          25300000,
          23300000,
          14200000,
          22200000,
          26000000,
          23500000,
          23500000,
          24000000,
          31000000,
          18000000,
          24500000,
          24500000,
          19000000,
          12900000,
          15200000,
          23850000,
          23500000,
          21500000,
          12200000,
          21100000,
          25200000,
          25200000,
          24100000,
          17500000,
          15000000,
          20600000,
          24500000,
          23500000,
          14500000,
          12100000,
          30500000,
          17000000,
          30500000,
          10500000,
          23500000,
          24500000,
          29000000,
          21500000,
          33500000,
          29500000,
          23500000,
          23500000,
          24500000,
          28500000,
          20850000,
          28800000,
          14500000,
          19500000,
          24000000,
          24500000,
          16500000,
          24500000,
          23500000,
          23500000,
          23500000,
          24500000,
          18500000,
          34000000,
          28500000,
          23500000,
          20000000,
          19000000,
          24500000,
          24250000,
          31500000,
          23500000,
          23500000,
          23500000,
          23500000,
          25000000,
          25000000,
          25000000,
          25000000,
          17500000,
          29000000,
          23800000,
          23800000,
          20500000,
          18000000,
          12500000,
          9000000,
          9000000,
          24500000,
          16900000,
          10850000,
          24850000,
          12100000,
          12900000,
          30500000,
          17000000,
          30500000,
          24000000,
          18000000,
          31000000,
          18000000,
          23500000,
          23500000,
          24300000,
          28000000,
          31000000,
          11850000,
          18000000,
          25500000,
          24500000,
          20500000,
          11000000,
          25000000,
          23500000,
          24500000,
          24500000,
          24500000,
          24500000,
          23800000,
          23500000,
          11300000,
          23500000,
          24500000,
          18500000,
          24500000,
          24500000,
          25500000,
          11250000,
          24850000,
          12200000,
          25250000,
          23000000,
          8850000,
          20850000,
          19850000,
          28900000,
          15500000,
          25000000,
          10800000,
          16500000,
          19700000,
          23500000,
          10000000,
          11250000,
          24500000,
          11000000,
          21500000
         ],
         "xaxis": "x2",
         "yaxis": "y2"
        },
        {
         "alignmentgroup": "True",
         "bingroup": "x",
         "histnorm": "probability",
         "hovertemplate": "harga=%{x}<br>count=%{y}<extra></extra>",
         "legendgroup": "",
         "marker": {
          "color": "#91caeb",
          "pattern": {
           "shape": ""
          }
         },
         "name": "",
         "nbinsx": 30,
         "offsetgroup": "",
         "orientation": "v",
         "showlegend": false,
         "type": "histogram",
         "x": [
          23500000,
          24500000,
          24500000,
          23500000,
          24500000,
          22900000,
          34500000,
          24500000,
          24500000,
          23600000,
          21500000,
          24500000,
          23500000,
          23500000,
          23500000,
          23500000,
          24500000,
          24500000,
          24500000,
          23500000,
          24500000,
          23500000,
          23500000,
          24500000,
          24500000,
          24500000,
          23500000,
          23500000,
          23500000,
          24500000,
          23500000,
          24500000,
          23500000,
          24500000,
          24500000,
          23500000,
          23500000,
          23800000,
          24500000,
          28800000,
          27500000,
          24500000,
          23500000,
          27500000,
          23500000,
          23500000,
          23500000,
          19500000,
          24500000,
          24500000,
          24500000,
          24500000,
          24500000,
          24500000,
          24000000,
          23500000,
          19500000,
          23500000,
          24500000,
          24500000,
          30700000,
          23800000,
          23500000,
          23600000,
          24500000,
          23500000,
          27500000,
          27500000,
          27500000,
          22500000,
          23900000,
          31100000,
          23500000
         ],
         "xaxis": "x3",
         "yaxis": "y3"
        },
        {
         "alignmentgroup": "True",
         "bingroup": "x",
         "histnorm": "probability",
         "hovertemplate": "harga=%{x}<br>count=%{y}<extra></extra>",
         "legendgroup": "",
         "marker": {
          "color": "#265aeb",
          "pattern": {
           "shape": ""
          }
         },
         "name": "",
         "nbinsx": 30,
         "offsetgroup": "",
         "orientation": "v",
         "showlegend": false,
         "type": "histogram",
         "x": [
          16900000,
          10500000,
          24500000,
          24500000,
          23500000,
          24500000,
          24500000,
          16500000,
          23500000,
          18500000,
          12500000,
          17500000,
          23500000,
          24500000,
          18500000,
          15500000,
          9850000,
          23500000,
          24500000,
          23500000,
          15500000,
          23500000,
          11850000
         ],
         "xaxis": "x4",
         "yaxis": "y4"
        }
       ],
       "layout": {
        "annotations": [
         {
          "font": {
           "size": 16
          },
          "showarrow": false,
          "text": "Honda",
          "x": 0.225,
          "xanchor": "center",
          "xref": "paper",
          "y": 1,
          "yanchor": "bottom",
          "yref": "paper"
         },
         {
          "font": {
           "size": 16
          },
          "showarrow": false,
          "text": "Yamaha",
          "x": 0.775,
          "xanchor": "center",
          "xref": "paper",
          "y": 1,
          "yanchor": "bottom",
          "yref": "paper"
         },
         {
          "font": {
           "size": 16
          },
          "showarrow": false,
          "text": "Kawasaki",
          "x": 0.225,
          "xanchor": "center",
          "xref": "paper",
          "y": 0.375,
          "yanchor": "bottom",
          "yref": "paper"
         },
         {
          "font": {
           "size": 16
          },
          "showarrow": false,
          "text": "Suzuki",
          "x": 0.775,
          "xanchor": "center",
          "xref": "paper",
          "y": 0.375,
          "yanchor": "bottom",
          "yref": "paper"
         }
        ],
        "showlegend": false,
        "template": {
         "data": {
          "bar": [
           {
            "error_x": {
             "color": "#2a3f5f"
            },
            "error_y": {
             "color": "#2a3f5f"
            },
            "marker": {
             "line": {
              "color": "#E5ECF6",
              "width": 0.5
             },
             "pattern": {
              "fillmode": "overlay",
              "size": 10,
              "solidity": 0.2
             }
            },
            "type": "bar"
           }
          ],
          "barpolar": [
           {
            "marker": {
             "line": {
              "color": "#E5ECF6",
              "width": 0.5
             },
             "pattern": {
              "fillmode": "overlay",
              "size": 10,
              "solidity": 0.2
             }
            },
            "type": "barpolar"
           }
          ],
          "carpet": [
           {
            "aaxis": {
             "endlinecolor": "#2a3f5f",
             "gridcolor": "white",
             "linecolor": "white",
             "minorgridcolor": "white",
             "startlinecolor": "#2a3f5f"
            },
            "baxis": {
             "endlinecolor": "#2a3f5f",
             "gridcolor": "white",
             "linecolor": "white",
             "minorgridcolor": "white",
             "startlinecolor": "#2a3f5f"
            },
            "type": "carpet"
           }
          ],
          "choropleth": [
           {
            "colorbar": {
             "outlinewidth": 0,
             "ticks": ""
            },
            "type": "choropleth"
           }
          ],
          "contour": [
           {
            "colorbar": {
             "outlinewidth": 0,
             "ticks": ""
            },
            "colorscale": [
             [
              0,
              "#0d0887"
             ],
             [
              0.1111111111111111,
              "#46039f"
             ],
             [
              0.2222222222222222,
              "#7201a8"
             ],
             [
              0.3333333333333333,
              "#9c179e"
             ],
             [
              0.4444444444444444,
              "#bd3786"
             ],
             [
              0.5555555555555556,
              "#d8576b"
             ],
             [
              0.6666666666666666,
              "#ed7953"
             ],
             [
              0.7777777777777778,
              "#fb9f3a"
             ],
             [
              0.8888888888888888,
              "#fdca26"
             ],
             [
              1,
              "#f0f921"
             ]
            ],
            "type": "contour"
           }
          ],
          "contourcarpet": [
           {
            "colorbar": {
             "outlinewidth": 0,
             "ticks": ""
            },
            "type": "contourcarpet"
           }
          ],
          "heatmap": [
           {
            "colorbar": {
             "outlinewidth": 0,
             "ticks": ""
            },
            "colorscale": [
             [
              0,
              "#0d0887"
             ],
             [
              0.1111111111111111,
              "#46039f"
             ],
             [
              0.2222222222222222,
              "#7201a8"
             ],
             [
              0.3333333333333333,
              "#9c179e"
             ],
             [
              0.4444444444444444,
              "#bd3786"
             ],
             [
              0.5555555555555556,
              "#d8576b"
             ],
             [
              0.6666666666666666,
              "#ed7953"
             ],
             [
              0.7777777777777778,
              "#fb9f3a"
             ],
             [
              0.8888888888888888,
              "#fdca26"
             ],
             [
              1,
              "#f0f921"
             ]
            ],
            "type": "heatmap"
           }
          ],
          "heatmapgl": [
           {
            "colorbar": {
             "outlinewidth": 0,
             "ticks": ""
            },
            "colorscale": [
             [
              0,
              "#0d0887"
             ],
             [
              0.1111111111111111,
              "#46039f"
             ],
             [
              0.2222222222222222,
              "#7201a8"
             ],
             [
              0.3333333333333333,
              "#9c179e"
             ],
             [
              0.4444444444444444,
              "#bd3786"
             ],
             [
              0.5555555555555556,
              "#d8576b"
             ],
             [
              0.6666666666666666,
              "#ed7953"
             ],
             [
              0.7777777777777778,
              "#fb9f3a"
             ],
             [
              0.8888888888888888,
              "#fdca26"
             ],
             [
              1,
              "#f0f921"
             ]
            ],
            "type": "heatmapgl"
           }
          ],
          "histogram": [
           {
            "marker": {
             "pattern": {
              "fillmode": "overlay",
              "size": 10,
              "solidity": 0.2
             }
            },
            "type": "histogram"
           }
          ],
          "histogram2d": [
           {
            "colorbar": {
             "outlinewidth": 0,
             "ticks": ""
            },
            "colorscale": [
             [
              0,
              "#0d0887"
             ],
             [
              0.1111111111111111,
              "#46039f"
             ],
             [
              0.2222222222222222,
              "#7201a8"
             ],
             [
              0.3333333333333333,
              "#9c179e"
             ],
             [
              0.4444444444444444,
              "#bd3786"
             ],
             [
              0.5555555555555556,
              "#d8576b"
             ],
             [
              0.6666666666666666,
              "#ed7953"
             ],
             [
              0.7777777777777778,
              "#fb9f3a"
             ],
             [
              0.8888888888888888,
              "#fdca26"
             ],
             [
              1,
              "#f0f921"
             ]
            ],
            "type": "histogram2d"
           }
          ],
          "histogram2dcontour": [
           {
            "colorbar": {
             "outlinewidth": 0,
             "ticks": ""
            },
            "colorscale": [
             [
              0,
              "#0d0887"
             ],
             [
              0.1111111111111111,
              "#46039f"
             ],
             [
              0.2222222222222222,
              "#7201a8"
             ],
             [
              0.3333333333333333,
              "#9c179e"
             ],
             [
              0.4444444444444444,
              "#bd3786"
             ],
             [
              0.5555555555555556,
              "#d8576b"
             ],
             [
              0.6666666666666666,
              "#ed7953"
             ],
             [
              0.7777777777777778,
              "#fb9f3a"
             ],
             [
              0.8888888888888888,
              "#fdca26"
             ],
             [
              1,
              "#f0f921"
             ]
            ],
            "type": "histogram2dcontour"
           }
          ],
          "mesh3d": [
           {
            "colorbar": {
             "outlinewidth": 0,
             "ticks": ""
            },
            "type": "mesh3d"
           }
          ],
          "parcoords": [
           {
            "line": {
             "colorbar": {
              "outlinewidth": 0,
              "ticks": ""
             }
            },
            "type": "parcoords"
           }
          ],
          "pie": [
           {
            "automargin": true,
            "type": "pie"
           }
          ],
          "scatter": [
           {
            "fillpattern": {
             "fillmode": "overlay",
             "size": 10,
             "solidity": 0.2
            },
            "type": "scatter"
           }
          ],
          "scatter3d": [
           {
            "line": {
             "colorbar": {
              "outlinewidth": 0,
              "ticks": ""
             }
            },
            "marker": {
             "colorbar": {
              "outlinewidth": 0,
              "ticks": ""
             }
            },
            "type": "scatter3d"
           }
          ],
          "scattercarpet": [
           {
            "marker": {
             "colorbar": {
              "outlinewidth": 0,
              "ticks": ""
             }
            },
            "type": "scattercarpet"
           }
          ],
          "scattergeo": [
           {
            "marker": {
             "colorbar": {
              "outlinewidth": 0,
              "ticks": ""
             }
            },
            "type": "scattergeo"
           }
          ],
          "scattergl": [
           {
            "marker": {
             "colorbar": {
              "outlinewidth": 0,
              "ticks": ""
             }
            },
            "type": "scattergl"
           }
          ],
          "scattermapbox": [
           {
            "marker": {
             "colorbar": {
              "outlinewidth": 0,
              "ticks": ""
             }
            },
            "type": "scattermapbox"
           }
          ],
          "scatterpolar": [
           {
            "marker": {
             "colorbar": {
              "outlinewidth": 0,
              "ticks": ""
             }
            },
            "type": "scatterpolar"
           }
          ],
          "scatterpolargl": [
           {
            "marker": {
             "colorbar": {
              "outlinewidth": 0,
              "ticks": ""
             }
            },
            "type": "scatterpolargl"
           }
          ],
          "scatterternary": [
           {
            "marker": {
             "colorbar": {
              "outlinewidth": 0,
              "ticks": ""
             }
            },
            "type": "scatterternary"
           }
          ],
          "surface": [
           {
            "colorbar": {
             "outlinewidth": 0,
             "ticks": ""
            },
            "colorscale": [
             [
              0,
              "#0d0887"
             ],
             [
              0.1111111111111111,
              "#46039f"
             ],
             [
              0.2222222222222222,
              "#7201a8"
             ],
             [
              0.3333333333333333,
              "#9c179e"
             ],
             [
              0.4444444444444444,
              "#bd3786"
             ],
             [
              0.5555555555555556,
              "#d8576b"
             ],
             [
              0.6666666666666666,
              "#ed7953"
             ],
             [
              0.7777777777777778,
              "#fb9f3a"
             ],
             [
              0.8888888888888888,
              "#fdca26"
             ],
             [
              1,
              "#f0f921"
             ]
            ],
            "type": "surface"
           }
          ],
          "table": [
           {
            "cells": {
             "fill": {
              "color": "#EBF0F8"
             },
             "line": {
              "color": "white"
             }
            },
            "header": {
             "fill": {
              "color": "#C8D4E3"
             },
             "line": {
              "color": "white"
             }
            },
            "type": "table"
           }
          ]
         },
         "layout": {
          "annotationdefaults": {
           "arrowcolor": "#2a3f5f",
           "arrowhead": 0,
           "arrowwidth": 1
          },
          "autotypenumbers": "strict",
          "coloraxis": {
           "colorbar": {
            "outlinewidth": 0,
            "ticks": ""
           }
          },
          "colorscale": {
           "diverging": [
            [
             0,
             "#8e0152"
            ],
            [
             0.1,
             "#c51b7d"
            ],
            [
             0.2,
             "#de77ae"
            ],
            [
             0.3,
             "#f1b6da"
            ],
            [
             0.4,
             "#fde0ef"
            ],
            [
             0.5,
             "#f7f7f7"
            ],
            [
             0.6,
             "#e6f5d0"
            ],
            [
             0.7,
             "#b8e186"
            ],
            [
             0.8,
             "#7fbc41"
            ],
            [
             0.9,
             "#4d9221"
            ],
            [
             1,
             "#276419"
            ]
           ],
           "sequential": [
            [
             0,
             "#0d0887"
            ],
            [
             0.1111111111111111,
             "#46039f"
            ],
            [
             0.2222222222222222,
             "#7201a8"
            ],
            [
             0.3333333333333333,
             "#9c179e"
            ],
            [
             0.4444444444444444,
             "#bd3786"
            ],
            [
             0.5555555555555556,
             "#d8576b"
            ],
            [
             0.6666666666666666,
             "#ed7953"
            ],
            [
             0.7777777777777778,
             "#fb9f3a"
            ],
            [
             0.8888888888888888,
             "#fdca26"
            ],
            [
             1,
             "#f0f921"
            ]
           ],
           "sequentialminus": [
            [
             0,
             "#0d0887"
            ],
            [
             0.1111111111111111,
             "#46039f"
            ],
            [
             0.2222222222222222,
             "#7201a8"
            ],
            [
             0.3333333333333333,
             "#9c179e"
            ],
            [
             0.4444444444444444,
             "#bd3786"
            ],
            [
             0.5555555555555556,
             "#d8576b"
            ],
            [
             0.6666666666666666,
             "#ed7953"
            ],
            [
             0.7777777777777778,
             "#fb9f3a"
            ],
            [
             0.8888888888888888,
             "#fdca26"
            ],
            [
             1,
             "#f0f921"
            ]
           ]
          },
          "colorway": [
           "#636efa",
           "#EF553B",
           "#00cc96",
           "#ab63fa",
           "#FFA15A",
           "#19d3f3",
           "#FF6692",
           "#B6E880",
           "#FF97FF",
           "#FECB52"
          ],
          "font": {
           "color": "#2a3f5f"
          },
          "geo": {
           "bgcolor": "white",
           "lakecolor": "white",
           "landcolor": "#E5ECF6",
           "showlakes": true,
           "showland": true,
           "subunitcolor": "white"
          },
          "hoverlabel": {
           "align": "left"
          },
          "hovermode": "closest",
          "mapbox": {
           "style": "light"
          },
          "paper_bgcolor": "white",
          "plot_bgcolor": "#E5ECF6",
          "polar": {
           "angularaxis": {
            "gridcolor": "white",
            "linecolor": "white",
            "ticks": ""
           },
           "bgcolor": "#E5ECF6",
           "radialaxis": {
            "gridcolor": "white",
            "linecolor": "white",
            "ticks": ""
           }
          },
          "scene": {
           "xaxis": {
            "backgroundcolor": "#E5ECF6",
            "gridcolor": "white",
            "gridwidth": 2,
            "linecolor": "white",
            "showbackground": true,
            "ticks": "",
            "zerolinecolor": "white"
           },
           "yaxis": {
            "backgroundcolor": "#E5ECF6",
            "gridcolor": "white",
            "gridwidth": 2,
            "linecolor": "white",
            "showbackground": true,
            "ticks": "",
            "zerolinecolor": "white"
           },
           "zaxis": {
            "backgroundcolor": "#E5ECF6",
            "gridcolor": "white",
            "gridwidth": 2,
            "linecolor": "white",
            "showbackground": true,
            "ticks": "",
            "zerolinecolor": "white"
           }
          },
          "shapedefaults": {
           "line": {
            "color": "#2a3f5f"
           }
          },
          "ternary": {
           "aaxis": {
            "gridcolor": "white",
            "linecolor": "white",
            "ticks": ""
           },
           "baxis": {
            "gridcolor": "white",
            "linecolor": "white",
            "ticks": ""
           },
           "bgcolor": "#E5ECF6",
           "caxis": {
            "gridcolor": "white",
            "linecolor": "white",
            "ticks": ""
           }
          },
          "title": {
           "x": 0.05
          },
          "xaxis": {
           "automargin": true,
           "gridcolor": "white",
           "linecolor": "white",
           "ticks": "",
           "title": {
            "standoff": 15
           },
           "zerolinecolor": "white",
           "zerolinewidth": 2
          },
          "yaxis": {
           "automargin": true,
           "gridcolor": "white",
           "linecolor": "white",
           "ticks": "",
           "title": {
            "standoff": 15
           },
           "zerolinecolor": "white",
           "zerolinewidth": 2
          }
         }
        },
        "title": {
         "text": "Distribusi Harga Tiap Merk Motor"
        },
        "xaxis": {
         "anchor": "y",
         "domain": [
          0,
          0.45
         ]
        },
        "xaxis2": {
         "anchor": "y2",
         "domain": [
          0.55,
          1
         ]
        },
        "xaxis3": {
         "anchor": "y3",
         "domain": [
          0,
          0.45
         ]
        },
        "xaxis4": {
         "anchor": "y4",
         "domain": [
          0.55,
          1
         ]
        },
        "yaxis": {
         "anchor": "x",
         "domain": [
          0.625,
          1
         ]
        },
        "yaxis2": {
         "anchor": "x2",
         "domain": [
          0.625,
          1
         ]
        },
        "yaxis3": {
         "anchor": "x3",
         "domain": [
          0,
          0.375
         ]
        },
        "yaxis4": {
         "anchor": "x4",
         "domain": [
          0,
          0.375
         ]
        }
       }
      }
     },
     "metadata": {},
     "output_type": "display_data"
    }
   ],
   "source": [
    "# Visualisasi distribusi harga tiap merk motor\n",
    "# Subplot\n",
    "fig = make_subplots(rows=2, cols=2, subplot_titles=['Honda', 'Yamaha', 'Kawasaki', 'Suzuki'])\n",
    "\n",
    "# Plot for Honda Turbo aspiration\n",
    "fig.add_trace(px.histogram(filtered_motor[filtered_motor['merk'] == 'Honda'], x='harga', nbins=30, color_discrete_sequence=['#ca91eb']).update_traces(histnorm='probability').data[0], row=1, col=1)\n",
    "\n",
    "# Plot for Yamaha Std aspiration\n",
    "fig.add_trace(px.histogram(filtered_motor[filtered_motor['merk'] == 'Yamaha'], x='harga', nbins=30, color_discrete_sequence=['#eb6426']).update_traces(histnorm='probability').data[0], row=1, col=2)\n",
    "\n",
    "# Plot for Kawasaki Std aspiration\n",
    "fig.add_trace(px.histogram(filtered_motor[filtered_motor['merk'] == 'Kawasaki'], x='harga', nbins=30, color_discrete_sequence=['#91caeb']).update_traces(histnorm='probability').data[0], row=2, col=1)\n",
    "\n",
    "# Plot for Suzuki Std aspiration\n",
    "fig.add_trace(px.histogram(filtered_motor[filtered_motor['merk'] == 'Suzuki'], x='harga', nbins=30, color_discrete_sequence=['#265aeb']).update_traces(histnorm='probability').data[0], row=2, col=2)\n",
    "\n",
    "# Update layout\n",
    "fig.update_layout(showlegend=False, title_text=\"Distribusi Harga Tiap Merk Motor\")\n",
    "\n",
    "# Show the plot\n",
    "fig.show()\n"
   ]
  },
  {
   "cell_type": "code",
   "execution_count": 24,
   "metadata": {},
   "outputs": [
    {
     "data": {
      "image/png": "[encoded data removed]",
      "text/plain": [
       "<Figure size 1200x600 with 1 Axes>"
      ]
     },
     "metadata": {},
     "output_type": "display_data"
    }
   ],
   "source": [
    "# Visualisasi Rata-Rata Harga Motor\n",
    "\n",
    "hargapermerk = filtered_motor.groupby(\"merk\")[\"harga\"].mean().reset_index()\n",
    "\n",
    "plt.figure(figsize=(12, 6))\n",
    "sns.barplot(x=\"merk\", y=\"harga\", data=hargapermerk, order=hargapermerk.sort_values('harga', ascending=False)['merk'])\n",
    "plt.title(\"Rata-rata Harga Motor Berdasarkan Merk\")\n",
    "plt.xlabel(\"Merk Motor\")\n",
    "plt.ylabel(\"Harga Motor\")\n",
    "plt.show()\n"
   ]
  },
  {
   "cell_type": "markdown",
   "metadata": {},
   "source": [
    "Dari visualisasi, terlihat rata-rata harga paling mahal adalah merk motor Kawasaki"
   ]
  },
  {
   "cell_type": "markdown",
   "metadata": {},
   "source": [
    "### Data Preparation"
   ]
  },
  {
   "cell_type": "code",
   "execution_count": 25,
   "metadata": {},
   "outputs": [
    {
     "data": {
      "text/html": [
       "<div>\n",
       "<style scoped>\n",
       "    .dataframe tbody tr th:only-of-type {\n",
       "        vertical-align: middle;\n",
       "    }\n",
       "\n",
       "    .dataframe tbody tr th {\n",
       "        vertical-align: top;\n",
       "    }\n",
       "\n",
       "    .dataframe thead th {\n",
       "        text-align: right;\n",
       "    }\n",
       "</style>\n",
       "<table border=\"1\" class=\"dataframe\">\n",
       "  <thead>\n",
       "    <tr style=\"text-align: right;\">\n",
       "      <th></th>\n",
       "      <th>nama_motor</th>\n",
       "      <th>lokasi</th>\n",
       "      <th>harga</th>\n",
       "      <th>kapasitas_mesin</th>\n",
       "      <th>tahun</th>\n",
       "      <th>transmisi</th>\n",
       "      <th>kilometer</th>\n",
       "      <th>merk</th>\n",
       "    </tr>\n",
       "  </thead>\n",
       "  <tbody>\n",
       "    <tr>\n",
       "      <th>0</th>\n",
       "      <td>Yamaha Nmax Abs</td>\n",
       "      <td>Kota Jakarta Barat</td>\n",
       "      <td>23500000.0</td>\n",
       "      <td>125</td>\n",
       "      <td>2018.0</td>\n",
       "      <td>Manual</td>\n",
       "      <td>&gt;30000 KM</td>\n",
       "      <td>Yamaha</td>\n",
       "    </tr>\n",
       "    <tr>\n",
       "      <th>1</th>\n",
       "      <td>Yamaha Nmax Abs</td>\n",
       "      <td>Kab. Tangerang</td>\n",
       "      <td>24500000.0</td>\n",
       "      <td>125</td>\n",
       "      <td>2019.0</td>\n",
       "      <td>Manual</td>\n",
       "      <td>&gt;30000 KM</td>\n",
       "      <td>Yamaha</td>\n",
       "    </tr>\n",
       "    <tr>\n",
       "      <th>2</th>\n",
       "      <td>Yamaha Aerox 155 Vva</td>\n",
       "      <td>Kota Jakarta Barat</td>\n",
       "      <td>24500000.0</td>\n",
       "      <td>125</td>\n",
       "      <td>2019.0</td>\n",
       "      <td>Manual</td>\n",
       "      <td>&gt;30000 KM</td>\n",
       "      <td>Yamaha</td>\n",
       "    </tr>\n",
       "    <tr>\n",
       "      <th>3</th>\n",
       "      <td>Yamaha Aerox 155 Vva</td>\n",
       "      <td>Kab. Tangerang</td>\n",
       "      <td>24500000.0</td>\n",
       "      <td>155</td>\n",
       "      <td>2018.0</td>\n",
       "      <td>Otomatis</td>\n",
       "      <td>&gt;30000 KM</td>\n",
       "      <td>Yamaha</td>\n",
       "    </tr>\n",
       "    <tr>\n",
       "      <th>4</th>\n",
       "      <td>Yamaha Aerox 155 Vva</td>\n",
       "      <td>Kab. Tangerang</td>\n",
       "      <td>23500000.0</td>\n",
       "      <td>125</td>\n",
       "      <td>2019.0</td>\n",
       "      <td>Otomatis</td>\n",
       "      <td>&gt;30000 KM</td>\n",
       "      <td>Yamaha</td>\n",
       "    </tr>\n",
       "  </tbody>\n",
       "</table>\n",
       "</div>"
      ],
      "text/plain": [
       "             nama_motor              lokasi       harga  kapasitas_mesin  \\\n",
       "0       Yamaha Nmax Abs  Kota Jakarta Barat  23500000.0              125   \n",
       "1       Yamaha Nmax Abs      Kab. Tangerang  24500000.0              125   \n",
       "2  Yamaha Aerox 155 Vva  Kota Jakarta Barat  24500000.0              125   \n",
       "3  Yamaha Aerox 155 Vva      Kab. Tangerang  24500000.0              155   \n",
       "4  Yamaha Aerox 155 Vva      Kab. Tangerang  23500000.0              125   \n",
       "\n",
       "    tahun transmisi  kilometer    merk  \n",
       "0  2018.0    Manual  >30000 KM  Yamaha  \n",
       "1  2019.0    Manual  >30000 KM  Yamaha  \n",
       "2  2019.0    Manual  >30000 KM  Yamaha  \n",
       "3  2018.0  Otomatis  >30000 KM  Yamaha  \n",
       "4  2019.0  Otomatis  >30000 KM  Yamaha  "
      ]
     },
     "execution_count": 25,
     "metadata": {},
     "output_type": "execute_result"
    }
   ],
   "source": [
    "filtered_motor.head()"
   ]
  },
  {
   "cell_type": "code",
   "execution_count": 26,
   "metadata": {},
   "outputs": [
    {
     "name": "stdout",
     "output_type": "stream",
     "text": [
      "<class 'pandas.core.frame.DataFrame'>\n",
      "Index: 1533 entries, 0 to 22\n",
      "Data columns (total 8 columns):\n",
      " #   Column           Non-Null Count  Dtype  \n",
      "---  ------           --------------  -----  \n",
      " 0   nama_motor       1533 non-null   object \n",
      " 1   lokasi           1533 non-null   object \n",
      " 2   harga            1533 non-null   float64\n",
      " 3   kapasitas_mesin  1533 non-null   int32  \n",
      " 4   tahun            1533 non-null   float64\n",
      " 5   transmisi        1533 non-null   object \n",
      " 6   kilometer        1533 non-null   object \n",
      " 7   merk             1533 non-null   object \n",
      "dtypes: float64(2), int32(1), object(5)\n",
      "memory usage: 101.8+ KB\n"
     ]
    }
   ],
   "source": [
    "filtered_motor.info()"
   ]
  },
  {
   "cell_type": "markdown",
   "metadata": {},
   "source": [
    "##### Encoding"
   ]
  },
  {
   "cell_type": "code",
   "execution_count": 27,
   "metadata": {},
   "outputs": [
    {
     "data": {
      "text/html": [
       "<div>\n",
       "<style scoped>\n",
       "    .dataframe tbody tr th:only-of-type {\n",
       "        vertical-align: middle;\n",
       "    }\n",
       "\n",
       "    .dataframe tbody tr th {\n",
       "        vertical-align: top;\n",
       "    }\n",
       "\n",
       "    .dataframe thead th {\n",
       "        text-align: right;\n",
       "    }\n",
       "</style>\n",
       "<table border=\"1\" class=\"dataframe\">\n",
       "  <thead>\n",
       "    <tr style=\"text-align: right;\">\n",
       "      <th></th>\n",
       "      <th>nama_motor</th>\n",
       "      <th>lokasi</th>\n",
       "      <th>harga</th>\n",
       "      <th>kapasitas_mesin</th>\n",
       "      <th>tahun</th>\n",
       "      <th>transmisi</th>\n",
       "      <th>kilometer</th>\n",
       "      <th>merk</th>\n",
       "    </tr>\n",
       "  </thead>\n",
       "  <tbody>\n",
       "    <tr>\n",
       "      <th>0</th>\n",
       "      <td>Yamaha Nmax Abs</td>\n",
       "      <td>9</td>\n",
       "      <td>23500000.0</td>\n",
       "      <td>125</td>\n",
       "      <td>2018.0</td>\n",
       "      <td>1</td>\n",
       "      <td>5</td>\n",
       "      <td>4</td>\n",
       "    </tr>\n",
       "    <tr>\n",
       "      <th>1</th>\n",
       "      <td>Yamaha Nmax Abs</td>\n",
       "      <td>4</td>\n",
       "      <td>24500000.0</td>\n",
       "      <td>125</td>\n",
       "      <td>2019.0</td>\n",
       "      <td>1</td>\n",
       "      <td>5</td>\n",
       "      <td>4</td>\n",
       "    </tr>\n",
       "    <tr>\n",
       "      <th>2</th>\n",
       "      <td>Yamaha Aerox 155 Vva</td>\n",
       "      <td>9</td>\n",
       "      <td>24500000.0</td>\n",
       "      <td>125</td>\n",
       "      <td>2019.0</td>\n",
       "      <td>1</td>\n",
       "      <td>5</td>\n",
       "      <td>4</td>\n",
       "    </tr>\n",
       "    <tr>\n",
       "      <th>3</th>\n",
       "      <td>Yamaha Aerox 155 Vva</td>\n",
       "      <td>4</td>\n",
       "      <td>24500000.0</td>\n",
       "      <td>155</td>\n",
       "      <td>2018.0</td>\n",
       "      <td>2</td>\n",
       "      <td>5</td>\n",
       "      <td>4</td>\n",
       "    </tr>\n",
       "    <tr>\n",
       "      <th>4</th>\n",
       "      <td>Yamaha Aerox 155 Vva</td>\n",
       "      <td>4</td>\n",
       "      <td>23500000.0</td>\n",
       "      <td>125</td>\n",
       "      <td>2019.0</td>\n",
       "      <td>2</td>\n",
       "      <td>5</td>\n",
       "      <td>4</td>\n",
       "    </tr>\n",
       "  </tbody>\n",
       "</table>\n",
       "</div>"
      ],
      "text/plain": [
       "             nama_motor  lokasi       harga  kapasitas_mesin   tahun  \\\n",
       "0       Yamaha Nmax Abs       9  23500000.0              125  2018.0   \n",
       "1       Yamaha Nmax Abs       4  24500000.0              125  2019.0   \n",
       "2  Yamaha Aerox 155 Vva       9  24500000.0              125  2019.0   \n",
       "3  Yamaha Aerox 155 Vva       4  24500000.0              155  2018.0   \n",
       "4  Yamaha Aerox 155 Vva       4  23500000.0              125  2019.0   \n",
       "\n",
       "   transmisi  kilometer  merk  \n",
       "0          1          5     4  \n",
       "1          1          5     4  \n",
       "2          1          5     4  \n",
       "3          2          5     4  \n",
       "4          2          5     4  "
      ]
     },
     "execution_count": 27,
     "metadata": {},
     "output_type": "execute_result"
    }
   ],
   "source": [
    "# Initialize LabelEncoder\n",
    "le = LabelEncoder()\n",
    "\n",
    "# Select column wiht categorical values\n",
    "cols = ['lokasi', 'transmisi', 'kilometer', 'merk']\n",
    "for i in cols:\n",
    "    filtered_motor[i] = le.fit_transform(filtered_motor[i]) + 1\n",
    "\n",
    "# Check the data\n",
    "filtered_motor.head()"
   ]
  },
  {
   "cell_type": "markdown",
   "metadata": {},
   "source": [
    "##### MinMax Scaler"
   ]
  },
  {
   "cell_type": "markdown",
   "metadata": {},
   "source": [
    "##### Feature Selection"
   ]
  },
  {
   "cell_type": "code",
   "execution_count": 28,
   "metadata": {},
   "outputs": [],
   "source": [
    "# Choosing X and y\n",
    "X = filtered_motor.drop(columns=['harga', 'kilometer', 'nama_motor'])\n",
    "y = filtered_motor['harga']"
   ]
  },
  {
   "cell_type": "code",
   "execution_count": 29,
   "metadata": {},
   "outputs": [],
   "source": [
    "# Train test split untuk feature importance\n",
    "X_train, X_test, y_train, y_test = train_test_split(X, y, test_size=0.2, random_state=42)"
   ]
  },
  {
   "cell_type": "code",
   "execution_count": 30,
   "metadata": {},
   "outputs": [],
   "source": [
    "# Initialize MinMaxScaler\n",
    "ss = StandardScaler()\n",
    "X_train_scaled = ss.fit_transform(X_train)\n",
    "X_test_scaled = ss.fit_transform(X_test)"
   ]
  },
  {
   "cell_type": "code",
   "execution_count": 31,
   "metadata": {},
   "outputs": [
    {
     "data": {
      "text/html": [
       "<style>#sk-container-id-1 {color: black;}#sk-container-id-1 pre{padding: 0;}#sk-container-id-1 div.sk-toggleable {background-color: white;}#sk-container-id-1 label.sk-toggleable__label {cursor: pointer;display: block;width: 100%;margin-bottom: 0;padding: 0.3em;box-sizing: border-box;text-align: center;}#sk-container-id-1 label.sk-toggleable__label-arrow:before {content: \"▸\";float: left;margin-right: 0.25em;color: #696969;}#sk-container-id-1 label.sk-toggleable__label-arrow:hover:before {color: black;}#sk-container-id-1 div.sk-estimator:hover label.sk-toggleable__label-arrow:before {color: black;}#sk-container-id-1 div.sk-toggleable__content {max-height: 0;max-width: 0;overflow: hidden;text-align: left;background-color: #f0f8ff;}#sk-container-id-1 div.sk-toggleable__content pre {margin: 0.2em;color: black;border-radius: 0.25em;background-color: #f0f8ff;}#sk-container-id-1 input.sk-toggleable__control:checked~div.sk-toggleable__content {max-height: 200px;max-width: 100%;overflow: auto;}#sk-container-id-1 input.sk-toggleable__control:checked~label.sk-toggleable__label-arrow:before {content: \"▾\";}#sk-container-id-1 div.sk-estimator input.sk-toggleable__control:checked~label.sk-toggleable__label {background-color: #d4ebff;}#sk-container-id-1 div.sk-label input.sk-toggleable__control:checked~label.sk-toggleable__label {background-color: #d4ebff;}#sk-container-id-1 input.sk-hidden--visually {border: 0;clip: rect(1px 1px 1px 1px);clip: rect(1px, 1px, 1px, 1px);height: 1px;margin: -1px;overflow: hidden;padding: 0;position: absolute;width: 1px;}#sk-container-id-1 div.sk-estimator {font-family: monospace;background-color: #f0f8ff;border: 1px dotted black;border-radius: 0.25em;box-sizing: border-box;margin-bottom: 0.5em;}#sk-container-id-1 div.sk-estimator:hover {background-color: #d4ebff;}#sk-container-id-1 div.sk-parallel-item::after {content: \"\";width: 100%;border-bottom: 1px solid gray;flex-grow: 1;}#sk-container-id-1 div.sk-label:hover label.sk-toggleable__label {background-color: #d4ebff;}#sk-container-id-1 div.sk-serial::before {content: \"\";position: absolute;border-left: 1px solid gray;box-sizing: border-box;top: 0;bottom: 0;left: 50%;z-index: 0;}#sk-container-id-1 div.sk-serial {display: flex;flex-direction: column;align-items: center;background-color: white;padding-right: 0.2em;padding-left: 0.2em;position: relative;}#sk-container-id-1 div.sk-item {position: relative;z-index: 1;}#sk-container-id-1 div.sk-parallel {display: flex;align-items: stretch;justify-content: center;background-color: white;position: relative;}#sk-container-id-1 div.sk-item::before, #sk-container-id-1 div.sk-parallel-item::before {content: \"\";position: absolute;border-left: 1px solid gray;box-sizing: border-box;top: 0;bottom: 0;left: 50%;z-index: -1;}#sk-container-id-1 div.sk-parallel-item {display: flex;flex-direction: column;z-index: 1;position: relative;background-color: white;}#sk-container-id-1 div.sk-parallel-item:first-child::after {align-self: flex-end;width: 50%;}#sk-container-id-1 div.sk-parallel-item:last-child::after {align-self: flex-start;width: 50%;}#sk-container-id-1 div.sk-parallel-item:only-child::after {width: 0;}#sk-container-id-1 div.sk-dashed-wrapped {border: 1px dashed gray;margin: 0 0.4em 0.5em 0.4em;box-sizing: border-box;padding-bottom: 0.4em;background-color: white;}#sk-container-id-1 div.sk-label label {font-family: monospace;font-weight: bold;display: inline-block;line-height: 1.2em;}#sk-container-id-1 div.sk-label-container {text-align: center;}#sk-container-id-1 div.sk-container {/* jupyter's `normalize.less` sets `[hidden] { display: none; }` but bootstrap.min.css set `[hidden] { display: none !important; }` so we also need the `!important` here to be able to override the default hidden behavior on the sphinx rendered scikit-learn.org. See: https://github.com/scikit-learn/scikit-learn/issues/21755 */display: inline-block !important;position: relative;}#sk-container-id-1 div.sk-text-repr-fallback {display: none;}</style><div id=\"sk-container-id-1\" class=\"sk-top-container\"><div class=\"sk-text-repr-fallback\"><pre>RandomForestRegressor()</pre><b>In a Jupyter environment, please rerun this cell to show the HTML representation or trust the notebook. <br />On GitHub, the HTML representation is unable to render, please try loading this page with nbviewer.org.</b></div><div class=\"sk-container\" hidden><div class=\"sk-item\"><div class=\"sk-estimator sk-toggleable\"><input class=\"sk-toggleable__control sk-hidden--visually\" id=\"sk-estimator-id-1\" type=\"checkbox\" checked><label for=\"sk-estimator-id-1\" class=\"sk-toggleable__label sk-toggleable__label-arrow\">RandomForestRegressor</label><div class=\"sk-toggleable__content\"><pre>RandomForestRegressor()</pre></div></div></div></div></div>"
      ],
      "text/plain": [
       "RandomForestRegressor()"
      ]
     },
     "execution_count": 31,
     "metadata": {},
     "output_type": "execute_result"
    }
   ],
   "source": [
    "# Random forest regressor untuk memilih feature importance\n",
    "rf = RandomForestRegressor()\n",
    "rf.fit(X_train_scaled, y_train)"
   ]
  },
  {
   "cell_type": "code",
   "execution_count": 32,
   "metadata": {},
   "outputs": [
    {
     "name": "stderr",
     "output_type": "stream",
     "text": [
      "No artists with labels found to put in legend.  Note that artists whose label start with an underscore are ignored when legend() is called with no argument.\n"
     ]
    },
    {
     "data": {
      "image/png": "[encoded data removed]",
      "text/plain": [
       "<Figure size 1000x600 with 1 Axes>"
      ]
     },
     "metadata": {},
     "output_type": "display_data"
    }
   ],
   "source": [
    "rf_fi = rf.feature_importances_\n",
    "\n",
    "# Define Nama columns\n",
    "feature_names = X.columns.tolist()\n",
    "\n",
    "plt.figure(figsize=(10, 6))\n",
    "\n",
    "# Plotting feature importances\n",
    "plt.barh(feature_names, rf_fi)\n",
    "plt.xlabel('Feature Names')\n",
    "plt.ylabel('Importance')\n",
    "plt.title('Visualisasi Feature Importance')\n",
    "plt.legend()\n",
    "plt.tight_layout()\n",
    "plt.show()"
   ]
  },
  {
   "cell_type": "markdown",
   "metadata": {},
   "source": [
    "---\n",
    "#### Modeling\n",
    "Pada tahap modeling, akan dilakukan:\n",
    "- Seleksi fitur\n",
    "- Membangun model RNN\n",
    "- Tuning hyperparameter\n",
    "\n",
    "Seleksi fitur"
   ]
  },
  {
   "cell_type": "code",
   "execution_count": 33,
   "metadata": {},
   "outputs": [],
   "source": [
    "# Choosing X and y\n",
    "X = filtered_motor.drop(columns=['harga', 'kilometer', 'nama_motor'])\n",
    "y = filtered_motor['harga'].values.reshape(-1,1)\n",
    "\n",
    "# Standarize\n",
    "ss = StandardScaler()\n",
    "X_scaled = ss.fit_transform(X)\n",
    "y_scaled = ss.fit_transform(y)"
   ]
  },
  {
   "cell_type": "code",
   "execution_count": 34,
   "metadata": {},
   "outputs": [],
   "source": [
    "# Train test split untuk feature importance\n",
    "X_train, X_test, y_train, y_test = train_test_split(X_scaled, y_scaled, test_size=0.1, random_state=42)"
   ]
  },
  {
   "cell_type": "markdown",
   "metadata": {},
   "source": [
    "Modeling\n",
    "- Tanpa tuning hyperparameter"
   ]
  },
  {
   "cell_type": "code",
   "execution_count": 41,
   "metadata": {},
   "outputs": [],
   "source": [
    "# Build the DNN model\n",
    "model = Sequential()\n",
    "model.add(Dense(128, input_shape=(X_train.shape[1],), activation='relu'))\n",
    "model.add(Dropout(0.5))\n",
    "model.add(Dense(128, activation='relu'))\n",
    "model.add(Dropout(0.5))\n",
    "model.add(Dense(64, activation='relu'))\n",
    "model.add(Dropout(0.1))\n",
    "model.add(Dense(1, activation='linear'))\n",
    "model.compile(optimizer='adam', loss='mean_squared_error', metrics=['mean_absolute_error'])"
   ]
  },
  {
   "cell_type": "code",
   "execution_count": 42,
   "metadata": {},
   "outputs": [
    {
     "name": "stdout",
     "output_type": "stream",
     "text": [
      "Model: \"sequential_1\"\n",
      "_________________________________________________________________\n",
      " Layer (type)                Output Shape              Param #   \n",
      "=================================================================\n",
      " dense_4 (Dense)             (None, 128)               768       \n",
      "                                                                 \n",
      " dropout_3 (Dropout)         (None, 128)               0         \n",
      "                                                                 \n",
      " dense_5 (Dense)             (None, 128)               16512     \n",
      "                                                                 \n",
      " dropout_4 (Dropout)         (None, 128)               0         \n",
      "                                                                 \n",
      " dense_6 (Dense)             (None, 64)                8256      \n",
      "                                                                 \n",
      " dropout_5 (Dropout)         (None, 64)                0         \n",
      "                                                                 \n",
      " dense_7 (Dense)             (None, 1)                 65        \n",
      "                                                                 \n",
      "=================================================================\n",
      "Total params: 25601 (100.00 KB)\n",
      "Trainable params: 25601 (100.00 KB)\n",
      "Non-trainable params: 0 (0.00 Byte)\n",
      "_________________________________________________________________\n"
     ]
    }
   ],
   "source": [
    "model.summary()"
   ]
  },
  {
   "cell_type": "code",
   "execution_count": 43,
   "metadata": {},
   "outputs": [
    {
     "name": "stdout",
     "output_type": "stream",
     "text": [
      "Epoch 1/50\n"
     ]
    },
    {
     "name": "stdout",
     "output_type": "stream",
     "text": [
      "22/22 [==============================] - 1s 11ms/step - loss: 0.8458 - mean_absolute_error: 0.7461 - val_loss: 0.5355 - val_mean_absolute_error: 0.5570\n",
      "Epoch 2/50\n",
      "22/22 [==============================] - 0s 5ms/step - loss: 0.6007 - mean_absolute_error: 0.6075 - val_loss: 0.4309 - val_mean_absolute_error: 0.5077\n",
      "Epoch 3/50\n",
      "22/22 [==============================] - 0s 5ms/step - loss: 0.5307 - mean_absolute_error: 0.5754 - val_loss: 0.4068 - val_mean_absolute_error: 0.5006\n",
      "Epoch 4/50\n",
      "22/22 [==============================] - 0s 4ms/step - loss: 0.5078 - mean_absolute_error: 0.5633 - val_loss: 0.3931 - val_mean_absolute_error: 0.4902\n",
      "Epoch 5/50\n",
      "22/22 [==============================] - 0s 4ms/step - loss: 0.5102 - mean_absolute_error: 0.5551 - val_loss: 0.3726 - val_mean_absolute_error: 0.4749\n",
      "Epoch 6/50\n",
      "22/22 [==============================] - 0s 5ms/step - loss: 0.4710 - mean_absolute_error: 0.5399 - val_loss: 0.3851 - val_mean_absolute_error: 0.4890\n",
      "Epoch 7/50\n",
      "22/22 [==============================] - 0s 4ms/step - loss: 0.4601 - mean_absolute_error: 0.5288 - val_loss: 0.3833 - val_mean_absolute_error: 0.4933\n",
      "Epoch 8/50\n",
      "22/22 [==============================] - 0s 4ms/step - loss: 0.4549 - mean_absolute_error: 0.5267 - val_loss: 0.3872 - val_mean_absolute_error: 0.4888\n",
      "Epoch 9/50\n",
      "22/22 [==============================] - 0s 6ms/step - loss: 0.4457 - mean_absolute_error: 0.5129 - val_loss: 0.3875 - val_mean_absolute_error: 0.4907\n",
      "Epoch 10/50\n",
      "22/22 [==============================] - 0s 7ms/step - loss: 0.4423 - mean_absolute_error: 0.5190 - val_loss: 0.3578 - val_mean_absolute_error: 0.4699\n",
      "Epoch 11/50\n",
      "22/22 [==============================] - 0s 7ms/step - loss: 0.4309 - mean_absolute_error: 0.5113 - val_loss: 0.3918 - val_mean_absolute_error: 0.5003\n",
      "Epoch 12/50\n",
      "22/22 [==============================] - 0s 7ms/step - loss: 0.4444 - mean_absolute_error: 0.5170 - val_loss: 0.3641 - val_mean_absolute_error: 0.4749\n",
      "Epoch 13/50\n",
      "22/22 [==============================] - 0s 7ms/step - loss: 0.4344 - mean_absolute_error: 0.5132 - val_loss: 0.3627 - val_mean_absolute_error: 0.4781\n",
      "Epoch 14/50\n",
      "22/22 [==============================] - 0s 6ms/step - loss: 0.4144 - mean_absolute_error: 0.5008 - val_loss: 0.3653 - val_mean_absolute_error: 0.4795\n",
      "Epoch 15/50\n",
      "22/22 [==============================] - 0s 4ms/step - loss: 0.4052 - mean_absolute_error: 0.4941 - val_loss: 0.3652 - val_mean_absolute_error: 0.4772\n",
      "Epoch 16/50\n",
      "22/22 [==============================] - 0s 5ms/step - loss: 0.3867 - mean_absolute_error: 0.4813 - val_loss: 0.3735 - val_mean_absolute_error: 0.4818\n",
      "Epoch 17/50\n",
      "22/22 [==============================] - 0s 6ms/step - loss: 0.4269 - mean_absolute_error: 0.5003 - val_loss: 0.3839 - val_mean_absolute_error: 0.4917\n",
      "Epoch 18/50\n",
      "22/22 [==============================] - 0s 6ms/step - loss: 0.3898 - mean_absolute_error: 0.4829 - val_loss: 0.3683 - val_mean_absolute_error: 0.4789\n",
      "Epoch 19/50\n",
      "22/22 [==============================] - 0s 8ms/step - loss: 0.3989 - mean_absolute_error: 0.4864 - val_loss: 0.3789 - val_mean_absolute_error: 0.4898\n",
      "Epoch 20/50\n",
      "22/22 [==============================] - 0s 6ms/step - loss: 0.4103 - mean_absolute_error: 0.4995 - val_loss: 0.3953 - val_mean_absolute_error: 0.5011\n",
      "Epoch 21/50\n",
      "22/22 [==============================] - 0s 6ms/step - loss: 0.3838 - mean_absolute_error: 0.4733 - val_loss: 0.3773 - val_mean_absolute_error: 0.4856\n",
      "Epoch 22/50\n",
      "22/22 [==============================] - 0s 4ms/step - loss: 0.4060 - mean_absolute_error: 0.4849 - val_loss: 0.3877 - val_mean_absolute_error: 0.4925\n",
      "Epoch 23/50\n",
      "22/22 [==============================] - 0s 4ms/step - loss: 0.4055 - mean_absolute_error: 0.4879 - val_loss: 0.3791 - val_mean_absolute_error: 0.4862\n",
      "Epoch 24/50\n",
      "22/22 [==============================] - 0s 6ms/step - loss: 0.3914 - mean_absolute_error: 0.4794 - val_loss: 0.3668 - val_mean_absolute_error: 0.4786\n",
      "Epoch 25/50\n",
      "22/22 [==============================] - 0s 6ms/step - loss: 0.3772 - mean_absolute_error: 0.4752 - val_loss: 0.3628 - val_mean_absolute_error: 0.4764\n",
      "Epoch 26/50\n",
      "22/22 [==============================] - 0s 9ms/step - loss: 0.3831 - mean_absolute_error: 0.4719 - val_loss: 0.3704 - val_mean_absolute_error: 0.4782\n",
      "Epoch 27/50\n",
      "22/22 [==============================] - 0s 6ms/step - loss: 0.3788 - mean_absolute_error: 0.4719 - val_loss: 0.3831 - val_mean_absolute_error: 0.4914\n",
      "Epoch 28/50\n",
      "22/22 [==============================] - 0s 6ms/step - loss: 0.3731 - mean_absolute_error: 0.4677 - val_loss: 0.3630 - val_mean_absolute_error: 0.4745\n",
      "Epoch 29/50\n",
      "22/22 [==============================] - 0s 5ms/step - loss: 0.3674 - mean_absolute_error: 0.4583 - val_loss: 0.3679 - val_mean_absolute_error: 0.4808\n",
      "Epoch 30/50\n",
      "22/22 [==============================] - 0s 4ms/step - loss: 0.3802 - mean_absolute_error: 0.4694 - val_loss: 0.3806 - val_mean_absolute_error: 0.4901\n",
      "Epoch 31/50\n",
      "22/22 [==============================] - 0s 4ms/step - loss: 0.3741 - mean_absolute_error: 0.4616 - val_loss: 0.3576 - val_mean_absolute_error: 0.4695\n",
      "Epoch 32/50\n",
      "22/22 [==============================] - 0s 6ms/step - loss: 0.3801 - mean_absolute_error: 0.4665 - val_loss: 0.3491 - val_mean_absolute_error: 0.4658\n",
      "Epoch 33/50\n",
      "22/22 [==============================] - 0s 5ms/step - loss: 0.3819 - mean_absolute_error: 0.4715 - val_loss: 0.3410 - val_mean_absolute_error: 0.4603\n",
      "Epoch 34/50\n",
      "22/22 [==============================] - 0s 6ms/step - loss: 0.3596 - mean_absolute_error: 0.4563 - val_loss: 0.3394 - val_mean_absolute_error: 0.4588\n",
      "Epoch 35/50\n",
      "22/22 [==============================] - 0s 6ms/step - loss: 0.3663 - mean_absolute_error: 0.4613 - val_loss: 0.3617 - val_mean_absolute_error: 0.4761\n",
      "Epoch 36/50\n",
      "22/22 [==============================] - 0s 4ms/step - loss: 0.3729 - mean_absolute_error: 0.4600 - val_loss: 0.3714 - val_mean_absolute_error: 0.4837\n",
      "Epoch 37/50\n",
      "22/22 [==============================] - 0s 4ms/step - loss: 0.3540 - mean_absolute_error: 0.4560 - val_loss: 0.3434 - val_mean_absolute_error: 0.4601\n",
      "Epoch 38/50\n",
      "22/22 [==============================] - 0s 4ms/step - loss: 0.3723 - mean_absolute_error: 0.4587 - val_loss: 0.3653 - val_mean_absolute_error: 0.4769\n",
      "Epoch 39/50\n",
      "22/22 [==============================] - 0s 4ms/step - loss: 0.3669 - mean_absolute_error: 0.4583 - val_loss: 0.3266 - val_mean_absolute_error: 0.4493\n",
      "Epoch 40/50\n",
      "22/22 [==============================] - 0s 4ms/step - loss: 0.3520 - mean_absolute_error: 0.4486 - val_loss: 0.3318 - val_mean_absolute_error: 0.4552\n",
      "Epoch 41/50\n",
      "22/22 [==============================] - 0s 4ms/step - loss: 0.3643 - mean_absolute_error: 0.4580 - val_loss: 0.3359 - val_mean_absolute_error: 0.4573\n",
      "Epoch 42/50\n",
      "22/22 [==============================] - 0s 5ms/step - loss: 0.3616 - mean_absolute_error: 0.4515 - val_loss: 0.3500 - val_mean_absolute_error: 0.4654\n",
      "Epoch 43/50\n",
      "22/22 [==============================] - 0s 5ms/step - loss: 0.3628 - mean_absolute_error: 0.4500 - val_loss: 0.3503 - val_mean_absolute_error: 0.4628\n",
      "Epoch 44/50\n",
      "22/22 [==============================] - 0s 5ms/step - loss: 0.3526 - mean_absolute_error: 0.4454 - val_loss: 0.3475 - val_mean_absolute_error: 0.4650\n",
      "Epoch 45/50\n",
      "22/22 [==============================] - 0s 6ms/step - loss: 0.3516 - mean_absolute_error: 0.4516 - val_loss: 0.3675 - val_mean_absolute_error: 0.4804\n",
      "Epoch 46/50\n",
      "22/22 [==============================] - 0s 6ms/step - loss: 0.3544 - mean_absolute_error: 0.4479 - val_loss: 0.3144 - val_mean_absolute_error: 0.4368\n",
      "Epoch 47/50\n",
      "22/22 [==============================] - 0s 6ms/step - loss: 0.3475 - mean_absolute_error: 0.4400 - val_loss: 0.3724 - val_mean_absolute_error: 0.4770\n",
      "Epoch 48/50\n",
      "22/22 [==============================] - 0s 6ms/step - loss: 0.3633 - mean_absolute_error: 0.4511 - val_loss: 0.3581 - val_mean_absolute_error: 0.4737\n",
      "Epoch 49/50\n",
      "22/22 [==============================] - 0s 4ms/step - loss: 0.3535 - mean_absolute_error: 0.4437 - val_loss: 0.3346 - val_mean_absolute_error: 0.4519\n",
      "Epoch 50/50\n",
      "22/22 [==============================] - 0s 5ms/step - loss: 0.3424 - mean_absolute_error: 0.4391 - val_loss: 0.3682 - val_mean_absolute_error: 0.4765\n"
     ]
    }
   ],
   "source": [
    "history1 = model.fit(X_train, y_train, epochs=50, batch_size=64, validation_data=(X_test, y_test))"
   ]
  },
  {
   "cell_type": "code",
   "execution_count": 44,
   "metadata": {},
   "outputs": [
    {
     "name": "stdout",
     "output_type": "stream",
     "text": [
      "5/5 [==============================] - 0s 2ms/step - loss: 0.3682 - mean_absolute_error: 0.4765\n"
     ]
    },
    {
     "name": "stdout",
     "output_type": "stream",
     "text": [
      "[0.36819759011268616, 0.47648173570632935]\n"
     ]
    }
   ],
   "source": [
    "loss = model.evaluate(X_test, y_test)\n",
    "print(loss)"
   ]
  },
  {
   "cell_type": "code",
   "execution_count": 45,
   "metadata": {},
   "outputs": [
    {
     "name": "stdout",
     "output_type": "stream",
     "text": [
      "5/5 [==============================] - 0s 1ms/step\n"
     ]
    },
    {
     "data": {
      "text/plain": [
       "0.6324521211079309"
      ]
     },
     "execution_count": 45,
     "metadata": {},
     "output_type": "execute_result"
    }
   ],
   "source": [
    "y_pred = model.predict(X_test)\n",
    "r2_score(y_test, y_pred)"
   ]
  },
  {
   "cell_type": "code",
   "execution_count": 46,
   "metadata": {},
   "outputs": [
    {
     "data": {
      "image/png": "[encoded data removed]",
      "text/plain": [
       "<Figure size 640x480 with 1 Axes>"
      ]
     },
     "metadata": {},
     "output_type": "display_data"
    }
   ],
   "source": [
    "# let's see the training and validation accuracy by epoch\n",
    "history_dict = history1.history\n",
    "loss_values = history_dict['loss'] # you can change this\n",
    "val_loss_values = history_dict['val_loss'] # you can also change this\n",
    "epochs = range(1, len(loss_values) + 1) # range of X (no. of epochs)\n",
    "plt.plot(epochs, loss_values, label='Training loss')\n",
    "plt.plot(epochs, val_loss_values, 'orange', label='Validation loss')\n",
    "plt.title('Training and validation loss')\n",
    "plt.xlabel('Epochs')\n",
    "plt.ylabel('Loss')\n",
    "plt.legend()\n",
    "plt.show()"
   ]
  },
  {
   "cell_type": "markdown",
   "metadata": {},
   "source": [
    "Tuning Hyperparameter <br>\n",
    "...."
   ]
  },
  {
   "cell_type": "code",
   "execution_count": null,
   "metadata": {},
   "outputs": [],
   "source": []
  },
  {
   "cell_type": "markdown",
   "metadata": {},
   "source": [
    "Finalisasi Model\n",
    "...."
   ]
  },
  {
   "cell_type": "code",
   "execution_count": null,
   "metadata": {},
   "outputs": [],
   "source": []
  },
  {
   "cell_type": "code",
   "execution_count": null,
   "metadata": {},
   "outputs": [],
   "source": []
  },
  {
   "cell_type": "markdown",
   "metadata": {},
   "source": [
    "---\n",
    "#### Evaluasi"
   ]
  },
  {
   "cell_type": "code",
   "execution_count": null,
   "metadata": {},
   "outputs": [],
   "source": []
  },
  {
   "cell_type": "code",
   "execution_count": null,
   "metadata": {},
   "outputs": [],
   "source": []
  },
  {
   "cell_type": "markdown",
   "metadata": {},
   "source": [
    "Terlihat model ....."
   ]
  },
  {
   "cell_type": "markdown",
   "metadata": {},
   "source": [
    "---\n",
    "#### Save model\n",
    "Model yang dengan akurasi tertinggi akan disimpan untuk di <i> deploy </i>"
   ]
  },
  {
   "cell_type": "code",
   "execution_count": null,
   "metadata": {},
   "outputs": [],
   "source": []
  }
 ],
 "metadata": {
  "kernelspec": {
   "display_name": "q323",
   "language": "python",
   "name": "python3"
  },
  "language_info": {
   "codemirror_mode": {
    "name": "ipython",
    "version": 3
   },
   "file_extension": ".py",
   "mimetype": "text/x-python",
   "name": "python",
   "nbconvert_exporter": "python",
   "pygments_lexer": "ipython3",
   "version": "3.11.5"
  }
 },
 "nbformat": 4,
 "nbformat_minor": 2
}
